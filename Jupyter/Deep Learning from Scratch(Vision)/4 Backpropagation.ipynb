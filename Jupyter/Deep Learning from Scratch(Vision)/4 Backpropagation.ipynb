{
 "cells": [
  {
   "cell_type": "markdown",
   "metadata": {},
   "source": [
    "> - ### 계산그래프를 이용하여 신경망의 동작과 오차역전파법 설명 가능\n",
    "- ### 처리 과정은 계층 단위로 구현 (ReLU, Softmax-with-Loss, Affine, Softmax 등)\n",
    "- ### 모든 계층에서는 forward와 backward 메서드를 구현\n",
    "- ### 위와 같이 동작을 계층으로 \"모듈화\" 한 덕분에 \"계층 조합을 통해 신경망 구현\" 가능"
   ]
  },
  {
   "cell_type": "markdown",
   "metadata": {},
   "source": [
    "> - ### 계산 그래프를 이용하면 계산 과정을 시각적으로 파악 가능\n",
    "- ### 계산 그래프의 노드는 국소적으로 계산\n",
    "- ### 위의 국소적 계산을 조합해 전체 계산을 구현\n",
    "- ### 계산 그래프의 순전파는 통상의 계산을 수행, \"역전파는 각 노드의 미분을 계산\"\n",
    "- ### 신경망의 구성요소를 계층으로 구현하여 기울기를 효율적으로 계산 가능 (오차 역전파법, 계산 그래프)\n",
    "- ### 오차역전파법으로 효율적으로 미분을 계산하고, 수치미분으로 기울기를 확인"
   ]
  }
 ],
 "metadata": {
  "kernelspec": {
   "display_name": "Python 3",
   "language": "python",
   "name": "python3"
  },
  "language_info": {
   "codemirror_mode": {
    "name": "ipython",
    "version": 3
   },
   "file_extension": ".py",
   "mimetype": "text/x-python",
   "name": "python",
   "nbconvert_exporter": "python",
   "pygments_lexer": "ipython3",
   "version": "3.6.4"
  }
 },
 "nbformat": 4,
 "nbformat_minor": 2
}
