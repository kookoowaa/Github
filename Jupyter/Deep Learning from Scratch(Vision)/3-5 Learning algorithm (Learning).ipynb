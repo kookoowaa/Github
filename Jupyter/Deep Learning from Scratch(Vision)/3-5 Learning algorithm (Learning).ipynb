{
 "cells": [
  {
   "cell_type": "markdown",
   "metadata": {},
   "source": [
    "# *신경망 학습*\n",
    "\n",
    "## 5. 학습 알고리즘 구현하기\n",
    "\n",
    "- 신경망에서 가중치와 편향을 훈련데이터에 맞춰 조정하는 과정을 '학습이라고 하며 아래 절차를 따름\n",
    "\n",
    "> ### 1단계 - 미니배치\n",
    "> - 훈련데이터 중 일부를 무작위로 호출\n",
    "> - 선별된 데이터를 미니배치라 하며, 미니배치의 손실함수 값을 줄이는 것이 목표임\n",
    "\n",
    "> ### 2단계 - 기울기 산출\n",
    "> - 각 가중치 매개변수의 손실함수로부터의 기울기 $\\frac{\\delta L}{\\delta W}$산출\n",
    "> - 여기서 기울기는 손실함수의 값을 가장 작게 하는 방향을 제시\n",
    "\n",
    "> ### 3단계 - 매개변수 갱신\n",
    "> - 가중치 매개변수를 기울기 방향으로 학습률 만큼 갱신\n",
    "\n",
    "> ### 4단계 - 반복\n",
    "> - 1~3단계를 반복\n",
    "\n",
    "- 위와 같은 방법은 미니배치를 무작위로 선정하기 때문에 **확률적 경사 하강법** 또는 **SGD(Stochastic Gradient Descent)**라고 함\n",
    "___"
   ]
  },
  {
   "cell_type": "markdown",
   "metadata": {},
   "source": [
    "### 1) 2층 신경망 클래스 구현하기"
   ]
  },
  {
   "cell_type": "code",
   "execution_count": 1,
   "metadata": {},
   "outputs": [],
   "source": [
    "# coding: utf-8\n",
    "import sys, os\n",
    "sys.path.append(os.pardir)  # 부모 디렉터리의 파일을 가져올 수 있도록 설정\n",
    "from data.functions import *\n",
    "from data.gradient import numerical_gradient\n",
    "\n",
    "\n",
    "class TwoLayerNet:\n",
    "\n",
    "    def __init__(self, input_size, hidden_size, output_size, weight_init_std=0.01):\n",
    "        # 가중치 초기화\n",
    "        self.params = {}\n",
    "        self.params['W1'] = weight_init_std * np.random.randn(input_size, hidden_size)\n",
    "        self.params['b1'] = np.zeros(hidden_size)\n",
    "        self.params['W2'] = weight_init_std * np.random.randn(hidden_size, output_size)\n",
    "        self.params['b2'] = np.zeros(output_size)\n",
    "\n",
    "    def predict(self, x):\n",
    "        W1, W2 = self.params['W1'], self.params['W2']\n",
    "        b1, b2 = self.params['b1'], self.params['b2']\n",
    "    \n",
    "        a1 = np.dot(x, W1) + b1\n",
    "        z1 = sigmoid(a1)\n",
    "        a2 = np.dot(z1, W2) + b2\n",
    "        y = softmax(a2)\n",
    "        \n",
    "        return y\n",
    "        \n",
    "    # x : 입력 데이터, t : 정답 레이블\n",
    "    def loss(self, x, t):\n",
    "        y = self.predict(x)\n",
    "        \n",
    "        return cross_entropy_error(y, t)\n",
    "    \n",
    "    def accuracy(self, x, t):\n",
    "        y = self.predict(x)\n",
    "        y = np.argmax(y, axis=1)\n",
    "        t = np.argmax(t, axis=1)\n",
    "        \n",
    "        accuracy = np.sum(y == t) / float(x.shape[0])\n",
    "        return accuracy\n",
    "        \n",
    "    # x : 입력 데이터, t : 정답 레이블\n",
    "    def numerical_gradient(self, x, t):\n",
    "        loss_W = lambda W: self.loss(x, t)\n",
    "        \n",
    "        grads = {}\n",
    "        grads['W1'] = numerical_gradient(loss_W, self.params['W1'])\n",
    "        grads['b1'] = numerical_gradient(loss_W, self.params['b1'])\n",
    "        grads['W2'] = numerical_gradient(loss_W, self.params['W2'])\n",
    "        grads['b2'] = numerical_gradient(loss_W, self.params['b2'])\n",
    "        \n",
    "        return grads\n",
    "        \n",
    "    def gradient(self, x, t):\n",
    "        W1, W2 = self.params['W1'], self.params['W2']\n",
    "        b1, b2 = self.params['b1'], self.params['b2']\n",
    "        grads = {}\n",
    "        \n",
    "        batch_num = x.shape[0]\n",
    "        \n",
    "        # forward\n",
    "        a1 = np.dot(x, W1) + b1\n",
    "        z1 = sigmoid(a1)\n",
    "        a2 = np.dot(z1, W2) + b2\n",
    "        y = softmax(a2)\n",
    "        \n",
    "        # backward\n",
    "        dy = (y - t) / batch_num\n",
    "        grads['W2'] = np.dot(z1.T, dy)\n",
    "        grads['b2'] = np.sum(dy, axis=0)\n",
    "        \n",
    "        da1 = np.dot(dy, W2.T)\n",
    "        dz1 = sigmoid_grad(a1) * da1\n",
    "        grads['W1'] = np.dot(x.T, dz1)\n",
    "        grads['b1'] = np.sum(dz1, axis=0)\n",
    "\n",
    "        return grads\n"
   ]
  },
  {
   "cell_type": "markdown",
   "metadata": {},
   "source": [
    "- 위 클래스가 사용하는 변수와 내용은 대부분 앞에서 다룬 함수로 표현 가능\n",
    "- TwoLayerNet 클래스의 중요한 변수는 다음과 같음\n",
    "\n",
    "변수 | 설명\n",
    ":---  | :---\n",
    "params| 신경망의 매개변수를 보관하는 딕셔너리 변수\n",
    "| params['W1']은 1번째 층의 가중치, params['b1']은 1번째 층의 편향\n",
    "| params['W2']은 2번째 층의 가중치, params['b2']은 2번째 층의 편향\n",
    "grad| 기울기 보관하는 딕셔너리 변수(numerical_gradient()메서드의 반환 값)\n",
    "| grad['W1']은 1번째 층의 가중치의 기울기, grad['b1']은 1번째 층 편향의 기울기\n",
    "| grad['W2']은 2번째 층의 가중치의 기울기, grad['b2']은 2번째 층 편향의 기울기\n",
    "\n",
    "- TwoLayerNet 클래스의 메서드는 다음과 같음\n",
    "\n",
    "메서드|설명\n",
    "---|---\n",
    "\\__init__(self, input_size, hidden_size, output_size)| 초기화를 수행하며 인수는 입력층 뉴런 수,은닉층 뉴런 수, 출력층 뉴런 수\n",
    "predict(self, x)| 예측을 수행\n",
    "| 인수 x 는 이미지 데이터\n",
    "loss(self, x, t)| 손실 함수의 값을 계산\n",
    "| 인수 x는 이미지 데이터, t는 정답 레이블\n",
    "accuracy(self, x, t)|정확도 계산\n",
    "numerical_gradient(self, x, t)|가중치 매개변수의 기울기\n",
    "gradient(self, x, t)| 가중치 매개변수의 기울기\n",
    "| numerical_gradient()의 성능 개선판!"
   ]
  },
  {
   "cell_type": "code",
   "execution_count": 2,
   "metadata": {},
   "outputs": [
    {
     "name": "stdout",
     "output_type": "stream",
     "text": [
      "(784, 100)\n",
      "(100,)\n",
      "(100, 10)\n",
      "(10,)\n"
     ]
    }
   ],
   "source": [
    "net = TwoLayerNet(784, 100, 10)\n",
    "print(net.params['W1'].shape)\n",
    "print(net.params['b1'].shape)\n",
    "print(net.params['W2'].shape)\n",
    "print(net.params['b2'].shape)"
   ]
  },
  {
   "cell_type": "markdown",
   "metadata": {},
   "source": [
    "- params에는 \\__init__으로 생성한 임의의 가중치 행렬 보유 (np.random 함수에 init_weight의 곱)\n",
    "- params에는 \\__init__으로 생성한 0으로 이루어진 편향 행렬 보유"
   ]
  },
  {
   "cell_type": "code",
   "execution_count": 3,
   "metadata": {},
   "outputs": [
    {
     "data": {
      "text/plain": [
       "array([[ 6.41954490e-06,  4.77900386e-06, -2.41773008e-04, ...,\n",
       "         1.52058761e-04,  9.21931465e-05,  2.27693209e-04],\n",
       "       [-1.40050282e-05,  1.04347619e-05, -2.19735017e-04, ...,\n",
       "         1.10293426e-04,  2.45337084e-05,  1.41514180e-04],\n",
       "       [-2.41551068e-05, -5.93987015e-05, -2.41009575e-04, ...,\n",
       "         5.65966163e-05,  2.44026310e-05,  2.66166398e-04],\n",
       "       ...,\n",
       "       [-2.29743846e-05, -1.50078645e-04, -9.71062653e-05, ...,\n",
       "         1.30129618e-05, -1.43966903e-04,  9.72136061e-05],\n",
       "       [ 9.50432844e-06, -3.50721141e-05, -8.10257417e-05, ...,\n",
       "         6.69286782e-05, -3.47260887e-06,  5.87795612e-05],\n",
       "       [-1.63335301e-05, -5.94519856e-05, -1.42146124e-04, ...,\n",
       "         5.64283553e-05, -5.55379054e-05,  1.29453983e-04]])"
      ]
     },
     "execution_count": 3,
     "metadata": {},
     "output_type": "execute_result"
    }
   ],
   "source": [
    "x = np.random.rand(100, 784)\n",
    "t = np.random.rand(100, 10)\n",
    "\n",
    "grads = net.numerical_gradient(x, t)\n",
    "\n",
    "grads['W1']"
   ]
  },
  {
   "cell_type": "markdown",
   "metadata": {},
   "source": [
    "- numerical_gradient 함수는 입력값과 레이블을 인수로 입력\n",
    "- 입력값과 레이블로 cross_entropy_error loss 함수를 구현\n",
    "- 가중치 값과 편향을 바탕으로 loss 함수값을 수치미분하여 기울기 산출\n",
    "___"
   ]
  },
  {
   "cell_type": "markdown",
   "metadata": {},
   "source": [
    "### 2) 미니배치 학습 구현하기\n",
    "\n",
    "- 미니배치를 활용하여 신경망 학습 구현"
   ]
  },
  {
   "cell_type": "code",
   "execution_count": 4,
   "metadata": {
    "scrolled": true
   },
   "outputs": [],
   "source": [
    "import numpy as np\n",
    "from data.mnist import load_mnist\n",
    "from data.two_layer_net import TwoLayerNet"
   ]
  },
  {
   "cell_type": "code",
   "execution_count": 6,
   "metadata": {
    "scrolled": true
   },
   "outputs": [
    {
     "name": "stdout",
     "output_type": "stream",
     "text": [
      "0th iter\n",
      "10th iter\n",
      "20th iter\n",
      "30th iter\n",
      "40th iter\n",
      "50th iter\n",
      "60th iter\n",
      "70th iter\n",
      "80th iter\n",
      "90th iter\n"
     ]
    }
   ],
   "source": [
    "(x_train, t_train), (x_test, t_test) = load_mnist(normalize = True, one_hot_label=True)\n",
    "\n",
    "train_loss_list = []\n",
    "\n",
    "#하이퍼파라미터\n",
    "iters = 100\n",
    "train_size = x_train.shape[0]\n",
    "batch_size = 100\n",
    "learning_rate = 0.1\n",
    "network = TwoLayerNet(input_size = 784, hidden_size= 50, output_size=10)\n",
    "\n",
    "for i in range(iters):\n",
    "    #미니배치 획득\n",
    "    batch_mask = np.random.choice(train_size, batch_size)\n",
    "    x_batch = x_train[batch_mask]\n",
    "    t_batch = t_train[batch_mask]\n",
    "    \n",
    "    #기울기 계산\n",
    "    grad = network.numerical_gradient(x_batch, t_batch)\n",
    "    #grad = network.gradient(x_batch, t_batch) #성능 개선판!\n",
    "    \n",
    "    #매개변수 계산\n",
    "    for key in ('W1', 'b1', 'W2', 'b2'):\n",
    "        network.params[key] -= learning_rate * grad[key]\n",
    "        \n",
    "    #학습경과 기록\n",
    "    loss = network.loss(x_batch, t_batch)\n",
    "    train_loss_list.append(loss)\n",
    "    \n",
    "    if i% 10 ==0:\n",
    "        print(str(i) + 'th iter')"
   ]
  },
  {
   "cell_type": "markdown",
   "metadata": {},
   "source": [
    "- 미니배치 크기는 100으로 총 60,000개의 훈련데이터에서 임의의 100개 데이터 호출\n",
    "- 100개의 미니배치 대상으로 경사하강법을 수행해 매개변수를 갱신 (learning rate * gradient)\n",
    "- 위 과정을 10,000번 반복\n",
    "- 갱신할 때마다 손실함수를 계산하여 변화 추이 파악\n",
    "![](image/fig 4-11.png)\n",
    "___"
   ]
  },
  {
   "cell_type": "markdown",
   "metadata": {},
   "source": [
    "### 3) 시험 데이터로 평가하기\n",
    "\n",
    "- 오버피팅 방지를 위해 시험 데이터로 정확도를 평가\n",
    "- 통상적으로 1에폭별로 훈련데이터와 시험데이터에 대한 정확도를 기록 (에폭 = 사용데이터수 / 훈련데이터수)\n",
    "- 이를 위해 코드 일부 수정"
   ]
  },
  {
   "cell_type": "code",
   "execution_count": 7,
   "metadata": {},
   "outputs": [
    {
     "name": "stdout",
     "output_type": "stream",
     "text": [
      "train acc, test acc on 0-iter | 0.09751666666666667, 0.0974\n"
     ]
    }
   ],
   "source": [
    "(x_train, t_train), (x_test, t_test) = load_mnist(normalize = True, one_hot_label=True)\n",
    "\n",
    "train_loss_list = []\n",
    "train_acc_list = []\n",
    "test_acc_list = []\n",
    "\n",
    "\n",
    "#하이퍼파라미터\n",
    "iters = 100\n",
    "train_size = x_train.shape[0]\n",
    "batch_size = 100\n",
    "learning_rate = 0.1\n",
    "network = TwoLayerNet(input_size = 784, hidden_size= 50, output_size=10)\n",
    "\n",
    "\n",
    "#1에폭 당 반복 수\n",
    "iter_per_epoch = max(train_size / batch_size, 1)\n",
    "\n",
    "\n",
    "for i in range(iters):\n",
    "    #미니배치 획득\n",
    "    batch_mask = np.random.choice(train_size, batch_size)\n",
    "    x_batch = x_train[batch_mask]\n",
    "    t_batch = t_train[batch_mask]\n",
    "    \n",
    "    #기울기 계산\n",
    "    grad = network.numerical_gradient(x_batch, t_batch)\n",
    "    #grad = network.gradient(x_batch, t_batch) #성능 개선판!\n",
    "    \n",
    "    #매개변수 계산\n",
    "    for key in ('W1', 'b1', 'W2', 'b2'):\n",
    "        network.params[key] -= learning_rate * grad[key]\n",
    "        \n",
    "    #학습경과 기록\n",
    "    loss = network.loss(x_batch, t_batch)\n",
    "    train_loss_list.append(loss)\n",
    "    \n",
    "    #에폭 당 정확도 계산\n",
    "    if i % iter_per_epoch ==0:\n",
    "        train_acc = network.accuracy(x_train, t_train)\n",
    "        test_acc = network.accuracy(x_test, t_test)\n",
    "        train_acc_list.append(train_acc)\n",
    "        test_acc_list.append(test_acc)\n",
    "        print('train acc, test acc on ' +str(i)+ '-iter | ' + str(train_acc) + ', ' + str(test_acc))"
   ]
  }
 ],
 "metadata": {
  "kernelspec": {
   "display_name": "Python 3",
   "language": "python",
   "name": "python3"
  },
  "language_info": {
   "codemirror_mode": {
    "name": "ipython",
    "version": 3
   },
   "file_extension": ".py",
   "mimetype": "text/x-python",
   "name": "python",
   "nbconvert_exporter": "python",
   "pygments_lexer": "ipython3",
   "version": "3.6.4"
  }
 },
 "nbformat": 4,
 "nbformat_minor": 2
}
