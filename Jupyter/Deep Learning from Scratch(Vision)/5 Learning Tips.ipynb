{
 "cells": [
  {
   "cell_type": "markdown",
   "metadata": {},
   "source": [
    "> - 매개변수 갱신 방법에는 SGD, Momemtum, AdaGrad, Adam 등이 있음\n",
    ">- 가준치 초기값을 정하는 방법은 올바른 학습에 매우 중요\n",
    ">- 일반적으로 'Xavier 초기값'과 'He 초기값'을 많이 사용\n",
    ">- 배치 정규화를 이용하면 학습을 빠르게 진행할 수 있으며, 초기값에 영향을 덜 받게 됨 (활성화 함수 입력값의 분포를 $N(0,1)$로)\n",
    ">- 오버피팅을 억제하는 정규화 기술로는 가중치 감소와 드롭아웃이 있음\n",
    ">- 하이퍼파라미터 값 탐색은 최적 값으 존재할만한 범위를 점차 좁히면서 하는 것이 효과적"
   ]
  }
 ],
 "metadata": {
  "kernelspec": {
   "display_name": "Python 3",
   "language": "python",
   "name": "python3"
  },
  "language_info": {
   "codemirror_mode": {
    "name": "ipython",
    "version": 3
   },
   "file_extension": ".py",
   "mimetype": "text/x-python",
   "name": "python",
   "nbconvert_exporter": "python",
   "pygments_lexer": "ipython3",
   "version": "3.6.4"
  }
 },
 "nbformat": 4,
 "nbformat_minor": 2
}
