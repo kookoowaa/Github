{
 "cells": [
  {
   "cell_type": "markdown",
   "metadata": {},
   "source": [
    "# *NEURAL NETWORK*\n",
    "## 2. 활성화 함수\n",
    "\n",
    ">- $\n",
    "h(x) = \\left\\{\n",
    "       \\begin{array}{ll}\n",
    "        0 \\quad (x \\leq 0 )\\\\\n",
    "        1 \\quad (x > 0)\n",
    "       \\end{array}\n",
    "       \\right.$와 같은 함수는 임계값을 경계로 출력값이 바뀜\n",
    "- 이러한 함수를 **계단 함수(step function)**이라고 명명\n",
    "- 퍼셉트론에서는 활성화 함수로 계단함수를 채용\n",
    "- 신경망은 활성화 함수를 계단함수에서 다른 함수로 변경하는 것이 핵심"
   ]
  },
  {
   "cell_type": "code",
   "execution_count": null,
   "metadata": {},
   "outputs": [],
   "source": []
  }
 ],
 "metadata": {
  "kernelspec": {
   "display_name": "Python 3",
   "language": "python",
   "name": "python3"
  },
  "language_info": {
   "codemirror_mode": {
    "name": "ipython",
    "version": 3
   },
   "file_extension": ".py",
   "mimetype": "text/x-python",
   "name": "python",
   "nbconvert_exporter": "python",
   "pygments_lexer": "ipython3",
   "version": "3.6.4"
  }
 },
 "nbformat": 4,
 "nbformat_minor": 2
}
