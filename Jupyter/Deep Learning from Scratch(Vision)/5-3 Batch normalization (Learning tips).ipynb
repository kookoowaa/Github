{
 "cells": [
  {
   "cell_type": "markdown",
   "metadata": {},
   "source": [
    "# *학습 관련 기술들*\n",
    "\n",
    "## 3. 배치 정규화"
   ]
  },
  {
   "cell_type": "markdown",
   "metadata": {},
   "source": [
    "- 앞 절에서 가중치 초기값을 적절히 설정함으로써 각 층의 활성화 출력값 분포를 고르게 하고 이를 통해 학습이 원활히 이루어 질 수 있었음\n",
    "- 각 층이 확성화 출력값을 적당히 퍼뜨리도록 강제하는 방법이 **배치정규화**임\n",
    "___"
   ]
  },
  {
   "cell_type": "markdown",
   "metadata": {},
   "source": [
    "### 1) 배치 정규화 알고리즘\n",
    "\n",
    "- 배치 정규화로 기대할 수 있는 효과는 다음과 같음\n",
    "> - 학습 속도 개선\n",
    "> - 초기값에 크게 의존하지 않음\n",
    ">- 오버피팅을 억제"
   ]
  },
  {
   "cell_type": "markdown",
   "metadata": {},
   "source": [
    "- 배치 정규화는 아래와 같이 활성화 함수 이전에 데이터 분포를 정규화하는 **Batch Norm**(배치정규화) 계층을 삽입\n",
    "![](image/fig 6-16.png)"
   ]
  },
  {
   "cell_type": "markdown",
   "metadata": {},
   "source": [
    "- 배치 정규화는 $N(0,1)$을 따르며, 수식으로는 아래와 같이 표기 가능:\n",
    "$$\n",
    "\\mu_B ← \\frac{1}{m} \\sum_{i=1}^{m}x_i\n",
    "$$\n",
    "$$\n",
    "\\sigma_B^2 ←\\frac{1}{m}\\sum_{i=1}{m}(x_i-\\mu_BB)^2\n",
    "$$\n",
    "$$\n",
    "\\hat{x_i} ← \\frac{x_i-\\mu_B}{\\sqrt{\\mu_B^2+\\epsilon}}\n",
    "$$"
   ]
  },
  {
   "cell_type": "markdown",
   "metadata": {},
   "source": [
    "- $m$개의 입력 데이터의 집합에 대해 평균 $\\mu_B$와 분산 $\\sigma_B^2$를 계산\n",
    "- 입력 데이터가 $N(0,1)$를 따르도록 정규화\n",
    "- 위와 같은 처리를 활성화 함수의 앞에 삽입 함으로써 데이터 분포가 덜 치우치게 처리\n",
    "- 또, 배치 정규화 계층마다 고유한 scaling 과 shifting 변환 수행\n",
    "$$\n",
    "y_i ← \\gamma_i^{\\hat{x}}+ \\beta\n",
    "$$\n",
    "- 마지막으로 배치정규화 과정을 계산그래프로 표현하면 아래와 같이 표현 가능\n",
    "![](image/fig 6-17.png)"
   ]
  },
  {
   "cell_type": "markdown",
   "metadata": {},
   "source": [
    "___\n",
    "### 2) 배치 정규화의 효과\n",
    "\n",
    "- 배치정규화를 사용할 경우와 아닐 경우의 학습 속도를 비교하면 다음과 같음\n",
    "![](image/fig 6-18.png)\n",
    "- 가중치 초기값의 표준편차를 다양하게 하면 아래와 같이 확인 가능\n",
    "![](image/fig 6-19.png)\n",
    "- 거의 모든 경우에서 배치 정규화를 사용할 때의 학습 진도가 빠른 것으로 나타남"
   ]
  }
 ],
 "metadata": {
  "kernelspec": {
   "display_name": "Python 3",
   "language": "python",
   "name": "python3"
  },
  "language_info": {
   "codemirror_mode": {
    "name": "ipython",
    "version": 3
   },
   "file_extension": ".py",
   "mimetype": "text/x-python",
   "name": "python",
   "nbconvert_exporter": "python",
   "pygments_lexer": "ipython3",
   "version": "3.6.4"
  }
 },
 "nbformat": 4,
 "nbformat_minor": 2
}
