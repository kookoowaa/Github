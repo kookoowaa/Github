{
 "cells": [
  {
   "cell_type": "markdown",
   "metadata": {},
   "source": [
    "# *오차역전파법*\n",
    "\n",
    "## 4. 단순한 계층 구현하기\n",
    "\n",
    "- 계산 그래프의 곱셈 노드를 'MulLayer', 덧셈 노드를 'AddLayer'로 구현\n",
    "- 모든 계층은 forward()라는 순전파 메서드와 backward()라는 역전파 메서드로 구현\n",
    "___"
   ]
  },
  {
   "cell_type": "markdown",
   "metadata": {},
   "source": [
    "### 1) 곱셈 계층"
   ]
  },
  {
   "cell_type": "code",
   "execution_count": 1,
   "metadata": {},
   "outputs": [],
   "source": [
    " class MulLayer:\n",
    "        def __init__(self):\n",
    "            self.x = None\n",
    "            self.y = None\n",
    "            \n",
    "            \n",
    "        def forward(self, x, y):\n",
    "            self.x = x\n",
    "            self.y = y\n",
    "            out = x * y\n",
    "            \n",
    "            return out\n",
    "            \n",
    "            \n",
    "        def backward(self, dout):\n",
    "            dx = dout * self.y\n",
    "            dy = dout * self.x\n",
    "            \n",
    "            return dx, dy"
   ]
  },
  {
   "cell_type": "markdown",
   "metadata": {},
   "source": [
    "- \\__init__을 통해 인스턴스 변수 x와 y 초기화\n",
    "- forward() 에서는 x와 y를 인수로 받아 곱셈값을 반환\n",
    "- backward() 에서는 상류에서 넘어온 미분 값에 순전파 때의 값을 바꿔 곱함\n",
    "- 이하 다음과 같은 사과 예제 구현\n",
    "![](image/fig 5-16.png)"
   ]
  },
  {
   "cell_type": "markdown",
   "metadata": {},
   "source": [
    "### - 순전파 프로세스"
   ]
  },
  {
   "cell_type": "code",
   "execution_count": 9,
   "metadata": {},
   "outputs": [
    {
     "data": {
      "text/plain": [
       "220.00000000000003"
      ]
     },
     "execution_count": 9,
     "metadata": {},
     "output_type": "execute_result"
    }
   ],
   "source": [
    "apple = 100\n",
    "apple_num = 2\n",
    "vat = 1.1\n",
    "\n",
    "mul_apple_layer = MulLayer()\n",
    "mul_tax_layer = MulLayer()\n",
    "\n",
    "apple_price = mul_apple_layer.forward(apple, apple_num)\n",
    "the_price = mul_tax_layer.forward(apple_price, vat)\n",
    "\n",
    "the_price\n"
   ]
  },
  {
   "cell_type": "markdown",
   "metadata": {},
   "source": [
    "- MulLayer()로 각 노드 구성\n",
    "- 각 노드에서 노드명(클래스).forward() 메서드를 통해 인수를 곱하여 계산 값 산출\n",
    "___\n",
    "\n",
    "### - 역전파 프로세스"
   ]
  },
  {
   "cell_type": "code",
   "execution_count": 12,
   "metadata": {},
   "outputs": [
    {
     "name": "stdout",
     "output_type": "stream",
     "text": [
      "2.2 110.00000000000001 200\n"
     ]
    }
   ],
   "source": [
    "dprice = 1\n",
    "\n",
    "dapple_price, dvat = mul_tax_layer.backward(dprice)\n",
    "dapple, dapple_num = mul_apple_layer.backward(dapple_price)\n",
    "\n",
    "print(dapple, dapple_num, dvat)"
   ]
  },
  {
   "cell_type": "markdown",
   "metadata": {},
   "source": [
    "- 상류층의 미분값을 입력값으로 받아 계산\n",
    "- 각 노드에서 노드명(클래스).backward()메서드를 통해 '상류층의 미분값'과 '순전파 때 보관한 x,y값'을 곱하여 선행노드의 미분값 계산\n",
    "___"
   ]
  },
  {
   "cell_type": "markdown",
   "metadata": {},
   "source": [
    "### 2) 덧셈 계층"
   ]
  },
  {
   "cell_type": "code",
   "execution_count": 13,
   "metadata": {},
   "outputs": [],
   "source": [
    "class AddLayer():\n",
    "    def __init__(self):\n",
    "        pass\n",
    "    \n",
    "    \n",
    "    def forward(self, x, y):\n",
    "        return x + y\n",
    "    \n",
    "    \n",
    "    def backward(self, dout):\n",
    "        return dout, dout"
   ]
  },
  {
   "cell_type": "markdown",
   "metadata": {},
   "source": [
    "- 덧셈 노드에서는 초기화가 불필요하니 #__init__()에서 아무 일도 하지 않음\n",
    "- 순전파에서 따로 계산 값 및 변수 보관이 불필요하니 값 저장 지향\n",
    "- 역전파에서도 단순히 상류의 미분값 전달\n",
    "___\n",
    "> ### 덧셈 계층과 곱셈 계층을 사용하여 사과 귤 구매 상황을 구현\n",
    "![](image/fig 5-17.png)"
   ]
  },
  {
   "cell_type": "code",
   "execution_count": 14,
   "metadata": {},
   "outputs": [],
   "source": [
    "a_count = 2\n",
    "a_price = 100\n",
    "o_count = 3\n",
    "o_price = 150\n",
    "vat = 1.1"
   ]
  },
  {
   "cell_type": "code",
   "execution_count": 15,
   "metadata": {},
   "outputs": [],
   "source": [
    "ap_nod = MulLayer()\n",
    "op_nod = MulLayer()\n",
    "fp_nod = AddLayer()\n",
    "tp_nod = MulLayer()"
   ]
  },
  {
   "cell_type": "code",
   "execution_count": 17,
   "metadata": {},
   "outputs": [
    {
     "data": {
      "text/plain": [
       "715.0000000000001"
      ]
     },
     "execution_count": 17,
     "metadata": {},
     "output_type": "execute_result"
    }
   ],
   "source": [
    "ap = ap_nod.forward(a_count, a_price)\n",
    "op = op_nod.forward(o_count, o_price)\n",
    "fp = fp_nod.forward(ap, op)\n",
    "tp = tp_nod.forward(fp, vat)\n",
    "tp"
   ]
  },
  {
   "cell_type": "code",
   "execution_count": 18,
   "metadata": {},
   "outputs": [
    {
     "data": {
      "text/plain": [
       "{'apple': [110.00000000000001, 2.2],\n",
       " 'dvat': 650,\n",
       " 'orange': [165.0, 3.3000000000000003]}"
      ]
     },
     "execution_count": 18,
     "metadata": {},
     "output_type": "execute_result"
    }
   ],
   "source": [
    "init_diff = 1\n",
    "dfp, dvat = tp_nod.backward(init_diff)\n",
    "dap, dop = fp_nod.backward(dfp)\n",
    "da_count, da_price = ap_nod.backward(dap)\n",
    "do_count, do_price = op_nod.backward(dop)\n",
    "\n",
    "{'apple': [da_count, da_price], 'orange': [do_count, do_price], 'dvat': dvat}"
   ]
  },
  {
   "cell_type": "markdown",
   "metadata": {},
   "source": [
    "- 필요한 계층 생성 (MulLayer, AddLayer)\n",
    "- 순전파 메서드로 계산\n",
    "- 역전파 메서드로 계산\n",
    "___"
   ]
  }
 ],
 "metadata": {
  "kernelspec": {
   "display_name": "Python 3",
   "language": "python",
   "name": "python3"
  },
  "language_info": {
   "codemirror_mode": {
    "name": "ipython",
    "version": 3
   },
   "file_extension": ".py",
   "mimetype": "text/x-python",
   "name": "python",
   "nbconvert_exporter": "python",
   "pygments_lexer": "ipython3",
   "version": "3.6.4"
  }
 },
 "nbformat": 4,
 "nbformat_minor": 2
}
