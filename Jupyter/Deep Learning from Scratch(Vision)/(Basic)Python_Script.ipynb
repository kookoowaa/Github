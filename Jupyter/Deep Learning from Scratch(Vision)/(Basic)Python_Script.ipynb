{
 "cells": [
  {
   "cell_type": "markdown",
   "metadata": {},
   "source": [
    "> ### 클래스\n",
    "\n",
    "- 독자적인 자료형 생성 가능\n",
    "- 클래스만의 전용 함수와 속성 정의 가능"
   ]
  },
  {
   "cell_type": "markdown",
   "metadata": {},
   "source": [
    "___\n",
    "*클래스의 정의는 일반적으로 아래와 같은 절차를 따름*\n",
    "\n",
    "```python\n",
    "Class 클래스 이름:\n",
    "    def __init__(self, 인수, ...):\n",
    "    ...\n",
    "    def 메서드1 (self, 인수, ...):\n",
    "    ...\n",
    "    def 메서드2 (self, 인수, ...):\n",
    "    ...\n",
    "```\n",
    "\n",
    "- 클래스 정의에는 __init__ 메서드가 있는데, 클래스 초기화하는 방법을 정의 (생성자)\n",
    "- 메서드의 첫번째 인수로 자신을 나타내는 self를 명시적으로 쓰는 것이 특징"
   ]
  },
  {
   "cell_type": "code",
   "execution_count": 1,
   "metadata": {},
   "outputs": [],
   "source": [
    "class Man:\n",
    "    def __init__(self, name):\n",
    "        self.name = name\n",
    "        print(\"Initialized!\")\n",
    "    \n",
    "    def hello(self):\n",
    "        print('Hello ' + self.name + \"!\")\n",
    "    \n",
    "    def goodbye(self):\n",
    "        print('Good-bye ', self.name + '!')"
   ]
  },
  {
   "cell_type": "code",
   "execution_count": 2,
   "metadata": {},
   "outputs": [
    {
     "name": "stdout",
     "output_type": "stream",
     "text": [
      "Initialized!\n"
     ]
    },
    {
     "data": {
      "text/plain": [
       "<__main__.Man at 0x1b5224fa9b0>"
      ]
     },
     "execution_count": 2,
     "metadata": {},
     "output_type": "execute_result"
    }
   ],
   "source": [
    "Man(\"David\")"
   ]
  },
  {
   "cell_type": "code",
   "execution_count": 9,
   "metadata": {},
   "outputs": [
    {
     "name": "stdout",
     "output_type": "stream",
     "text": [
      "Initialized!\n",
      "Hello David!\n"
     ]
    }
   ],
   "source": [
    "Man('David').hello()"
   ]
  },
  {
   "cell_type": "code",
   "execution_count": 10,
   "metadata": {},
   "outputs": [
    {
     "name": "stdout",
     "output_type": "stream",
     "text": [
      "Initialized!\n",
      "Good-bye  David!\n"
     ]
    }
   ],
   "source": [
    "Man('David').goodbye()"
   ]
  },
  {
   "cell_type": "markdown",
   "metadata": {},
   "source": [
    "- Man의 생성자는 name이라는 인수를 받음\n",
    "- 그 인수로 인스턴스 변수인 self.name을 초기화"
   ]
  }
 ],
 "metadata": {
  "kernelspec": {
   "display_name": "Python 3",
   "language": "python",
   "name": "python3"
  },
  "language_info": {
   "codemirror_mode": {
    "name": "ipython",
    "version": 3
   },
   "file_extension": ".py",
   "mimetype": "text/x-python",
   "name": "python",
   "nbconvert_exporter": "python",
   "pygments_lexer": "ipython3",
   "version": "3.6.4"
  }
 },
 "nbformat": 4,
 "nbformat_minor": 2
}
