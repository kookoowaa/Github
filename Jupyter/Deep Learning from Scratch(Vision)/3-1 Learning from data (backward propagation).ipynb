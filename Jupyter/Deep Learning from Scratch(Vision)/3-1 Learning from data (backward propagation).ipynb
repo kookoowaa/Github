{
 "cells": [
  {
   "cell_type": "markdown",
   "metadata": {},
   "source": [
    "# *신경망 학습*\n",
    "\n",
    "## 1. 데이터에서 학습한다!\n",
    "\n",
    "> - 신경망의 특징은 데이터를 보고 학습이 가능\n",
    "- 가중치 매개변수의 값을 데이터를 보고 자동으로 결정\n",
    "\n",
    "___"
   ]
  },
  {
   "cell_type": "markdown",
   "metadata": {},
   "source": [
    "### 1) 데이터 주도 학습\n",
    "\n",
    "![](image/fig 4-1.png)"
   ]
  },
  {
   "cell_type": "markdown",
   "metadata": {},
   "source": [
    "- 기계학습은 데이터가 이끄는 접근방식이며 사람의 개입을 배제\n",
    "- 예로 5를 분류하는 프로그램을 고안하기 위해서 사람의 직관으로 시작하는 것보다 데이터를 통해 특징을 추출하는 방식이 유용\n",
    "- **Feature(특징)**은 입력데이터에서 본질적인 데이터를 정확하게 추출할 수 있도록 설계된 변환기를 의미\n",
    "- 일반적으로 데이터를 벡터로 변환하고, SVM, KNN 등의 지도학습 방식으로 학습\n",
    "- 신경망은 Feature까지 학습하는 모델"
   ]
  },
  {
   "cell_type": "markdown",
   "metadata": {},
   "source": [
    "- 기계학습의 3종류 접근법을 표현하면 하단의 그림과 같이 표현 가능\n",
    "![](image/fig 4-2.png)\n",
    "___"
   ]
  },
  {
   "cell_type": "markdown",
   "metadata": {},
   "source": [
    "### 2) 훈련 데이터와 시험 데이터\n",
    "\n",
    "- 모든 문제는 데이터를 training set과 test set으로 구분\n",
    "- 데이터셋에 지나치게 최적화된 상태인 overfitting을 방지하기 위함\n",
    "- 이로써 모델의 범용 능력을 평가 가능"
   ]
  }
 ],
 "metadata": {
  "kernelspec": {
   "display_name": "Python 3",
   "language": "python",
   "name": "python3"
  },
  "language_info": {
   "codemirror_mode": {
    "name": "ipython",
    "version": 3
   },
   "file_extension": ".py",
   "mimetype": "text/x-python",
   "name": "python",
   "nbconvert_exporter": "python",
   "pygments_lexer": "ipython3",
   "version": "3.6.4"
  }
 },
 "nbformat": 4,
 "nbformat_minor": 2
}
