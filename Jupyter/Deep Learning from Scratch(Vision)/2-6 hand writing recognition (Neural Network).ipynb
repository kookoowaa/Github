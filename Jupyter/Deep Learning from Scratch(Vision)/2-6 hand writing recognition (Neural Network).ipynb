{
 "cells": [
  {
   "cell_type": "markdown",
   "metadata": {},
   "source": [
    "# *Neural Network*\n",
    "## 6. 손글씨 숫자 인식\n",
    "> - 학습 과정은 생략, 추론 과정만 구현\n",
    "- 이를 신경망의 **forward propagation(순전파)** 라고 함\n",
    "- 참고로 기계학습의 문제풀이는 학습과 추론 두단계를 거쳐 이루어짐 (모델의 학습, 미지의 데이터에 대해 추론 수행)\n",
    "\n",
    "___"
   ]
  },
  {
   "cell_type": "markdown",
   "metadata": {},
   "source": [
    "### 1) MNIST 데이터셋"
   ]
  },
  {
   "cell_type": "code",
   "execution_count": null,
   "metadata": {},
   "outputs": [],
   "source": []
  }
 ],
 "metadata": {
  "kernelspec": {
   "display_name": "Python 3",
   "language": "python",
   "name": "python3"
  },
  "language_info": {
   "codemirror_mode": {
    "name": "ipython",
    "version": 3
   },
   "file_extension": ".py",
   "mimetype": "text/x-python",
   "name": "python",
   "nbconvert_exporter": "python",
   "pygments_lexer": "ipython3",
   "version": "3.6.4"
  }
 },
 "nbformat": 4,
 "nbformat_minor": 2
}
