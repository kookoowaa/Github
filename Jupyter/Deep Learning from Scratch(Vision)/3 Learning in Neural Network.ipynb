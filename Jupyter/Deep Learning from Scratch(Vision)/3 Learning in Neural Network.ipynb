{
 "cells": [
  {
   "cell_type": "markdown",
   "metadata": {},
   "source": [
    "> - ### 신경망 학습은 손실함수를 지표로, \"손실함수의 값이 작아지는 방향\"으로 가중치 매개변수를 갱신\n",
    "- ### 가중치 매개변수를 갱신할 때는, \"가중치 매개변수의 기울기\"를 이용하고, 기울어진 방향으로 가중치의 값을 갱신하는 작업을 반복\n",
    "- ### 본 장에서 배운 내용은 \"아주 작은 값을 주고 차분으로 미분하는 수치미분\"으로 가중치 매개변수의 기울기를 계산\n",
    "- ### \"수치미분\"은 시간이 오래 걸린다는 단점이 있지만, 그 구현은 간단한 편\n",
    "- ### \"오차역전파법(다음장)\"은 복잡하지만 기울기를 고속으로 구할 수 있음"
   ]
  },
  {
   "cell_type": "code",
   "execution_count": null,
   "metadata": {},
   "outputs": [],
   "source": []
  }
 ],
 "metadata": {
  "kernelspec": {
   "display_name": "Python 3",
   "language": "python",
   "name": "python3"
  },
  "language_info": {
   "codemirror_mode": {
    "name": "ipython",
    "version": 3
   },
   "file_extension": ".py",
   "mimetype": "text/x-python",
   "name": "python",
   "nbconvert_exporter": "python",
   "pygments_lexer": "ipython3",
   "version": "3.6.4"
  }
 },
 "nbformat": 4,
 "nbformat_minor": 2
}
