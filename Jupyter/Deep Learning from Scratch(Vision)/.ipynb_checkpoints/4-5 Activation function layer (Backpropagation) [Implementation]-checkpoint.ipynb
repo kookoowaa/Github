{
 "cells": [
  {
   "cell_type": "markdown",
   "metadata": {},
   "source": [
    "# *오차역전파법*\n",
    "\n",
    "## 5. 활성화 함수 계층 구현하기\n",
    "\n",
    "- ReLU와 Sigmoid 계층 구현\n",
    "___"
   ]
  },
  {
   "cell_type": "markdown",
   "metadata": {},
   "source": [
    "### 1) ReLU 계층\n",
    "\n",
    "- ReLU의 계산 그래프는 아래와 같이 표현 가능\n",
    "![](image/fig 5-18.png)\n",
    "- 이를 수식으로 나타내면;\n",
    "$$\n",
    "y = \\left\\{\n",
    "    \\begin{array}{ll}\n",
    "    x \\quad (x > 0 )\\\\\n",
    "    0 \\quad (x \\leq 0)\n",
    "    \\end{array}\n",
    "    \\right.\n",
    "$$\n",
    "- 미분식을 표현하면;\n",
    "$$\n",
    "\\frac{\\delta y}{\\delta x} = \\left\\{\n",
    "                            \\begin{array}{ll}\n",
    "                            1 \\quad (x > 0 )\\\\\n",
    "                            0 \\quad (x \\leq 0)\n",
    "                            \\end{array}\n",
    "                            \\right.\n",
    "$$\n",
    "    와 같이 표현 가능"
   ]
  },
  {
   "cell_type": "code",
   "execution_count": 1,
   "metadata": {},
   "outputs": [],
   "source": [
    "class Relu:\n",
    "    def __init__(self):\n",
    "        self.mask = None\n",
    "        \n",
    "        \n",
    "    def forward(self, x):\n",
    "        self.mask = (x <= 0)\n",
    "        out = x.copy()\n",
    "        out[self.maks] = 0\n",
    "        \n",
    "        return out\n",
    "    \n",
    "    \n",
    "    def backward(self, dout):\n",
    "        dout[self.mask] = 0\n",
    "        dx = dout\n",
    "        \n",
    "        return dx"
   ]
  },
  {
   "cell_type": "markdown",
   "metadata": {},
   "source": [
    "- Relu 클래스는 mask라는 인스턴스 변수를 보유\n",
    "- mask는 True/False로 구성된 넘파이 배열\n",
    "- 순전파의 입력(x)의 원소값이 0 이하일 때에는 True, 아닐 경우는 False 반환\n",
    "- i.e. 아래 예제 참조"
   ]
  },
  {
   "cell_type": "code",
   "execution_count": 2,
   "metadata": {},
   "outputs": [
    {
     "name": "stdout",
     "output_type": "stream",
     "text": [
      "[[ 1.  -0.5]\n",
      " [-2.   3. ]]\n",
      "\n",
      "[[False  True]\n",
      " [ True False]]\n",
      "\n",
      "[[1. 0.]\n",
      " [0. 3.]]\n"
     ]
    }
   ],
   "source": [
    "x = np.array([[1, -.5], [-2, 3]])\n",
    "print(x)\n",
    "print()\n",
    "mask = (x<=0)\n",
    "print(mask)\n",
    "print()\n",
    "out =  x.copy()\n",
    "out[mask] = 0\n",
    "print(out)"
   ]
  },
  {
   "cell_type": "markdown",
   "metadata": {},
   "source": [
    "- ReLU 계층은 전기회로의 '스위치'와 유사 기능 수행\n",
    "- 전류가 흐르면 스위치를 ON, 아닐 경우 스위치를 OFF\n",
    "___"
   ]
  },
  {
   "cell_type": "markdown",
   "metadata": {},
   "source": [
    "### 2) Sigmoid 계층\n",
    "\n",
    "- 시그모이드 함수는 다음 식을 의미\n",
    "$$\n",
    "y = \\frac{1}{1+exp(-x)}\n",
    "$$\n",
    "- 계산 그래프로 표현하면 아래와 같음\n",
    "![](image/fig 5-19.png)\n",
    "- 'exp' 노드는 $y = exp(x)$를, '/' 노드는 $y=\\frac{1}{x}$ 계산을 수행"
   ]
  },
  {
   "cell_type": "markdown",
   "metadata": {},
   "source": [
    "___\n",
    "- 역전파 흐름을 단계별로 보면 다음과 같음\n",
    "\n",
    "> #### 1단계\n",
    "> - '/'노드 즉 $y=\\frac{1}{x}$를 미분\n",
    "> $$\\frac{\\delta y}{\\delta x} = - \\frac{1}{x^2}\\\\ \\quad= - y^2$$\n",
    "> - $-y^2$를 상류값에 곱하여 하류에 전달\n",
    "\n",
    "<br>\n",
    "> #### 2단계\n",
    "> - '+'노드는 값을 여과없이 전달\n",
    "\n",
    "<br>\n",
    "> #### 3단계\n",
    "> - 'exp'노드는 $ y = exp(x)$를 연산하며 미분값은 $exp(x)$임\n",
    "> $\\frac{\\delta y}{\\delta x} = exp(x)$\n",
    "> - 위의 예에서는 $exp(-x)$를 곱해 하류로 전달\n",
    "\n",
    "<br>\n",
    "> #### 4단계\n",
    "> - 'x' 노드는 순전파 떄의 값을 서로 바꿔 하류에 전달\n",
    "> - 본 예에서는 -1을 전달\n",
    "\n",
    "<br>\n",
    "- 전 과정을 계산 그래프로 표현하면 아래와 같음\n",
    "![](image/fig 5-20.png)"
   ]
  },
  {
   "cell_type": "markdown",
   "metadata": {},
   "source": [
    "- 역전파의 최종 출력값은 $\\frac{\\delta L}{\\delta y}y^2exp(-x)$임\n",
    "- 이는 순전파의 입력 x와 출력 y만으로 구현 가능\n",
    "- 노드 내 중간 계산 과정 생략 가능\n",
    "\n",
    "<br>\n",
    "- $\\frac{\\delta L}{\\delta y}y^2exp(-x)$는 아래와 같이 정리 가능\n",
    "$$\\frac{\\delta L}{\\delta y}y^2exp(-x)\\quad = \\quad\\frac{\\delta L}{\\delta y}\\frac{1}{(1+exp(-x))^2}exp(-x)\n",
    "\\quad\\\\\\quad\\quad\\quad\\quad\\quad\\quad=\\quad\\frac{\\delta L}{\\delta y}\\frac{1}{1+exp(-x)}\\frac{exp(-x)}{1+exp(-x)}\n",
    "\\\\=\\quad\\frac{\\delta L}{\\delta y}y(1-y)$$\n",
    "- 이 경우 sigmoid 계층의 역전파는 순전파의 출력($y$)만으로 계산 가능\n",
    "![](image/fig 5-21.png)\n",
    "![](image/fig 5-22.png)\n",
    "___"
   ]
  },
  {
   "cell_type": "code",
   "execution_count": 1,
   "metadata": {},
   "outputs": [],
   "source": [
    "class Sigmoid:\n",
    "    def __init__(self):\n",
    "        self.out = None\n",
    "    \n",
    "    \n",
    "    def forward(self, x):\n",
    "        self.out = 1/(1+np.exp(-x))\n",
    "        \n",
    "        return self.out\n",
    "    \n",
    "    \n",
    "    def backward(self, dout):\n",
    "        dx = dout * self.out * (1-self.out)\n",
    "        \n",
    "        return dx"
   ]
  },
  {
   "cell_type": "markdown",
   "metadata": {},
   "source": [
    "- 위 식은 순전파 출력값을 'out'에 보관, 이후 역전파 계산 때 사용하는 방식으로 구현"
   ]
  }
 ],
 "metadata": {
  "kernelspec": {
   "display_name": "Python 3",
   "language": "python",
   "name": "python3"
  },
  "language_info": {
   "codemirror_mode": {
    "name": "ipython",
    "version": 3
   },
   "file_extension": ".py",
   "mimetype": "text/x-python",
   "name": "python",
   "nbconvert_exporter": "python",
   "pygments_lexer": "ipython3",
   "version": "3.6.4"
  }
 },
 "nbformat": 4,
 "nbformat_minor": 2
}
