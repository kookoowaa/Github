{
 "cells": [
  {
   "cell_type": "markdown",
   "metadata": {},
   "source": [
    "# *오차역전파법*\n",
    "\n",
    "## 5. 활성화 함수 계층 구현하기\n",
    "\n",
    "- ReLU와 Sigmoid 계층 구현\n",
    "___"
   ]
  },
  {
   "cell_type": "markdown",
   "metadata": {},
   "source": [
    "### 1) ReLU 계층\n",
    "\n",
    "- ReLU의 계산 그래프는 아래와 같이 표현 가능\n",
    "![](image/fig 5-18.png)\n",
    "- 이를 수식으로 나타내면;\n",
    "$$\n",
    "y = \\left\\{\n",
    "    \\begin{array}{ll}\n",
    "    x \\quad (x > 0 )\\\\\n",
    "    0 \\quad (x \\leq 0)\n",
    "    \\end{array}\n",
    "    \\right.\n",
    "$$\n",
    "- 미분식을 표현하면;\n",
    "$$\n",
    "\\frac{\\delta y}{\\delta x} = \\left\\{\n",
    "                            \\begin{array}{ll}\n",
    "                            1 \\quad (x > 0 )\\\\\n",
    "                            0 \\quad (x \\leq 0)\n",
    "                            \\end{array}\n",
    "                            \\right.\n",
    "$$\n",
    "    와 같이 표현 가능"
   ]
  },
  {
   "cell_type": "code",
   "execution_count": 1,
   "metadata": {},
   "outputs": [],
   "source": [
    "class Relu:\n",
    "    def __init__(self):\n",
    "        self.mask = None\n",
    "        \n",
    "        \n",
    "    def forward(self, x):\n",
    "        self.mask = (x <= 0)\n",
    "        out = x.copy()\n",
    "        out[self.maks] = 0\n",
    "        \n",
    "        return out\n",
    "    \n",
    "    \n",
    "    def backward(self, dout):\n",
    "        dout[self.mask] = 0\n",
    "        dx = dout\n",
    "        \n",
    "        return dx"
   ]
  },
  {
   "cell_type": "markdown",
   "metadata": {},
   "source": [
    "- Relu 클래스는 mask라는 인스턴스 변수를 보유\n",
    "- mask는 True/False로 구성된 넘파이 배열\n",
    "- 순전파의 입력(x)의 원소값이 0 이하일 때에는 True, 아닐 경우는 False 반환\n",
    "- i.e. 아래 예제 참조"
   ]
  },
  {
   "cell_type": "code",
   "execution_count": 2,
   "metadata": {},
   "outputs": [
    {
     "name": "stdout",
     "output_type": "stream",
     "text": [
      "[[ 1.  -0.5]\n",
      " [-2.   3. ]]\n",
      "\n",
      "[[False  True]\n",
      " [ True False]]\n",
      "\n",
      "[[1. 0.]\n",
      " [0. 3.]]\n"
     ]
    }
   ],
   "source": [
    "x = np.array([[1, -.5], [-2, 3]])\n",
    "print(x)\n",
    "print()\n",
    "mask = (x<=0)\n",
    "print(mask)\n",
    "print()\n",
    "out =  x.copy()\n",
    "out[mask] = 0\n",
    "print(out)"
   ]
  },
  {
   "cell_type": "markdown",
   "metadata": {},
   "source": [
    "- ReLU 계층은 전기회로의 '스위치'와 유사 기능 수행\n",
    "- 전류가 흐르면 스위치를 ON, 아닐 경우 스위치를 OFF\n",
    "___"
   ]
  }
 ],
 "metadata": {
  "kernelspec": {
   "display_name": "Python 3",
   "language": "python",
   "name": "python3"
  },
  "language_info": {
   "codemirror_mode": {
    "name": "ipython",
    "version": 3
   },
   "file_extension": ".py",
   "mimetype": "text/x-python",
   "name": "python",
   "nbconvert_exporter": "python",
   "pygments_lexer": "ipython3",
   "version": "3.6.4"
  }
 },
 "nbformat": 4,
 "nbformat_minor": 2
}
