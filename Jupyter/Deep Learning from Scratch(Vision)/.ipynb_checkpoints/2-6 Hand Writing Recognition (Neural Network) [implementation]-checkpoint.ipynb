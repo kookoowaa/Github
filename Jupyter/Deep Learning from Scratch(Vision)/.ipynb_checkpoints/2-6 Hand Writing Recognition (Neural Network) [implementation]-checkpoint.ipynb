{
 "cells": [
  {
   "cell_type": "markdown",
   "metadata": {},
   "source": [
    "# *Neural Network*\n",
    "## 6. 손글씨 숫자 인식\n",
    "> - 학습 과정은 생략, 추론 과정만 구현\n",
    "- 이를 신경망의 **forward propagation(순전파)** 라고 함\n",
    "- 참고로 기계학습의 문제풀이는 학습과 추론 두단계를 거쳐 이루어짐 (모델의 학습, 미지의 데이터에 대해 추론 수행)\n",
    "\n",
    "___"
   ]
  },
  {
   "cell_type": "markdown",
   "metadata": {},
   "source": [
    "### 1) MNIST 데이터셋\n",
    "___\n",
    "- 기계학습 데이터 셋 MNIST 가져오기\n",
    "- 사전 정의되어 잇는 minst.py 내 함수 통해 데이터셋 호출 "
   ]
  },
  {
   "cell_type": "code",
   "execution_count": 3,
   "metadata": {},
   "outputs": [],
   "source": [
    "import sys, os\n",
    "sys.path.append(os.pardir)\n",
    "from data.mnist import load_mnist"
   ]
  },
  {
   "cell_type": "markdown",
   "metadata": {},
   "source": [
    "- mnist.py 내 user defined function 사용"
   ]
  },
  {
   "cell_type": "code",
   "execution_count": 4,
   "metadata": {},
   "outputs": [],
   "source": [
    "(x_train, t_train), (x_test, t_test) = load_mnist(flatten =  True, normalize = False)"
   ]
  },
  {
   "cell_type": "code",
   "execution_count": 9,
   "metadata": {},
   "outputs": [
    {
     "name": "stdout",
     "output_type": "stream",
     "text": [
      "(60000, 784)\n",
      "(60000,)\n",
      "(10000, 784)\n",
      "(10000,)\n"
     ]
    }
   ],
   "source": [
    "print(x_train.shape)\n",
    "print(t_train.shape)\n",
    "print(x_test.shape)\n",
    "print(t_test.shape)"
   ]
  },
  {
   "cell_type": "markdown",
   "metadata": {},
   "source": [
    "- load_mnist() 함수는 읽은 MNIST데이터를 **(훈련이미지, 훈련레이블), (시험이미지, 시험레이블)** 형식으로 반환\n",
    "- 함수 내 인수는 총 3가지로 normalize(0-1정규화), flatten (1차원배열 or 3차원배열), one_hot_label(1,0으로 이루어진 배열 or 숫자배열)이 있음\n",
    "- 이미지 데이터는 원래 1 X 28 X 28의 3차원 배열로 이루어짐\n",
    "- Python의 pickle 기능을 활용하여 데이터를 파일로 저장/불러오기"
   ]
  },
  {
   "cell_type": "code",
   "execution_count": 1,
   "metadata": {},
   "outputs": [],
   "source": [
    "import numpy as np\n",
    "from PIL import Image\n",
    "import pickle"
   ]
  },
  {
   "cell_type": "code",
   "execution_count": 5,
   "metadata": {},
   "outputs": [
    {
     "name": "stdout",
     "output_type": "stream",
     "text": [
      "5\n",
      "(784,)\n",
      "(28, 28)\n"
     ]
    }
   ],
   "source": [
    "def img_show(img):\n",
    "    pil_img = Image.fromarray(np.uint8(img))\n",
    "    pil_img.show()\n",
    "\n",
    "img = x_train[0]\n",
    "label = t_train[0]\n",
    "print(label)\n",
    "\n",
    "\n",
    "print(img.shape)\n",
    "img = img.reshape(28,28)\n",
    "print(img.shape)\n",
    "\n",
    "img_show(img)"
   ]
  },
  {
   "cell_type": "markdown",
   "metadata": {},
   "source": [
    "- flatten 된 1차원 넘파이 배열을 28 x 28 배열로 다시 변형해서 이미지로 표시\n",
    "___"
   ]
  },
  {
   "cell_type": "markdown",
   "metadata": {},
   "source": [
    "### 2) 신경망의 추론 처리\n",
    "\n",
    "> - 입력층 뉴런을 784개, 출력층 뉴런을 10개로 구성 (이미지 크기 784 = 28 * 28, 0부터 9까지 총 10개의 숫자 구분)\n",
    "- 은닉층은 임의로 지정하되 본 예제에서는 2개의 은닉층, 각 50, 100개의 뉴런으로 구성"
   ]
  },
  {
   "cell_type": "code",
   "execution_count": 6,
   "metadata": {},
   "outputs": [],
   "source": [
    "def sigmoid(x):\n",
    "    return 1 / (1 + np.exp(-x))\n",
    "\n",
    "\n",
    "def softmax(a):\n",
    "    c = a.max()               #오버플로우 방지\n",
    "    exp_a = np.exp(a-c)\n",
    "    sum_exp_a = exp_a.sum()\n",
    "    y = exp_a / sum_exp_a\n",
    "    \n",
    "    return y"
   ]
  },
  {
   "cell_type": "markdown",
   "metadata": {},
   "source": [
    "- 은닉층과 출력층의 activation function 정의"
   ]
  },
  {
   "cell_type": "code",
   "execution_count": 7,
   "metadata": {},
   "outputs": [],
   "source": [
    "def get_data():\n",
    "    (x_train, t_train), (x_test, t_test) = load_mnist(normalize = True, flatten = True, one_hot_label = False)\n",
    "    return x_test, t_test\n",
    "\n",
    "\n",
    "def init_network():\n",
    "    with open('data/sample_weight[ch3].pkl', 'rb') as f:\n",
    "        network = pickle.load(f)\n",
    "\n",
    "    return network\n",
    "\n",
    "\n",
    "def predict(network, x):\n",
    "    W1, W2, W3 = network['W1'], network['W2'], network['W3']\n",
    "    b1, b2, b3 = network['b1'], network['b2'], network['b3']\n",
    "    \n",
    "    a1 = np.dot(x,W1) + b1\n",
    "    z1 = sigmoid(a1)\n",
    "    a2 = np.dot(z1,W2) + b2\n",
    "    z2 = sigmoid(a2)\n",
    "    a3 = np.dot(z2, W3) + b3\n",
    "    y = softmax(a3)\n",
    "    \n",
    "    return y"
   ]
  },
  {
   "cell_type": "markdown",
   "metadata": {},
   "source": [
    "- sampel_weight[ch3].pkl 에는 **학습된 가중치와 편향 매개변수**가 딕셔너리 변수로 저장되어 있음"
   ]
  },
  {
   "cell_type": "code",
   "execution_count": 42,
   "metadata": {},
   "outputs": [],
   "source": [
    "x, t = get_data()\n",
    "network = init_network()"
   ]
  },
  {
   "cell_type": "code",
   "execution_count": 51,
   "metadata": {},
   "outputs": [
    {
     "name": "stdout",
     "output_type": "stream",
     "text": [
      "Accuracy: 0.9352\n"
     ]
    }
   ],
   "source": [
    "accuracy_cnt = 0\n",
    "for i in range(len(x)):\n",
    "    y = predict(network, x[i])\n",
    "    p = np.argmax(y) #확률이 가장 높은 원소의 인덱스\n",
    "    if p == t[i]:\n",
    "        accuracy_cnt += 1\n",
    "\n",
    "        \n",
    "print('Accuracy: ' + str(float(accuracy_cnt) / len(x)))"
   ]
  },
  {
   "cell_type": "code",
   "execution_count": 55,
   "metadata": {},
   "outputs": [
    {
     "name": "stdout",
     "output_type": "stream",
     "text": [
      "[8.4412488e-05 2.6350631e-06 7.1549421e-04 1.2586262e-03 1.1727954e-06\n",
      " 4.4990808e-05 1.6269318e-08 9.9706501e-01 9.3744793e-06 8.1831159e-04]\n",
      "7\n"
     ]
    }
   ],
   "source": [
    "y = predict(network, x[0])\n",
    "print(y)\n",
    "print(np.argmax(y))"
   ]
  },
  {
   "cell_type": "markdown",
   "metadata": {},
   "source": [
    "- 학습된 가중치와 편향 매개변수로 신경망을 활용한 추론 결과는 93.52% 정확도임\n",
    "- predict 함수는 각 이미지 별로 10개의 확률 배열 반환\n",
    "- 가장 확률이 높은 원소의 인덱스가 신경망을 통해 추론한 숫자임\n",
    "- normalize로 0~255값을 0~1사이의 값으로 변환하였고, 이를 정규화, 큰틀에서 전처리라고 함"
   ]
  },
  {
   "cell_type": "markdown",
   "metadata": {},
   "source": [
    "___\n",
    "### 3) 배치 처리\n",
    "\n",
    "- 위에서 처리한 신경망의 차원 review\n",
    "- **batch(배치)**는 하나의 배열로 묶은 입력 데이터를 명칭"
   ]
  },
  {
   "cell_type": "code",
   "execution_count": 59,
   "metadata": {},
   "outputs": [],
   "source": [
    "x, _ = get_data()\n",
    "network = init_network()\n",
    "\n",
    "W1, W2, W3 = network['W1'], network['W2'], network['W3']\n",
    "b1, b2, b3 = network['b1'], network['b2'], network['b3']"
   ]
  },
  {
   "cell_type": "code",
   "execution_count": 57,
   "metadata": {},
   "outputs": [
    {
     "name": "stdout",
     "output_type": "stream",
     "text": [
      "(10000, 784)\n",
      "(784,)\n"
     ]
    }
   ],
   "source": [
    "print(x.shape)\n",
    "print(x[0].shape)"
   ]
  },
  {
   "cell_type": "code",
   "execution_count": 58,
   "metadata": {},
   "outputs": [
    {
     "name": "stdout",
     "output_type": "stream",
     "text": [
      "(784, 50)\n",
      "(50, 100)\n",
      "(100, 10)\n"
     ]
    }
   ],
   "source": [
    "print(W1.shape)\n",
    "print(W2.shape)\n",
    "print(W3.shape)"
   ]
  },
  {
   "cell_type": "code",
   "execution_count": 60,
   "metadata": {},
   "outputs": [
    {
     "name": "stdout",
     "output_type": "stream",
     "text": [
      "(50,)\n",
      "(100,)\n",
      "(10,)\n"
     ]
    }
   ],
   "source": [
    "print(b1.shape)\n",
    "print(b2.shape)\n",
    "print(b3.shape)"
   ]
  },
  {
   "cell_type": "markdown",
   "metadata": {},
   "source": [
    "![](image/fig 3-26.png)"
   ]
  },
  {
   "cell_type": "markdown",
   "metadata": {},
   "source": [
    "- 위 그림과 같이 하나의 이미지 처리하는 과정 설명 가능\n",
    "- 784개로 구성된 1차원 배열의 (28\\*28 2차원 배열) 원소가 입력되어 10개인 1차원 확률 배열이 출력되는 흐름\n",
    "- 편향(b)의 차원은 각 층의 원소 개수와 일치"
   ]
  },
  {
   "cell_type": "markdown",
   "metadata": {},
   "source": [
    "![](image/fig 3-27.png)"
   ]
  },
  {
   "cell_type": "markdown",
   "metadata": {},
   "source": [
    "- 여러장의 이미지가 (가령 100장) 입력된다면 위와 같이 계산 가능\n",
    "- 이처럼 하나로 묶은 입력 데이터를 **batch(배치)**라고 함\n",
    "- batch 처리는 컴퓨터 계산에서 큰 자원 효율성을 가져다 줌"
   ]
  },
  {
   "cell_type": "code",
   "execution_count": 9,
   "metadata": {},
   "outputs": [
    {
     "name": "stdout",
     "output_type": "stream",
     "text": [
      "Accuracy: 0.9352\n"
     ]
    }
   ],
   "source": [
    "x,t = get_data()\n",
    "network = init_network()\n",
    "\n",
    "batch_size = 100\n",
    "accuracy_cnt = 0\n",
    "\n",
    "for i in range(0, len(x), batch_size):\n",
    "    x_batch = x[i:i+batch_size]\n",
    "    y_batch = predict(network, x_batch)\n",
    "    p = np.argmax(y_batch, axis = 1)\n",
    "    accuracy_cnt += np.sum(p == t[i:i+batch_size])\n",
    "\n",
    "print('Accuracy: ' + str(float(accuracy_cnt) / len(x)))"
   ]
  },
  {
   "cell_type": "markdown",
   "metadata": {},
   "source": [
    "- for문에 range(,,step)을 지정하여 한번에 100개씩 묶인 batch 별로 처리 (x[0:100], x[100:200], x[200:300]...)\n",
    "- argmax()에 axis = 1 인수를 추가함에 따라 100X10 배열의 1첫번째 차원을 구성하는 각 원소로부터 최대값의 인덱스 반환"
   ]
  },
  {
   "cell_type": "code",
   "execution_count": 32,
   "metadata": {},
   "outputs": [
    {
     "data": {
      "text/plain": [
       "array([1, 2, 1, 0], dtype=int64)"
      ]
     },
     "execution_count": 32,
     "metadata": {},
     "output_type": "execute_result"
    }
   ],
   "source": [
    "## argmax(,axis = 1) 예제\n",
    "\n",
    "x = np.array([[.1, .8, .1], [.3, .1, .6], [.2, .5, .3], [.8, .1, .1]])\n",
    "y = np.argmax(x, axis = 1)\n",
    "y"
   ]
  },
  {
   "cell_type": "code",
   "execution_count": 34,
   "metadata": {},
   "outputs": [
    {
     "name": "stdout",
     "output_type": "stream",
     "text": [
      "[ True  True False  True]\n",
      "3\n"
     ]
    }
   ],
   "source": [
    "## boolean 타입 비교 예제\n",
    "\n",
    "y = np.array([1, 2, 1, 0])\n",
    "t = np.array([1, 2, 0, 0])\n",
    "print(y == t)\n",
    "print(sum(y == t))"
   ]
  }
 ],
 "metadata": {
  "kernelspec": {
   "display_name": "Python 3",
   "language": "python",
   "name": "python3"
  },
  "language_info": {
   "codemirror_mode": {
    "name": "ipython",
    "version": 3
   },
   "file_extension": ".py",
   "mimetype": "text/x-python",
   "name": "python",
   "nbconvert_exporter": "python",
   "pygments_lexer": "ipython3",
   "version": "3.6.4"
  }
 },
 "nbformat": 4,
 "nbformat_minor": 2
}
