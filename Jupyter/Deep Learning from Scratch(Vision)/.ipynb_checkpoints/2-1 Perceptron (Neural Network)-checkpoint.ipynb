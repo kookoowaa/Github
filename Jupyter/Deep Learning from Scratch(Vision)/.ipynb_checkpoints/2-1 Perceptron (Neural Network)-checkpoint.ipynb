{
 "cells": [
  {
   "cell_type": "markdown",
   "metadata": {},
   "source": [
    "# *NEURAL NETWORK*\n",
    "\n",
    "## 1. 퍼셉트론에서 신경망으로\n",
    "\n",
    "### 1) 신경망의 예\n",
    "![](image/fig 3-1.png)\n",
    "- 위 그림에서 가장 왼쪽을 입력층, 오른쪽을 출력층, 가운대를 은닉층이라고 함\n",
    "- 위 그림의 신경망은 3층으로 구성, 다만 가중치는 2개 층에서만 갖기 때문에 '2층 신경망'이라고 함 (n-1)\n",
    "___\n",
    "\n",
    "### 2) 퍼셉트론 복습\n",
    "![](image/fig 3-2.png)\n",
    "- 위 퍼셉트론을 수식으로 나타내면 아래와 같음"
   ]
  },
  {
   "cell_type": "markdown",
   "metadata": {},
   "source": [
    "\n",
    "$$y = \\left\\{\n",
    "    \\begin{array}{ll}\n",
    "        0  \\quad (b + w_1x_1 + w_2x_2 \\leq 0)\\\\\n",
    "        1  \\quad (b + w_1x_1 + w_2x_2 > 0)\n",
    "    \\end{array}\n",
    "\\right.$$\n"
   ]
  },
  {
   "cell_type": "markdown",
   "metadata": {},
   "source": [
    "- 여기서 $b$는 편향, $w_1과 w_2$는 가중치를 나타냄\n",
    "- 위 그림에서 편향 $b$를 표시한다면 아래와 같이 나타낼 수 있음\n",
    "![편향이 명시된 퍼셉트론](image/fig 3-3.png)\n",
    "- 편향의 입력신호는 항상 1로 표시\n",
    "- 수식은 아래와 같이 2개의 식으로 간결하게 작성 가능\n",
    "\n",
    "$$\n",
    "y = h(b + w_1x_1 + w_2x_2)\\\\\n",
    "$$ \n",
    "<div style = 'text-align: right'>[a]</div>\n",
    "\n",
    "$$\n",
    "h(x) = \\left\\{\n",
    "       \\begin{array}{ll}\n",
    "        0 \\quad (x \\leq 0 )\\\\\n",
    "        1 \\quad (x > 0)\n",
    "       \\end{array}\n",
    "       \\right.$$\n",
    "<div style = 'text-align: right'>[b]</div>\n",
    "\n",
    "- [a]를 보면 $h(x)$라는 함수를 거쳐 입력신호의 총합이 반환됨\n",
    "- [b]에서 $h(x)$가 0을 넘으면 1을, 그렇지 않으면 0을 반환\n",
    "- 위와 같은 함수를 계단함수라고 지칭\n",
    "___"
   ]
  },
  {
   "cell_type": "markdown",
   "metadata": {},
   "source": [
    "### 3) 활성화 함수의 등장"
   ]
  },
  {
   "cell_type": "markdown",
   "metadata": {},
   "source": [
    "- $h(x)$라는 함수가 등장\n",
    "- 입력신호의 총합을 출력신호로 변환하는 함수를 일반적으로 **활성화 함수(activation function)**라고 함\n",
    "- [a]의 활성화 함수를 처리 절차에 따라 다시 2단계로 나누면 아래와 같이 표현 가능\n",
    "\n",
    "\n",
    "$$\n",
    "a = b + w_1x_1 + w_2x_2\n",
    "$$\n",
    "<div style = 'text-align: right'>[c]</div>\n",
    "$$\n",
    "y = h(a)\n",
    "$$\n",
    "<div style = 'text-align: right'>[d]</div>\n",
    "\n",
    "- 1) 가중치와 입력신호, 편향의 총합을 계산, 2) 출력값을 함수 $h()$에 넣어 y 값 출력\n",
    "- 이를 그림으로 표현하면 아래와 같이 나타낼 수 있음\n",
    "\n",
    "![](image/fig 3-4.png)\n",
    "\n"
   ]
  },
  {
   "cell_type": "markdown",
   "metadata": {},
   "source": [
    "- 위 그림은 활성화 함수의 처리 과정을 명시적으로 표시\n",
    "- 가중치 신호를 조합한 결과가 $a$라는 노드가 되고, 활성화 함수 $h()$를 통해 y라는 노드로 변환\n"
   ]
  }
 ],
 "metadata": {
  "kernelspec": {
   "display_name": "Python 3",
   "language": "python",
   "name": "python3"
  },
  "language_info": {
   "codemirror_mode": {
    "name": "ipython",
    "version": 3
   },
   "file_extension": ".py",
   "mimetype": "text/x-python",
   "name": "python",
   "nbconvert_exporter": "python",
   "pygments_lexer": "ipython3",
   "version": "3.6.4"
  }
 },
 "nbformat": 4,
 "nbformat_minor": 2
}
