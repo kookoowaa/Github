{
 "cells": [
  {
   "cell_type": "markdown",
   "metadata": {},
   "source": [
    "# *합성곱 신경망*\n",
    " ## 3. 풀링 계층\n",
    " \n",
    " - 풀링은 세로/가로 방향의 공간을 줄이는 연산임\n",
    " - 예를 들어 아래의 경우는 2X2 영역을 원소 하나로 공간을 축소해서 계산\n",
    " ![](image/fig 7-14.png)\n",
    " - 위 예는 **max pooling(최대풀링)**을 스트라이드 2로 처리한 예시로, 최대풀링은 윈도우 내 가장 큰 원소 하나가 대표값이 됨\n",
    " - 이미지 인식분야에서는 주로 최대풀링을 사용하며, 이 외 평균풀링도 종종 사용\n",
    " ___"
   ]
  },
  {
   "cell_type": "markdown",
   "metadata": {},
   "source": [
    "### 1) 풀링계층의 특징\n",
    "\n",
    "- 풀링계층의 특징은 아래와 같음\n",
    ">- 학습해야 할 매개변수가 없음: 최대값이나 평균을 취함으로 명확한 처리이므로 따로 학습이 필요하지 않음\n",
    ">- 채널 수가 변하지 않음:       채널마다 독립적으로 계산하기에 입력데이터의 채널수의 변화가 없음 (**C**, H, W)\n",
    ">- 입력 데이터의 변화에 강건함: 입력데이터가 조금 변해도 풀링의 경과는 잘 변하지 않음\n",
    "\n",
    "___"
   ]
  }
 ],
 "metadata": {
  "kernelspec": {
   "display_name": "Python 3",
   "language": "python",
   "name": "python3"
  },
  "language_info": {
   "codemirror_mode": {
    "name": "ipython",
    "version": 3
   },
   "file_extension": ".py",
   "mimetype": "text/x-python",
   "name": "python",
   "nbconvert_exporter": "python",
   "pygments_lexer": "ipython3",
   "version": "3.6.4"
  }
 },
 "nbformat": 4,
 "nbformat_minor": 2
}
