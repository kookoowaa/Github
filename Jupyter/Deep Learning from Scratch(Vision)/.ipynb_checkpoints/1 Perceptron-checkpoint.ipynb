{
 "cells": [
  {
   "cell_type": "markdown",
   "metadata": {},
   "source": [
    "- Perceptron은 프랑크 로젠블라트가 1957년에 고안한 알고리즘\n",
    "- 신경망 딥러닝의 기원이 되는 알고리즘\n",
    "___\n",
    "### 1. Perceptron이란?"
   ]
  },
  {
   "cell_type": "markdown",
   "metadata": {},
   "source": [
    "- Perceptron은 다수의 신호를 입력으로 받아 하나의 신호를 출력\n",
    "- 다만 신호는 1이나 0 두가지 값만 가질 수 있음\n",
    "\n",
    "___\n",
    "![입력이 2개인 Perceptron](image/fig 2-1.png)\n",
    "\n",
    "___\n",
    "- x1, x2는 입력 신호를, w1, w2는 각각의 가중치를 의미\n",
    "- 그림의 원을 **Neuron**, 또는 **Node**라고 지칭\n",
    "- 입력 신호가 neuron에 보내질 때는 각각 고유한 가중치가 곱해짐\n",
    "- Neuron에서는 받은 신호의 총합이 **$\\theta$(Theta, 임계값)**를 넘을 경우만 1을 출력"
   ]
  },
  {
   "cell_type": "markdown",
   "metadata": {},
   "source": [
    "\n",
    "$$y = \\left\\{\n",
    "    \\begin{array}{ll}\n",
    "        0  \\quad (w_1x_1 + w_2x_2 \\leq \\theta)\\\\\n",
    "        1  \\quad (w_1x_1 + w_2x_2 > \\theta)\n",
    "    \\end{array}\n",
    "\\right.$$\n"
   ]
  },
  {
   "cell_type": "markdown",
   "metadata": {},
   "source": [
    "- 위의 내용을 수식으로 나타내면 위와 같음\n",
    "- 가중치가 높을수록 신호가 더 중요하다는 의미이며, 영향력을 조절하는 요소로 작동함\n",
    "- 가중치는 전류에서 흔히 이야기하는 **저항**에 해당\n",
    "___\n",
    "### 2. 단순한 논리 회로"
   ]
  },
  {
   "cell_type": "markdown",
   "metadata": {},
   "source": [
    "#### AND 게이트\n",
    "![](image/fig 2-2.png)"
   ]
  },
  {
   "cell_type": "markdown",
   "metadata": {},
   "source": [
    "- $x_1$과 $x_2$가 모두 1일때만 1을 출력\n",
    "\n",
    "- 위의 AND 게이트를 perceptron으로 표현\n",
    "\n",
    "- i.e. $(w_1, w_2, \\theta)$가 (0.5, 0.5, 0.7)이나 (0.5, 0.5, 0.8)을 따른다면 모두 AND 게이트 조건을 만족\n",
    "\n",
    "- $x_1과 x_2$가 모두 1일때만 가중신호의 총합이 $\\theta$를 넘어설 수 있음"
   ]
  },
  {
   "cell_type": "markdown",
   "metadata": {},
   "source": [
    "#### NAND 게이터\n",
    "![](image/fig 2-3.png)"
   ]
  },
  {
   "cell_type": "markdown",
   "metadata": {},
   "source": [
    "- NAND는 Not AND를 의미함\n",
    "- AND 테이블과 정 반대 역할 수행\n"
   ]
  },
  {
   "cell_type": "markdown",
   "metadata": {},
   "source": [
    "#### OR 게이트\n",
    "![](image/fig 2-3.png)\n"
   ]
  },
  {
   "cell_type": "markdown",
   "metadata": {},
   "source": [
    "- 말 그대로 or 연산\n",
    "- 입력 신호 중 어느 하나라도 1 이상이면 출력값 반환"
   ]
  },
  {
   "cell_type": "markdown",
   "metadata": {},
   "source": [
    "> ### - perceptron의 매개변수 값을 정하는 것은 인간임\n",
    "### - 기계학습 문제는 이 매개변수 값을 정하는 작업을 컴퓨터가 수행\n",
    "\n",
    "<br>\n",
    "## 3. Perceptron 구현하기"
   ]
  },
  {
   "cell_type": "markdown",
   "metadata": {},
   "source": [
    "#### 3-1. 간단히 구현하기"
   ]
  },
  {
   "cell_type": "code",
   "execution_count": 1,
   "metadata": {},
   "outputs": [],
   "source": [
    "def AND(x1, x2):\n",
    "    w1, w2, theta = 0.5, 0.5, 0.7    # w1, w2, theta 값 초기화\n",
    "    temp = x1*w1 + x2*w2\n",
    "    if temp <= theta:                # 입력의 총합이 임계값을 넘지 못하면 0 반환\n",
    "        return 0\n",
    "    else:\n",
    "        return 1"
   ]
  },
  {
   "cell_type": "code",
   "execution_count": 2,
   "metadata": {},
   "outputs": [
    {
     "data": {
      "text/plain": [
       "0"
      ]
     },
     "execution_count": 2,
     "metadata": {},
     "output_type": "execute_result"
    }
   ],
   "source": [
    "AND(0, 0)"
   ]
  },
  {
   "cell_type": "code",
   "execution_count": 3,
   "metadata": {},
   "outputs": [
    {
     "data": {
      "text/plain": [
       "1"
      ]
     },
     "execution_count": 3,
     "metadata": {},
     "output_type": "execute_result"
    }
   ],
   "source": [
    "AND(1, 1)"
   ]
  },
  {
   "cell_type": "markdown",
   "metadata": {},
   "source": [
    "1. 매개변수 w1, w2, theta 값 지정\n",
    "2. 가중치 반영 입력 총합 계산\n",
    "3. 입계값 대비 판별 및 출력값 반환\n",
    "\n",
    "#### 3-2. 가중치와 편향 도입"
   ]
  },
  {
   "cell_type": "markdown",
   "metadata": {},
   "source": [
    "위에서 본 AND 게이트 식은 다음과 같음:\n",
    "\n",
    "$$y = \\left\\{\n",
    "    \\begin{array}{ll}\n",
    "        0  \\quad (w_1x_1 + w_2x_2 \\leq \\theta)\\\\\n",
    "        1  \\quad (w_1x_1 + w_2x_2 > \\theta)\n",
    "    \\end{array}\n",
    "\\right.$$\n"
   ]
  },
  {
   "cell_type": "markdown",
   "metadata": {},
   "source": [
    "$\\theta$를 -b로 치환하면 다음과 같이 변경 가능:\n",
    "\n",
    "\n",
    "$$y = \\left\\{\n",
    "    \\begin{array}{ll}\n",
    "        0  \\quad (b + w_1x_1 + w_2x_2 \\leq 0)\\\\\n",
    "        1  \\quad (b + w_1x_1 + w_2x_2 > 0)\n",
    "    \\end{array}\n",
    "\\right.$$\n",
    "\n",
    "여기서 b를 **bias**(편향)이라고 함"
   ]
  },
  {
   "cell_type": "markdown",
   "metadata": {},
   "source": [
    "위 식을 재해석 하면 다음과 같음:\n",
    "- 입력값에 가중치를 곱하고 편향을 더함\n",
    "- 위 결과값이 0을 넘으면 1을 출력하고, 0을 못넘으면 0을 반환"
   ]
  },
  {
   "cell_type": "markdown",
   "metadata": {},
   "source": [
    "NumPy를 활용하여 위 식을 표현"
   ]
  },
  {
   "cell_type": "code",
   "execution_count": 4,
   "metadata": {},
   "outputs": [
    {
     "data": {
      "text/plain": [
       "array([0. , 0.5])"
      ]
     },
     "execution_count": 4,
     "metadata": {},
     "output_type": "execute_result"
    }
   ],
   "source": [
    "import numpy as np\n",
    "x = np.array([0,1])       # 입력\n",
    "w = np.array([0.5, 0.5])  # 가중치\n",
    "b = -0.7                  # 편향\n",
    "\n",
    "x* w"
   ]
  },
  {
   "cell_type": "code",
   "execution_count": 6,
   "metadata": {},
   "outputs": [
    {
     "data": {
      "text/plain": [
       "0.5"
      ]
     },
     "execution_count": 6,
     "metadata": {},
     "output_type": "execute_result"
    }
   ],
   "source": [
    "np.sum(x*w)"
   ]
  },
  {
   "cell_type": "code",
   "execution_count": 7,
   "metadata": {},
   "outputs": [
    {
     "data": {
      "text/plain": [
       "-0.19999999999999996"
      ]
     },
     "execution_count": 7,
     "metadata": {},
     "output_type": "execute_result"
    }
   ],
   "source": [
    "np.sum(x*w)+b"
   ]
  },
  {
   "cell_type": "markdown",
   "metadata": {},
   "source": [
    "**NumPy 활용하여 위 식을 구현**"
   ]
  },
  {
   "cell_type": "code",
   "execution_count": 8,
   "metadata": {},
   "outputs": [],
   "source": [
    "def AND(x1, x2):\n",
    "    x = np.array([x1, x2])\n",
    "    w = np.array([0.5, 0.5])\n",
    "    b = -0.7\n",
    "    temp = sum(x*w) + b\n",
    "    \n",
    "    if temp <= 0:\n",
    "        return 0\n",
    "    else:\n",
    "        return 1"
   ]
  },
  {
   "cell_type": "code",
   "execution_count": 9,
   "metadata": {},
   "outputs": [
    {
     "data": {
      "text/plain": [
       "1"
      ]
     },
     "execution_count": 9,
     "metadata": {},
     "output_type": "execute_result"
    }
   ],
   "source": [
    "AND(1, 1)"
   ]
  },
  {
   "cell_type": "code",
   "execution_count": 10,
   "metadata": {},
   "outputs": [
    {
     "data": {
      "text/plain": [
       "0"
      ]
     },
     "execution_count": 10,
     "metadata": {},
     "output_type": "execute_result"
    }
   ],
   "source": [
    "AND( 0, 1)"
   ]
  },
  {
   "cell_type": "markdown",
   "metadata": {},
   "source": [
    "- -$\\theta$가 편향 b로 치환되어 구현\n",
    "- b 는 w1, w2와 엄연히 다른 기능\n",
    "- w1, w2는 가중치로, 각 입력 신호가 결과에 주는 **각각의 영향력**을 조절하는 매개변수임\n",
    "- b 는 편향으로, 뉴런이 **얼마나 쉽게 활성화** 하느냐를 조정하는 매개변수임"
   ]
  },
  {
   "cell_type": "markdown",
   "metadata": {},
   "source": [
    "#### 3-3. **NumPy 활용 NAND / OR 게이트 구현**"
   ]
  },
  {
   "cell_type": "code",
   "execution_count": 20,
   "metadata": {},
   "outputs": [],
   "source": [
    "def NAND(x1, x2):\n",
    "    x = np.array([x1, x2])\n",
    "    w = np.array([0.5, 0.5])\n",
    "    b = -0.7\n",
    "    temp = sum(x*w) + b\n",
    "    \n",
    "    if temp <= 0:\n",
    "        return 1\n",
    "    else:\n",
    "        return 0\n",
    "\n",
    "def OR(x1, x2):\n",
    "    x = np.array([x1, x2])\n",
    "    w = np.array([0.5, 0.5])\n",
    "    b = -0.5\n",
    "    temp = sum(x*w) + b\n",
    "    \n",
    "    if temp < 0:\n",
    "        return 0\n",
    "    else:\n",
    "        return 1"
   ]
  },
  {
   "cell_type": "code",
   "execution_count": 12,
   "metadata": {},
   "outputs": [
    {
     "data": {
      "text/plain": [
       "0"
      ]
     },
     "execution_count": 12,
     "metadata": {},
     "output_type": "execute_result"
    }
   ],
   "source": [
    "NAND(1, 1)"
   ]
  },
  {
   "cell_type": "code",
   "execution_count": 13,
   "metadata": {},
   "outputs": [
    {
     "data": {
      "text/plain": [
       "1"
      ]
     },
     "execution_count": 13,
     "metadata": {},
     "output_type": "execute_result"
    }
   ],
   "source": [
    "NAND(0, 1)"
   ]
  },
  {
   "cell_type": "code",
   "execution_count": 21,
   "metadata": {
    "scrolled": true
   },
   "outputs": [
    {
     "data": {
      "text/plain": [
       "1"
      ]
     },
     "execution_count": 21,
     "metadata": {},
     "output_type": "execute_result"
    }
   ],
   "source": [
    "OR(0,1)"
   ]
  },
  {
   "cell_type": "code",
   "execution_count": 22,
   "metadata": {},
   "outputs": [
    {
     "data": {
      "text/plain": [
       "0"
      ]
     },
     "execution_count": 22,
     "metadata": {},
     "output_type": "execute_result"
    }
   ],
   "source": [
    "OR(0,0)"
   ]
  },
  {
   "cell_type": "markdown",
   "metadata": {},
   "source": [
    "### 4. Perceptron의 한계"
   ]
  },
  {
   "cell_type": "markdown",
   "metadata": {},
   "source": [
    "- Perceptron은 직선 하나로 나눈 영역만 구분 가능\n",
    "- OR게이트의 경우를 보면 아래의 그림과 같이 설명할 수 있음\n",
    "![](image/fig 2-6.png)\n",
    "- 세모로 표기한 (0,1), (1,0), (1,1)과 동그라미로 표기한 (0,0)은 직선으로 구분 가능"
   ]
  },
  {
   "cell_type": "markdown",
   "metadata": {},
   "source": [
    "- XOR 게이트의 경우 직선 하나로 구분 불가능하며, 따라서 Perceptron으로 구현 불가능\n",
    "- XOR 게이트는 배타적 논리합이라는 논리회로로 $x_1, x_2$ 둘 중 하나가 1일 때만 1을 출력\n",
    "![](image/fig 2-5.png)"
   ]
  },
  {
   "cell_type": "markdown",
   "metadata": {},
   "source": [
    "- 이경우를 2D에 시각화 하면 다음과 같은 형태가 됨\n",
    "![](image/fig 2-8.png)"
   ]
  },
  {
   "cell_type": "markdown",
   "metadata": {},
   "source": [
    "### 5. 다층 퍼셉트론"
   ]
  },
  {
   "cell_type": "markdown",
   "metadata": {},
   "source": [
    "- 단일 Perceptron으로 XOR게이트는 표현 불가능\n",
    "- 하지만 층을 쌓아 다층 퍼셉트론을 구현함으로써 XOR 게이트도 표현 가능"
   ]
  },
  {
   "cell_type": "code",
   "execution_count": null,
   "metadata": {},
   "outputs": [],
   "source": []
  }
 ],
 "metadata": {
  "kernelspec": {
   "display_name": "Python 3",
   "language": "python",
   "name": "python3"
  },
  "language_info": {
   "codemirror_mode": {
    "name": "ipython",
    "version": 3
   },
   "file_extension": ".py",
   "mimetype": "text/x-python",
   "name": "python",
   "nbconvert_exporter": "python",
   "pygments_lexer": "ipython3",
   "version": "3.6.4"
  }
 },
 "nbformat": 4,
 "nbformat_minor": 2
}
