{
 "cells": [
  {
   "cell_type": "markdown",
   "metadata": {},
   "source": [
    "- Perceptron은 프랑크 로젠블라트가 1957년에 고안한 알고리즘\n",
    "- 신경망 딥러닝의 기원이 되는 알고리즘\n",
    "___\n",
    "### 1. Perceptron이란?"
   ]
  },
  {
   "cell_type": "markdown",
   "metadata": {},
   "source": [
    "- Perceptron은 다수의 신호를 입력으로 받아 하나의 신호를 출력\n",
    "- 다만 신호는 1이나 0 두가지 값만 가질 수 있음\n",
    "\n",
    "___\n",
    "![입력이 2개인 Perceptron](image/fig 2-1.png)\n",
    "\n",
    "___\n",
    "- x1, x2는 입력 신호를, w1, w2는 각각의 가중치를 의미\n",
    "- 그림의 원을 **Neuron**, 또는 **Node**라고 지칭\n",
    "- 입력 신호가 neuron에 보내질 때는 각각 고유한 가중치가 곱해짐\n",
    "- Neuron에서는 받은 신호의 총합이 **$\\theta$(Theta, 임계값)**를 넘을 경우만 1을 출력"
   ]
  },
  {
   "cell_type": "markdown",
   "metadata": {},
   "source": [
    "\n",
    "$$y = \\left\\{\n",
    "    \\begin{array}{ll}\n",
    "        0  \\quad (w_1x_1 + w_2x_2 \\leq \\theta)\\\\\n",
    "        1  \\quad (w_1x_1 + w_2x_2 > \\theta)\n",
    "    \\end{array}\n",
    "\\right.$$\n"
   ]
  },
  {
   "cell_type": "markdown",
   "metadata": {},
   "source": [
    "- 위의 내용을 수식으로 나타내면 위와 같음\n",
    "- 가중치가 높을수록 신호가 더 중요하다는 의미이며, 영향력을 조절하는 요소로 작동함\n",
    "- 가중치는 전류에서 흔히 이야기하는 **저항**에 해당\n",
    "___\n",
    "### 2. 단순한 논리 회로"
   ]
  },
  {
   "cell_type": "markdown",
   "metadata": {},
   "source": [
    "#### AND 게이트\n",
    "![](image/fig 2-2.png)"
   ]
  },
  {
   "cell_type": "markdown",
   "metadata": {},
   "source": [
    "- $x_1$과 $x_2$가 모두 1일때만 1을 출력\n",
    "\n",
    "- 위의 AND 게이트를 perceptron으로 표현\n",
    "\n",
    "- i.e. $(w_1, w_2, \\theta)$가 (0.5, 0.5, 0.7)이나 (0.5, 0.5, 0.8)을 따른다면 모두 AND 게이트 조건을 만족\n",
    "\n",
    "- $x_1과 x_2$가 모두 1일때만 가중신호의 총합이 $\\theta$를 넘어설 수 있음"
   ]
  },
  {
   "cell_type": "markdown",
   "metadata": {},
   "source": [
    "#### NAND 게이터\n",
    "![](image/fig 2-3.png)"
   ]
  },
  {
   "cell_type": "markdown",
   "metadata": {},
   "source": [
    "- NAND는 Not AND를 의미함\n",
    "- AND 테이블과 정 반대 역할 수행\n"
   ]
  },
  {
   "cell_type": "markdown",
   "metadata": {},
   "source": [
    "#### OR 게이트\n",
    "![](image/fig 2-3.png)\n"
   ]
  },
  {
   "cell_type": "markdown",
   "metadata": {},
   "source": [
    "- 말 그대로 or 연산\n",
    "- 입력 신호 중 어느 하나라도 1 이상이면 출력값 반환"
   ]
  },
  {
   "cell_type": "markdown",
   "metadata": {},
   "source": [
    "> ### - perceptron의 매개변수 값을 정하는 것은 인간임\n",
    "### - 기계학습 문제는 이 매개변수 값을 정하는 작업을 컴퓨터가 수행\n",
    "\n",
    "___\n",
    "## 3. Perceptron 구현하기"
   ]
  },
  {
   "cell_type": "code",
   "execution_count": null,
   "metadata": {},
   "outputs": [],
   "source": []
  }
 ],
 "metadata": {
  "kernelspec": {
   "display_name": "Python 3",
   "language": "python",
   "name": "python3"
  },
  "language_info": {
   "codemirror_mode": {
    "name": "ipython",
    "version": 3
   },
   "file_extension": ".py",
   "mimetype": "text/x-python",
   "name": "python",
   "nbconvert_exporter": "python",
   "pygments_lexer": "ipython3",
   "version": "3.6.4"
  }
 },
 "nbformat": 4,
 "nbformat_minor": 2
}
