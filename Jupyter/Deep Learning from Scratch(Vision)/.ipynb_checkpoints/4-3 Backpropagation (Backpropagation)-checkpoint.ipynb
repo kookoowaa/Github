{
 "cells": [
  {
   "cell_type": "markdown",
   "metadata": {},
   "source": [
    "# *오차역전파법*\n",
    "\n",
    "## 3. 역전파\n",
    "\n",
    "### 1) 덧셈 노드의 역전파\n",
    "\n",
    "- $z = x+y$로 계산 그래프가 구성되고, 최종적으로 $L$이라는 값을 출력하는 계산 그래프를 가정하면 아래와 같이 표현 가능\n",
    "![](image/fig 5-9.png)\n",
    "\n",
    "<br>\n",
    "- 이 경우 예를 들어 상류에서 1.3이라는 $\\frac{\\delta L}{\\delta z}$이 주어진다면 아래와 같이 표현 가능\n",
    "![](image/fig 5-11.png)\n",
    "\n",
    "<br>\n",
    "- 결과적으로 덧셈 노드의 역전파는 입력 신호를 다음 노드로 전파할 뿐\n",
    "___"
   ]
  },
  {
   "cell_type": "markdown",
   "metadata": {},
   "source": [
    "### 2) 곱셈 노드의 역전파\n",
    "\n",
    "- $z = xy$라는 식을 가정하면 $\\frac{\\delta z}{\\delta x}=y$, $\\frac{\\delta z}{\\delta y}=x$가 되고, 계산그래프로 표현하면 아래와 같음\n",
    "![](image/fig 5-12.png)\n",
    "\n",
    "<br>\n",
    "- 예를 들어 $10 *5$라는 식이 있고, $\\frac{\\delta L}{\\delta z} = 1.3$일때 계산그래프는 아래와 같이 표현 가능\n",
    "![](image/fig 5-13.png)\n",
    "\n",
    "<br>\n",
    "- 덧셈 역전파와는 달리 순방향 입력신호의 값을 상류에서 받은 값 '1.3'에 곱해서 역전파 값을 산출\n",
    "- 따라서 곱셈의 역전파는 순전파의 입력 신호를 필요로 하고 변수에 저장해 둠\n",
    "___"
   ]
  },
  {
   "cell_type": "markdown",
   "metadata": {},
   "source": [
    "### 3) 사과 쇼핑의 예\n",
    "\n",
    "- 앞 챕터의 사과쇼핑 예를 역전파를 사용해서 풀면 아래와 같음\n",
    "![](image/fig 5-14.png)\n",
    "- 해석하자면:\n",
    "    \n",
    "    1) '사과 가격이 한단위(원) 오르면 최종 소비 금액은 2.2단위(원) 영향을 줌'\n",
    "    \n",
    "    2) '소비세가 한단위(100%) 오르면 최종 소비 금액은 200단위(원) 영향을 줌'\n",
    "     \n",
    "    3) '사과 개수가 한단위(개) 오르면 최종 소비 금액은 110단위(원) 영향을 줌'"
   ]
  }
 ],
 "metadata": {
  "kernelspec": {
   "display_name": "Python 3",
   "language": "python",
   "name": "python3"
  },
  "language_info": {
   "codemirror_mode": {
    "name": "ipython",
    "version": 3
   },
   "file_extension": ".py",
   "mimetype": "text/x-python",
   "name": "python",
   "nbconvert_exporter": "python",
   "pygments_lexer": "ipython3",
   "version": "3.6.4"
  }
 },
 "nbformat": 4,
 "nbformat_minor": 2
}
