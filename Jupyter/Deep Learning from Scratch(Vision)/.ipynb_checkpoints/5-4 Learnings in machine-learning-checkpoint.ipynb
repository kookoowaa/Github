{
 "cells": [
  {
   "cell_type": "markdown",
   "metadata": {},
   "source": [
    "# *학습 관련 기술들*\n",
    "\n",
    "## 4. 바른 학습을 위해\n",
    "\n",
    "- 기계학습에서는 오버피팅이 문제가 되는 경우가 많으며, 이를 억제하는 기술이 중요\n",
    "___"
   ]
  },
  {
   "cell_type": "markdown",
   "metadata": {},
   "source": [
    "### 1) 오버피팅\n",
    "- 오버피팅은 주로 다음 두 경우에 발생\n",
    "> - 매개변수가 많고 표현력이 높은 모델\n",
    "> - 훈련 데이터가 적은 경우"
   ]
  },
  {
   "cell_type": "markdown",
   "metadata": {},
   "source": [
    "- 의도적으로 오버피팅을 발생시키기 위해 훈련 데이터를 300/60,000개 사용하고 7층 네트워크를 사용\n",
    "- 각 층 뉴런은 100개, 활성화 함수는 ReLU 사용, 학습 방법은 Adam 시도"
   ]
  },
  {
   "cell_type": "code",
   "execution_count": 11,
   "metadata": {},
   "outputs": [],
   "source": [
    "# coding: utf-8\n",
    "import os\n",
    "import sys\n",
    "\n",
    "sys.path.append(os.pardir)  # 부모 디렉터리의 파일을 가져올 수 있도록 설정\n",
    "import numpy as np\n",
    "import matplotlib.pyplot as plt\n",
    "from data.mnist import load_mnist\n",
    "from data.multi_layer_net import MultiLayerNet\n",
    "from data.optimizer import SGD\n",
    "from data.optimizer import Adam\n",
    "from data.optimizer import AdaGrad"
   ]
  },
  {
   "cell_type": "markdown",
   "metadata": {},
   "source": [
    "- 원하는 데이터만 추출 (1~300번)"
   ]
  },
  {
   "cell_type": "code",
   "execution_count": 15,
   "metadata": {},
   "outputs": [],
   "source": [
    "(x_train, t_train), (x_test, t_test) = load_mnist(normalize=True)\n",
    "\n",
    "# 오버피팅을 재현하기 위해 학습 데이터 수를 줄임\n",
    "x_train = x_train[:300]\n",
    "t_train = t_train[:300]"
   ]
  },
  {
   "cell_type": "markdown",
   "metadata": {},
   "source": [
    "- 아래와 같이 기본 세팅 설정 (network구성, weight decay, 학습방법 설정, batch/epochs 구성 등)"
   ]
  },
  {
   "cell_type": "code",
   "execution_count": 16,
   "metadata": {},
   "outputs": [],
   "source": [
    "# weight decay（가중치 감쇠） 설정 =======================\n",
    "weight_decay_lambda = 0 # weight decay를 사용하지 않을 경우\n",
    "#weight_decay_lambda = 0.1\n",
    "# ====================================================\n",
    "\n",
    "network = MultiLayerNet(input_size=784, hidden_size_list=[100, 100, 100, 100, 100, 100], output_size=10)\n",
    "optimizer = SGD(lr=0.01) # 학습률이 0.01인 SGD로 매개변수 갱신\n",
    "\n",
    "max_epochs = 201\n",
    "train_size = x_train.shape[0]\n",
    "batch_size = 100\n",
    "\n",
    "train_loss_list = []\n",
    "train_acc_list = []\n",
    "test_acc_list = []\n",
    "\n",
    "iter_per_epoch = max(train_size / batch_size, 1)\n",
    "epoch_cnt = 0"
   ]
  },
  {
   "cell_type": "markdown",
   "metadata": {},
   "source": [
    "- max_epochs까지 for문 수행"
   ]
  },
  {
   "cell_type": "code",
   "execution_count": 18,
   "metadata": {},
   "outputs": [
    {
     "name": "stdout",
     "output_type": "stream",
     "text": [
      "epoch:0, train acc:0.09, test acc:0.1057\n",
      "epoch:10, train acc:0.38333333333333336, test acc:0.2858\n",
      "epoch:20, train acc:0.51, test acc:0.3732\n",
      "epoch:30, train acc:0.7566666666666667, test acc:0.5631\n",
      "epoch:40, train acc:0.84, test acc:0.6549\n",
      "epoch:50, train acc:0.8766666666666667, test acc:0.6826\n",
      "epoch:60, train acc:0.9033333333333333, test acc:0.7031\n",
      "epoch:70, train acc:0.9433333333333334, test acc:0.7185\n",
      "epoch:80, train acc:0.9666666666666667, test acc:0.7179\n",
      "epoch:90, train acc:0.9866666666666667, test acc:0.7321\n",
      "epoch:100, train acc:0.9966666666666667, test acc:0.7369\n",
      "epoch:110, train acc:0.9966666666666667, test acc:0.7415\n",
      "epoch:120, train acc:1.0, test acc:0.7432\n",
      "epoch:130, train acc:1.0, test acc:0.7481\n",
      "epoch:140, train acc:1.0, test acc:0.7495\n",
      "epoch:150, train acc:1.0, test acc:0.7499\n",
      "epoch:160, train acc:1.0, test acc:0.7546\n",
      "epoch:170, train acc:1.0, test acc:0.7526\n",
      "epoch:180, train acc:1.0, test acc:0.7514\n",
      "epoch:190, train acc:1.0, test acc:0.753\n",
      "epoch:200, train acc:1.0, test acc:0.7548\n"
     ]
    }
   ],
   "source": [
    "for i in range(1000000000):\n",
    "    batch_mask = np.random.choice(train_size, batch_size)\n",
    "    x_batch = x_train[batch_mask]\n",
    "    t_batch = t_train[batch_mask]\n",
    "\n",
    "    grads = network.gradient(x_batch, t_batch)\n",
    "    optimizer.update(network.params, grads)\n",
    "\n",
    "    if i % iter_per_epoch == 0:\n",
    "        train_acc = network.accuracy(x_train, t_train)\n",
    "        test_acc = network.accuracy(x_test, t_test)\n",
    "        train_acc_list.append(train_acc)\n",
    "        test_acc_list.append(test_acc)\n",
    "\n",
    "        if i % (iter_per_epoch*10) == 0:\n",
    "            print(\"epoch:\" + str(epoch_cnt) + \", train acc:\" + str(train_acc) + \", test acc:\" + str(test_acc))\n",
    "\n",
    "        epoch_cnt += 1\n",
    "        if epoch_cnt >= max_epochs:\n",
    "            break\n"
   ]
  },
  {
   "cell_type": "code",
   "execution_count": 19,
   "metadata": {},
   "outputs": [
    {
     "data": {
      "image/png": "[encoded data removed]",
      "text/plain": [
       "<matplotlib.figure.Figure at 0x14fdda3f5c0>"
      ]
     },
     "metadata": {},
     "output_type": "display_data"
    }
   ],
   "source": [
    "# 그래프 그리기==========\n",
    "markers = {'train': 'o', 'test': 's'}\n",
    "x = np.arange(max_epochs)\n",
    "plt.plot(x, train_acc_list, marker='o', label='train', markevery=10)\n",
    "plt.plot(x, test_acc_list, marker='s', label='test', markevery=10)\n",
    "plt.xlabel(\"epochs\")\n",
    "plt.ylabel(\"accuracy\")\n",
    "plt.ylim(0, 1.0)\n",
    "plt.legend(loc='lower right')\n",
    "plt.show()"
   ]
  },
  {
   "cell_type": "markdown",
   "metadata": {},
   "source": [
    "- 위의 그래프에서 볼 수 있듯이 train 데이터에서의 정확도가 100에폭부터 거의 100%에 근사하는 반면, test데이터에서의 정확도간에 큰 오차 발생\n",
    "- 위같은 사례를 오버피팅이라고 볼 수 있음\n",
    "___"
   ]
  },
  {
   "cell_type": "markdown",
   "metadata": {},
   "source": [
    "### 2) 가중치 감소\n",
    "\n",
    "- 오버피팅 방지를 위해 **weight decay(가중치 감소)**가 가장 빈번하게 사용됨\n",
    "\n",
    "- 오버피팅은 가중치 매개변수의 값이 커서 발생하는 경우가 많기 때문에 큰 가중치에 상응하는 패널티를 부과하여 오버피팅 억제를 시도 (panelty)"
   ]
  },
  {
   "cell_type": "markdown",
   "metadata": {},
   "source": [
    "> ### Recap\n",
    "> - 신경망 학습의 목적은 손실함수 값 최소화\n",
    "- 따라서 가중치의 L2 norm(제곱 norm)을 손실함수에 더하며 가중치가 커지느 것을 억제 가능\n",
    "- L2 norm에 따른 가중치 감소는 $\\frac{1}{2}\\lambda W^2$가 됨\n",
    "- 여기서 $\\lambda$는 하이퍼파라미터로 패널티 규모를 설정, 앞쪽의 $\\frac{1}{2}$는 미분 결과인 $\\lambda W$를 조정하는 역할의 상수\n",
    "- 가중치 감소는 모든 가중치의 손실함수에 $\\frac{1}{2}\\lambda W^2$를 더하며, 기울기 계산 시 정규화 항을 미분한 $\\lambda W$를 더함\n",
    "___\n",
    "- $W = (w_1, w_2, w_3, ... , w_n)$일 때\n",
    "- L2 norm $= \\sqrt{w_1^2 + w_2^2 + w_3^2 + ... + w_n^2}$ 이며,\n",
    "- L1 norm $ = \\lvert w_1^2 \\rvert + \\lvert w_2^2 \\rvert + \\lvert w_3^2 \\rvert + ... +\\lvert w_n^2 \\rvert$ 로 표현 가능"
   ]
  },
  {
   "cell_type": "markdown",
   "metadata": {},
   "source": [
    "- 위 실험에서 weight decay를 적용하여 $\\lambda = 0.1$로 재실험하면 아래와 같은 결과 기대"
   ]
  },
  {
   "cell_type": "code",
   "execution_count": 23,
   "metadata": {},
   "outputs": [],
   "source": [
    "# weight decay（가중치 감쇠） 설정 =======================\n",
    "#weight_decay_lambda = 0 # weight decay를 사용하지 않을 경우\n",
    "weight_decay_lambda = 0.1\n",
    "# ====================================================\n",
    "\n",
    "network = MultiLayerNet(input_size=784, hidden_size_list=[100, 100, 100, 100, 100, 100], output_size=10,\n",
    "                        weight_decay_lambda=weight_decay_lambda)\n",
    "optimizer = SGD(lr=0.01) # 학습률이 0.01인 SGD로 매개변수 갱신\n",
    "\n",
    "max_epochs = 201\n",
    "train_size = x_train.shape[0]\n",
    "batch_size = 100\n",
    "\n",
    "train_loss_list = []\n",
    "train_acc_list = []\n",
    "test_acc_list = []\n",
    "\n",
    "iter_per_epoch = max(train_size / batch_size, 1)\n",
    "epoch_cnt = 0"
   ]
  },
  {
   "cell_type": "code",
   "execution_count": 24,
   "metadata": {},
   "outputs": [
    {
     "name": "stdout",
     "output_type": "stream",
     "text": [
      "epoch:0, train acc:0.15333333333333332, test acc:0.1076\n",
      "epoch:10, train acc:0.34, test acc:0.2143\n",
      "epoch:20, train acc:0.5066666666666667, test acc:0.3568\n",
      "epoch:30, train acc:0.5766666666666667, test acc:0.4238\n",
      "epoch:40, train acc:0.6433333333333333, test acc:0.4916\n",
      "epoch:50, train acc:0.6966666666666667, test acc:0.5448\n",
      "epoch:60, train acc:0.8033333333333333, test acc:0.6111\n",
      "epoch:70, train acc:0.8266666666666667, test acc:0.6421\n",
      "epoch:80, train acc:0.85, test acc:0.6713\n",
      "epoch:90, train acc:0.8566666666666667, test acc:0.6781\n",
      "epoch:100, train acc:0.8733333333333333, test acc:0.6958\n",
      "epoch:110, train acc:0.9033333333333333, test acc:0.7029\n",
      "epoch:120, train acc:0.8933333333333333, test acc:0.7056\n",
      "epoch:130, train acc:0.89, test acc:0.7117\n",
      "epoch:140, train acc:0.9, test acc:0.7223\n",
      "epoch:150, train acc:0.9133333333333333, test acc:0.7298\n",
      "epoch:160, train acc:0.93, test acc:0.7317\n",
      "epoch:170, train acc:0.9266666666666666, test acc:0.7234\n",
      "epoch:180, train acc:0.9233333333333333, test acc:0.7367\n",
      "epoch:190, train acc:0.93, test acc:0.7351\n",
      "epoch:200, train acc:0.9233333333333333, test acc:0.7328\n"
     ]
    }
   ],
   "source": [
    "for i in range(1000000000):\n",
    "    batch_mask = np.random.choice(train_size, batch_size)\n",
    "    x_batch = x_train[batch_mask]\n",
    "    t_batch = t_train[batch_mask]\n",
    "\n",
    "    grads = network.gradient(x_batch, t_batch)\n",
    "    optimizer.update(network.params, grads)\n",
    "\n",
    "    if i % iter_per_epoch == 0:\n",
    "        train_acc = network.accuracy(x_train, t_train)\n",
    "        test_acc = network.accuracy(x_test, t_test)\n",
    "        train_acc_list.append(train_acc)\n",
    "        test_acc_list.append(test_acc)\n",
    "\n",
    "        if i % (iter_per_epoch*10) == 0:\n",
    "            print(\"epoch:\" + str(epoch_cnt) + \", train acc:\" + str(train_acc) + \", test acc:\" + str(test_acc))\n",
    "\n",
    "        epoch_cnt += 1\n",
    "        if epoch_cnt >= max_epochs:\n",
    "            print('finish')\n",
    "            break\n"
   ]
  },
  {
   "cell_type": "code",
   "execution_count": 25,
   "metadata": {},
   "outputs": [
    {
     "data": {
      "image/png": "[encoded data removed]",
      "text/plain": [
       "<matplotlib.figure.Figure at 0x14fdd259390>"
      ]
     },
     "metadata": {},
     "output_type": "display_data"
    }
   ],
   "source": [
    "# 그래프 그리기==========\n",
    "markers = {'train': 'o', 'test': 's'}\n",
    "x = np.arange(max_epochs)\n",
    "plt.plot(x, train_acc_list, marker='o', label='train', markevery=10)\n",
    "plt.plot(x, test_acc_list, marker='s', label='test', markevery=10)\n",
    "plt.xlabel(\"epochs\")\n",
    "plt.ylabel(\"accuracy\")\n",
    "plt.ylim(0, 1.0)\n",
    "plt.legend(loc='lower right')\n",
    "plt.show()"
   ]
  },
  {
   "cell_type": "markdown",
   "metadata": {},
   "source": [
    "- 주목할 점은 2가지 정도임\n",
    "> 1) training과 test set 결과 간의 오차율이 줄어듬\n",
    ">\n",
    "> 2) 전체적인 정확도가 100%에 도달하지 못함\n",
    "\n",
    "___"
   ]
  },
  {
   "cell_type": "code",
   "execution_count": null,
   "metadata": {},
   "outputs": [],
   "source": []
  }
 ],
 "metadata": {
  "kernelspec": {
   "display_name": "Python 3",
   "language": "python",
   "name": "python3"
  },
  "language_info": {
   "codemirror_mode": {
    "name": "ipython",
    "version": 3
   },
   "file_extension": ".py",
   "mimetype": "text/x-python",
   "name": "python",
   "nbconvert_exporter": "python",
   "pygments_lexer": "ipython3",
   "version": "3.6.4"
  }
 },
 "nbformat": 4,
 "nbformat_minor": 2
}
