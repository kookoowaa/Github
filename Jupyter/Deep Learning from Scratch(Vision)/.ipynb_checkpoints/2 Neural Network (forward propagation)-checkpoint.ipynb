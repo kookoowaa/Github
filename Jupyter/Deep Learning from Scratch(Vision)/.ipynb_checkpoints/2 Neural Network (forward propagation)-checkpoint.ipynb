{
 "cells": [
  {
   "cell_type": "markdown",
   "metadata": {},
   "source": [
    "> - ### 신경망에서는 활성화 함수로 계단함수 대신 매끄럽게 변화하는 시그모이드 함수나 ReLU 함수를 사용\n",
    "- ### NumPy의 다차원 배열을 잘 사용하면 신경망을 효율적으로 구현할 수 있음\n",
    "- ### 기계학습 문제는 크게 회귀와 분류로 구분 가능\n",
    "- ### 출력층의 활성화 함수로는 항등함수와(회귀), 소프트맥스함수가(분류) 있음\n",
    "- ### 분류에서는 출력층의 뉴런 수를 분류하려는 클래스 수와 같게 설정\n",
    "- ### 입력 데이터를 묶은 것을 배치라 하며, 컴퓨터 자원 활용을 효율적으로 사용 가능"
   ]
  }
 ],
 "metadata": {
  "kernelspec": {
   "display_name": "Python 3",
   "language": "python",
   "name": "python3"
  },
  "language_info": {
   "codemirror_mode": {
    "name": "ipython",
    "version": 3
   },
   "file_extension": ".py",
   "mimetype": "text/x-python",
   "name": "python",
   "nbconvert_exporter": "python",
   "pygments_lexer": "ipython3",
   "version": "3.6.4"
  }
 },
 "nbformat": 4,
 "nbformat_minor": 2
}
