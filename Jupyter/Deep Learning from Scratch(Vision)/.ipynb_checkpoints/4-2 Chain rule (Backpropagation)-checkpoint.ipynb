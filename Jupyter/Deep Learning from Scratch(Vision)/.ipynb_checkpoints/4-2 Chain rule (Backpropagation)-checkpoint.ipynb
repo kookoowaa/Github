{
 "cells": [
  {
   "cell_type": "markdown",
   "metadata": {},
   "source": [
    "# *오차역전파법*\n",
    "\n",
    "## 2. 연쇄법칙\n",
    "\n",
    "- 역전파는 '국소미분'을 순방향과는 반대인 우측에서 좌측으로 전달\n",
    "- 이 원리는 연쇄법칙(Chain Rule)에 따른 것\n",
    "\n",
    "___"
   ]
  },
  {
   "cell_type": "markdown",
   "metadata": {},
   "source": [
    "### 1) 계산 그래프의 역전파\n",
    "\n",
    "- $y = f(x)$라는 계산의 역전파를 예를 들면 다음과 같이 표현 가능\n",
    "![](image/fig 5-6.png)\n",
    "\n",
    "- 역전파의 계산 절차는 신호 $E$에 노드의 국소미분 $(\\frac{\\delta y}{\\delta x}$를 곱해 노드로 전달하는 것\n",
    "> **이전 챕터의 예시를 적용하면,**\n",
    "> ![](image/fig 5-5.png)\n",
    "> - $E = 1$, 소비세에 대한 $f(x) = 1.1x$의 $(\\frac{\\delta y}{\\delta x}=1.1$이므로 $1*1.1=1.1$ 전파\n",
    "> - $E = 1.1$, 사과 개수에 대한 $f(x) = 2x$의 $(\\frac{\\delta y}{\\delta x}=2$이므로 $1.1*2=2.2$ 전파와 같다고 볼 수 있음\n",
    "\n",
    "- 계산 그래프의 역전파 방식은 미분 값을 효율적으로 구할 수 있는 것이 핵심이고, 이 이유는 연쇄법칙의 원리로 설명 가능\n",
    "___"
   ]
  },
  {
   "cell_type": "markdown",
   "metadata": {},
   "source": [
    "### 2) 연쇄법칙이란?\n",
    "- 연쇄법칙 설명에 앞서 **합성 함수**에 대해 설명 필요\n",
    "\n",
    "- 예를 들어 $z = (x+y)^2$라는 식은 아래 두개의 식으로 재구성 가능\n",
    "$$ z = t^2$$\n",
    "$$ t = x + y$$\n",
    "\n",
    "<br>\n",
    "- 바꿔 이야기 하면 '연쇄법칙'은 **'합성함수의 미분에 대한 성질'** 이며,\n",
    "- '합성함수의 미분'은 **'합성합수를 구성하는 각 함수의 미분의 곱'**으로 표현 가능"
   ]
  },
  {
   "cell_type": "markdown",
   "metadata": {},
   "source": [
    "- 위 식을 예로 $\\frac{\\delta z}{\\delta x}$ ($x$에 대한 $z$의 미분)을 표현하자면 $\\frac{\\delta z}{\\delta t}$ ($t$에 대한 $z$의 미분)과 $\\frac{\\delta t}{\\delta x}$ ($x$에 대한 $t$의 미분)의 곱으로 표현 가능\n",
    "- 아래 전개는 해석적미분 계산 결과임\n",
    "\n",
    "$$\n",
    "\\frac{\\delta z}{\\delta x}  = \\frac{\\delta z}{\\delta t} \\frac{\\delta t}{\\delta x} = \\frac{\\delta z}{\\delta x}\\\\\n",
    "\\\\\n",
    "\\frac{\\delta z}{\\delta t} = 2t \\\\\n",
    "\\\\\n",
    "\\frac{\\delta t}{\\delta x} = 1\\\\\n",
    "\\\\\n",
    "\\frac{\\delta z}{\\delta x} = 2t = 2(x+y)\n",
    "$$\n",
    "\n",
    "___"
   ]
  },
  {
   "cell_type": "markdown",
   "metadata": {},
   "source": [
    "### 3) 연쇄법칙과 계산 그래프\n",
    "\n",
    "- 위 연쇄법칙을 계산그래프로 표현하면 아래와 같이 표현 가능\n",
    "![](image/fig 5-7.png)\n",
    "![](image/fig 5-8.png)"
   ]
  }
 ],
 "metadata": {
  "kernelspec": {
   "display_name": "Python 3",
   "language": "python",
   "name": "python3"
  },
  "language_info": {
   "codemirror_mode": {
    "name": "ipython",
    "version": 3
   },
   "file_extension": ".py",
   "mimetype": "text/x-python",
   "name": "python",
   "nbconvert_exporter": "python",
   "pygments_lexer": "ipython3",
   "version": "3.6.4"
  }
 },
 "nbformat": 4,
 "nbformat_minor": 2
}
