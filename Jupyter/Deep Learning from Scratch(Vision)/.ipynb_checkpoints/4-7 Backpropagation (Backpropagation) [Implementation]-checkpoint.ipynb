{
 "cells": [
  {
   "cell_type": "markdown",
   "metadata": {},
   "source": [
    "# *오차역전파법*\n",
    "\n",
    "## 7. 오차역전파법 구현하기"
   ]
  },
  {
   "cell_type": "markdown",
   "metadata": {},
   "source": [
    "### 1) 신경망 학습의 전체 그림\n",
    "\n",
    ">##### 전제\n",
    "> - 신경망의 가중치와 편향을 훈련데이터에 적응하도록 조정하는 과정을 '학습'이라고 함\n",
    "\n",
    ">##### 1단계 - 미니배치\n",
    "> - 훈련 데이터 중 일부를 무작위로 추출\n",
    "> - 해당 데이터를 미니배치라 하며, 미니배치의 손실함수값을 최소화 하는 것이 목표임\n",
    "\n",
    ">##### 2단계 - 기울기 산출\n",
    "> - 각 가중치 매개변수의 기울기를 산출\n",
    "> - 기울기는 손실함수의 값을 최소화 할 수 있는 방향을 제시\n",
    "\n",
    ">##### 3단계 - 매개변수 갱신\n",
    "> - 가중치 매개변수를 기울기 방향으로 아주 조금(learning rate 만큼) 갱신\n",
    "\n",
    ">##### 4단계 - 반복\n",
    "> - 1~3단계를 반복\n",
    "\n",
    "___"
   ]
  },
  {
   "cell_type": "markdown",
   "metadata": {},
   "source": [
    "#### 2) 오차역전파법을 적용한 신경망 구현하기\n",
    "\n",
    "- TwoLayerNet 클래스로 2층 신경망 구현\n",
    "- 이하 TwoLayerNet클래스의 인스턴스 변수\n",
    "\n",
    "인스턴스 변수 | 설명\n",
    "---|:---\n",
    "params | 딕셔너리 변수로 신경망의 매개변수를 보관\n",
    "| params['W1']은 1번째 층의 가중치, params['b1']은 1번째 층의 편향\n",
    "| params['W2']은 2번째 층의 가중치, params['b2']은 2번째 층의 편향\n",
    "layers | 순서가 있는 딕셔너리 변수로, 신경망의 계층을 보관\n",
    "|layers['Affine1'], layers['Relu1'], layers['Affine2']와 같이 각 계층을 순서대로 유지\n",
    "lastLayer | 신경망의 마지막 계층\n",
    "|이 예에서는 SoftmaxWithLoss 계층\n",
    "\n",
    "- 이하 TwoLayerNet 클래스의 메서드\n",
    "\n",
    "메서드|설명\n",
    "---|---\n",
    "\\__init__(self, input_size, hidden_size, output_size, weight_init_std) | 초기화를 수행\n",
    "| 인수는 앞에서부터 입력층 뉴런수, 은닉층 뉴런수, 출력층 뉴런수, 가중치, 초기화 시 정규분포의 스케일\n",
    "predict(self, x)| 예측(추론) 수행\n",
    "|인수 X는 이미지 데이터\n",
    "loss(self, x, t)| 손실함수의 값 계산\n",
    "|인수 x는 이미지 데이터, t는 정답 레이블\n",
    "accuracy(self, x, t)| 정확도 계산\n",
    "numerical_gradient(self, x, t)| 가중치 매개변수의 기울기를 수치 미분 방식으로 계산\n",
    "gradient(self, x, t)| 가중치 매개변수의 기울기를 오차역전파법으로 계산\n",
    "\n",
    "<br>\n",
    "- \"3-5 학습 알고리즘 구현하기\"와 상당부분 공통적으로 사용\n",
    "- 다만 계층을 사용하여 인식 결과를 얻는 predict()와 기울기를 구하는 gradient() 처리 계층의 전파만으로 동작이 이루어짐\n",
    "- 이하 코드 구현 참조;"
   ]
  },
  {
   "cell_type": "code",
   "execution_count": 4,
   "metadata": {},
   "outputs": [],
   "source": [
    "import sys, os\n",
    "sys.path.append(os.pardir)\n",
    "import numpy as np\n",
    "from data.layers import *\n",
    "from data.gradient import numerical_gradient\n",
    "from collections import OrderedDict"
   ]
  },
  {
   "cell_type": "code",
   "execution_count": 6,
   "metadata": {},
   "outputs": [],
   "source": [
    "class TwoLayerNet:\n",
    "    def __init(self, input_size, hidden_size, output_size, weight_init_std = 0.01):\n",
    "        #가중치 초기화\n",
    "        self.params = {}\n",
    "        self.params['W1'] = weight_init_std * np.random.randn(input_size, hidden_size)\n",
    "        self.params['b1'] = np.zeros(hidden_size)\n",
    "        self.params['W2'] = weight_init_std * np.random.randn(input_size, output_size)\n",
    "        self.params['b1'] = np.zeros(hidden_size)\n",
    "        \n",
    "        #계층 생성\n",
    "        self.layers = OrderedDict()\n",
    "        self.layers['Affine1'] = Affine(self.params['W1'], self.params['b1'])\n",
    "        self.layers['Relu1'] = Relu()\n",
    "        self.layers['Affine2'] = Affine(self.params['W2'], self.params['b2'])\n",
    "        \n",
    "        self.lastLayer = SoftmaxWithLoss()\n",
    "        \n",
    "        \n",
    "    def predict(self, x):\n",
    "        for layer in self.layers.values():\n",
    "            x = layer.forward(x)\n",
    "        \n",
    "        return x\n",
    "    \n",
    "    \n",
    "    #x: 입력데이터, t: 정답레이블\n",
    "    def loss(self, x, t):\n",
    "        y = self.predict(x)\n",
    "        return self.lastLayer.forward(y, t)\n",
    "    \n",
    "    \n",
    "    def accuracy(self, x, t):\n",
    "        y = self.predict(x)\n",
    "        y = np.argmax(y, axis = 1)\n",
    "        if t.ndim != 1: t = np.argmax(t, axis = 1)\n",
    "        \n",
    "        accuracy = np.sum(y ==t) / float(x.shape[0])\n",
    "        \n",
    "        return accuracy\n",
    "    \n",
    "    \n",
    "    #x: 입력데이터, t: 정답레이블\n",
    "    def numerical_gradient(slef, x, t):\n",
    "        loss_W = lambda W: self.loss(x, t)\n",
    "        \n",
    "        grads = {}\n",
    "        grads['W1'] = numerical_gradient(loss_W, self.params['W1'])\n",
    "        grads['b1'] = numerical_gradient(loss_W, self.params['b1'])\n",
    "        grads['W2'] = numerical_gradient(loss_W, self.params['W2'])\n",
    "        grads['b2'] = numerical_gradient(loss_W, self.params['b2'])\n",
    "        \n",
    "        return grads\n",
    "    \n",
    "    \n",
    "    def gradient(self, x, t):\n",
    "        #순전파\n",
    "        self.loss(x, t)\n",
    "        \n",
    "        #역전파\n",
    "        dout = 1\n",
    "        dout = self.lastLayer.backward(dout)\n",
    "        \n",
    "        layers = list(self.layers.values())\n",
    "        layers.reverse()\n",
    "        for layer in layers:\n",
    "            dout = layers.backward(dout)\n",
    "        \n",
    "        #결과 저장\n",
    "        grads = {}\n",
    "        grads['W1'] = self.layers['Affine1'].dW\n",
    "        grads['b1'] = self.layers['Affine1'].db\n",
    "        grads['W2'] = self.layers['Affine1'].dW\n",
    "        grads['b2'] = self.layers['Affine1'].db\n",
    "        \n",
    "        return grads"
   ]
  },
  {
   "cell_type": "markdown",
   "metadata": {},
   "source": [
    "___\n",
    "#### 3) 오차역전파법으로 구한 기울기 검증하기\n",
    "\n",
    "- 기울기를 구하는 방법은 수치미분으로 구하는 법과, 해석적으로 수식을 풀어 구하는 오차역전파 방법이 있음\n",
    "- 오차역전파 방법은 매개변수가 많아도 효율적으로 계산 가능\n",
    "- 수치미분은 느리지만 구현하기 쉽고, 오류가 발생할 확률이 낮음\n",
    "- 따라서 오차역전파 방법이 효율적이기는 하지만, 수치미분 방식으로 기울기를 검증하며, 이를 graient check(기울기 확인) 이라고 함\n",
    "- 이하 예제 코드;"
   ]
  },
  {
   "cell_type": "code",
   "execution_count": 8,
   "metadata": {},
   "outputs": [],
   "source": [
    "import sys, os\n",
    "sys.path.append(os.pardir)\n",
    "import numpy as np\n",
    "from data.mnist import load_mnist\n",
    "from data.two_layer_net import TwoLayerNet"
   ]
  },
  {
   "cell_type": "code",
   "execution_count": 9,
   "metadata": {},
   "outputs": [
    {
     "name": "stdout",
     "output_type": "stream",
     "text": [
      "W1:2.0262688809995014e-10\n",
      "b1:9.7694318079006e-10\n",
      "W2:6.891865648499252e-08\n",
      "b2:1.3896521671163954e-07\n"
     ]
    }
   ],
   "source": [
    "#데이터 읽기\n",
    "(x_train, t_train),(x_test,t_test) = load_mnist(normalize = True, one_hot_label=True)\n",
    "\n",
    "network = TwoLayerNet(input_size=784, hidden_size=50, output_size=10)\n",
    "\n",
    "x_batch = x_train[:3]\n",
    "t_batch = t_train[:3]\n",
    "\n",
    "grad_numerical = network.numerical_gradient(x_batch, t_batch)\n",
    "grad_backprop = network.gradient(x_batch, t_batch)\n",
    "\n",
    "#각 가중치의 차이의 절댓값을 구한 후, 그 절댓값들의 평균을 계산\n",
    "for key in grad_numerical.keys():\n",
    "    diff = np.average(np.abs(grad_backprop[key] - grad_numerical[key]))\n",
    "    print(key + ':' + str(diff))"
   ]
  },
  {
   "cell_type": "markdown",
   "metadata": {},
   "source": [
    "- 위의 결과는 수치미분과 오차역전파법으로 구한 기울기의 차이가 매우 작다고 증명 가능\n",
    "___"
   ]
  },
  {
   "cell_type": "markdown",
   "metadata": {},
   "source": [
    "### 4) 오차역전파법을 사용한 학습 구현하기\n",
    "\n",
    "- 마지막으로 오차역전파법을 사용한 신경망 학습을 구현"
   ]
  },
  {
   "cell_type": "code",
   "execution_count": 10,
   "metadata": {},
   "outputs": [],
   "source": [
    "import sys, os\n",
    "sys.path.append(os.pardir)\n",
    "import numpy as np\n",
    "from data.mnist import load_mnist\n",
    "from data.two_layer_net import TwoLayerNet"
   ]
  },
  {
   "cell_type": "code",
   "execution_count": 11,
   "metadata": {},
   "outputs": [],
   "source": [
    "#데이터 읽기\n",
    "(x_train, t_train), (x_test, t_test) = load_mnist(normalize=True, one_hot_label=True)\n",
    "network = TwoLayerNet(input_size=784, hidden_size=50, output_size=10)"
   ]
  },
  {
   "cell_type": "code",
   "execution_count": 17,
   "metadata": {},
   "outputs": [],
   "source": [
    "iters_num = 6000\n",
    "train_size = x_train.shape[0] #60,000\n",
    "batch_size = 100\n",
    "learning_rate = 0.1\n",
    "\n",
    "train_loss_list = []\n",
    "train_acc_list = []\n",
    "test_acc_list = []\n",
    "\n",
    "iter_per_epoch = max(train_size / batch_size, 1)  #600"
   ]
  },
  {
   "cell_type": "code",
   "execution_count": 19,
   "metadata": {
    "scrolled": true
   },
   "outputs": [
    {
     "name": "stdout",
     "output_type": "stream",
     "text": [
      "0.11236666666666667 0.11236666666666667\n",
      "0.7688833333333334 0.7688833333333334\n",
      "0.8752666666666666 0.8752666666666666\n",
      "0.8991333333333333 0.8991333333333333\n",
      "0.9081833333333333 0.9081833333333333\n",
      "0.9159166666666667 0.9159166666666667\n",
      "0.9204333333333333 0.9204333333333333\n",
      "0.9248333333333333 0.9248333333333333\n",
      "0.9281833333333334 0.9281833333333334\n",
      "0.9315 0.9315\n"
     ]
    }
   ],
   "source": [
    "for i in range(iters_num):\n",
    "    batch_mask = np.random.choice(train_size, batch_size)\n",
    "    x_batch = x_train[batch_mask]\n",
    "    t_batch = t_train[batch_mask]\n",
    "    \n",
    "    #오차역전법으로 기울기 계산\n",
    "    grad = network.gradient(x_batch, t_batch)\n",
    "    \n",
    "    #갱신\n",
    "    for key in ('W1', 'b1', 'W2', 'b2'):\n",
    "        network.params[key] -=learning_rate * grad[key]\n",
    "    \n",
    "    loss = network.loss(x_batch, t_batch)\n",
    "    train_loss_list.append(loss)\n",
    "    \n",
    "    if i% iter_per_epoch == 0:\n",
    "        train_acc = network.accuracy(x_train, t_train)\n",
    "        test_acc = network.accuracy(x_train, t_train)\n",
    "        train_acc_list.append(train_acc)\n",
    "        test_acc_list.append(test_acc)\n",
    "        print(train_acc, test_acc)"
   ]
  },
  {
   "cell_type": "markdown",
   "metadata": {},
   "source": [
    "- epoch이 증가함에 따라 정확도도 가파르게 증가하는 모습을 확인 가능"
   ]
  }
 ],
 "metadata": {
  "kernelspec": {
   "display_name": "Python 3",
   "language": "python",
   "name": "python3"
  },
  "language_info": {
   "codemirror_mode": {
    "name": "ipython",
    "version": 3
   },
   "file_extension": ".py",
   "mimetype": "text/x-python",
   "name": "python",
   "nbconvert_exporter": "python",
   "pygments_lexer": "ipython3",
   "version": "3.6.4"
  }
 },
 "nbformat": 4,
 "nbformat_minor": 2
}
