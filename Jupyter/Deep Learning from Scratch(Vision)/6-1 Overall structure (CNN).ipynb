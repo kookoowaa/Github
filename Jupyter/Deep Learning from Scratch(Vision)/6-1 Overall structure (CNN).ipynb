{
 "cells": [
  {
   "cell_type": "markdown",
   "metadata": {},
   "source": [
    "# *합성곱 신경망*\n",
    " ## 1. 전체 구조\n",
    " - 기존의 신경망과 유사한 구조에 2개 계층이 추가\n",
    " - **Convolutional layer(합성곱 계층)**와  **pooling layer(풀링 계층)**이 새롭게 등장\n"
   ]
  },
  {
   "cell_type": "markdown",
   "metadata": {},
   "source": [
    "- 기존의 신경망은 인접하는 계층의 모든 뉴런과 결합되어 있는 **fully-connected(완전연결)** 상태였음\n",
    "- 이를 Affine 계층을 통해 구현해 왔고, 5개 층의 신경망은 아래와 같이 구현 가능\n",
    "![](image/fig 7-1.png)\n",
    "- 정리하자면 Affine 계층의 출력값을 ReLU 또는 Sigmoid 계층을 통해 출력해 왔고, 출력층에서는 \"Affine - Softmax\" 조합으로 최종 결과값을 산출해옴\n"
   ]
  },
  {
   "cell_type": "markdown",
   "metadata": {},
   "source": [
    "- CNN의 구조는 아래처럼 기존 신경망과 차이가 있음\n",
    "![](image/fig 7-2.png)\n",
    "- CNN에서는 2종류의 계층이 추가되며 **\"Conv - ReLU - (Pooling)\"** 흐름으로 연결함\n",
    "- 다만, 출력층 가까이에서는 기존의 \"Affine - ReLU\" 조합과 \"Affine - Softmax\" 조합을 그대로 사용"
   ]
  }
 ],
 "metadata": {
  "kernelspec": {
   "display_name": "Python 3",
   "language": "python",
   "name": "python3"
  },
  "language_info": {
   "codemirror_mode": {
    "name": "ipython",
    "version": 3
   },
   "file_extension": ".py",
   "mimetype": "text/x-python",
   "name": "python",
   "nbconvert_exporter": "python",
   "pygments_lexer": "ipython3",
   "version": "3.6.4"
  }
 },
 "nbformat": 4,
 "nbformat_minor": 2
}
