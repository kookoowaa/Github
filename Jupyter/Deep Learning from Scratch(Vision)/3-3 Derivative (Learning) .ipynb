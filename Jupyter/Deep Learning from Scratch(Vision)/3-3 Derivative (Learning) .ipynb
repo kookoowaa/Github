{
 "cells": [
  {
   "cell_type": "markdown",
   "metadata": {},
   "source": [
    "# *신경망 학습*\n",
    "\n",
    "## 3. 수치 미분\n",
    "> - 손실함수로 최적의 매개변수를 찾는 경우, 기울기(미분값)를 기준으로 나아갈 방향을 설정\n",
    "\n",
    "___"
   ]
  },
  {
   "cell_type": "markdown",
   "metadata": {},
   "source": [
    "### 1) 미분\n",
    "- 미분이란 어느 한 순간의 변화량을 계산하는 것으로 수식으로 표현할 시 아래와 같음\n",
    "$$\n",
    "\\frac{df(x)}{dx} = lim_{h\\to0}\\frac{f(x+h) - f(x)}{h}\n",
    "$$\n",
    "\n",
    "- $x$의 작은 변화량 $h$가 함수 $f(x)$를 얼마나 변화시키는 지 계산\n",
    "- 위 식의 간단한 예시는 아래 함수와 같음"
   ]
  },
  {
   "cell_type": "code",
   "execution_count": 1,
   "metadata": {},
   "outputs": [],
   "source": [
    "def numerical_diff(f, x):\n",
    "    h = 1e-50\n",
    "    return (f(x+h)-f(x)) / h"
   ]
  },
  {
   "cell_type": "markdown",
   "metadata": {},
   "source": [
    "- 다만 위같은 함수에서 발생할 수 있는 오류가 2가지 있음\n",
    "\n",
    "    1. 파이썬에서 지나치게 작은 값은 반올림 오차로 계산 결과의 오차를 유발"
   ]
  },
  {
   "cell_type": "code",
   "execution_count": 3,
   "metadata": {},
   "outputs": [
    {
     "data": {
      "text/plain": [
       "0.0"
      ]
     },
     "execution_count": 3,
     "metadata": {},
     "output_type": "execute_result"
    }
   ],
   "source": [
    "np.float32(1e-50)"
   ]
  },
  {
   "cell_type": "markdown",
   "metadata": {},
   "source": [
    "    2. 위 함수의 계산은 $x+h$와 $x$ 사이의 변화에 관한 계산이며, 접선에서의 기울기를 구하는 진정한 미분은 아님\n",
    "      - x를 중심으로 전후의 차분을 계산한다는 의미에서 중심차분, 혹은 중앙차분이나 전방차분이라고 명명\n",
    "![](image/fig 4-5.png)\n",
    "\n",
    "- 개선점을 반영하면 다음과 같이 함수를 재구현 가능"
   ]
  },
  {
   "cell_type": "code",
   "execution_count": 5,
   "metadata": {},
   "outputs": [],
   "source": [
    "def numerical_diff(f, x):\n",
    "    h = 1e-4\n",
    "    return (f(x+h) - f(x-h)) / (2*h)"
   ]
  },
  {
   "cell_type": "markdown",
   "metadata": {},
   "source": [
    "- 위와 같이 아주 작은 차분으로 미분하는 것을 **수치 미분**이라고 함\n",
    "- 일반적으로 수식을 전개개 미분하는 것을 **해석적 미분** 이라고 함 ($\\frac{dy}{dx}$)\n",
    "___"
   ]
  },
  {
   "cell_type": "markdown",
   "metadata": {},
   "source": [
    "### 2) 수치 미분의 예\n",
    "- 앞 절의 수치미분을 사용한 간단한 함수 미분"
   ]
  },
  {
   "cell_type": "code",
   "execution_count": 8,
   "metadata": {},
   "outputs": [],
   "source": [
    "def function_1(x):\n",
    "    return 0.01*x**2 + 0.1*x"
   ]
  },
  {
   "cell_type": "code",
   "execution_count": 9,
   "metadata": {},
   "outputs": [],
   "source": [
    "import numpy as np\n",
    "import matplotlib.pylab as plt"
   ]
  },
  {
   "cell_type": "code",
   "execution_count": 11,
   "metadata": {},
   "outputs": [
    {
     "data": {
      "image/png": "[encoded data removed]",
      "text/plain": [
       "<matplotlib.figure.Figure at 0x1ed382af2e8>"
      ]
     },
     "metadata": {},
     "output_type": "display_data"
    }
   ],
   "source": [
    "x = np.arange(0, 20, 0.1)\n",
    "y = function_1(x)\n",
    "plt.xlabel('x')\n",
    "plt.ylabel('f(x)')\n",
    "plt.plot(x, y)\n",
    "plt.show()"
   ]
  },
  {
   "cell_type": "code",
   "execution_count": 12,
   "metadata": {},
   "outputs": [
    {
     "data": {
      "text/plain": [
       "0.1999999999990898"
      ]
     },
     "execution_count": 12,
     "metadata": {},
     "output_type": "execute_result"
    }
   ],
   "source": [
    "numerical_diff(function_1, 5)"
   ]
  },
  {
   "cell_type": "code",
   "execution_count": 13,
   "metadata": {},
   "outputs": [
    {
     "data": {
      "text/plain": [
       "0.2999999999986347"
      ]
     },
     "execution_count": 13,
     "metadata": {},
     "output_type": "execute_result"
    }
   ],
   "source": [
    "numerical_diff(function_1, 10)"
   ]
  },
  {
   "cell_type": "markdown",
   "metadata": {},
   "source": [
    "- 위의 계산값 은 $x$가 5와 10일 때의 **수치 미분 해**임\n",
    "- function_1($f(x) = 0.01x^2 + 0.1x$)의 **해석적 해**는 $\\frac{df(x)}{dx} = 0.02x + 0.1$임\n",
    "- 따라서 $x$가 5와 10일 때의 **해석적 해**는 0.2와 0.3으로 거의 같은 값이라고 해도 될 만큼의 작은 오차를 보임\n",
    "- 각각의 수치 미분 값을 기울기로 하는 직선을 그리면 아래와 같음"
   ]
  },
  {
   "cell_type": "code",
   "execution_count": 15,
   "metadata": {},
   "outputs": [
    {
     "name": "stdout",
     "output_type": "stream",
     "text": [
      "0.1999999999990898\n",
      "0.2999999999986347\n"
     ]
    },
    {
     "data": {
      "image/png": "[encoded data removed]",
      "text/plain": [
       "<matplotlib.figure.Figure at 0x1ed38756128>"
      ]
     },
     "metadata": {},
     "output_type": "display_data"
    }
   ],
   "source": [
    "def tangent_line(f, x):\n",
    "    d = numerical_diff(f, x)\n",
    "    print(d)\n",
    "    y = f(x) - d*x\n",
    "    return lambda t: d*t + y\n",
    "     \n",
    "x = np.arange(0.0, 20.0, 0.1)\n",
    "y = function_1(x)\n",
    "plt.xlabel(\"x\")\n",
    "plt.ylabel(\"f(x)\")\n",
    "\n",
    "tf = tangent_line(function_1, 5)\n",
    "y2 = tf(x)\n",
    "\n",
    "tf = tangent_line(function_1, 10)\n",
    "y3 = tf(x)\n",
    "\n",
    "plt.plot(x, y)\n",
    "plt.plot(x, y2)\n",
    "plt.plot(x, y3)\n",
    "plt.show()"
   ]
  },
  {
   "cell_type": "markdown",
   "metadata": {},
   "source": [
    "___\n",
    "### 3) 편미분\n",
    "\n",
    "- 변수가 2개인 경우 다른 방식으로 구현\n",
    "$$f(x_0,\\ x_1) = x_0^2 + x_1^2$$"
   ]
  },
  {
   "cell_type": "code",
   "execution_count": 20,
   "metadata": {},
   "outputs": [],
   "source": [
    "def function_2(x):\n",
    "    return x[0]**2 + x[1]**2\n",
    "    # return np.sum(x**2)"
   ]
  },
  {
   "cell_type": "markdown",
   "metadata": {},
   "source": [
    "- 위 함수를 그래프로 그리면 아래와 같이 표현 가능\n",
    "![](image/fig 4-8.png)"
   ]
  },
  {
   "cell_type": "markdown",
   "metadata": {},
   "source": [
    "- 주의할 점은 **'어느 변수에 대한 미분'**인지 구별 해야 함\n",
    "- 변수가 여럿인 함수에 대한 미분을 **편미분** 이라고 함\n",
    "$$\\frac{\\delta f}{\\delta x_0}\\ 또는 \\ \\frac{\\delta f}{\\delta x_1}$$\n",
    "- 이 경우 하나의 값을 고정하여 변수가 하나인 함수로 정의하고, 해당 함수를 미분"
   ]
  },
  {
   "cell_type": "markdown",
   "metadata": {},
   "source": [
    "- $x_0 = 3, x_1 = 4$일 때, $x_0$에 대한 편미분 $\\frac{\\delta f}{\\delta x_0}$"
   ]
  },
  {
   "cell_type": "code",
   "execution_count": 22,
   "metadata": {},
   "outputs": [
    {
     "data": {
      "text/plain": [
       "6.00000000000378"
      ]
     },
     "execution_count": 22,
     "metadata": {},
     "output_type": "execute_result"
    }
   ],
   "source": [
    "def function_tmp1(x0):\n",
    "    return x0**2 + 4 ** 2\n",
    "\n",
    "numerical_diff(function_tmp1, 3)"
   ]
  },
  {
   "cell_type": "code",
   "execution_count": 24,
   "metadata": {},
   "outputs": [
    {
     "data": {
      "text/plain": [
       "7.999999999999119"
      ]
     },
     "execution_count": 24,
     "metadata": {},
     "output_type": "execute_result"
    }
   ],
   "source": [
    "def function_tmp2(x1):\n",
    "    return 3**2 + x1**2\n",
    "\n",
    "numerical_diff(function_tmp2, 4)"
   ]
  },
  {
   "cell_type": "markdown",
   "metadata": {},
   "source": [
    "- 위 수치 편미분 값은 해석적 해인 6, 8과 거의 차이가 없음"
   ]
  }
 ],
 "metadata": {
  "kernelspec": {
   "display_name": "Python 3",
   "language": "python",
   "name": "python3"
  },
  "language_info": {
   "codemirror_mode": {
    "name": "ipython",
    "version": 3
   },
   "file_extension": ".py",
   "mimetype": "text/x-python",
   "name": "python",
   "nbconvert_exporter": "python",
   "pygments_lexer": "ipython3",
   "version": "3.6.4"
  }
 },
 "nbformat": 4,
 "nbformat_minor": 2
}
