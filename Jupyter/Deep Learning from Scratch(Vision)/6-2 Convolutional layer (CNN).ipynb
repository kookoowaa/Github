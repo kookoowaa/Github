{
 "cells": [
  {
   "cell_type": "markdown",
   "metadata": {},
   "source": [
    "# *합성곱 신경망*\n",
    " ## 2. 합성곱 계층"
   ]
  },
  {
   "cell_type": "markdown",
   "metadata": {},
   "source": [
    "### 1) 완전연결 계층의 문제점\n",
    "\n",
    "- 완전연결 계층의 문제점은 **'데이터의 형상이 무시'** 된다는 점임\n",
    "- 입력데이터가 이미지인 경우 통상 세로/가로/색상으로 구성된 3차원 데이터를 1차원으로 평탄화 해 주어야만 함\n",
    "- 실제로 MNIST에서 (1, 28, 28) 3차원 데이터를 평탄화 한 784개 데이터를 첫 Affine 계층에 입력함\n",
    "- 이미지는 3차원 형상 정보이며 이 형상에는 소중한 공간적 정보가 담겨 있음 (공간적으로 가까운 픽셀은 유사하거나, RGB는 밀접하게 연관되어 있거나)\n",
    "- 하지만 완결연결 계층은 모든 데이터를 한 차원의 동등한 뉴런으로 취급하여 형상 정보를 살릴 수 없음"
   ]
  },
  {
   "cell_type": "markdown",
   "metadata": {},
   "source": [
    "- 반면 **Conv는 형상을 유지**\n",
    "- 이미지도 3차원 데이터로 입력 받고, 다음 계층에도 3차원 데이터로 전달\n",
    "- CNN의 합성곱 계층의 입출력 데이터를 **feature map(특징 맵)** 이라고 함"
   ]
  },
  {
   "cell_type": "markdown",
   "metadata": {},
   "source": [
    "### 2) 합성곱 연산\n",
    "\n",
    "- 합성곱 연산은 이미지 처리에서 말하는 **필터 연산**(또는 커널) 에 해당\n",
    "![](image/fig 7-3.png)\n",
    "- 위와 같이 입력 데이터에(4, 4) 필터를(3, 3) 적용하여  출력 데이터를(2, 2) 반환"
   ]
  },
  {
   "cell_type": "markdown",
   "metadata": {},
   "source": [
    "- 연산 과정은 아래 그림과 같이 이루어짐\n",
    "![](image/fig 7-4.png)\n",
    "- 합성곱 연산은 필터의 **window(윈도우)**를 일정 간격으로 이동해가며 입력 데이터에 적용\n",
    "- 연산은 각 필터에 대응하는 원소끼리 곱한 후 합을 더함 (이 과정을 **fused multiply-add, FMA (단일곱셈-누산)**이라 함)\n",
    "- 위 그림의 첫번째 예를 보면 $1*2 + 2*0 + 3*1 + 0*0 + 1*1 + 2*2 + 3*1 + 0*0 + 1*2 = 15$ 계산을 수행\n",
    "- 위 결과를 출력의 지정 위치에 저장하면 합성곱 연산이 완성"
   ]
  },
  {
   "cell_type": "markdown",
   "metadata": {},
   "source": [
    "- CNN에서는 필터의 매개변수가 $w$(weight)에 해당\n",
    "- 여기에 편향까지 더하면 아래와 같이 표현 가능\n",
    "![](image/fig 7-5.png)"
   ]
  },
  {
   "cell_type": "markdown",
   "metadata": {},
   "source": [
    "### 3) 패딩"
   ]
  },
  {
   "cell_type": "markdown",
   "metadata": {},
   "source": [
    "### 4) 스트라이드"
   ]
  },
  {
   "cell_type": "markdown",
   "metadata": {},
   "source": [
    "### 5) 3차원 데이터의 합성곱 연산"
   ]
  },
  {
   "cell_type": "markdown",
   "metadata": {},
   "source": [
    "### 6) 블록으로 생각하기"
   ]
  },
  {
   "cell_type": "markdown",
   "metadata": {},
   "source": [
    "### 7) 배치 처리"
   ]
  },
  {
   "cell_type": "code",
   "execution_count": null,
   "metadata": {},
   "outputs": [],
   "source": []
  }
 ],
 "metadata": {
  "kernelspec": {
   "display_name": "Python 3",
   "language": "python",
   "name": "python3"
  },
  "language_info": {
   "codemirror_mode": {
    "name": "ipython",
    "version": 3
   },
   "file_extension": ".py",
   "mimetype": "text/x-python",
   "name": "python",
   "nbconvert_exporter": "python",
   "pygments_lexer": "ipython3",
   "version": "3.6.4"
  }
 },
 "nbformat": 4,
 "nbformat_minor": 2
}
