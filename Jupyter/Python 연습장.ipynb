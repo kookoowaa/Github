{
 "cells": [
  {
   "cell_type": "code",
   "execution_count": 2,
   "metadata": {},
   "outputs": [],
   "source": [
    "import urllib.request\n",
    "import json"
   ]
  },
  {
   "cell_type": "code",
   "execution_count": 6,
   "metadata": {},
   "outputs": [],
   "source": [
    "Native_app = '4f65d84fcc45e316aa4aadf9e210d669'\n",
    "Rest_api = '6aa285871118726cb2980a0100af2282'\n",
    "JavaScript =  '9cdd5a2fc9992768a8b4dd8e078ff2a6'\n",
    "Admin_key =  '5439a1823011e8d92e1fa19e46ff610d'\n",
    "Rest_access = 'mt1s-VPCop5f-0tu1dSBccLJ7rJYrP51ZK67Dgo8BJ4AAAFefhBX5w'"
   ]
  },
  {
   "cell_type": "code",
   "execution_count": 29,
   "metadata": {},
   "outputs": [
    {
     "data": {
      "text/plain": [
       "'https://dapi.kakao.com/v2/web/search/query=%ED%85%8C%EC%8A%A4%ED%8A%B8&page=50&size=30'"
      ]
     },
     "execution_count": 29,
     "metadata": {},
     "output_type": "execute_result"
    }
   ],
   "source": [
    "url"
   ]
  },
  {
   "cell_type": "code",
   "execution_count": 77,
   "metadata": {
    "scrolled": true
   },
   "outputs": [],
   "source": [
    "KakaoAK = \"KakaoAK 6aa285871118726cb2980a0100af2282\"\n",
    "\n",
    "encText = urllib.parse.quote(\"과자\")\n",
    "url = \"https://dapi.kakao.com/v2/search/web?query=\" +encText\n",
    "\n",
    "\n",
    "request = urllib.request.Request(url)\n",
    "\n",
    "request.add_header(\"Authorization\", KakaoAK)\n",
    "\n",
    "response = urllib.request.urlopen(request)\n",
    "#rescode = response.getcode()\n",
    "#if(rescode==200):\n",
    "#  response_body = response.read()\n",
    "#  print(response_body.decode('utf-8'))\n",
    "#else:\n",
    "#  print(\"Error Code:\" + rescode)"
   ]
  },
  {
   "cell_type": "code",
   "execution_count": 78,
   "metadata": {},
   "outputs": [],
   "source": [
    "t=[]\n",
    "for i in response:\n",
    "    t.append(json.loads(i))"
   ]
  },
  {
   "cell_type": "code",
   "execution_count": 69,
   "metadata": {},
   "outputs": [
    {
     "data": {
      "text/plain": [
       "1"
      ]
     },
     "execution_count": 69,
     "metadata": {},
     "output_type": "execute_result"
    }
   ],
   "source": [
    "len(t)"
   ]
  },
  {
   "cell_type": "code",
   "execution_count": 64,
   "metadata": {},
   "outputs": [
    {
     "data": {
      "text/plain": [
       "'뒷이야기 … “우주식량에 입맛 맞추고 무중력 상태도 이젠 익숙” 잠 못 자고 훈련받느라 ‘혼쭐’ 중력 <b>테스트</b> 땐 기절하기도 최종 ‘6인의 후보’에 올랐다가 안타깝게 고배를 마신 이진영, 박지영, 윤석오 씨(왼쪽...'"
      ]
     },
     "execution_count": 64,
     "metadata": {},
     "output_type": "execute_result"
    }
   ],
   "source": [
    "t[0]['documents'][1]['contents']\n"
   ]
  },
  {
   "cell_type": "code",
   "execution_count": 68,
   "metadata": {},
   "outputs": [
    {
     "data": {
      "text/plain": [
       "{'contents': '시계를 실제로 어떻게 사용했을까. 오리지날을 본뜬 현대의 제품과 그 당시의 제품을 모두 준비해 잠수 <b>테스트</b>를 실행했다. 글 옌스 코흐(Jens Koch) 사진 OK 포토그래피(OK-Photography) 에디터 유현선...',\n",
       " 'datetime': '2017-01-19T15:27:12.000+09:00',\n",
       " 'orig_docid': '51db7d141d2f134bfb9e4471da6d49fad044cb7c',\n",
       " 'split': False,\n",
       " 'title': '[크로노스] <b>테스트</b> : 파네라이 루미노르 마리나 3데이즈 아치아이오',\n",
       " 'url': 'http://www.timeforum.co.kr/chronos/15045818'}"
      ]
     },
     "execution_count": 68,
     "metadata": {},
     "output_type": "execute_result"
    }
   ],
   "source": [
    "texts = []\n"
   ]
  },
  {
   "cell_type": "code",
   "execution_count": 79,
   "metadata": {},
   "outputs": [
    {
     "name": "stdout",
     "output_type": "stream",
     "text": [
      "관련 문서 반의어: 질소<b>과자</b> 1. 개요2. 설명3. 유행하는 이유와 트렌드4. 단점 4.1. 한국어 패치 / 국적세탁5. 국내 <b>과자</b>업체의 대응6. 유명 수입<b>과자</b> 6.1. 유명 제과회사6.2. <b>과자</b>, 스낵류6.3. 쿠키, 비스킷류...\n",
      "질소 <b>과자</b> ① <b>과자</b>로 만든 배를 타고 소비자는 떠나네 ② 국산 <b>과자</b> vs 수입 <b>과자</b> ③ <b>과자</b>에 질소 대신 헬륨을 넣어보자 지금 한국에서 ‘질소 <b>과자</b>’는 일종의 상징과도 같다. 이 단어에는 기대가 쪼그라든 실망감...\n",
      "롯데제과 치토스, 멕시카나와 손잡고 국내 최초 '<b>과자</b> 맛 치킨' 출시 롯데제과가 치킨 프랜차이즈 멕시카나와 손잡고 대표 스낵 치토스의 맛을 그대로 살린 '치토스 치킨'을 선보였다. '치토스 치킨'은 바삭...\n",
      "세상엔 맛있는 <b>과자</b>가 많아요. 근데, 많아도 너~~~어무 많아요. 한 번에 다 먹을 수 없잖아요? 그래서 <b>과자</b>를 남겨야 할때는 이 노하우를 참고 하세요. <b>과자</b> 봉지를 고무줄로 돌돌 말아 보관하는 촌스러운 방법...\n",
      "시장의 성장률이 전년 대비 8% 증가, 총매출액은 5억2000만 달러(8만8800톤)를 돌파할 전망 콜롬비아 <b>과자</b>(스위트 비스킷·시리얼바·과일 스낵) 총매출액 (단위: 천 달러, %) 구분 2012 2013 2014 2015 2016...\n",
      "소스들이 새로운 맛을 더해준다는 글 역시 잇따랐다. 또한 기존 치킨맛을 내는 스낵은 많았던 반면 <b>과자</b>맛이 나는 치킨은 처음이라 이색적이라는 평도 이어지고 있다. 뿐만 아니라 네티즌들의 이목을 끌어당긴 건...\n",
      "손녀를 위해 냉장고에 <b>과자</b>를 17년간 보관해둔 할머니의 사연이 눈길을 끌고 있습니다. 주인공은 대만에 살고 있는 중년 여성이었는데요. 지난 2일 대만 커뮤니티 ‘디카드'(Dcard)에서는 손녀가 자신의...\n",
      "<b>과자</b> ‘죠리퐁’을 아시나요? 마트에서 흔하게 볼 수 있는 이 <b>과자</b> 덕분에 잃어버린 동생을 찾은 한 남성이 있습니다. 초록우산 실종아동기관은 지난 1일 해당 사실을 공개했는데요. 크라운제과와 진행하는 ‘희망...\n",
      "ADVERTISEMENT <b>과자</b>를 먹으면 입에서 연기가 나는 이른바 '용가리<b>과자</b>(질소<b>과자</b>)'를 먹고 위에 천공(구명)이 생기는 사고가 발생한 것이 뒤늦게 알려졌다. 3일 천안시 동남구청에 따르면 지난 1일 A씨의 아들 B군...\n"
     ]
    },
    {
     "data": {
      "text/plain": [
       "10"
      ]
     },
     "execution_count": 79,
     "metadata": {},
     "output_type": "execute_result"
    }
   ],
   "source": [
    "for i in range(1,len(t[0]['documents'])):\n",
    "    print(t[0]['documents'][i]['contents'])\n",
    "len(t[0]['documents'])"
   ]
  },
  {
   "cell_type": "code",
   "execution_count": null,
   "metadata": {
    "collapsed": true
   },
   "outputs": [],
   "source": []
  }
 ],
 "metadata": {
  "kernelspec": {
   "display_name": "Python 3",
   "language": "python",
   "name": "python3"
  },
  "language_info": {
   "codemirror_mode": {
    "name": "ipython",
    "version": 3
   },
   "file_extension": ".py",
   "mimetype": "text/x-python",
   "name": "python",
   "nbconvert_exporter": "python",
   "pygments_lexer": "ipython3",
   "version": "3.6.1"
  }
 },
 "nbformat": 4,
 "nbformat_minor": 2
}
