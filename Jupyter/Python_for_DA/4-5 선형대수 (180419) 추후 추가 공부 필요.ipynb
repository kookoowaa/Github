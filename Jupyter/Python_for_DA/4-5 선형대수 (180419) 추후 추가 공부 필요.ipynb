{
 "cells": [
  {
   "cell_type": "markdown",
   "metadata": {},
   "source": [
    "# 4장 NumPy 기본\n",
    "# 4-5 선형대수"
   ]
  },
  {
   "cell_type": "code",
   "execution_count": 2,
   "metadata": {
    "collapsed": true
   },
   "outputs": [],
   "source": [
    "import numpy as np"
   ]
  },
  {
   "cell_type": "code",
   "execution_count": 3,
   "metadata": {},
   "outputs": [
    {
     "data": {
      "text/plain": [
       "array([[0, 1, 2],\n",
       "       [3, 4, 5]])"
      ]
     },
     "execution_count": 3,
     "metadata": {},
     "output_type": "execute_result"
    }
   ],
   "source": [
    "x = np.arange(6).reshape(2,3)\n",
    "x"
   ]
  },
  {
   "cell_type": "code",
   "execution_count": 7,
   "metadata": {},
   "outputs": [
    {
     "data": {
      "text/plain": [
       "dtype('int32')"
      ]
     },
     "execution_count": 7,
     "metadata": {},
     "output_type": "execute_result"
    }
   ],
   "source": [
    "x.dtype"
   ]
  },
  {
   "cell_type": "code",
   "execution_count": 4,
   "metadata": {},
   "outputs": [
    {
     "data": {
      "text/plain": [
       "array([[  6.,  23.],\n",
       "       [ -1.,   7.],\n",
       "       [  8.,   9.]])"
      ]
     },
     "execution_count": 4,
     "metadata": {},
     "output_type": "execute_result"
    }
   ],
   "source": [
    "y = np.array([[6., 23.], [-1, 7], [8, 9]])\n",
    "y"
   ]
  },
  {
   "cell_type": "code",
   "execution_count": 5,
   "metadata": {},
   "outputs": [
    {
     "data": {
      "text/plain": [
       "dtype('float64')"
      ]
     },
     "execution_count": 5,
     "metadata": {},
     "output_type": "execute_result"
    }
   ],
   "source": [
    "y.dtype"
   ]
  },
  {
   "cell_type": "code",
   "execution_count": 8,
   "metadata": {},
   "outputs": [
    {
     "data": {
      "text/plain": [
       "array([[  15.,   25.],\n",
       "       [  54.,  142.]])"
      ]
     },
     "execution_count": 8,
     "metadata": {},
     "output_type": "execute_result"
    }
   ],
   "source": [
    "x.dot(y)"
   ]
  },
  {
   "cell_type": "code",
   "execution_count": 9,
   "metadata": {},
   "outputs": [
    {
     "data": {
      "text/plain": [
       "array([[  69.,   98.,  127.],\n",
       "       [  21.,   27.,   33.],\n",
       "       [  27.,   44.,   61.]])"
      ]
     },
     "execution_count": 9,
     "metadata": {},
     "output_type": "execute_result"
    }
   ],
   "source": [
    "y.dot(x)"
   ]
  },
  {
   "cell_type": "markdown",
   "metadata": {},
   "source": [
    "배열1.dot(배열2)로 행렬곱셈 수행"
   ]
  },
  {
   "cell_type": "code",
   "execution_count": 10,
   "metadata": {},
   "outputs": [
    {
     "data": {
      "text/plain": [
       "array([[  15.,   25.],\n",
       "       [  54.,  142.]])"
      ]
     },
     "execution_count": 10,
     "metadata": {},
     "output_type": "execute_result"
    }
   ],
   "source": [
    "np.dot(x,y)"
   ]
  },
  {
   "cell_type": "markdown",
   "metadata": {},
   "source": [
    "np.dot(배열1, 배열2)도 같은 결과 출력"
   ]
  },
  {
   "cell_type": "markdown",
   "metadata": {},
   "source": [
    "___"
   ]
  },
  {
   "cell_type": "markdown",
   "metadata": {},
   "source": [
    "- numpy.linalg 는 행렬 관련된 명령어를 포함함"
   ]
  },
  {
   "cell_type": "code",
   "execution_count": 12,
   "metadata": {
    "collapsed": true
   },
   "outputs": [],
   "source": [
    "from numpy.linalg import inv, qr"
   ]
  },
  {
   "cell_type": "code",
   "execution_count": 14,
   "metadata": {},
   "outputs": [
    {
     "data": {
      "text/plain": [
       "array([[ 0.71131819, -1.36932718, -0.35713646, -1.11324081, -0.98403831],\n",
       "       [ 0.19014304,  1.05722064,  0.33732804, -0.91101356, -0.45695391],\n",
       "       [ 1.18001114, -0.6390262 ,  0.35912802, -1.18555543, -1.37187758],\n",
       "       [ 0.38376588,  0.25397082, -0.10701705, -0.97857583, -0.34158284],\n",
       "       [ 1.3371694 , -0.0089316 , -2.11465846,  0.06363535, -0.7132139 ]])"
      ]
     },
     "execution_count": 14,
     "metadata": {},
     "output_type": "execute_result"
    }
   ],
   "source": [
    "X = np.random.randn(5,5)\n",
    "X"
   ]
  },
  {
   "cell_type": "code",
   "execution_count": 15,
   "metadata": {
    "collapsed": true
   },
   "outputs": [],
   "source": [
    "mat = X.T.dot(X)"
   ]
  },
  {
   "cell_type": "code",
   "execution_count": 17,
   "metadata": {},
   "outputs": [
    {
     "data": {
      "text/plain": [
       "array([[ 16.97861533,  -1.43286003,   4.51968997,  -3.06611937,\n",
       "         18.04938737],\n",
       "       [ -1.43286003,   0.53337366,  -0.29512816,   0.52113453,\n",
       "         -1.98242692],\n",
       "       [  4.51968997,  -0.29512816,   1.61154608,  -0.28387476,\n",
       "          4.13222132],\n",
       "       [ -3.06611937,   0.52113453,  -0.28387476,   2.10527255,\n",
       "         -5.00139944],\n",
       "       [ 18.04938737,  -1.98242692,   4.13222132,  -5.00139944,\n",
       "         21.51429114]])"
      ]
     },
     "execution_count": 17,
     "metadata": {},
     "output_type": "execute_result"
    }
   ],
   "source": [
    "inv(mat)"
   ]
  },
  {
   "cell_type": "code",
   "execution_count": 18,
   "metadata": {},
   "outputs": [
    {
     "data": {
      "text/plain": [
       "array([[ 3.86985249, -1.44153994, -2.63484808, -2.65451271, -3.49045742],\n",
       "       [-1.44153994,  3.46570784,  0.60788268,  1.06975146,  1.66065308],\n",
       "       [-2.63484808,  0.60788268,  4.85354262, -0.36534045,  1.2493719 ],\n",
       "       [-2.65451271,  1.06975146, -0.36534045,  4.43645259,  3.42707882],\n",
       "       [-3.49045742,  1.66065308,  1.2493719 ,  3.42707882,  3.68453926]])"
      ]
     },
     "execution_count": 18,
     "metadata": {},
     "output_type": "execute_result"
    }
   ],
   "source": [
    "mat"
   ]
  },
  {
   "cell_type": "markdown",
   "metadata": {},
   "source": [
    "# 추후 공부 필요\n",
    "___"
   ]
  },
  {
   "cell_type": "markdown",
   "metadata": {},
   "source": [
    "이하 선형대수 함수 명령어"
   ]
  },
  {
   "cell_type": "markdown",
   "metadata": {},
   "source": [
    "함수 | 설명\n",
    "---|---\n",
    "numpy.diag| 대각행렬(1들로 이루어진)\n",
    "numpy.dot| 행렬곱셈\n",
    "numpy.trace| 행렬의 대각선 원소의 합 계산\n",
    "numpy.linalg.det| 행렬식 계산\n",
    "numpy.linalg.eig| 정사각 행렬의 고유 값과 고유 벡터를 계산\n",
    "numpy.linalg.inv| 역행렬 계산\n",
    "numpy.linalg.pinv| 무어-펜로즈 유사역원 역행렬\n",
    "numpy.linalg.qr| QR 분해 계산\n",
    "numpy.linalg.svd| SVD 특이값 분해 계산\n",
    "numpy.linalg.solve| 행렬1x = 행렬2를 만족하는 x 계산\n",
    "numpy.linalg.lstsq| y = xb를 만족하는 최소제곱해"
   ]
  }
 ],
 "metadata": {
  "kernelspec": {
   "display_name": "Python 3",
   "language": "python",
   "name": "python3"
  },
  "language_info": {
   "codemirror_mode": {
    "name": "ipython",
    "version": 3
   },
   "file_extension": ".py",
   "mimetype": "text/x-python",
   "name": "python",
   "nbconvert_exporter": "python",
   "pygments_lexer": "ipython3",
   "version": "3.6.1"
  }
 },
 "nbformat": 4,
 "nbformat_minor": 2
}
