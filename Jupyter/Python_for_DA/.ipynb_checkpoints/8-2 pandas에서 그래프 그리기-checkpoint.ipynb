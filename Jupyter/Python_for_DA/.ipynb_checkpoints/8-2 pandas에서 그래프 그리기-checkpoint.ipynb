{
 "cells": [
  {
   "cell_type": "markdown",
   "metadata": {},
   "source": [
    "# 8장 도식화와 시각화\n",
    "## pandas에서 그래프 그리기"
   ]
  },
  {
   "cell_type": "code",
   "execution_count": 1,
   "metadata": {},
   "outputs": [],
   "source": [
    "import pandas as pd\n",
    "from pandas import Series, DataFrame\n",
    "import numpy as np"
   ]
  },
  {
   "cell_type": "markdown",
   "metadata": {},
   "source": [
    "___\n",
    "## 1. 선 그래프"
   ]
  },
  {
   "cell_type": "code",
   "execution_count": 2,
   "metadata": {},
   "outputs": [
    {
     "data": {
      "text/plain": [
       "<matplotlib.axes._subplots.AxesSubplot at 0x26e41e04470>"
      ]
     },
     "execution_count": 2,
     "metadata": {},
     "output_type": "execute_result"
    },
    {
     "data": {
      "image/png": "[encoded data removed]",
      "text/plain": [
       "<matplotlib.figure.Figure at 0x26e3d3fe940>"
      ]
     },
     "metadata": {},
     "output_type": "display_data"
    }
   ],
   "source": [
    "s = Series(np.random.randn(10).cumsum(), \n",
    "          index = np.arange(0, 100, 10))\n",
    "s.plot()"
   ]
  },
  {
   "cell_type": "code",
   "execution_count": 3,
   "metadata": {},
   "outputs": [
    {
     "data": {
      "text/plain": [
       "0     0.161529\n",
       "10   -0.013734\n",
       "20   -0.053930\n",
       "30   -0.650115\n",
       "40    0.412410\n",
       "50    1.119750\n",
       "60    2.805460\n",
       "70    5.413100\n",
       "80    4.734852\n",
       "90    4.764512\n",
       "dtype: float64"
      ]
     },
     "execution_count": 3,
     "metadata": {},
     "output_type": "execute_result"
    }
   ],
   "source": [
    "s"
   ]
  },
  {
   "cell_type": "markdown",
   "metadata": {},
   "source": [
    "- index를 그래프의 축으로 사용"
   ]
  },
  {
   "cell_type": "code",
   "execution_count": 10,
   "metadata": {},
   "outputs": [
    {
     "data": {
      "text/html": [
       "<div>\n",
       "<style scoped>\n",
       "    .dataframe tbody tr th:only-of-type {\n",
       "        vertical-align: middle;\n",
       "    }\n",
       "\n",
       "    .dataframe tbody tr th {\n",
       "        vertical-align: top;\n",
       "    }\n",
       "\n",
       "    .dataframe thead th {\n",
       "        text-align: right;\n",
       "    }\n",
       "</style>\n",
       "<table border=\"1\" class=\"dataframe\">\n",
       "  <thead>\n",
       "    <tr style=\"text-align: right;\">\n",
       "      <th></th>\n",
       "      <th>A</th>\n",
       "      <th>B</th>\n",
       "      <th>C</th>\n",
       "      <th>D</th>\n",
       "    </tr>\n",
       "  </thead>\n",
       "  <tbody>\n",
       "    <tr>\n",
       "      <th>0</th>\n",
       "      <td>0.920643</td>\n",
       "      <td>0.234635</td>\n",
       "      <td>-0.804058</td>\n",
       "      <td>-3.158839</td>\n",
       "    </tr>\n",
       "    <tr>\n",
       "      <th>10</th>\n",
       "      <td>0.968891</td>\n",
       "      <td>1.618370</td>\n",
       "      <td>1.031026</td>\n",
       "      <td>-5.518807</td>\n",
       "    </tr>\n",
       "    <tr>\n",
       "      <th>20</th>\n",
       "      <td>0.692966</td>\n",
       "      <td>2.118488</td>\n",
       "      <td>2.392454</td>\n",
       "      <td>-4.034653</td>\n",
       "    </tr>\n",
       "    <tr>\n",
       "      <th>30</th>\n",
       "      <td>1.008603</td>\n",
       "      <td>1.976983</td>\n",
       "      <td>2.629689</td>\n",
       "      <td>-3.902209</td>\n",
       "    </tr>\n",
       "    <tr>\n",
       "      <th>40</th>\n",
       "      <td>-0.671760</td>\n",
       "      <td>2.391189</td>\n",
       "      <td>2.065980</td>\n",
       "      <td>-3.362870</td>\n",
       "    </tr>\n",
       "    <tr>\n",
       "      <th>50</th>\n",
       "      <td>-0.525703</td>\n",
       "      <td>2.787434</td>\n",
       "      <td>1.533331</td>\n",
       "      <td>-4.822495</td>\n",
       "    </tr>\n",
       "    <tr>\n",
       "      <th>60</th>\n",
       "      <td>-1.840808</td>\n",
       "      <td>2.470972</td>\n",
       "      <td>1.684136</td>\n",
       "      <td>-3.669415</td>\n",
       "    </tr>\n",
       "    <tr>\n",
       "      <th>70</th>\n",
       "      <td>-1.567421</td>\n",
       "      <td>1.637921</td>\n",
       "      <td>2.020192</td>\n",
       "      <td>-1.412364</td>\n",
       "    </tr>\n",
       "    <tr>\n",
       "      <th>80</th>\n",
       "      <td>-2.173180</td>\n",
       "      <td>1.746209</td>\n",
       "      <td>3.210214</td>\n",
       "      <td>-0.054226</td>\n",
       "    </tr>\n",
       "    <tr>\n",
       "      <th>90</th>\n",
       "      <td>-3.443522</td>\n",
       "      <td>2.749455</td>\n",
       "      <td>2.102808</td>\n",
       "      <td>-1.275222</td>\n",
       "    </tr>\n",
       "  </tbody>\n",
       "</table>\n",
       "</div>"
      ],
      "text/plain": [
       "           A         B         C         D\n",
       "0   0.920643  0.234635 -0.804058 -3.158839\n",
       "10  0.968891  1.618370  1.031026 -5.518807\n",
       "20  0.692966  2.118488  2.392454 -4.034653\n",
       "30  1.008603  1.976983  2.629689 -3.902209\n",
       "40 -0.671760  2.391189  2.065980 -3.362870\n",
       "50 -0.525703  2.787434  1.533331 -4.822495\n",
       "60 -1.840808  2.470972  1.684136 -3.669415\n",
       "70 -1.567421  1.637921  2.020192 -1.412364\n",
       "80 -2.173180  1.746209  3.210214 -0.054226\n",
       "90 -3.443522  2.749455  2.102808 -1.275222"
      ]
     },
     "execution_count": 10,
     "metadata": {},
     "output_type": "execute_result"
    }
   ],
   "source": [
    "df = DataFrame(np.random.randn(10,4).cumsum(0),\n",
    "              index = np.arange(0, 100, 10),\n",
    "              columns = list(\"ABCD\"))\n",
    "df"
   ]
  },
  {
   "cell_type": "code",
   "execution_count": 13,
   "metadata": {},
   "outputs": [
    {
     "data": {
      "text/plain": [
       "<matplotlib.axes._subplots.AxesSubplot at 0x26e4350a6d8>"
      ]
     },
     "execution_count": 13,
     "metadata": {},
     "output_type": "execute_result"
    },
    {
     "data": {
      "image/png": "[encoded data removed]",
      "text/plain": [
       "<matplotlib.figure.Figure at 0x26e434e1cc0>"
      ]
     },
     "metadata": {},
     "output_type": "display_data"
    }
   ],
   "source": [
    "df.plot()"
   ]
  },
  {
   "cell_type": "markdown",
   "metadata": {},
   "source": [
    "- Series.plot 메서드 인자\n",
    "\n",
    "| 인자 | 설명 |\n",
    "| --- | --- |\n",
    "| label | 범례명 |\n",
    "|ax| 서브플롯 객체|\n",
    "|style|'ko--' 같은 스타일의 문자열|\n",
    "|alpha|그래프 투명도 0-1|\n",
    "|kind|그래프 종류 'line, 'bar', 'barh', 'kde'|\n",
    "|logy|Y에 대한 로그 스케일링|\n",
    "|use_index|     객체의 색인을 눈금 이름으로 사용할 지 여부|\n",
    "|rot|눈금 이름을 로테이션 0-360|\n",
    "|xticks|x 축으로 사용 할 값|\n",
    "|yticks|y 축으로 사용할 값|\n",
    "|xlim|x축 한계|\n",
    "|ylim|y축 한계|\n",
    "|grid| 그리드를 표실할 지 여부 (default = True)|"
   ]
  },
  {
   "cell_type": "markdown",
   "metadata": {},
   "source": [
    "- DataFrame에서의 plot 옵션\n",
    "\n",
    "|인자|설명|\n",
    "|---|---|\n",
    "|subplots| 각 DF의 칼럼을 독립된 서브플롯에 그림|\n",
    "|sharex|subplots = True면 같은 X축을 공유|\n",
    "|sharey|sharey = True면 같은 y 축을 공유|\n",
    "|figsize| 그래프의 크기를 튜플로 지정|\n",
    "|title|그래프의 제목을 문자열로 지정|\n",
    "|legend|서브플롯의 범례를 추가|\n",
    "|sort_columns|칼럼을 알파벳 순서로 표기|\n",
    "___\n",
    "## 2. 막대 그래프"
   ]
  },
  {
   "cell_type": "code",
   "execution_count": null,
   "metadata": {},
   "outputs": [],
   "source": []
  }
 ],
 "metadata": {
  "kernelspec": {
   "display_name": "Python 3",
   "language": "python",
   "name": "python3"
  },
  "language_info": {
   "codemirror_mode": {
    "name": "ipython",
    "version": 3
   },
   "file_extension": ".py",
   "mimetype": "text/x-python",
   "name": "python",
   "nbconvert_exporter": "python",
   "pygments_lexer": "ipython3",
   "version": "3.6.4"
  }
 },
 "nbformat": 4,
 "nbformat_minor": 2
}
