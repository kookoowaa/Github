{
 "cells": [
  {
   "cell_type": "markdown",
   "metadata": {},
   "source": [
    "# 4장 NumPy 기본\n",
    "# 4-2 유니버셜 함수"
   ]
  },
  {
   "cell_type": "markdown",
   "metadata": {},
   "source": [
    "단항 유니버셜 함수\n",
    "- 하나의 값 반환"
   ]
  },
  {
   "cell_type": "markdown",
   "metadata": {},
   "source": [
    "함수 |   설명\n",
    "---  |  ---\n",
    "abs, fabs |   절대값 (fabs가 연산이 빠름)\n",
    "sqrt |   제곱근\n",
    "square |   제곱\n",
    "Exp |   지수 e^x를 계산\n",
    "Log, log10, log2... | 로그계산\n",
    "sign | 원소 부호 계산 1(양수), 0, -1(음수)\n",
    "ceil | ...\n",
    "floor | ...\n",
    "rint | 소수자리 반올림\n",
    "modf | 몫과 나머지를 2개의 배열로 반환\n",
    "isnan | Not a Numbe 불리언 배열 반환\n",
    "isfinite, isinf | 불리언 배열 반환\n",
    "logical_not | ~와 동일"
   ]
  },
  {
   "cell_type": "markdown",
   "metadata": {},
   "source": [
    "이항 유니버셜 함수\n",
    "- 배열 반환"
   ]
  },
  {
   "cell_type": "markdown",
   "metadata": {},
   "source": [
    "함수 | 설명\n",
    "--- | ---\n",
    "add | 배열 간 같은 위치 원소의 합\n",
    "subtract | 배열 간 같은 위치 원소의 차\n",
    "multiply| 배열 간 같은 위치 원소의 곱\n",
    "divide| 배열 간 같은 위치 원소의 나눗셈\n",
    "floor_divide| 나눗셈, 단 몫만 취함\n",
    "power| 첫번째 배열 원소에 두번째 배열 원소만큼 제곱\n",
    "maximum| 최대값\n",
    "minimum| 최소값\n",
    "mod| 나눗셈, 단 나머지\n",
    "copysign| 첫번째 배열 원소에 두번째 배열 원소의 기호 사용\n",
    "greater, greater_equal, less, less_equal, equal, not_equal| >, >=, <, <=, ==, !=\n",
    "logical_and, logical_or, logical_xor| &, \\, ^"
   ]
  }
 ],
 "metadata": {
  "kernelspec": {
   "display_name": "Python 3",
   "language": "python",
   "name": "python3"
  },
  "language_info": {
   "codemirror_mode": {
    "name": "ipython",
    "version": 3
   },
   "file_extension": ".py",
   "mimetype": "text/x-python",
   "name": "python",
   "nbconvert_exporter": "python",
   "pygments_lexer": "ipython3",
   "version": "3.6.1"
  }
 },
 "nbformat": 4,
 "nbformat_minor": 2
}
