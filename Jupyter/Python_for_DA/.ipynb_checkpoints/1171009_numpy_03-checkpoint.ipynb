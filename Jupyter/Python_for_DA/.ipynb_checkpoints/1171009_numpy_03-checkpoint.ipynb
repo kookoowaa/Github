{
 "cells": [
  {
   "cell_type": "code",
   "execution_count": 1,
   "metadata": {
    "collapsed": true
   },
   "outputs": [],
   "source": [
    "import numpy as np"
   ]
  },
  {
   "cell_type": "code",
   "execution_count": 2,
   "metadata": {
    "collapsed": true
   },
   "outputs": [],
   "source": [
    "arr = np.arange(10)\n",
    "np.save('some_array', arr)"
   ]
  },
  {
   "cell_type": "code",
   "execution_count": 3,
   "metadata": {},
   "outputs": [
    {
     "data": {
      "text/plain": [
       "array([0, 1, 2, 3, 4, 5, 6, 7, 8, 9])"
      ]
     },
     "execution_count": 3,
     "metadata": {},
     "output_type": "execute_result"
    }
   ],
   "source": [
    "np.load('some_array.npy')"
   ]
  },
  {
   "cell_type": "code",
   "execution_count": 4,
   "metadata": {
    "collapsed": true
   },
   "outputs": [],
   "source": [
    "np.savez('arr_archive', a = arr, b = arr)"
   ]
  },
  {
   "cell_type": "code",
   "execution_count": 5,
   "metadata": {
    "collapsed": true
   },
   "outputs": [],
   "source": [
    "arr_archi = np.load('arr_archive.npz')"
   ]
  },
  {
   "cell_type": "code",
   "execution_count": 7,
   "metadata": {},
   "outputs": [
    {
     "data": {
      "text/plain": [
       "array([0, 1, 2, 3, 4, 5, 6, 7, 8, 9])"
      ]
     },
     "execution_count": 7,
     "metadata": {},
     "output_type": "execute_result"
    }
   ],
   "source": [
    "arr_archi['a']"
   ]
  },
  {
   "cell_type": "markdown",
   "metadata": {},
   "source": [
    " <br>"
   ]
  },
  {
   "cell_type": "markdown",
   "metadata": {},
   "source": [
    "#### 선형대수"
   ]
  },
  {
   "cell_type": "code",
   "execution_count": 8,
   "metadata": {
    "collapsed": true
   },
   "outputs": [],
   "source": [
    "x = np.array([[1,2,3], [4,5,6]])\n",
    "y = np.array([[6, 23], [-1,7], [8,9]])"
   ]
  },
  {
   "cell_type": "code",
   "execution_count": 9,
   "metadata": {},
   "outputs": [
    {
     "data": {
      "text/plain": [
       "array([[1, 2, 3],\n",
       "       [4, 5, 6]])"
      ]
     },
     "execution_count": 9,
     "metadata": {},
     "output_type": "execute_result"
    }
   ],
   "source": [
    "x"
   ]
  },
  {
   "cell_type": "code",
   "execution_count": 10,
   "metadata": {},
   "outputs": [
    {
     "data": {
      "text/plain": [
       "array([[ 6, 23],\n",
       "       [-1,  7],\n",
       "       [ 8,  9]])"
      ]
     },
     "execution_count": 10,
     "metadata": {},
     "output_type": "execute_result"
    }
   ],
   "source": [
    "y"
   ]
  },
  {
   "cell_type": "code",
   "execution_count": 11,
   "metadata": {},
   "outputs": [
    {
     "data": {
      "text/plain": [
       "array([[ 28,  64],\n",
       "       [ 67, 181]])"
      ]
     },
     "execution_count": 11,
     "metadata": {},
     "output_type": "execute_result"
    }
   ],
   "source": [
    "np.dot(x,y)"
   ]
  },
  {
   "cell_type": "code",
   "execution_count": 12,
   "metadata": {},
   "outputs": [
    {
     "data": {
      "text/plain": [
       "array([[ 28,  64],\n",
       "       [ 67, 181]])"
      ]
     },
     "execution_count": 12,
     "metadata": {},
     "output_type": "execute_result"
    }
   ],
   "source": [
    "x.dot(y)"
   ]
  },
  {
   "cell_type": "code",
   "execution_count": 18,
   "metadata": {},
   "outputs": [
    {
     "data": {
      "text/plain": [
       "array([  6.,  15.])"
      ]
     },
     "execution_count": 18,
     "metadata": {},
     "output_type": "execute_result"
    }
   ],
   "source": [
    "np.dot(x,np.ones(3))"
   ]
  },
  {
   "cell_type": "markdown",
   "metadata": {},
   "source": [
    " <br>"
   ]
  },
  {
   "cell_type": "code",
   "execution_count": 21,
   "metadata": {
    "collapsed": true
   },
   "outputs": [],
   "source": [
    "from numpy.linalg import inv, qr"
   ]
  },
  {
   "cell_type": "code",
   "execution_count": 27,
   "metadata": {},
   "outputs": [],
   "source": [
    "x = np.random.randn(3,3)"
   ]
  },
  {
   "cell_type": "code",
   "execution_count": 28,
   "metadata": {},
   "outputs": [
    {
     "data": {
      "text/plain": [
       "array([[ 2.50892321,  0.61176779, -0.4845395 ],\n",
       "       [ 0.61176779,  1.95622772,  3.11111133],\n",
       "       [-0.4845395 ,  3.11111133,  7.35484869]])"
      ]
     },
     "execution_count": 28,
     "metadata": {},
     "output_type": "execute_result"
    }
   ],
   "source": [
    "mat = x.T.dot(x)\n",
    "mat"
   ]
  },
  {
   "cell_type": "code",
   "execution_count": 29,
   "metadata": {},
   "outputs": [
    {
     "data": {
      "text/plain": [
       "array([[ 0.69681259, -0.88891932,  0.42192033],\n",
       "       [-0.88891932,  2.69594378, -1.19895026],\n",
       "       [ 0.42192033, -1.19895026,  0.6709186 ]])"
      ]
     },
     "execution_count": 29,
     "metadata": {},
     "output_type": "execute_result"
    }
   ],
   "source": [
    "inv(mat)"
   ]
  },
  {
   "cell_type": "code",
   "execution_count": 30,
   "metadata": {},
   "outputs": [
    {
     "data": {
      "text/plain": [
       "array([[  1.00000000e+00,   1.11022302e-16,   1.11022302e-16],\n",
       "       [  0.00000000e+00,   1.00000000e+00,  -8.88178420e-16],\n",
       "       [  0.00000000e+00,   0.00000000e+00,   1.00000000e+00]])"
      ]
     },
     "execution_count": 30,
     "metadata": {},
     "output_type": "execute_result"
    }
   ],
   "source": [
    "mat.dot(inv(mat))"
   ]
  },
  {
   "cell_type": "code",
   "execution_count": 31,
   "metadata": {
    "collapsed": true
   },
   "outputs": [],
   "source": [
    "q,r = qr(mat)"
   ]
  },
  {
   "cell_type": "code",
   "execution_count": 32,
   "metadata": {},
   "outputs": [
    {
     "data": {
      "text/plain": [
       "array([[-0.95487241, -0.0451478 ,  0.29356492],\n",
       "       [-0.23283302, -0.49988411, -0.834209  ],\n",
       "       [ 0.18441114, -0.86491477,  0.46681364]])"
      ]
     },
     "execution_count": 32,
     "metadata": {},
     "output_type": "execute_result"
    }
   ],
   "source": [
    "q"
   ]
  },
  {
   "cell_type": "code",
   "execution_count": 33,
   "metadata": {},
   "outputs": [
    {
     "data": {
      "text/plain": [
       "array([[-2.62749577, -0.465911  ,  1.09462   ],\n",
       "       [ 0.        , -3.69635325, -7.89463646],\n",
       "       [ 0.        ,  0.        ,  0.69578283]])"
      ]
     },
     "execution_count": 33,
     "metadata": {},
     "output_type": "execute_result"
    }
   ],
   "source": [
    "r"
   ]
  },
  {
   "cell_type": "markdown",
   "metadata": {},
   "source": [
    "> ### 계단오르기 예제"
   ]
  },
  {
   "cell_type": "markdown",
   "metadata": {},
   "source": [
    "* 파이썬 함수 사용"
   ]
  },
  {
   "cell_type": "code",
   "execution_count": 35,
   "metadata": {
    "collapsed": true
   },
   "outputs": [],
   "source": [
    "import random"
   ]
  },
  {
   "cell_type": "code",
   "execution_count": 40,
   "metadata": {},
   "outputs": [],
   "source": [
    "position = 0\n",
    "walk = [position]\n",
    "steps = 1000\n",
    "for i in range(steps):\n",
    "    step = 1 if random.randint(0,1) else -1\n",
    "    position += step\n",
    "    walk.append(position)"
   ]
  },
  {
   "cell_type": "code",
   "execution_count": 44,
   "metadata": {},
   "outputs": [],
   "source": [
    "import matplotlib.pyplot as plt"
   ]
  },
  {
   "cell_type": "code",
   "execution_count": 48,
   "metadata": {},
   "outputs": [
    {
     "data": {
      "text/plain": [
       "[<matplotlib.lines.Line2D at 0x13eda39a2e8>]"
      ]
     },
     "execution_count": 48,
     "metadata": {},
     "output_type": "execute_result"
    }
   ],
   "source": [
    "plt.plot(walk)"
   ]
  },
  {
   "cell_type": "code",
   "execution_count": 49,
   "metadata": {},
   "outputs": [
    {
     "data": {
      "image/png": "[encoded data removed]",
      "text/plain": [
       "<matplotlib.figure.Figure at 0x13ed79b64a8>"
      ]
     },
     "metadata": {},
     "output_type": "display_data"
    }
   ],
   "source": [
    "plt.show()"
   ]
  },
  {
   "cell_type": "markdown",
   "metadata": {},
   "source": [
    "* numpy 사용"
   ]
  },
  {
   "cell_type": "code",
   "execution_count": 71,
   "metadata": {
    "scrolled": true
   },
   "outputs": [
    {
     "data": {
      "text/plain": [
       "array([0, 0, 1, 1, 0, 0, 0, 0, 0, 0, 0, 0, 1, 0, 0, 1, 1, 1, 0, 0, 1, 1, 1,\n",
       "       0, 1, 0, 1, 0, 1, 0, 0, 1, 1, 0, 0, 0, 0, 0, 0, 1, 1, 1, 0, 0, 0, 1,\n",
       "       1, 0, 0, 0, 0, 0, 1, 0, 0, 0, 1, 0, 1, 1, 1, 0, 1, 0, 0, 1, 1, 1, 1,\n",
       "       0, 0, 0, 0, 0, 0, 0, 1, 0, 1, 0, 0, 0, 1, 0, 1, 0, 0, 1, 1, 0, 1, 0,\n",
       "       0, 1, 1, 0, 1, 1, 0, 1, 1, 1, 0, 0, 0, 0, 0, 0, 0, 1, 1, 0, 0, 0, 0,\n",
       "       0, 0, 0, 1, 1, 0, 0, 0, 1, 1, 1, 1, 0, 0, 0, 0, 1, 0, 0, 1, 0, 0, 0,\n",
       "       1, 1, 0, 1, 0, 1, 0, 1, 0, 0, 0, 0, 1, 1, 0, 0, 1, 0, 1, 0, 1, 1, 1,\n",
       "       0, 0, 0, 1, 0, 0, 0, 0, 1, 1, 1, 0, 1, 0, 0, 0, 1, 0, 1, 1, 1, 0, 1,\n",
       "       1, 0, 0, 0, 0, 0, 1, 1, 0, 0, 0, 1, 1, 0, 1, 1, 1, 1, 0, 1, 1, 1, 0,\n",
       "       1, 1, 1, 1, 1, 0, 0, 0, 0, 1, 1, 1, 0, 1, 0, 1, 0, 0, 1, 1, 1, 0, 1,\n",
       "       0, 0, 0, 1, 1, 0, 0, 1, 0, 1, 0, 1, 0, 1, 1, 0, 1, 1, 0, 1, 0, 0, 1,\n",
       "       0, 1, 0, 0, 0, 0, 0, 0, 1, 1, 1, 0, 0, 0, 1, 0, 0, 0, 0, 0, 1, 1, 0,\n",
       "       0, 0, 0, 0, 1, 1, 1, 1, 1, 0, 0, 1, 0, 1, 0, 0, 1, 1, 1, 1, 0, 0, 1,\n",
       "       1, 1, 1, 0, 1, 1, 1, 1, 1, 0, 1, 0, 0, 0, 0, 1, 0, 0, 1, 1, 1, 0, 0,\n",
       "       1, 0, 0, 1, 0, 1, 0, 1, 0, 0, 1, 0, 1, 0, 1, 0, 1, 1, 0, 0, 1, 1, 1,\n",
       "       0, 0, 1, 0, 1, 1, 1, 0, 0, 0, 1, 0, 0, 0, 1, 1, 0, 1, 0, 1, 1, 1, 0,\n",
       "       1, 0, 1, 1, 1, 1, 0, 0, 1, 1, 0, 0, 1, 1, 1, 1, 0, 0, 1, 0, 1, 0, 1,\n",
       "       1, 0, 1, 1, 1, 1, 0, 1, 0, 0, 0, 0, 1, 1, 1, 0, 1, 1, 0, 1, 0, 0, 0,\n",
       "       0, 0, 1, 0, 0, 0, 0, 1, 0, 0, 0, 1, 1, 0, 0, 1, 1, 1, 0, 1, 0, 0, 0,\n",
       "       1, 0, 1, 1, 1, 0, 1, 0, 0, 1, 0, 1, 0, 1, 0, 1, 0, 0, 1, 1, 0, 0, 0,\n",
       "       0, 0, 1, 1, 1, 0, 0, 1, 1, 1, 1, 1, 1, 1, 1, 1, 1, 0, 1, 1, 0, 0, 1,\n",
       "       0, 1, 1, 0, 1, 0, 1, 0, 0, 1, 0, 1, 0, 1, 0, 0, 1, 1, 0, 0, 1, 1, 0,\n",
       "       1, 0, 1, 0, 1, 1, 1, 0, 1, 0, 0, 0, 1, 1, 1, 0, 0, 0, 0, 0, 1, 0, 1,\n",
       "       0, 0, 1, 0, 0, 1, 0, 1, 1, 1, 1, 1, 0, 0, 1, 1, 1, 0, 0, 1, 1, 0, 1,\n",
       "       1, 0, 1, 1, 0, 0, 0, 1, 0, 1, 1, 0, 1, 0, 0, 0, 0, 1, 1, 1, 0, 0, 0,\n",
       "       1, 0, 1, 0, 0, 0, 1, 0, 0, 1, 1, 1, 0, 0, 1, 1, 0, 1, 1, 1, 0, 1, 0,\n",
       "       1, 0, 0, 0, 1, 0, 0, 1, 1, 1, 0, 1, 1, 0, 0, 1, 1, 1, 1, 1, 1, 0, 1,\n",
       "       1, 1, 0, 0, 1, 1, 1, 1, 0, 0, 1, 1, 1, 0, 1, 0, 1, 1, 0, 0, 1, 1, 1,\n",
       "       1, 1, 1, 1, 1, 0, 1, 0, 1, 0, 1, 1, 1, 0, 1, 0, 0, 1, 1, 0, 0, 0, 1,\n",
       "       1, 0, 0, 1, 0, 1, 0, 1, 1, 0, 0, 1, 1, 0, 0, 0, 0, 0, 1, 0, 1, 1, 1,\n",
       "       0, 0, 1, 1, 0, 1, 0, 0, 1, 1, 0, 0, 1, 1, 1, 0, 1, 1, 1, 0, 1, 0, 1,\n",
       "       1, 0, 1, 0, 1, 1, 0, 0, 0, 1, 1, 1, 0, 0, 0, 0, 1, 0, 0, 0, 0, 0, 1,\n",
       "       0, 0, 0, 0, 1, 1, 1, 0, 0, 0, 0, 0, 0, 1, 1, 1, 1, 1, 0, 0, 1, 0, 1,\n",
       "       1, 0, 1, 1, 1, 0, 1, 1, 0, 0, 1, 1, 0, 1, 0, 1, 1, 0, 0, 0, 0, 0, 0,\n",
       "       1, 1, 0, 1, 0, 0, 1, 1, 1, 1, 0, 0, 1, 0, 1, 0, 1, 1, 0, 0, 0, 0, 1,\n",
       "       0, 1, 0, 0, 1, 1, 0, 0, 1, 1, 1, 0, 0, 0, 1, 0, 0, 1, 0, 1, 1, 0, 0,\n",
       "       0, 1, 1, 0, 1, 0, 1, 1, 1, 0, 1, 0, 0, 0, 0, 1, 1, 0, 0, 1, 0, 1, 1,\n",
       "       1, 1, 0, 0, 1, 0, 0, 0, 0, 1, 0, 0, 1, 1, 1, 0, 0, 0, 1, 0, 1, 0, 1,\n",
       "       1, 1, 0, 0, 0, 1, 1, 0, 1, 0, 0, 0, 0, 1, 1, 0, 1, 0, 1, 0, 1, 0, 0,\n",
       "       0, 1, 0, 0, 0, 1, 0, 0, 1, 1, 0, 0, 1, 1, 0, 1, 1, 1, 0, 1, 0, 1, 1,\n",
       "       0, 0, 1, 1, 1, 0, 0, 1, 0, 0, 0, 0, 0, 1, 0, 0, 0, 1, 1, 0, 0, 1, 1,\n",
       "       1, 0, 1, 1, 1, 0, 0, 1, 1, 0, 0, 0, 0, 0, 1, 0, 1, 1, 0, 0, 1, 0, 1,\n",
       "       0, 0, 1, 1, 1, 1, 0, 1, 0, 1, 1, 0, 0, 1, 1, 1, 0, 0, 1, 0, 0, 0, 0,\n",
       "       0, 0, 0, 1, 1, 1, 0, 0, 1, 0, 1])"
      ]
     },
     "execution_count": 71,
     "metadata": {},
     "output_type": "execute_result"
    }
   ],
   "source": [
    "nsteps = 1000\n",
    "draws = np.random.randint(0,2, size = nsteps)\n",
    "draws"
   ]
  },
  {
   "cell_type": "code",
   "execution_count": 87,
   "metadata": {
    "scrolled": true
   },
   "outputs": [
    {
     "data": {
      "text/plain": [
       "array([-1, -1,  1,  1, -1, -1, -1, -1, -1, -1, -1, -1,  1, -1, -1,  1,  1,\n",
       "        1, -1, -1,  1,  1,  1, -1,  1, -1,  1, -1,  1, -1, -1,  1,  1, -1,\n",
       "       -1, -1, -1, -1, -1,  1,  1,  1, -1, -1, -1,  1,  1, -1, -1, -1, -1,\n",
       "       -1,  1, -1, -1, -1,  1, -1,  1,  1,  1, -1,  1, -1, -1,  1,  1,  1,\n",
       "        1, -1, -1, -1, -1, -1, -1, -1,  1, -1,  1, -1, -1, -1,  1, -1,  1,\n",
       "       -1, -1,  1,  1, -1,  1, -1, -1,  1,  1, -1,  1,  1, -1,  1,  1,  1,\n",
       "       -1, -1, -1, -1, -1, -1, -1,  1,  1, -1, -1, -1, -1, -1, -1, -1,  1,\n",
       "        1, -1, -1, -1,  1,  1,  1,  1, -1, -1, -1, -1,  1, -1, -1,  1, -1,\n",
       "       -1, -1,  1,  1, -1,  1, -1,  1, -1,  1, -1, -1, -1, -1,  1,  1, -1,\n",
       "       -1,  1, -1,  1, -1,  1,  1,  1, -1, -1, -1,  1, -1, -1, -1, -1,  1,\n",
       "        1,  1, -1,  1, -1, -1, -1,  1, -1,  1,  1,  1, -1,  1,  1, -1, -1,\n",
       "       -1, -1, -1,  1,  1, -1, -1, -1,  1,  1, -1,  1,  1,  1,  1, -1,  1,\n",
       "        1,  1, -1,  1,  1,  1,  1,  1, -1, -1, -1, -1,  1,  1,  1, -1,  1,\n",
       "       -1,  1, -1, -1,  1,  1,  1, -1,  1, -1, -1, -1,  1,  1, -1, -1,  1,\n",
       "       -1,  1, -1,  1, -1,  1,  1, -1,  1,  1, -1,  1, -1, -1,  1, -1,  1,\n",
       "       -1, -1, -1, -1, -1, -1,  1,  1,  1, -1, -1, -1,  1, -1, -1, -1, -1,\n",
       "       -1,  1,  1, -1, -1, -1, -1, -1,  1,  1,  1,  1,  1, -1, -1,  1, -1,\n",
       "        1, -1, -1,  1,  1,  1,  1, -1, -1,  1,  1,  1,  1, -1,  1,  1,  1,\n",
       "        1,  1, -1,  1, -1, -1, -1, -1,  1, -1, -1,  1,  1,  1, -1, -1,  1,\n",
       "       -1, -1,  1, -1,  1, -1,  1, -1, -1,  1, -1,  1, -1,  1, -1,  1,  1,\n",
       "       -1, -1,  1,  1,  1, -1, -1,  1, -1,  1,  1,  1, -1, -1, -1,  1, -1,\n",
       "       -1, -1,  1,  1, -1,  1, -1,  1,  1,  1, -1,  1, -1,  1,  1,  1,  1,\n",
       "       -1, -1,  1,  1, -1, -1,  1,  1,  1,  1, -1, -1,  1, -1,  1, -1,  1,\n",
       "        1, -1,  1,  1,  1,  1, -1,  1, -1, -1, -1, -1,  1,  1,  1, -1,  1,\n",
       "        1, -1,  1, -1, -1, -1, -1, -1,  1, -1, -1, -1, -1,  1, -1, -1, -1,\n",
       "        1,  1, -1, -1,  1,  1,  1, -1,  1, -1, -1, -1,  1, -1,  1,  1,  1,\n",
       "       -1,  1, -1, -1,  1, -1,  1, -1,  1, -1,  1, -1, -1,  1,  1, -1, -1,\n",
       "       -1, -1, -1,  1,  1,  1, -1, -1,  1,  1,  1,  1,  1,  1,  1,  1,  1,\n",
       "        1, -1,  1,  1, -1, -1,  1, -1,  1,  1, -1,  1, -1,  1, -1, -1,  1,\n",
       "       -1,  1, -1,  1, -1, -1,  1,  1, -1, -1,  1,  1, -1,  1, -1,  1, -1,\n",
       "        1,  1,  1, -1,  1, -1, -1, -1,  1,  1,  1, -1, -1, -1, -1, -1,  1,\n",
       "       -1,  1, -1, -1,  1, -1, -1,  1, -1,  1,  1,  1,  1,  1, -1, -1,  1,\n",
       "        1,  1, -1, -1,  1,  1, -1,  1,  1, -1,  1,  1, -1, -1, -1,  1, -1,\n",
       "        1,  1, -1,  1, -1, -1, -1, -1,  1,  1,  1, -1, -1, -1,  1, -1,  1,\n",
       "       -1, -1, -1,  1, -1, -1,  1,  1,  1, -1, -1,  1,  1, -1,  1,  1,  1,\n",
       "       -1,  1, -1,  1, -1, -1, -1,  1, -1, -1,  1,  1,  1, -1,  1,  1, -1,\n",
       "       -1,  1,  1,  1,  1,  1,  1, -1,  1,  1,  1, -1, -1,  1,  1,  1,  1,\n",
       "       -1, -1,  1,  1,  1, -1,  1, -1,  1,  1, -1, -1,  1,  1,  1,  1,  1,\n",
       "        1,  1,  1, -1,  1, -1,  1, -1,  1,  1,  1, -1,  1, -1, -1,  1,  1,\n",
       "       -1, -1, -1,  1,  1, -1, -1,  1, -1,  1, -1,  1,  1, -1, -1,  1,  1,\n",
       "       -1, -1, -1, -1, -1,  1, -1,  1,  1,  1, -1, -1,  1,  1, -1,  1, -1,\n",
       "       -1,  1,  1, -1, -1,  1,  1,  1, -1,  1,  1,  1, -1,  1, -1,  1,  1,\n",
       "       -1,  1, -1,  1,  1, -1, -1, -1,  1,  1,  1, -1, -1, -1, -1,  1, -1,\n",
       "       -1, -1, -1, -1,  1, -1, -1, -1, -1,  1,  1,  1, -1, -1, -1, -1, -1,\n",
       "       -1,  1,  1,  1,  1,  1, -1, -1,  1, -1,  1,  1, -1,  1,  1,  1, -1,\n",
       "        1,  1, -1, -1,  1,  1, -1,  1, -1,  1,  1, -1, -1, -1, -1, -1, -1,\n",
       "        1,  1, -1,  1, -1, -1,  1,  1,  1,  1, -1, -1,  1, -1,  1, -1,  1,\n",
       "        1, -1, -1, -1, -1,  1, -1,  1, -1, -1,  1,  1, -1, -1,  1,  1,  1,\n",
       "       -1, -1, -1,  1, -1, -1,  1, -1,  1,  1, -1, -1, -1,  1,  1, -1,  1,\n",
       "       -1,  1,  1,  1, -1,  1, -1, -1, -1, -1,  1,  1, -1, -1,  1, -1,  1,\n",
       "        1,  1,  1, -1, -1,  1, -1, -1, -1, -1,  1, -1, -1,  1,  1,  1, -1,\n",
       "       -1, -1,  1, -1,  1, -1,  1,  1,  1, -1, -1, -1,  1,  1, -1,  1, -1,\n",
       "       -1, -1, -1,  1,  1, -1,  1, -1,  1, -1,  1, -1, -1, -1,  1, -1, -1,\n",
       "       -1,  1, -1, -1,  1,  1, -1, -1,  1,  1, -1,  1,  1,  1, -1,  1, -1,\n",
       "        1,  1, -1, -1,  1,  1,  1, -1, -1,  1, -1, -1, -1, -1, -1,  1, -1,\n",
       "       -1, -1,  1,  1, -1, -1,  1,  1,  1, -1,  1,  1,  1, -1, -1,  1,  1,\n",
       "       -1, -1, -1, -1, -1,  1, -1,  1,  1, -1, -1,  1, -1,  1, -1, -1,  1,\n",
       "        1,  1,  1, -1,  1, -1,  1,  1, -1, -1,  1,  1,  1, -1, -1,  1, -1,\n",
       "       -1, -1, -1, -1, -1, -1,  1,  1,  1, -1, -1,  1, -1,  1])"
      ]
     },
     "execution_count": 87,
     "metadata": {},
     "output_type": "execute_result"
    }
   ],
   "source": [
    "steps = np.where(draws==0,-1,draws)\n",
    "steps"
   ]
  },
  {
   "cell_type": "code",
   "execution_count": 89,
   "metadata": {
    "scrolled": true
   },
   "outputs": [
    {
     "data": {
      "text/plain": [
       "array([ -1,  -2,  -1,   0,  -1,  -2,  -3,  -4,  -5,  -6,  -7,  -8,  -7,\n",
       "        -8,  -9,  -8,  -7,  -6,  -7,  -8,  -7,  -6,  -5,  -6,  -5,  -6,\n",
       "        -5,  -6,  -5,  -6,  -7,  -6,  -5,  -6,  -7,  -8,  -9, -10, -11,\n",
       "       -10,  -9,  -8,  -9, -10, -11, -10,  -9, -10, -11, -12, -13, -14,\n",
       "       -13, -14, -15, -16, -15, -16, -15, -14, -13, -14, -13, -14, -15,\n",
       "       -14, -13, -12, -11, -12, -13, -14, -15, -16, -17, -18, -17, -18,\n",
       "       -17, -18, -19, -20, -19, -20, -19, -20, -21, -20, -19, -20, -19,\n",
       "       -20, -21, -20, -19, -20, -19, -18, -19, -18, -17, -16, -17, -18,\n",
       "       -19, -20, -21, -22, -23, -22, -21, -22, -23, -24, -25, -26, -27,\n",
       "       -28, -27, -26, -27, -28, -29, -28, -27, -26, -25, -26, -27, -28,\n",
       "       -29, -28, -29, -30, -29, -30, -31, -32, -31, -30, -31, -30, -31,\n",
       "       -30, -31, -30, -31, -32, -33, -34, -33, -32, -33, -34, -33, -34,\n",
       "       -33, -34, -33, -32, -31, -32, -33, -34, -33, -34, -35, -36, -37,\n",
       "       -36, -35, -34, -35, -34, -35, -36, -37, -36, -37, -36, -35, -34,\n",
       "       -35, -34, -33, -34, -35, -36, -37, -38, -37, -36, -37, -38, -39,\n",
       "       -38, -37, -38, -37, -36, -35, -34, -35, -34, -33, -32, -33, -32,\n",
       "       -31, -30, -29, -28, -29, -30, -31, -32, -31, -30, -29, -30, -29,\n",
       "       -30, -29, -30, -31, -30, -29, -28, -29, -28, -29, -30, -31, -30,\n",
       "       -29, -30, -31, -30, -31, -30, -31, -30, -31, -30, -29, -30, -29,\n",
       "       -28, -29, -28, -29, -30, -29, -30, -29, -30, -31, -32, -33, -34,\n",
       "       -35, -34, -33, -32, -33, -34, -35, -34, -35, -36, -37, -38, -39,\n",
       "       -38, -37, -38, -39, -40, -41, -42, -41, -40, -39, -38, -37, -38,\n",
       "       -39, -38, -39, -38, -39, -40, -39, -38, -37, -36, -37, -38, -37,\n",
       "       -36, -35, -34, -35, -34, -33, -32, -31, -30, -31, -30, -31, -32,\n",
       "       -33, -34, -33, -34, -35, -34, -33, -32, -33, -34, -33, -34, -35,\n",
       "       -34, -35, -34, -35, -34, -35, -36, -35, -36, -35, -36, -35, -36,\n",
       "       -35, -34, -35, -36, -35, -34, -33, -34, -35, -34, -35, -34, -33,\n",
       "       -32, -33, -34, -35, -34, -35, -36, -37, -36, -35, -36, -35, -36,\n",
       "       -35, -34, -33, -34, -33, -34, -33, -32, -31, -30, -31, -32, -31,\n",
       "       -30, -31, -32, -31, -30, -29, -28, -29, -30, -29, -30, -29, -30,\n",
       "       -29, -28, -29, -28, -27, -26, -25, -26, -25, -26, -27, -28, -29,\n",
       "       -28, -27, -26, -27, -26, -25, -26, -25, -26, -27, -28, -29, -30,\n",
       "       -29, -30, -31, -32, -33, -32, -33, -34, -35, -34, -33, -34, -35,\n",
       "       -34, -33, -32, -33, -32, -33, -34, -35, -34, -35, -34, -33, -32,\n",
       "       -33, -32, -33, -34, -33, -34, -33, -34, -33, -34, -33, -34, -35,\n",
       "       -34, -33, -34, -35, -36, -37, -38, -37, -36, -35, -36, -37, -36,\n",
       "       -35, -34, -33, -32, -31, -30, -29, -28, -27, -28, -27, -26, -27,\n",
       "       -28, -27, -28, -27, -26, -27, -26, -27, -26, -27, -28, -27, -28,\n",
       "       -27, -28, -27, -28, -29, -28, -27, -28, -29, -28, -27, -28, -27,\n",
       "       -28, -27, -28, -27, -26, -25, -26, -25, -26, -27, -28, -27, -26,\n",
       "       -25, -26, -27, -28, -29, -30, -29, -30, -29, -30, -31, -30, -31,\n",
       "       -32, -31, -32, -31, -30, -29, -28, -27, -28, -29, -28, -27, -26,\n",
       "       -27, -28, -27, -26, -27, -26, -25, -26, -25, -24, -25, -26, -27,\n",
       "       -26, -27, -26, -25, -26, -25, -26, -27, -28, -29, -28, -27, -26,\n",
       "       -27, -28, -29, -28, -29, -28, -29, -30, -31, -30, -31, -32, -31,\n",
       "       -30, -29, -30, -31, -30, -29, -30, -29, -28, -27, -28, -27, -28,\n",
       "       -27, -28, -29, -30, -29, -30, -31, -30, -29, -28, -29, -28, -27,\n",
       "       -28, -29, -28, -27, -26, -25, -24, -23, -24, -23, -22, -21, -22,\n",
       "       -23, -22, -21, -20, -19, -20, -21, -20, -19, -18, -19, -18, -19,\n",
       "       -18, -17, -18, -19, -18, -17, -16, -15, -14, -13, -12, -11, -12,\n",
       "       -11, -12, -11, -12, -11, -10,  -9, -10,  -9, -10, -11, -10,  -9,\n",
       "       -10, -11, -12, -11, -10, -11, -12, -11, -12, -11, -12, -11, -10,\n",
       "       -11, -12, -11, -10, -11, -12, -13, -14, -15, -14, -15, -14, -13,\n",
       "       -12, -13, -14, -13, -12, -13, -12, -13, -14, -13, -12, -13, -14,\n",
       "       -13, -12, -11, -12, -11, -10,  -9, -10,  -9, -10,  -9,  -8,  -9,\n",
       "        -8,  -9,  -8,  -7,  -8,  -9, -10,  -9,  -8,  -7,  -8,  -9, -10,\n",
       "       -11, -10, -11, -12, -13, -14, -15, -14, -15, -16, -17, -18, -17,\n",
       "       -16, -15, -16, -17, -18, -19, -20, -21, -20, -19, -18, -17, -16,\n",
       "       -17, -18, -17, -18, -17, -16, -17, -16, -15, -14, -15, -14, -13,\n",
       "       -14, -15, -14, -13, -14, -13, -14, -13, -12, -13, -14, -15, -16,\n",
       "       -17, -18, -17, -16, -17, -16, -17, -18, -17, -16, -15, -14, -15,\n",
       "       -16, -15, -16, -15, -16, -15, -14, -15, -16, -17, -18, -17, -18,\n",
       "       -17, -18, -19, -18, -17, -18, -19, -18, -17, -16, -17, -18, -19,\n",
       "       -18, -19, -20, -19, -20, -19, -18, -19, -20, -21, -20, -19, -20,\n",
       "       -19, -20, -19, -18, -17, -18, -17, -18, -19, -20, -21, -20, -19,\n",
       "       -20, -21, -20, -21, -20, -19, -18, -17, -18, -19, -18, -19, -20,\n",
       "       -21, -22, -21, -22, -23, -22, -21, -20, -21, -22, -23, -22, -23,\n",
       "       -22, -23, -22, -21, -20, -21, -22, -23, -22, -21, -22, -21, -22,\n",
       "       -23, -24, -25, -24, -23, -24, -23, -24, -23, -24, -23, -24, -25,\n",
       "       -26, -25, -26, -27, -28, -27, -28, -29, -28, -27, -28, -29, -28,\n",
       "       -27, -28, -27, -26, -25, -26, -25, -26, -25, -24, -25, -26, -25,\n",
       "       -24, -23, -24, -25, -24, -25, -26, -27, -28, -29, -28, -29, -30,\n",
       "       -31, -30, -29, -30, -31, -30, -29, -28, -29, -28, -27, -26, -27,\n",
       "       -28, -27, -26, -27, -28, -29, -30, -31, -30, -31, -30, -29, -30,\n",
       "       -31, -30, -31, -30, -31, -32, -31, -30, -29, -28, -29, -28, -29,\n",
       "       -28, -27, -28, -29, -28, -27, -26, -27, -28, -27, -28, -29, -30,\n",
       "       -31, -32, -33, -34, -33, -32, -31, -32, -33, -32, -33, -32], dtype=int32)"
      ]
     },
     "execution_count": 89,
     "metadata": {},
     "output_type": "execute_result"
    }
   ],
   "source": [
    "walk = steps.cumsum()\n",
    "walk"
   ]
  },
  {
   "cell_type": "code",
   "execution_count": 92,
   "metadata": {},
   "outputs": [
    {
     "data": {
      "text/plain": [
       "(-42, 0)"
      ]
     },
     "execution_count": 92,
     "metadata": {},
     "output_type": "execute_result"
    }
   ],
   "source": [
    "walk.min(), walk.max()"
   ]
  },
  {
   "cell_type": "code",
   "execution_count": 94,
   "metadata": {},
   "outputs": [
    {
     "data": {
      "text/plain": [
       "38"
      ]
     },
     "execution_count": 94,
     "metadata": {},
     "output_type": "execute_result"
    }
   ],
   "source": [
    "(np.abs(walk)>10).argmax()"
   ]
  },
  {
   "cell_type": "code",
   "execution_count": 95,
   "metadata": {},
   "outputs": [
    {
     "data": {
      "image/png": "[encoded data removed]",
      "text/plain": [
       "<matplotlib.figure.Figure at 0x13eda406cc0>"
      ]
     },
     "metadata": {},
     "output_type": "display_data"
    }
   ],
   "source": [
    "plt.plot(walk)\n",
    "plt.show()"
   ]
  },
  {
   "cell_type": "markdown",
   "metadata": {},
   "source": [
    "* numpy를 통해 5000회 반복"
   ]
  },
  {
   "cell_type": "code",
   "execution_count": 105,
   "metadata": {
    "collapsed": true
   },
   "outputs": [],
   "source": [
    "nwalks = 5000\n",
    "nsteps = 1000"
   ]
  },
  {
   "cell_type": "code",
   "execution_count": 106,
   "metadata": {},
   "outputs": [
    {
     "data": {
      "text/plain": [
       "(5000, 1000)"
      ]
     },
     "execution_count": 106,
     "metadata": {},
     "output_type": "execute_result"
    }
   ],
   "source": [
    "draws = np.random.randint(0, 2, size = (nwalks, nsteps))\n",
    "draws.shape"
   ]
  },
  {
   "cell_type": "code",
   "execution_count": 108,
   "metadata": {},
   "outputs": [
    {
     "data": {
      "text/plain": [
       "array([[-1, -1, -1, ...,  1,  1,  1],\n",
       "       [-1, -1,  1, ..., -1,  1, -1],\n",
       "       [-1,  1,  1, ..., -1, -1, -1],\n",
       "       ..., \n",
       "       [ 1, -1,  1, ..., -1, -1,  1],\n",
       "       [ 1,  1, -1, ...,  1, -1, -1],\n",
       "       [-1, -1,  1, ...,  1, -1,  1]])"
      ]
     },
     "execution_count": 108,
     "metadata": {},
     "output_type": "execute_result"
    }
   ],
   "source": [
    "steps = np.where(draws==0, -1, draws)\n",
    "steps"
   ]
  },
  {
   "cell_type": "code",
   "execution_count": 109,
   "metadata": {},
   "outputs": [
    {
     "data": {
      "text/plain": [
       "array([[ -1,  -2,  -3, ...,  14,  15,  16],\n",
       "       [ -1,  -2,  -1, ...,  14,  15,  14],\n",
       "       [ -1,   0,   1, ...,  -2,  -3,  -4],\n",
       "       ..., \n",
       "       [  1,   0,   1, ...,   2,   1,   2],\n",
       "       [  1,   2,   1, ...,  62,  61,  60],\n",
       "       [ -1,  -2,  -1, ..., -34, -35, -34]], dtype=int32)"
      ]
     },
     "execution_count": 109,
     "metadata": {},
     "output_type": "execute_result"
    }
   ],
   "source": [
    "walks = steps.cumsum(1)\n",
    "walks"
   ]
  },
  {
   "cell_type": "code",
   "execution_count": 113,
   "metadata": {
    "collapsed": true
   },
   "outputs": [],
   "source": [
    "hits30 = (np.abs(walks)>=30).any(1)"
   ]
  },
  {
   "cell_type": "code",
   "execution_count": 115,
   "metadata": {},
   "outputs": [
    {
     "data": {
      "text/plain": [
       "3396"
      ]
     },
     "execution_count": 115,
     "metadata": {},
     "output_type": "execute_result"
    }
   ],
   "source": [
    "hits30.sum()"
   ]
  },
  {
   "cell_type": "code",
   "execution_count": 120,
   "metadata": {
    "collapsed": true
   },
   "outputs": [],
   "source": [
    "crossing_time = (np.abs(walks[hits30])>=30).argmax(1)"
   ]
  },
  {
   "cell_type": "code",
   "execution_count": 121,
   "metadata": {},
   "outputs": [
    {
     "data": {
      "text/plain": [
       "506.76148409893995"
      ]
     },
     "execution_count": 121,
     "metadata": {},
     "output_type": "execute_result"
    }
   ],
   "source": [
    "crossing_time.mean()"
   ]
  }
 ],
 "metadata": {
  "kernelspec": {
   "display_name": "Python 3",
   "language": "python",
   "name": "python3"
  },
  "language_info": {
   "codemirror_mode": {
    "name": "ipython",
    "version": 3
   },
   "file_extension": ".py",
   "mimetype": "text/x-python",
   "name": "python",
   "nbconvert_exporter": "python",
   "pygments_lexer": "ipython3",
   "version": "3.6.1"
  }
 },
 "nbformat": 4,
 "nbformat_minor": 2
}
