{
 "cells": [
  {
   "cell_type": "code",
   "execution_count": 1,
   "metadata": {
    "collapsed": true
   },
   "outputs": [],
   "source": [
    "from collections import Counter\n",
    "import urllib\n",
    "import random\n",
    "import webbrowser\n",
    "\n",
    "from konlpy.tag import Hannanum\n",
    "from lxml import html\n",
    "import pytagcloud # requires Korean font support\n",
    "import sys\n",
    "\n",
    "if sys.version_info[0] >= 3:\n",
    "    urlopen = urllib.request.urlopen\n",
    "else:\n",
    "    urlopen = urllib.urlopen\n",
    "\n",
    "\n",
    "r = lambda: random.randint(0,255)\n",
    "color = lambda: (r(), r(), r())\n",
    "\n",
    "def get_bill_text(billnum):\n",
    "    url = 'http://pokr.kr/bill/%s/text' % billnum\n",
    "    response = urlopen(url).read().decode('utf-8')\n",
    "    page = html.fromstring(response)\n",
    "    text = page.xpath(\".//div[@id='bill-sections']/pre/text()\")[0]\n",
    "    return text\n",
    "\n",
    "def get_tags(text, ntags=50, multiplier=10):\n",
    "    h = Hannanum()\n",
    "    nouns = h.nouns(text)\n",
    "    count = Counter(nouns)\n",
    "    return [{ 'color': color(), 'tag': n, 'size': c*multiplier }\\\n",
    "                for n, c in count.most_common(ntags)]\n",
    "\n",
    "def draw_cloud(tags, filename, fontname='Noto Sans CJK', size=(800, 600)):\n",
    "    pytagcloud.create_tag_image(tags, filename, fontname=fontname, size=size)\n",
    "    webbrowser.open(filename)\n"
   ]
  },
  {
   "cell_type": "code",
   "execution_count": 2,
   "metadata": {},
   "outputs": [
    {
     "name": "stdout",
     "output_type": "stream",
     "text": [
      "[{'color': (105, 113, 2), 'tag': '동물', 'size': 80}, {'color': (47, 161, 80), 'tag': '행위', 'size': 80}, {'color': (44, 220, 170), 'tag': '인터넷', 'size': 60}, {'color': (245, 56, 8), 'tag': '촬영', 'size': 60}, {'color': (38, 18, 125), 'tag': '등', 'size': 50}, {'color': (138, 222, 37), 'tag': '영상물', 'size': 50}, {'color': (191, 140, 185), 'tag': '다음', 'size': 50}, {'color': (122, 214, 37), 'tag': '호', 'size': 40}, {'color': (218, 143, 215), 'tag': '학대', 'size': 40}, {'color': (1, 90, 82), 'tag': '수', 'size': 40}, {'color': (57, 201, 149), 'tag': '게재', 'size': 40}, {'color': (39, 7, 65), 'tag': '신설', 'size': 40}, {'color': (200, 162, 21), 'tag': '고통', 'size': 40}, {'color': (71, 18, 118), 'tag': '①', 'size': 40}, {'color': (58, 106, 93), 'tag': '∼', 'size': 40}, {'color': (5, 107, 246), 'tag': '생', 'size': 40}, {'color': (64, 197, 114), 'tag': '략', 'size': 40}, {'color': (56, 229, 180), 'tag': '현행', 'size': 40}, {'color': (100, 104, 27), 'tag': '동물보호법', 'size': 30}, {'color': (85, 6, 229), 'tag': '의', 'size': 30}, {'color': (98, 138, 169), 'tag': '이', 'size': 30}, {'color': (167, 241, 51), 'tag': '금지', 'size': 30}, {'color': (253, 66, 136), 'tag': '판매·전시·전달·상영', 'size': 30}, {'color': (230, 163, 17), 'tag': '제8조제5항', 'size': 30}, {'color': (47, 109, 234), 'tag': '누구', 'size': 30}, {'color': (54, 131, 4), 'tag': '일부개정법률안', 'size': 20}, {'color': (213, 98, 137), 'tag': '현행법', 'size': 20}, {'color': (66, 170, 175), 'tag': '법', 'size': 20}, {'color': (67, 74, 44), 'tag': '동물보호', 'size': 20}, {'color': (221, 160, 130), 'tag': '학대행위', 'size': 20}, {'color': (111, 78, 244), 'tag': '를', 'size': 20}, {'color': (154, 74, 2), 'tag': '행', 'size': 20}, {'color': (187, 208, 234), 'tag': '물', 'size': 20}, {'color': (189, 76, 153), 'tag': '자', 'size': 20}, {'color': (97, 90, 102), 'tag': '과태료', 'size': 20}, {'color': (185, 59, 251), 'tag': '부과', 'size': 20}, {'color': (64, 254, 247), 'tag': '것', 'size': 20}, {'color': (73, 59, 117), 'tag': '제8조', 'size': 20}, {'color': (116, 201, 90), 'tag': '정당한', 'size': 20}, {'color': (115, 64, 114), 'tag': '사유', 'size': 20}, {'color': (92, 12, 71), 'tag': '신체적', 'size': 20}, {'color': (137, 41, 145), 'tag': '통', 'size': 20}, {'color': (124, 53, 145), 'tag': '굶주림', 'size': 20}, {'color': (153, 115, 220), 'tag': '질병', 'size': 20}, {'color': (26, 71, 24), 'tag': '방치', 'size': 20}, {'color': (67, 18, 254), 'tag': '일체', 'size': 20}, {'color': (71, 79, 122), 'tag': '때', 'size': 20}, {'color': (192, 202, 235), 'tag': '태만', 'size': 20}, {'color': (28, 56, 130), 'tag': '말', 'size': 20}, {'color': (50, 126, 12), 'tag': '⑤', 'size': 20}]\n"
     ]
    }
   ],
   "source": [
    "bill_num = '1904882'\n",
    "text = get_bill_text(bill_num)\n",
    "tags = get_tags(text)\n",
    "print(tags)\n",
    "draw_cloud(tags, 'wordcloud.png')"
   ]
  },
  {
   "cell_type": "code",
   "execution_count": 3,
   "metadata": {},
   "outputs": [
    {
     "data": {
      "text/plain": [
       "'\\n             동물보호법 일부개정법률안\\n              (윤명희의원 대표발의)\\n\\n\\n\\n\\n의 안               발의연월일 : 2013.   5. 8.\\n      4882\\n번 호               발   의   자 : 윤명희ㆍ김영록ㆍ이만우\\n                             김현숙ㆍ조명철ㆍ송영근\\n                             정희수ㆍ박인숙ㆍ김승남\\n                             이에리사 의원(10인)\\n\\n\\n\\n\\n제안이유 및 주요내용\\n\\n 현행법은 동물복지를 도모하고 동물에 대한 학대 행위를 방지하기\\n\\n위하여 제정되었으나, 학대에 대한 개념이 불명확하여 이에 대한 개선\\n\\n요구가 점점 높아지고 있음.\\n\\n 또한, 인터넷 등 정보통신망을 이용하여 동물을 학대하는 영상물이\\n\\n확산되고 있는 추세에 있지만, 현행법에는 이를 금지하고 제재할 수\\n\\n있는 법적 수단은 마련되어 있지 않음.\\n\\n 동물보호를 위해서는 동물에 대한 학대행위 뿐만 아니라 학대행위\\n\\n를 촬영한 영상물을 판매·전시·전달·상영 또는 인터넷에 게재하는 행\\n\\n위도 제한할 필요가 있음. 이에 동물을 학대하는 장면을 촬영한 영상\\n\\n물을 유포한 자에 대하여 과태료를 부과할 수 있도록 하려는 것임(안\\n\\n\\n                  - 1 -\\n                    - 2 -\\n\\n\\n제8조제5항 신설, 제47조제1항1호의2 신설).\\n법률 제      호\\n\\n\\n\\n\\n           동물보호법 일부개정법률안\\n\\n\\n\\n\\n동물보호법 일부를 다음과 같이 개정한다.\\n\\n제8조 제1항 각 호 외의 부분 중 “누구든지”를 ““동물학대”라 함은 동\\n\\n물을 대상으로 정당한 사유 없이 불필요하고 피할 수 있는 신체적 고\\n\\n통을 주거나 굶주림, 질병 등에 방치해서 고통을 주는 일체의 행위 및\\n\\n동물이 그러한 고통을 겪고 있을 때 적절한 조치를 태만히 하는 행위\\n\\n를 말하며, 누구든지”로 한다.\\n\\n제8조에 제5항을 다음과 같이 신설한다.\\n\\n ⑤ 누구든지 제1항부터 제3항까지에 따른 행위를 촬영한 영상물을\\n\\n 판매·전시·전달·상영 또는 인터넷에 게재하여서는 아니 된다. 단, 동\\n\\n 물보호 의식을 고양시키기 위한 목적이 표시된 홍보 활동은 제외된\\n\\n 다.\\n\\n제47조제1항에 제1호의2를 다음과 같이 신설한다.\\n\\n 1의2. 제8조제5항을 위반하여 촬영한 영상물을 판매·전시·전달·상영\\n\\n  또는 인터넷에 게재한 자\\n\\n\\n\\n\\n                    - 3 -\\n                    - 4 -\\n\\n\\n                부           칙\\n\\n\\n\\n\\n이 법은 공포한 날부터 시행한다.\\n                 신·구조문대비표\\n\\n\\n       현     행                        개   정   안\\n\\n제8조(동물학대 등의 금지) ① 누 제8조(동물학대 등의                   금지)   ①\\n 구든지 동물에 대하여 다음 각           “동물학대”라 함은         동물을 대\\n 호의 행위를 하여서는 아니 된           상으로 정당한 사유 없이 불필\\n 다.                         요하고 피할 수 있는 신체적\\n ② ∼ ④ (생   략)              고통을 주거나 굶주림, 질병 등\\n                            에 방치해서 고통을 주는 일체\\n                            의 행위 및 동물이 그러한 고\\n                            통을 겪고 있을 때 적절한 조\\n                            치를 태만히 하는 행위를 말하\\n                            며, 누구든지 ----------------\\n                            -----------------------.\\n                            ② ∼ ④ (현행과 같음)\\n                     ⑤ 누구든지 제1항부터 제3항\\n                            까지에 따른 행위를 촬영한 영\\n                            상물을 판매·전시·전달·상영 또\\n                            는 인터넷에 게재하여서는 아\\n                            니 된다. 단, 동물보호 의식을\\n                            고양시키기 위한 목적이 표시\\n                            된 홍보 활동은 제외된다.\\n제47조(과태료) ① 다음 각 호의 제47조(과태료) ① -------------\\n 어느 하나에 해당하는 자에게            ----------------------------\\n 는 100만원 이하의 과태료를           ----------------------------\\n 부과한다.                      ------.\\n\\n\\n\\n                    - 5 -\\n                   - 6 -\\n\\n\\n\\n1. (생    략)                1. (현행과 같음)\\n                 1의2.   제8조제5항을   위반하여\\n                            촬영한 영상물을 판매·전시·\\n                            전달·상영 또는 인터넷에 게\\n                            재한 자\\n2. ∼ 12. (생 략)             2. ∼ 12. (현행과 같음)\\n②ㆍ③ (생        략)           ②ㆍ③ (현행과 같음)\\n\\n'"
      ]
     },
     "execution_count": 3,
     "metadata": {},
     "output_type": "execute_result"
    }
   ],
   "source": [
    "text"
   ]
  },
  {
   "cell_type": "code",
   "execution_count": 4,
   "metadata": {},
   "outputs": [
    {
     "data": {
      "text/plain": [
       "[{'color': (47, 161, 80), 'size': 80, 'tag': '행위'},\n",
       " {'color': (105, 113, 2), 'size': 80, 'tag': '동물'},\n",
       " {'color': (44, 220, 170), 'size': 60, 'tag': '인터넷'},\n",
       " {'color': (245, 56, 8), 'size': 60, 'tag': '촬영'},\n",
       " {'color': (138, 222, 37), 'size': 50, 'tag': '영상물'},\n",
       " {'color': (191, 140, 185), 'size': 50, 'tag': '다음'},\n",
       " {'color': (38, 18, 125), 'size': 50, 'tag': '등'},\n",
       " {'color': (56, 229, 180), 'size': 40, 'tag': '현행'},\n",
       " {'color': (200, 162, 21), 'size': 40, 'tag': '고통'},\n",
       " {'color': (39, 7, 65), 'size': 40, 'tag': '신설'},\n",
       " {'color': (57, 201, 149), 'size': 40, 'tag': '게재'},\n",
       " {'color': (218, 143, 215), 'size': 40, 'tag': '학대'},\n",
       " {'color': (64, 197, 114), 'size': 40, 'tag': '략'},\n",
       " {'color': (5, 107, 246), 'size': 40, 'tag': '생'},\n",
       " {'color': (58, 106, 93), 'size': 40, 'tag': '∼'},\n",
       " {'color': (71, 18, 118), 'size': 40, 'tag': '①'},\n",
       " {'color': (1, 90, 82), 'size': 40, 'tag': '수'},\n",
       " {'color': (122, 214, 37), 'size': 40, 'tag': '호'},\n",
       " {'color': (253, 66, 136), 'size': 30, 'tag': '판매·전시·전달·상영'},\n",
       " {'color': (230, 163, 17), 'size': 30, 'tag': '제8조제5항'},\n",
       " {'color': (100, 104, 27), 'size': 30, 'tag': '동물보호법'},\n",
       " {'color': (47, 109, 234), 'size': 30, 'tag': '누구'},\n",
       " {'color': (167, 241, 51), 'size': 30, 'tag': '금지'},\n",
       " {'color': (98, 138, 169), 'size': 30, 'tag': '이'},\n",
       " {'color': (85, 6, 229), 'size': 30, 'tag': '의'},\n",
       " {'color': (54, 131, 4), 'size': 20, 'tag': '일부개정법률안'},\n",
       " {'color': (221, 160, 130), 'size': 20, 'tag': '학대행위'},\n",
       " {'color': (67, 74, 44), 'size': 20, 'tag': '동물보호'},\n",
       " {'color': (124, 53, 145), 'size': 20, 'tag': '굶주림'},\n",
       " {'color': (92, 12, 71), 'size': 20, 'tag': '신체적'},\n",
       " {'color': (116, 201, 90), 'size': 20, 'tag': '정당한'},\n",
       " {'color': (73, 59, 117), 'size': 20, 'tag': '제8조'},\n",
       " {'color': (97, 90, 102), 'size': 20, 'tag': '과태료'},\n",
       " {'color': (213, 98, 137), 'size': 20, 'tag': '현행법'},\n",
       " {'color': (192, 202, 235), 'size': 20, 'tag': '태만'},\n",
       " {'color': (67, 18, 254), 'size': 20, 'tag': '일체'},\n",
       " {'color': (26, 71, 24), 'size': 20, 'tag': '방치'},\n",
       " {'color': (153, 115, 220), 'size': 20, 'tag': '질병'},\n",
       " {'color': (115, 64, 114), 'size': 20, 'tag': '사유'},\n",
       " {'color': (185, 59, 251), 'size': 20, 'tag': '부과'},\n",
       " {'color': (50, 126, 12), 'size': 20, 'tag': '⑤'},\n",
       " {'color': (28, 56, 130), 'size': 20, 'tag': '말'},\n",
       " {'color': (71, 79, 122), 'size': 20, 'tag': '때'},\n",
       " {'color': (137, 41, 145), 'size': 20, 'tag': '통'},\n",
       " {'color': (64, 254, 247), 'size': 20, 'tag': '것'},\n",
       " {'color': (189, 76, 153), 'size': 20, 'tag': '자'},\n",
       " {'color': (187, 208, 234), 'size': 20, 'tag': '물'},\n",
       " {'color': (154, 74, 2), 'size': 20, 'tag': '행'},\n",
       " {'color': (111, 78, 244), 'size': 20, 'tag': '를'},\n",
       " {'color': (66, 170, 175), 'size': 20, 'tag': '법'}]"
      ]
     },
     "execution_count": 4,
     "metadata": {},
     "output_type": "execute_result"
    }
   ],
   "source": [
    "tags"
   ]
  },
  {
   "cell_type": "code",
   "execution_count": 6,
   "metadata": {},
   "outputs": [],
   "source": [
    "a = open('d:/github/r/visualization/snack_proj/twitter_text.txt', 'r', encoding = 'utf-8') \n",
    "b=a.read()"
   ]
  },
  {
   "cell_type": "code",
   "execution_count": null,
   "metadata": {
    "collapsed": true
   },
   "outputs": [],
   "source": [
    "snack_tags = get_tags(b)"
   ]
  },
  {
   "cell_type": "code",
   "execution_count": null,
   "metadata": {
    "collapsed": true
   },
   "outputs": [],
   "source": []
  }
 ],
 "metadata": {
  "kernelspec": {
   "display_name": "Python 3",
   "language": "python",
   "name": "python3"
  },
  "language_info": {
   "codemirror_mode": {
    "name": "ipython",
    "version": 3
   },
   "file_extension": ".py",
   "mimetype": "text/x-python",
   "name": "python",
   "nbconvert_exporter": "python",
   "pygments_lexer": "ipython3",
   "version": "3.6.1"
  }
 },
 "nbformat": 4,
 "nbformat_minor": 2
}
