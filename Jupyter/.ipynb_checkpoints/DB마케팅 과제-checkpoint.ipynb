{
 "cells": [
  {
   "cell_type": "code",
   "execution_count": 1,
   "metadata": {},
   "outputs": [
    {
     "name": "stderr",
     "output_type": "stream",
     "text": [
      "Loading required package: rJava\n",
      "Loading required package: xlsxjars\n"
     ]
    }
   ],
   "source": [
    "library(xlsx)\n",
    "mailorder = read.xlsx2('d:/github/r/database_marketing/hw2/mailorder.xls', 1)\n",
    "\n",
    "\n",
    "## Factor > numericd\n",
    "mailorder$id = as.numeric(as.character(mailorder$id))\n",
    "mailorder$monetary = as.numeric(as.character(mailorder$monetary))\n",
    "mailorder$recency = as.numeric(as.character(mailorder$recency))\n",
    "mailorder$frequency = as.numeric(as.character(mailorder$frequency))\n",
    "mailorder$duration = as.numeric(as.character(mailorder$duration))\n",
    "mailorder$purchase = as.numeric(as.character(mailorder$purchase))\n"
   ]
  },
  {
   "cell_type": "code",
   "execution_count": 2,
   "metadata": {},
   "outputs": [
    {
     "name": "stdout",
     "output_type": "stream",
     "text": [
      "500명 중 구매한 인원 수"
     ]
    },
    {
     "data": {
      "text/html": [
       "36"
      ],
      "text/latex": [
       "36"
      ],
      "text/markdown": [
       "36"
      ],
      "text/plain": [
       "[1] 36"
      ]
     },
     "metadata": {},
     "output_type": "display_data"
    },
    {
     "name": "stdout",
     "output_type": "stream",
     "text": [
      "맞춘 확률"
     ]
    },
    {
     "data": {
      "text/html": [
       "0.072"
      ],
      "text/latex": [
       "0.072"
      ],
      "text/markdown": [
       "0.072"
      ],
      "text/plain": [
       "[1] 0.072"
      ]
     },
     "metadata": {},
     "output_type": "display_data"
    }
   ],
   "source": [
    "## 1번 - 500명중에 hit-rate\n",
    "idx = sample(1:2000, size = 500)\n",
    "mail_sample = mailorder[idx,]\n",
    "cat('500명 중 구매한 인원 수')\n",
    "dim(mail_sample[mail_sample$purchase==1,])[1]\n",
    "cat('맞춘 확률')\n",
    "dim(mail_sample[mail_sample$purchase==1,])[1]/500\n",
    "\n",
    "## sampling\n",
    "mail_test = mailorder[1:2000,]\n",
    "mail_validation = mailorder[2001:4000,]"
   ]
  },
  {
   "cell_type": "code",
   "execution_count": 3,
   "metadata": {
    "collapsed": true
   },
   "outputs": [],
   "source": [
    "attach(mailorder)"
   ]
  },
  {
   "cell_type": "code",
   "execution_count": 8,
   "metadata": {},
   "outputs": [
    {
     "data": {
      "text/html": [
       "0.0818547837188897"
      ],
      "text/latex": [
       "0.0818547837188897"
      ],
      "text/markdown": [
       "0.0818547837188897"
      ],
      "text/plain": [
       "[1] 0.08185478"
      ]
     },
     "metadata": {},
     "output_type": "display_data"
    },
    {
     "data": {
      "text/html": [
       "-0.134173187972971"
      ],
      "text/latex": [
       "-0.134173187972971"
      ],
      "text/markdown": [
       "-0.134173187972971"
      ],
      "text/plain": [
       "[1] -0.1341732"
      ]
     },
     "metadata": {},
     "output_type": "display_data"
    },
    {
     "data": {
      "text/html": [
       "0.120787929418124"
      ],
      "text/latex": [
       "0.120787929418124"
      ],
      "text/markdown": [
       "0.120787929418124"
      ],
      "text/plain": [
       "[1] 0.1207879"
      ]
     },
     "metadata": {},
     "output_type": "display_data"
    }
   ],
   "source": [
    "cor(purchase,monetary)\n",
    "cor(purchase, recency)\n",
    "cor(purchase, frequency)"
   ]
  },
  {
   "cell_type": "code",
   "execution_count": null,
   "metadata": {
    "collapsed": true
   },
   "outputs": [],
   "source": []
  }
 ],
 "metadata": {
  "kernelspec": {
   "display_name": "R",
   "language": "R",
   "name": "ir"
  },
  "language_info": {
   "codemirror_mode": "r",
   "file_extension": ".r",
   "mimetype": "text/x-r-source",
   "name": "R",
   "pygments_lexer": "r",
   "version": "3.4.1"
  }
 },
 "nbformat": 4,
 "nbformat_minor": 2
}
