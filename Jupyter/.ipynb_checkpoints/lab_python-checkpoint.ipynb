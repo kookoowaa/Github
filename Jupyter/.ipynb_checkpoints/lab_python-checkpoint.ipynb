{
 "cells": [
  {
   "cell_type": "markdown",
   "metadata": {},
   "source": [
    "# 1. Logistic regression"
   ]
  },
  {
   "cell_type": "markdown",
   "metadata": {},
   "source": [
    "### 데이터 불러오기"
   ]
  },
  {
   "cell_type": "code",
   "execution_count": 1,
   "metadata": {},
   "outputs": [
    {
     "name": "stdout",
     "output_type": "stream",
     "text": [
      "Buytest data shpe: (10000, 26)\n"
     ]
    }
   ],
   "source": [
    "import numpy as np\n",
    "import pandas as pd\n",
    "buytest = pd.read_table('../r/business_analytics/buytest.txt', sep = ' ')\n",
    "print('Buytest data shpe:', buytest.shape)"
   ]
  },
  {
   "cell_type": "markdown",
   "metadata": {},
   "source": [
    "### 결측치 확인 및 제거"
   ]
  },
  {
   "cell_type": "code",
   "execution_count": 2,
   "metadata": {},
   "outputs": [
    {
     "name": "stdout",
     "output_type": "stream",
     "text": [
      "number of missing value: \n",
      " ID           0\n",
      "RESPOND      0\n",
      "AGE        234\n",
      "INCOME     234\n",
      "SEX        234\n",
      "dtype: int64\n",
      "9221 samples\n"
     ]
    }
   ],
   "source": [
    "print('number of missing value: \\n', buytest.isnull().sum()[0:5])\n",
    "\n",
    "buytest = buytest.dropna()\n",
    "\n",
    "print(buytest.shape[0], 'samples')"
   ]
  },
  {
   "cell_type": "code",
   "execution_count": 3,
   "metadata": {},
   "outputs": [
    {
     "data": {
      "text/html": [
       "<div>\n",
       "<style>\n",
       "    .dataframe thead tr:only-child th {\n",
       "        text-align: right;\n",
       "    }\n",
       "\n",
       "    .dataframe thead th {\n",
       "        text-align: left;\n",
       "    }\n",
       "\n",
       "    .dataframe tbody tr th {\n",
       "        vertical-align: top;\n",
       "    }\n",
       "</style>\n",
       "<table border=\"1\" class=\"dataframe\">\n",
       "  <thead>\n",
       "    <tr style=\"text-align: right;\">\n",
       "      <th></th>\n",
       "      <th>ID</th>\n",
       "      <th>RESPOND</th>\n",
       "      <th>AGE</th>\n",
       "      <th>INCOME</th>\n",
       "      <th>SEX</th>\n",
       "      <th>MARRIED</th>\n",
       "      <th>FICO</th>\n",
       "      <th>OWNHOME</th>\n",
       "      <th>LOC</th>\n",
       "      <th>CLIMATE</th>\n",
       "      <th>...</th>\n",
       "      <th>RETURN24</th>\n",
       "      <th>COA6</th>\n",
       "      <th>C1</th>\n",
       "      <th>C2</th>\n",
       "      <th>C3</th>\n",
       "      <th>C4</th>\n",
       "      <th>C5</th>\n",
       "      <th>C6</th>\n",
       "      <th>C7</th>\n",
       "      <th>PURCHTOT</th>\n",
       "    </tr>\n",
       "  </thead>\n",
       "  <tbody>\n",
       "    <tr>\n",
       "      <th>0</th>\n",
       "      <td>001371057</td>\n",
       "      <td>0</td>\n",
       "      <td>71.0</td>\n",
       "      <td>67.0</td>\n",
       "      <td>M</td>\n",
       "      <td>1.0</td>\n",
       "      <td>719.0</td>\n",
       "      <td>0.0</td>\n",
       "      <td>A</td>\n",
       "      <td>10</td>\n",
       "      <td>...</td>\n",
       "      <td>0</td>\n",
       "      <td>0</td>\n",
       "      <td>0</td>\n",
       "      <td>0</td>\n",
       "      <td>0</td>\n",
       "      <td>0</td>\n",
       "      <td>0</td>\n",
       "      <td>0</td>\n",
       "      <td>0</td>\n",
       "      <td>0</td>\n",
       "    </tr>\n",
       "    <tr>\n",
       "      <th>1</th>\n",
       "      <td>002093270</td>\n",
       "      <td>0</td>\n",
       "      <td>53.0</td>\n",
       "      <td>72.0</td>\n",
       "      <td>M</td>\n",
       "      <td>1.0</td>\n",
       "      <td>751.0</td>\n",
       "      <td>0.0</td>\n",
       "      <td>A</td>\n",
       "      <td>10</td>\n",
       "      <td>...</td>\n",
       "      <td>0</td>\n",
       "      <td>0</td>\n",
       "      <td>0</td>\n",
       "      <td>0</td>\n",
       "      <td>0</td>\n",
       "      <td>0</td>\n",
       "      <td>0</td>\n",
       "      <td>0</td>\n",
       "      <td>0</td>\n",
       "      <td>0</td>\n",
       "    </tr>\n",
       "    <tr>\n",
       "      <th>2</th>\n",
       "      <td>002783726</td>\n",
       "      <td>0</td>\n",
       "      <td>53.0</td>\n",
       "      <td>70.0</td>\n",
       "      <td>F</td>\n",
       "      <td>1.0</td>\n",
       "      <td>725.0</td>\n",
       "      <td>0.0</td>\n",
       "      <td>A</td>\n",
       "      <td>10</td>\n",
       "      <td>...</td>\n",
       "      <td>0</td>\n",
       "      <td>0</td>\n",
       "      <td>0</td>\n",
       "      <td>0</td>\n",
       "      <td>0</td>\n",
       "      <td>0</td>\n",
       "      <td>0</td>\n",
       "      <td>0</td>\n",
       "      <td>0</td>\n",
       "      <td>0</td>\n",
       "    </tr>\n",
       "    <tr>\n",
       "      <th>3</th>\n",
       "      <td>010800860</td>\n",
       "      <td>0</td>\n",
       "      <td>45.0</td>\n",
       "      <td>56.0</td>\n",
       "      <td>F</td>\n",
       "      <td>0.0</td>\n",
       "      <td>684.0</td>\n",
       "      <td>0.0</td>\n",
       "      <td>A</td>\n",
       "      <td>10</td>\n",
       "      <td>...</td>\n",
       "      <td>0</td>\n",
       "      <td>0</td>\n",
       "      <td>0</td>\n",
       "      <td>0</td>\n",
       "      <td>0</td>\n",
       "      <td>0</td>\n",
       "      <td>0</td>\n",
       "      <td>0</td>\n",
       "      <td>0</td>\n",
       "      <td>0</td>\n",
       "    </tr>\n",
       "    <tr>\n",
       "      <th>4</th>\n",
       "      <td>014577797</td>\n",
       "      <td>0</td>\n",
       "      <td>32.0</td>\n",
       "      <td>66.0</td>\n",
       "      <td>F</td>\n",
       "      <td>0.0</td>\n",
       "      <td>651.0</td>\n",
       "      <td>0.0</td>\n",
       "      <td>A</td>\n",
       "      <td>10</td>\n",
       "      <td>...</td>\n",
       "      <td>0</td>\n",
       "      <td>0</td>\n",
       "      <td>0</td>\n",
       "      <td>0</td>\n",
       "      <td>0</td>\n",
       "      <td>0</td>\n",
       "      <td>0</td>\n",
       "      <td>0</td>\n",
       "      <td>0</td>\n",
       "      <td>0</td>\n",
       "    </tr>\n",
       "  </tbody>\n",
       "</table>\n",
       "<p>5 rows × 26 columns</p>\n",
       "</div>"
      ],
      "text/plain": [
       "          ID  RESPOND   AGE  INCOME SEX  MARRIED   FICO  OWNHOME LOC  CLIMATE  \\\n",
       "0  001371057        0  71.0    67.0   M      1.0  719.0      0.0   A       10   \n",
       "1  002093270        0  53.0    72.0   M      1.0  751.0      0.0   A       10   \n",
       "2  002783726        0  53.0    70.0   F      1.0  725.0      0.0   A       10   \n",
       "3  010800860        0  45.0    56.0   F      0.0  684.0      0.0   A       10   \n",
       "4  014577797        0  32.0    66.0   F      0.0  651.0      0.0   A       10   \n",
       "\n",
       "     ...     RETURN24  COA6  C1  C2 C3  C4  C5  C6  C7  PURCHTOT  \n",
       "0    ...            0     0   0   0  0   0   0   0   0         0  \n",
       "1    ...            0     0   0   0  0   0   0   0   0         0  \n",
       "2    ...            0     0   0   0  0   0   0   0   0         0  \n",
       "3    ...            0     0   0   0  0   0   0   0   0         0  \n",
       "4    ...            0     0   0   0  0   0   0   0   0         0  \n",
       "\n",
       "[5 rows x 26 columns]"
      ]
     },
     "execution_count": 3,
     "metadata": {},
     "output_type": "execute_result"
    }
   ],
   "source": [
    "buytest.head()"
   ]
  },
  {
   "cell_type": "markdown",
   "metadata": {},
   "source": [
    "### 사용되지 않는 변수 제거"
   ]
  },
  {
   "cell_type": "code",
   "execution_count": 4,
   "metadata": {
    "collapsed": true
   },
   "outputs": [],
   "source": [
    "buytest = buytest.drop(['ID', 'CLIMATE','C1', 'C2', 'C3', 'C4', 'C5', 'C6', 'C7', 'PURCHTOT'], axis = 1)"
   ]
  },
  {
   "cell_type": "markdown",
   "metadata": {},
   "source": [
    "### 가변수 생성"
   ]
  },
  {
   "cell_type": "code",
   "execution_count": 5,
   "metadata": {},
   "outputs": [
    {
     "name": "stdout",
     "output_type": "stream",
     "text": [
      "Buytest data shpe: (9221, 27)\n"
     ]
    }
   ],
   "source": [
    "buytest = pd.get_dummies(buytest, drop_first = True)\n",
    "print('Buytest data shpe:', buytest.shape)"
   ]
  },
  {
   "cell_type": "code",
   "execution_count": 6,
   "metadata": {},
   "outputs": [
    {
     "data": {
      "text/plain": [
       "Index(['RESPOND', 'AGE', 'INCOME', 'MARRIED', 'FICO', 'OWNHOME', 'BUY6',\n",
       "       'BUY12', 'BUY18', 'VALUE24', 'DISCBUY', 'RETURN24', 'COA6', 'SEX_M',\n",
       "       'LOC_B', 'LOC_C', 'LOC_D', 'LOC_E', 'LOC_F', 'LOC_G', 'LOC_H',\n",
       "       'ORGSRC_D', 'ORGSRC_I', 'ORGSRC_O', 'ORGSRC_P', 'ORGSRC_R', 'ORGSRC_U'],\n",
       "      dtype='object')"
      ]
     },
     "execution_count": 6,
     "metadata": {},
     "output_type": "execute_result"
    }
   ],
   "source": [
    "buytest.columns"
   ]
  },
  {
   "cell_type": "markdown",
   "metadata": {},
   "source": [
    "### 학습자료, 시험자료 분할"
   ]
  },
  {
   "cell_type": "code",
   "execution_count": 7,
   "metadata": {
    "collapsed": true
   },
   "outputs": [],
   "source": [
    "from sklearn.model_selection import train_test_split\n",
    "X_train, X_test, y_train, y_test = train_test_split(\n",
    "   buytest.drop(['RESPOND'], axis = 1), buytest.RESPOND, test_size=0.3, random_state=42)"
   ]
  },
  {
   "cell_type": "markdown",
   "metadata": {},
   "source": [
    "### 탐색적 자료 분석\n",
    "- 반응 변수의 분포"
   ]
  },
  {
   "cell_type": "code",
   "execution_count": 8,
   "metadata": {},
   "outputs": [
    {
     "data": {
      "image/png": "[encoded data removed]",
      "text/plain": [
       "<matplotlib.figure.Figure at 0x238a7653f98>"
      ]
     },
     "metadata": {},
     "output_type": "display_data"
    }
   ],
   "source": [
    "import matplotlib.pyplot as plt\n",
    "import seaborn as sns\n",
    "count = y_train.value_counts()\n",
    "count.plot(kind = 'bar')\n",
    "plt.title('The distribution of response in training set')\n",
    "plt.ylabel('Frequency')\n",
    "plt.show()"
   ]
  },
  {
   "cell_type": "code",
   "execution_count": 9,
   "metadata": {},
   "outputs": [
    {
     "data": {
      "image/png": "[encoded data removed]",
      "text/plain": [
       "<matplotlib.figure.Figure at 0x238a7e7ce48>"
      ]
     },
     "metadata": {},
     "output_type": "display_data"
    }
   ],
   "source": [
    "count = y_test.value_counts()\n",
    "count.plot(kind = 'bar')\n",
    "plt.title('The distribution of response in test set')\n",
    "plt.ylabel('Frequency')\n",
    "plt.show()"
   ]
  },
  {
   "cell_type": "markdown",
   "metadata": {},
   "source": [
    "- 설명 자료의 분포"
   ]
  },
  {
   "cell_type": "code",
   "execution_count": 10,
   "metadata": {},
   "outputs": [
    {
     "data": {
      "text/html": [
       "<div>\n",
       "<style>\n",
       "    .dataframe thead tr:only-child th {\n",
       "        text-align: right;\n",
       "    }\n",
       "\n",
       "    .dataframe thead th {\n",
       "        text-align: left;\n",
       "    }\n",
       "\n",
       "    .dataframe tbody tr th {\n",
       "        vertical-align: top;\n",
       "    }\n",
       "</style>\n",
       "<table border=\"1\" class=\"dataframe\">\n",
       "  <thead>\n",
       "    <tr style=\"text-align: right;\">\n",
       "      <th></th>\n",
       "      <th>AGE</th>\n",
       "      <th>INCOME</th>\n",
       "      <th>MARRIED</th>\n",
       "      <th>FICO</th>\n",
       "      <th>OWNHOME</th>\n",
       "      <th>BUY6</th>\n",
       "      <th>BUY12</th>\n",
       "      <th>BUY18</th>\n",
       "      <th>VALUE24</th>\n",
       "      <th>DISCBUY</th>\n",
       "      <th>...</th>\n",
       "      <th>LOC_E</th>\n",
       "      <th>LOC_F</th>\n",
       "      <th>LOC_G</th>\n",
       "      <th>LOC_H</th>\n",
       "      <th>ORGSRC_D</th>\n",
       "      <th>ORGSRC_I</th>\n",
       "      <th>ORGSRC_O</th>\n",
       "      <th>ORGSRC_P</th>\n",
       "      <th>ORGSRC_R</th>\n",
       "      <th>ORGSRC_U</th>\n",
       "    </tr>\n",
       "  </thead>\n",
       "  <tbody>\n",
       "    <tr>\n",
       "      <th>count</th>\n",
       "      <td>6454.000000</td>\n",
       "      <td>6454.000000</td>\n",
       "      <td>6454.000000</td>\n",
       "      <td>6454.000000</td>\n",
       "      <td>6454.000000</td>\n",
       "      <td>6454.000000</td>\n",
       "      <td>6454.000000</td>\n",
       "      <td>6454.000000</td>\n",
       "      <td>6454.000000</td>\n",
       "      <td>6454.000000</td>\n",
       "      <td>...</td>\n",
       "      <td>6454.000000</td>\n",
       "      <td>6454.000000</td>\n",
       "      <td>6454.000000</td>\n",
       "      <td>6454.000000</td>\n",
       "      <td>6454.000000</td>\n",
       "      <td>6454.000000</td>\n",
       "      <td>6454.000000</td>\n",
       "      <td>6454.000000</td>\n",
       "      <td>6454.000000</td>\n",
       "      <td>6454.000000</td>\n",
       "    </tr>\n",
       "    <tr>\n",
       "      <th>mean</th>\n",
       "      <td>44.625813</td>\n",
       "      <td>48.023241</td>\n",
       "      <td>0.584754</td>\n",
       "      <td>693.985590</td>\n",
       "      <td>0.336226</td>\n",
       "      <td>0.127208</td>\n",
       "      <td>0.209482</td>\n",
       "      <td>0.349706</td>\n",
       "      <td>254.663774</td>\n",
       "      <td>0.266811</td>\n",
       "      <td>...</td>\n",
       "      <td>0.227146</td>\n",
       "      <td>0.218934</td>\n",
       "      <td>0.096374</td>\n",
       "      <td>0.108770</td>\n",
       "      <td>0.188100</td>\n",
       "      <td>0.008522</td>\n",
       "      <td>0.207623</td>\n",
       "      <td>0.159901</td>\n",
       "      <td>0.127828</td>\n",
       "      <td>0.172916</td>\n",
       "    </tr>\n",
       "    <tr>\n",
       "      <th>std</th>\n",
       "      <td>10.267168</td>\n",
       "      <td>16.007342</td>\n",
       "      <td>0.492803</td>\n",
       "      <td>28.685499</td>\n",
       "      <td>0.472454</td>\n",
       "      <td>0.347349</td>\n",
       "      <td>0.437081</td>\n",
       "      <td>0.570969</td>\n",
       "      <td>155.243350</td>\n",
       "      <td>0.442327</td>\n",
       "      <td>...</td>\n",
       "      <td>0.419020</td>\n",
       "      <td>0.413556</td>\n",
       "      <td>0.295127</td>\n",
       "      <td>0.311374</td>\n",
       "      <td>0.390823</td>\n",
       "      <td>0.091927</td>\n",
       "      <td>0.405637</td>\n",
       "      <td>0.366542</td>\n",
       "      <td>0.333924</td>\n",
       "      <td>0.378204</td>\n",
       "    </tr>\n",
       "    <tr>\n",
       "      <th>min</th>\n",
       "      <td>18.000000</td>\n",
       "      <td>15.000000</td>\n",
       "      <td>0.000000</td>\n",
       "      <td>577.000000</td>\n",
       "      <td>0.000000</td>\n",
       "      <td>0.000000</td>\n",
       "      <td>0.000000</td>\n",
       "      <td>0.000000</td>\n",
       "      <td>60.000000</td>\n",
       "      <td>0.000000</td>\n",
       "      <td>...</td>\n",
       "      <td>0.000000</td>\n",
       "      <td>0.000000</td>\n",
       "      <td>0.000000</td>\n",
       "      <td>0.000000</td>\n",
       "      <td>0.000000</td>\n",
       "      <td>0.000000</td>\n",
       "      <td>0.000000</td>\n",
       "      <td>0.000000</td>\n",
       "      <td>0.000000</td>\n",
       "      <td>0.000000</td>\n",
       "    </tr>\n",
       "    <tr>\n",
       "      <th>25%</th>\n",
       "      <td>38.000000</td>\n",
       "      <td>35.000000</td>\n",
       "      <td>0.000000</td>\n",
       "      <td>676.000000</td>\n",
       "      <td>0.000000</td>\n",
       "      <td>0.000000</td>\n",
       "      <td>0.000000</td>\n",
       "      <td>0.000000</td>\n",
       "      <td>149.000000</td>\n",
       "      <td>0.000000</td>\n",
       "      <td>...</td>\n",
       "      <td>0.000000</td>\n",
       "      <td>0.000000</td>\n",
       "      <td>0.000000</td>\n",
       "      <td>0.000000</td>\n",
       "      <td>0.000000</td>\n",
       "      <td>0.000000</td>\n",
       "      <td>0.000000</td>\n",
       "      <td>0.000000</td>\n",
       "      <td>0.000000</td>\n",
       "      <td>0.000000</td>\n",
       "    </tr>\n",
       "    <tr>\n",
       "      <th>50%</th>\n",
       "      <td>44.000000</td>\n",
       "      <td>50.000000</td>\n",
       "      <td>1.000000</td>\n",
       "      <td>695.000000</td>\n",
       "      <td>0.000000</td>\n",
       "      <td>0.000000</td>\n",
       "      <td>0.000000</td>\n",
       "      <td>0.000000</td>\n",
       "      <td>214.000000</td>\n",
       "      <td>0.000000</td>\n",
       "      <td>...</td>\n",
       "      <td>0.000000</td>\n",
       "      <td>0.000000</td>\n",
       "      <td>0.000000</td>\n",
       "      <td>0.000000</td>\n",
       "      <td>0.000000</td>\n",
       "      <td>0.000000</td>\n",
       "      <td>0.000000</td>\n",
       "      <td>0.000000</td>\n",
       "      <td>0.000000</td>\n",
       "      <td>0.000000</td>\n",
       "    </tr>\n",
       "    <tr>\n",
       "      <th>75%</th>\n",
       "      <td>51.000000</td>\n",
       "      <td>61.000000</td>\n",
       "      <td>1.000000</td>\n",
       "      <td>714.000000</td>\n",
       "      <td>1.000000</td>\n",
       "      <td>0.000000</td>\n",
       "      <td>0.000000</td>\n",
       "      <td>1.000000</td>\n",
       "      <td>310.750000</td>\n",
       "      <td>1.000000</td>\n",
       "      <td>...</td>\n",
       "      <td>0.000000</td>\n",
       "      <td>0.000000</td>\n",
       "      <td>0.000000</td>\n",
       "      <td>0.000000</td>\n",
       "      <td>0.000000</td>\n",
       "      <td>0.000000</td>\n",
       "      <td>0.000000</td>\n",
       "      <td>0.000000</td>\n",
       "      <td>0.000000</td>\n",
       "      <td>0.000000</td>\n",
       "    </tr>\n",
       "    <tr>\n",
       "      <th>max</th>\n",
       "      <td>75.000000</td>\n",
       "      <td>114.000000</td>\n",
       "      <td>1.000000</td>\n",
       "      <td>793.000000</td>\n",
       "      <td>1.000000</td>\n",
       "      <td>2.000000</td>\n",
       "      <td>2.000000</td>\n",
       "      <td>3.000000</td>\n",
       "      <td>1238.000000</td>\n",
       "      <td>1.000000</td>\n",
       "      <td>...</td>\n",
       "      <td>1.000000</td>\n",
       "      <td>1.000000</td>\n",
       "      <td>1.000000</td>\n",
       "      <td>1.000000</td>\n",
       "      <td>1.000000</td>\n",
       "      <td>1.000000</td>\n",
       "      <td>1.000000</td>\n",
       "      <td>1.000000</td>\n",
       "      <td>1.000000</td>\n",
       "      <td>1.000000</td>\n",
       "    </tr>\n",
       "  </tbody>\n",
       "</table>\n",
       "<p>8 rows × 26 columns</p>\n",
       "</div>"
      ],
      "text/plain": [
       "               AGE       INCOME      MARRIED         FICO      OWNHOME  \\\n",
       "count  6454.000000  6454.000000  6454.000000  6454.000000  6454.000000   \n",
       "mean     44.625813    48.023241     0.584754   693.985590     0.336226   \n",
       "std      10.267168    16.007342     0.492803    28.685499     0.472454   \n",
       "min      18.000000    15.000000     0.000000   577.000000     0.000000   \n",
       "25%      38.000000    35.000000     0.000000   676.000000     0.000000   \n",
       "50%      44.000000    50.000000     1.000000   695.000000     0.000000   \n",
       "75%      51.000000    61.000000     1.000000   714.000000     1.000000   \n",
       "max      75.000000   114.000000     1.000000   793.000000     1.000000   \n",
       "\n",
       "              BUY6        BUY12        BUY18      VALUE24      DISCBUY  \\\n",
       "count  6454.000000  6454.000000  6454.000000  6454.000000  6454.000000   \n",
       "mean      0.127208     0.209482     0.349706   254.663774     0.266811   \n",
       "std       0.347349     0.437081     0.570969   155.243350     0.442327   \n",
       "min       0.000000     0.000000     0.000000    60.000000     0.000000   \n",
       "25%       0.000000     0.000000     0.000000   149.000000     0.000000   \n",
       "50%       0.000000     0.000000     0.000000   214.000000     0.000000   \n",
       "75%       0.000000     0.000000     1.000000   310.750000     1.000000   \n",
       "max       2.000000     2.000000     3.000000  1238.000000     1.000000   \n",
       "\n",
       "          ...             LOC_E        LOC_F        LOC_G        LOC_H  \\\n",
       "count     ...       6454.000000  6454.000000  6454.000000  6454.000000   \n",
       "mean      ...          0.227146     0.218934     0.096374     0.108770   \n",
       "std       ...          0.419020     0.413556     0.295127     0.311374   \n",
       "min       ...          0.000000     0.000000     0.000000     0.000000   \n",
       "25%       ...          0.000000     0.000000     0.000000     0.000000   \n",
       "50%       ...          0.000000     0.000000     0.000000     0.000000   \n",
       "75%       ...          0.000000     0.000000     0.000000     0.000000   \n",
       "max       ...          1.000000     1.000000     1.000000     1.000000   \n",
       "\n",
       "          ORGSRC_D     ORGSRC_I     ORGSRC_O     ORGSRC_P     ORGSRC_R  \\\n",
       "count  6454.000000  6454.000000  6454.000000  6454.000000  6454.000000   \n",
       "mean      0.188100     0.008522     0.207623     0.159901     0.127828   \n",
       "std       0.390823     0.091927     0.405637     0.366542     0.333924   \n",
       "min       0.000000     0.000000     0.000000     0.000000     0.000000   \n",
       "25%       0.000000     0.000000     0.000000     0.000000     0.000000   \n",
       "50%       0.000000     0.000000     0.000000     0.000000     0.000000   \n",
       "75%       0.000000     0.000000     0.000000     0.000000     0.000000   \n",
       "max       1.000000     1.000000     1.000000     1.000000     1.000000   \n",
       "\n",
       "          ORGSRC_U  \n",
       "count  6454.000000  \n",
       "mean      0.172916  \n",
       "std       0.378204  \n",
       "min       0.000000  \n",
       "25%       0.000000  \n",
       "50%       0.000000  \n",
       "75%       0.000000  \n",
       "max       1.000000  \n",
       "\n",
       "[8 rows x 26 columns]"
      ]
     },
     "execution_count": 10,
     "metadata": {},
     "output_type": "execute_result"
    }
   ],
   "source": [
    "X_train.describe()"
   ]
  },
  {
   "cell_type": "markdown",
   "metadata": {},
   "source": [
    "### 로지스틱 회귀분석"
   ]
  },
  {
   "cell_type": "code",
   "execution_count": 11,
   "metadata": {},
   "outputs": [
    {
     "data": {
      "text/plain": [
       "LogisticRegression(C=10000000000.0, class_weight=None, dual=False,\n",
       "          fit_intercept=True, intercept_scaling=1, max_iter=100,\n",
       "          multi_class='ovr', n_jobs=1, penalty='l2', random_state=None,\n",
       "          solver='liblinear', tol=0.0001, verbose=0, warm_start=False)"
      ]
     },
     "execution_count": 11,
     "metadata": {},
     "output_type": "execute_result"
    }
   ],
   "source": [
    "from sklearn.linear_model import LogisticRegression, LogisticRegressionCV\n",
    "logreg = LogisticRegression(C = 1e10)    # 모형 구축\n",
    "logreg.fit(X_train, y_train)            # 모형 적합"
   ]
  },
  {
   "cell_type": "code",
   "execution_count": 12,
   "metadata": {},
   "outputs": [
    {
     "data": {
      "text/plain": [
       "array([[ -3.56885664e-02,   4.54321301e-04,   5.77766000e-01,\n",
       "         -1.89313796e-03,  -5.32278567e-01,  -2.09438321e-01,\n",
       "         -2.61249813e-01,   7.07922357e-01,  -3.51958680e-06,\n",
       "         -1.36274603e-01,   4.98088101e-02,   4.34999113e-02,\n",
       "         -1.22100686e-01,  -1.67634900e-01,   2.67485376e-01,\n",
       "          2.51299574e-01,  -2.68119061e-02,  -2.31784333e-01,\n",
       "         -6.91569250e-02,  -4.77169006e-02,  -2.15972946e-01,\n",
       "          4.58299033e-02,   4.33023265e-02,   1.81737881e-01,\n",
       "         -5.29144461e-02,   6.09739782e-02]])"
      ]
     },
     "execution_count": 12,
     "metadata": {},
     "output_type": "execute_result"
    }
   ],
   "source": [
    "# 적합된 회귀 계수 결과\n",
    "logreg.coef_"
   ]
  },
  {
   "cell_type": "markdown",
   "metadata": {},
   "source": [
    "- ROC 곡선을 이용한 모형의 성능 확인."
   ]
  },
  {
   "cell_type": "code",
   "execution_count": 13,
   "metadata": {},
   "outputs": [
    {
     "name": "stdout",
     "output_type": "stream",
     "text": [
      "Area under the ROC curve: 0.672202136124\n"
     ]
    },
    {
     "data": {
      "image/png": "[encoded data removed]",
      "text/plain": [
       "<matplotlib.figure.Figure at 0x238a165d518>"
      ]
     },
     "metadata": {},
     "output_type": "display_data"
    }
   ],
   "source": [
    "from sklearn.metrics import roc_curve, auc, accuracy_score, confusion_matrix\n",
    "pred = logreg.predict_proba(X_train) # predicted probability\n",
    "fpr, tpr, thresholds = roc_curve(y_train, pred[:,1])\n",
    "roc_auc = auc(fpr, tpr)\n",
    "print(\"Area under the ROC curve:\", roc_auc)\n",
    "\n",
    "plt.plot(fpr, tpr, color = \"darkorange\", label = 'ROC curve (area = %0.2f)' % roc_auc)\n",
    "plt.plot([0,1],[0,1], color = 'navy', linestyle = '--')\n",
    "plt.xlim([0,1])\n",
    "plt.ylim([0, 1.05])\n",
    "plt.xlabel('False Positive Rate')\n",
    "plt.ylabel('True Positive Rate')\n",
    "plt.legend(loc=\"lower right\")\n",
    "plt.show()"
   ]
  },
  {
   "cell_type": "code",
   "execution_count": 14,
   "metadata": {},
   "outputs": [
    {
     "data": {
      "text/plain": [
       "0.92624728850325377"
      ]
     },
     "execution_count": 14,
     "metadata": {},
     "output_type": "execute_result"
    }
   ],
   "source": [
    "# accuracy\n",
    "y_pred = logreg.predict(X_train) # predicted class\n",
    "accuracy_score(y_train, y_pred)"
   ]
  },
  {
   "cell_type": "code",
   "execution_count": 15,
   "metadata": {},
   "outputs": [
    {
     "data": {
      "text/plain": [
       "array([[5978,    0],\n",
       "       [ 476,    0]], dtype=int64)"
      ]
     },
     "execution_count": 15,
     "metadata": {},
     "output_type": "execute_result"
    }
   ],
   "source": [
    "# confusion matrix\n",
    "confusion_matrix(y_train, y_pred)"
   ]
  },
  {
   "cell_type": "markdown",
   "metadata": {},
   "source": [
    "# 2. Penalized regression\n",
    "### Ridge regression (능형회귀)\n",
    "- 조율모수 $C>0$에 대해, $-loglikelihood + \\frac{1}{C} \\sum_k \\beta_k^2$을 최소화하는 $\\beta$을 추정."
   ]
  },
  {
   "cell_type": "code",
   "execution_count": 16,
   "metadata": {},
   "outputs": [
    {
     "data": {
      "text/plain": [
       "LogisticRegression(C=1.0, class_weight=None, dual=False, fit_intercept=True,\n",
       "          intercept_scaling=1, max_iter=100, multi_class='ovr', n_jobs=1,\n",
       "          penalty='l2', random_state=42, solver='liblinear', tol=0.0001,\n",
       "          verbose=0, warm_start=False)"
      ]
     },
     "execution_count": 16,
     "metadata": {},
     "output_type": "execute_result"
    }
   ],
   "source": [
    "ridge_clf = LogisticRegression(penalty = 'l2',  C = 1.0, random_state = 42)\n",
    "ridge_clf.fit(X_train, y_train)"
   ]
  },
  {
   "cell_type": "code",
   "execution_count": 17,
   "metadata": {},
   "outputs": [
    {
     "data": {
      "text/plain": [
       "array([[ -3.55046860e-02,   4.25918543e-04,   5.67789375e-01,\n",
       "         -1.90324770e-03,  -5.23491686e-01,  -2.12144094e-01,\n",
       "         -2.67074457e-01,   7.01745583e-01,   2.40541529e-05,\n",
       "         -1.34112173e-01,   4.97111942e-02,   4.35472298e-02,\n",
       "         -1.19940361e-01,  -1.69508059e-01,   2.67443691e-01,\n",
       "          2.51438085e-01,  -2.76492479e-02,  -2.28720549e-01,\n",
       "         -6.88281897e-02,  -4.75337037e-02,  -2.13103126e-01,\n",
       "          4.62260139e-02,   4.24978008e-02,   1.80239187e-01,\n",
       "         -5.29999441e-02,   6.06400668e-02]])"
      ]
     },
     "execution_count": 17,
     "metadata": {},
     "output_type": "execute_result"
    }
   ],
   "source": [
    "ridge_clf.coef_"
   ]
  },
  {
   "cell_type": "markdown",
   "metadata": {},
   "source": [
    "- 교차 검증법을 이용한 조율모수 $C$의 추정"
   ]
  },
  {
   "cell_type": "code",
   "execution_count": 18,
   "metadata": {},
   "outputs": [
    {
     "data": {
      "text/plain": [
       "array([ 0.20408959])"
      ]
     },
     "execution_count": 18,
     "metadata": {},
     "output_type": "execute_result"
    }
   ],
   "source": [
    "C_can = np.concatenate((np.linspace(1e-5, 1, 50), np.linspace(1, 1e5, 50)))\n",
    "ridge_cv = LogisticRegressionCV(penalty = 'l2', Cs = C_can, cv = 5,\n",
    "                               random_state = 42)\n",
    "ridge_cv.fit(X_train, y_train)\n",
    "ridge_cv.C_"
   ]
  },
  {
   "cell_type": "code",
   "execution_count": 19,
   "metadata": {},
   "outputs": [
    {
     "data": {
      "text/plain": [
       "LogisticRegression(C=0.2040895918367347, class_weight=None, dual=False,\n",
       "          fit_intercept=True, intercept_scaling=1, max_iter=100,\n",
       "          multi_class='ovr', n_jobs=1, penalty='l2', random_state=42,\n",
       "          solver='liblinear', tol=0.0001, verbose=0, warm_start=False)"
      ]
     },
     "execution_count": 19,
     "metadata": {},
     "output_type": "execute_result"
    }
   ],
   "source": [
    "ridge_clf = LogisticRegression(penalty = 'l2', C = ridge_cv.C_[0], random_state = 42)\n",
    "ridge_clf.fit(X_train, y_train)"
   ]
  },
  {
   "cell_type": "code",
   "execution_count": 20,
   "metadata": {},
   "outputs": [
    {
     "name": "stdout",
     "output_type": "stream",
     "text": [
      "Accuracy: 0.92193711601\n",
      "Confusion matrix \n",
      " [[2551    0]\n",
      " [ 216    0]]\n"
     ]
    }
   ],
   "source": [
    "# accuracy\n",
    "y_pred = ridge_clf.predict(X_test) # predicted class\n",
    "print('Accuracy:',accuracy_score(y_test, y_pred))\n",
    "# confusion matrix\n",
    "print('Confusion matrix \\n',confusion_matrix(y_test, y_pred))"
   ]
  },
  {
   "cell_type": "markdown",
   "metadata": {},
   "source": [
    "### Lasso Regression\n",
    "- 조율모수 $C>0$에 대해, $-loglikelihood + \\frac{1}{C} \\sum_k |\\beta_k|$을 최소화하는 $\\beta$을 추정."
   ]
  },
  {
   "cell_type": "code",
   "execution_count": 21,
   "metadata": {},
   "outputs": [
    {
     "data": {
      "text/plain": [
       "array([[ -3.49676879e-02,   2.62488735e-06,   5.03880289e-01,\n",
       "         -3.00951842e-03,  -4.76363257e-01,  -9.73630330e-02,\n",
       "         -4.61415340e-01,   8.20022074e-01,  -1.41349526e-04,\n",
       "         -1.18286351e-01,   3.28486711e-02,   2.67934185e-02,\n",
       "         -1.08139676e-01,  -1.45845783e-01,   3.61796071e-01,\n",
       "          3.44871853e-01,   0.00000000e+00,  -1.82165457e-01,\n",
       "          0.00000000e+00,   0.00000000e+00,  -1.93151837e-01,\n",
       "          2.07418112e-01,   2.21696831e-02,   1.62962647e-01,\n",
       "         -4.24205908e-02,   4.43689614e-02]])"
      ]
     },
     "execution_count": 21,
     "metadata": {},
     "output_type": "execute_result"
    }
   ],
   "source": [
    "lasso_clf = LogisticRegression(penalty = 'l1',  C = 1.0, solver = 'liblinear',\n",
    "                               random_state = 42)\n",
    "lasso_clf.fit(X_train, y_train)\n",
    "lasso_clf.coef_"
   ]
  },
  {
   "cell_type": "code",
   "execution_count": 22,
   "metadata": {},
   "outputs": [
    {
     "data": {
      "text/plain": [
       "array([ 0.30612939])"
      ]
     },
     "execution_count": 22,
     "metadata": {},
     "output_type": "execute_result"
    }
   ],
   "source": [
    "lasso_cv = LogisticRegressionCV(penalty = 'l1', Cs = C_can, cv = 5, solver = 'liblinear',\n",
    "                                random_state = 42)\n",
    "lasso_cv.fit(X_train, y_train)\n",
    "lasso_cv.C_"
   ]
  },
  {
   "cell_type": "code",
   "execution_count": 23,
   "metadata": {},
   "outputs": [
    {
     "name": "stdout",
     "output_type": "stream",
     "text": [
      "Accuracy: 0.92193711601\n",
      "Confusion matrix \n",
      " [[2551    0]\n",
      " [ 216    0]]\n"
     ]
    }
   ],
   "source": [
    "lasso_clf = LogisticRegression(penalty = 'l1', C = lasso_cv.C_[0], solver = 'liblinear',\n",
    "                               random_state = 42)\n",
    "lasso_clf.fit(X_train, y_train)\n",
    "\n",
    "# accuracy\n",
    "y_pred = lasso_clf.predict(X_test) # predicted class\n",
    "print('Accuracy:',accuracy_score(y_test, y_pred))\n",
    "# confusion matrix\n",
    "print('Confusion matrix \\n',confusion_matrix(y_test, y_pred))"
   ]
  },
  {
   "cell_type": "code",
   "execution_count": 24,
   "metadata": {},
   "outputs": [
    {
     "data": {
      "text/plain": [
       "array([[ -3.37721481e-02,  -9.33389533e-05,   4.75579831e-01,\n",
       "         -1.93531463e-03,  -4.44603401e-01,  -6.82055621e-02,\n",
       "         -4.08579334e-01,   7.55236323e-01,  -2.70678873e-05,\n",
       "         -8.70494288e-02,   0.00000000e+00,   0.00000000e+00,\n",
       "         -8.01829890e-02,  -1.04183000e-01,   3.04702914e-01,\n",
       "          2.85618872e-01,   0.00000000e+00,  -1.48019435e-01,\n",
       "          0.00000000e+00,   0.00000000e+00,  -1.74248143e-01,\n",
       "          0.00000000e+00,   0.00000000e+00,   1.16389926e-01,\n",
       "         -1.44382338e-02,   0.00000000e+00]])"
      ]
     },
     "execution_count": 24,
     "metadata": {},
     "output_type": "execute_result"
    }
   ],
   "source": [
    "lasso_clf.coef_"
   ]
  },
  {
   "cell_type": "markdown",
   "metadata": {},
   "source": [
    "# 3. Ensemble"
   ]
  },
  {
   "cell_type": "markdown",
   "metadata": {
    "collapsed": true
   },
   "source": [
    "## Decision Trees\n",
    "- if-then 으로 표현되는 규칙으로 생성되는 모형\n",
    "- 장점: 좋은 해석력과 이상치에 둔감.\n",
    "- 단점: 예측력이 떨어지고 분산이 커서 추정량이 안정적이지 않음.\n",
    "\n",
    "### 의사 결정 나무 생성"
   ]
  },
  {
   "cell_type": "code",
   "execution_count": 25,
   "metadata": {},
   "outputs": [
    {
     "data": {
      "text/plain": [
       "DecisionTreeClassifier(class_weight=None, criterion='gini', max_depth=None,\n",
       "            max_features=None, max_leaf_nodes=None,\n",
       "            min_impurity_decrease=0.0, min_impurity_split=None,\n",
       "            min_samples_leaf=1, min_samples_split=2,\n",
       "            min_weight_fraction_leaf=0.0, presort=False, random_state=42,\n",
       "            splitter='best')"
      ]
     },
     "execution_count": 25,
     "metadata": {},
     "output_type": "execute_result"
    }
   ],
   "source": [
    "from sklearn import tree\n",
    "clf = tree.DecisionTreeClassifier(random_state=42)\n",
    "clf.fit(X_train, y_train)"
   ]
  },
  {
   "cell_type": "code",
   "execution_count": 26,
   "metadata": {},
   "outputs": [
    {
     "name": "stdout",
     "output_type": "stream",
     "text": [
      "y label: 0\n",
      "predict class: [0]\n",
      "predict class probabilies: [[ 1.  0.]]\n"
     ]
    }
   ],
   "source": [
    "# 학습자료에서의 예측\n",
    "print('y label:', y_train.iloc[1])\n",
    "print('predict class:', clf.predict(X_train[1:2]))\n",
    "print('predict class probabilies:', clf.predict_proba(X_train[1:2]))"
   ]
  },
  {
   "cell_type": "code",
   "execution_count": 27,
   "metadata": {},
   "outputs": [
    {
     "name": "stdout",
     "output_type": "stream",
     "text": [
      "y label: 0\n",
      "predict class: [0]\n",
      "predict class probabilies: [[ 1.  0.]]\n"
     ]
    }
   ],
   "source": [
    "# 시험자료에서의 예측\n",
    "print('y label:', y_test.iloc[1])\n",
    "print('predict class:', clf.predict(X_test[1:2]))\n",
    "print('predict class probabilies:', clf.predict_proba(X_test[1:2]))"
   ]
  },
  {
   "cell_type": "code",
   "execution_count": 28,
   "metadata": {},
   "outputs": [
    {
     "name": "stdout",
     "output_type": "stream",
     "text": [
      "Accuracy: 1.0\n",
      "Confusion matrix \n",
      " [[5978    0]\n",
      " [   0  476]]\n"
     ]
    }
   ],
   "source": [
    "# accuracy\n",
    "y_pred = clf.predict(X_train) # predicted class\n",
    "print('Accuracy:',accuracy_score(y_train, y_pred))\n",
    "# confusion matrix\n",
    "print('Confusion matrix \\n',confusion_matrix(y_train, y_pred))# accuracy"
   ]
  },
  {
   "cell_type": "code",
   "execution_count": 29,
   "metadata": {},
   "outputs": [
    {
     "name": "stdout",
     "output_type": "stream",
     "text": [
      "Accuracy: 0.851825081316\n",
      "Confusion matrix \n",
      " [[2330  221]\n",
      " [ 189   27]]\n"
     ]
    }
   ],
   "source": [
    "# accuracy\n",
    "y_pred = clf.predict(X_test) # predicted class\n",
    "print('Accuracy:',accuracy_score(y_test, y_pred))\n",
    "# confusion matrix\n",
    "print('Confusion matrix \\n',confusion_matrix(y_test, y_pred))"
   ]
  },
  {
   "cell_type": "markdown",
   "metadata": {
    "collapsed": true
   },
   "source": [
    "## Bagging & Random Forest\n",
    "- Bagging: Bootstrap을 이용하여 의사결정나무를 적합. $$\\hat{f}_{bag}(X) = \\frac{1}{B}\\sum\\limits_{b=1}^B \\hat{f}_b^*(X)$$\n",
    "- Random forest: Bagging와 흡사한 방식으로 적합하지만 전체 변수 ($p$ 개)을 사용하지 않고 $m \\approx \\sqrt{p}$ 또는 $m \\approx \\log_2 p$개의 변수를 랜덤하게 선택하여 이 변수들에서만 나무 모형을 적합.\n",
    "- Bagging은 Random forest의 일종이기 때문에 같은 코드를 사용한다."
   ]
  },
  {
   "cell_type": "code",
   "execution_count": 30,
   "metadata": {
    "collapsed": true
   },
   "outputs": [],
   "source": [
    "from sklearn.ensemble import RandomForestClassifier as RFC\n",
    "?RFC"
   ]
  },
  {
   "cell_type": "code",
   "execution_count": 31,
   "metadata": {},
   "outputs": [
    {
     "data": {
      "text/plain": [
       "RandomForestClassifier(bootstrap=True, class_weight=None, criterion='gini',\n",
       "            max_depth=None, max_features=None, max_leaf_nodes=None,\n",
       "            min_impurity_decrease=0.0, min_impurity_split=None,\n",
       "            min_samples_leaf=1, min_samples_split=2,\n",
       "            min_weight_fraction_leaf=0.0, n_estimators=50, n_jobs=1,\n",
       "            oob_score=False, random_state=42, verbose=0, warm_start=False)"
      ]
     },
     "execution_count": 31,
     "metadata": {},
     "output_type": "execute_result"
    }
   ],
   "source": [
    "bag_clf = RFC(n_estimators = 50, criterion = 'gini', random_state = 42,\n",
    "             max_features = None)\n",
    "bag_clf.fit(X_train, y_train)"
   ]
  },
  {
   "cell_type": "code",
   "execution_count": 32,
   "metadata": {},
   "outputs": [
    {
     "data": {
      "text/plain": [
       "RandomForestClassifier(bootstrap=True, class_weight=None, criterion='gini',\n",
       "            max_depth=None, max_features='sqrt', max_leaf_nodes=None,\n",
       "            min_impurity_decrease=0.0, min_impurity_split=None,\n",
       "            min_samples_leaf=1, min_samples_split=2,\n",
       "            min_weight_fraction_leaf=0.0, n_estimators=50, n_jobs=1,\n",
       "            oob_score=False, random_state=42, verbose=0, warm_start=False)"
      ]
     },
     "execution_count": 32,
     "metadata": {},
     "output_type": "execute_result"
    }
   ],
   "source": [
    "rf_clf = RFC(n_estimators = 50, criterion = 'gini', random_state = 42,\n",
    "             max_features = 'sqrt') # default option (auto)\n",
    "rf_clf.fit(X_train, y_train)"
   ]
  },
  {
   "cell_type": "markdown",
   "metadata": {},
   "source": [
    "- 교차검증을 통한 나무 수 및 함수 옵션 정하기"
   ]
  },
  {
   "cell_type": "code",
   "execution_count": 33,
   "metadata": {},
   "outputs": [
    {
     "name": "stdout",
     "output_type": "stream",
     "text": [
      "best params: {'max_features': None, 'n_estimators': 700}\n",
      "best score: 0.929346141927\n"
     ]
    }
   ],
   "source": [
    "from sklearn.model_selection import GridSearchCV\n",
    "rf_cv_clf = RFC(random_state = 42)\n",
    "param_grid = {'n_estimators': [300, 500, 700, 900, 1000],\n",
    "              'max_features': ['sqrt', 'log2', None]\n",
    "              }\n",
    "\n",
    "grid_clf = GridSearchCV(rf_cv_clf, param_grid, cv = 5)\n",
    "grid_clf.fit(X_train, y_train)\n",
    "print('best params:', grid_clf.best_params_)\n",
    "print('best score:', grid_clf.best_score_)"
   ]
  },
  {
   "cell_type": "code",
   "execution_count": 34,
   "metadata": {},
   "outputs": [
    {
     "data": {
      "text/plain": [
       "RandomForestClassifier(bootstrap=True, class_weight=None, criterion='gini',\n",
       "            max_depth=None, max_features=None, max_leaf_nodes=None,\n",
       "            min_impurity_decrease=0.0, min_impurity_split=None,\n",
       "            min_samples_leaf=1, min_samples_split=2,\n",
       "            min_weight_fraction_leaf=0.0, n_estimators=700, n_jobs=1,\n",
       "            oob_score=False, random_state=42, verbose=0, warm_start=False)"
      ]
     },
     "execution_count": 34,
     "metadata": {},
     "output_type": "execute_result"
    }
   ],
   "source": [
    "rf_with_bestparams = RFC(random_state= 42,\n",
    "                         max_features = grid_clf.best_params_['max_features'],\n",
    "                         n_estimators = grid_clf.best_params_['n_estimators'])\n",
    "rf_with_bestparams.fit(X_train, y_train)"
   ]
  },
  {
   "cell_type": "markdown",
   "metadata": {},
   "source": [
    "- 변수의 중요도 평가"
   ]
  },
  {
   "cell_type": "code",
   "execution_count": 35,
   "metadata": {},
   "outputs": [
    {
     "data": {
      "image/png": "[encoded data removed]",
      "text/plain": [
       "<matplotlib.figure.Figure at 0x238a805afd0>"
      ]
     },
     "metadata": {},
     "output_type": "display_data"
    }
   ],
   "source": [
    "import matplotlib.pyplot as plt\n",
    "importance = rf_with_bestparams.feature_importances_\n",
    "indices = np.argsort(importance)\n",
    "\n",
    "indices = indices[0:]\n",
    "plt.figure(figsize=(10,10))\n",
    "plt.title('Feature Importances')\n",
    "plt.barh(range(len(indices)), importance[indices], color='b', align='center')\n",
    "plt.yticks(range(len(indices)), X_train.columns[indices])\n",
    "plt.xlabel('Relative Importance')\n",
    "plt.show()"
   ]
  },
  {
   "cell_type": "code",
   "execution_count": 36,
   "metadata": {},
   "outputs": [
    {
     "name": "stdout",
     "output_type": "stream",
     "text": [
      "Accuracy: 1.0\n",
      "Confusion matrix \n",
      " [[5978    0]\n",
      " [   0  476]]\n"
     ]
    }
   ],
   "source": [
    "# train accuracy\n",
    "y_pred = rf_with_bestparams.predict(X_train) # predicted class\n",
    "print('Accuracy:',accuracy_score(y_train, y_pred))\n",
    "# train confusion matrix\n",
    "print('Confusion matrix \\n',confusion_matrix(y_train, y_pred))"
   ]
  },
  {
   "cell_type": "code",
   "execution_count": 37,
   "metadata": {},
   "outputs": [
    {
     "name": "stdout",
     "output_type": "stream",
     "text": [
      "Accuracy: 0.922659920492\n",
      "Confusion matrix \n",
      " [[2547    4]\n",
      " [ 210    6]]\n"
     ]
    }
   ],
   "source": [
    "# test accuracy\n",
    "y_pred = rf_with_bestparams.predict(X_test) # predicted class\n",
    "print('Accuracy:',accuracy_score(y_test, y_pred))\n",
    "# test confusion matrix\n",
    "print('Confusion matrix \\n',confusion_matrix(y_test, y_pred))"
   ]
  },
  {
   "cell_type": "markdown",
   "metadata": {},
   "source": [
    "## Boosting"
   ]
  },
  {
   "cell_type": "code",
   "execution_count": 38,
   "metadata": {},
   "outputs": [
    {
     "name": "stderr",
     "output_type": "stream",
     "text": [
      "D:\\Users\\User\\Anaconda3\\lib\\site-packages\\sklearn\\cross_validation.py:41: DeprecationWarning: This module was deprecated in version 0.18 in favor of the model_selection module into which all the refactored classes and functions are moved. Also note that the interface of the new CV iterators are different from that of this module. This module will be removed in 0.20.\n",
      "  \"This module will be removed in 0.20.\", DeprecationWarning)\n"
     ]
    }
   ],
   "source": [
    "import xgboost as xgb\n",
    "gbm = xgb.XGBClassifier(max_depth = 3, n_estimators = 300, learning_rate = 0.05, seed = 0).fit(X_train, y_train)"
   ]
  },
  {
   "cell_type": "code",
   "execution_count": 39,
   "metadata": {
    "collapsed": true
   },
   "outputs": [],
   "source": [
    "?xgb.XGBClassifier"
   ]
  },
  {
   "cell_type": "markdown",
   "metadata": {},
   "source": [
    "- 교차검증을 통한 나무수 및 함수옵션 정하기"
   ]
  },
  {
   "cell_type": "code",
   "execution_count": 40,
   "metadata": {},
   "outputs": [
    {
     "name": "stdout",
     "output_type": "stream",
     "text": [
      "best params: {'learning_rate': 0.1, 'max_depth': 3, 'n_estimators': 300}\n",
      "best score: 0.927951657887\n"
     ]
    }
   ],
   "source": [
    "gbm_cv_clf = xgb.XGBClassifier(seed=42)\n",
    "gbm_params = {\n",
    "    'learning_rate': [0.01, 0.05, 0.1, 0.2],\n",
    "    'n_estimators': [100, 300, 500, 700, 900],\n",
    "    'max_depth': [1, 2, 3, 4],\n",
    "}\n",
    "\n",
    "grid_clf = GridSearchCV(gbm_cv_clf, gbm_params, cv = 5)\n",
    "grid_clf.fit(X_train, y_train)\n",
    "print('best params:', grid_clf.best_params_)\n",
    "print('best score:', grid_clf.best_score_)"
   ]
  },
  {
   "cell_type": "code",
   "execution_count": 41,
   "metadata": {},
   "outputs": [
    {
     "data": {
      "text/plain": [
       "XGBClassifier(base_score=0.5, colsample_bylevel=1, colsample_bytree=1,\n",
       "       gamma=0, learning_rate=0.1, max_delta_step=0, max_depth=3,\n",
       "       min_child_weight=1, missing=None, n_estimators=300, nthread=-1,\n",
       "       objective='binary:logistic', reg_alpha=0, reg_lambda=1,\n",
       "       scale_pos_weight=1, seed=0, silent=True, subsample=1)"
      ]
     },
     "execution_count": 41,
     "metadata": {},
     "output_type": "execute_result"
    }
   ],
   "source": [
    "gbm_with_bestparams = xgb.XGBClassifier(max_depth = grid_clf.best_params_['max_depth'],\n",
    "                                        n_estimators = grid_clf.best_params_['n_estimators'],\n",
    "                                        learning_rate = grid_clf.best_params_['learning_rate'],\n",
    "                                        seed = 0)\n",
    "gbm_with_bestparams.fit(X_train, y_train)"
   ]
  },
  {
   "cell_type": "markdown",
   "metadata": {},
   "source": [
    "- 변수 중요도 평가"
   ]
  },
  {
   "cell_type": "code",
   "execution_count": 42,
   "metadata": {},
   "outputs": [
    {
     "name": "stdout",
     "output_type": "stream",
     "text": [
      "[ 0.1698821   0.17470525  0.02143623  0.17041801  0.02197213  0.01125402\n",
      "  0.01446945  0.04126474  0.20525187  0.00803859  0.00428725  0.00160772\n",
      "  0.01714898  0.01393355  0.01714898  0.0096463   0.02679528  0.01822079\n",
      "  0.00321543  0.01446945  0.00750268  0.00428725  0.00428725  0.0096463\n",
      "  0.00214362  0.00696677]\n"
     ]
    }
   ],
   "source": [
    "# feature importance\n",
    "print(gbm_with_bestparams.feature_importances_)"
   ]
  },
  {
   "cell_type": "code",
   "execution_count": 43,
   "metadata": {},
   "outputs": [
    {
     "data": {
      "image/png": "[encoded data removed]",
      "text/plain": [
       "<matplotlib.figure.Figure at 0x238a80dee80>"
      ]
     },
     "metadata": {},
     "output_type": "display_data"
    }
   ],
   "source": [
    "importance = gbm_with_bestparams.feature_importances_\n",
    "indices = np.argsort(importance)\n",
    "\n",
    "indices = indices[0:]\n",
    "plt.figure(figsize=(10,10))\n",
    "plt.title('Feature Importances')\n",
    "plt.barh(range(len(indices)), importance[indices], color='b', align='center')\n",
    "plt.yticks(range(len(indices)), X_train.columns[indices])\n",
    "plt.xlabel('Relative Importance')\n",
    "plt.show()"
   ]
  },
  {
   "cell_type": "code",
   "execution_count": 44,
   "metadata": {},
   "outputs": [
    {
     "name": "stdout",
     "output_type": "stream",
     "text": [
      "Accuracy: 0.933994422064\n",
      "Confusion matrix \n",
      " [[5978    0]\n",
      " [ 426   50]]\n"
     ]
    }
   ],
   "source": [
    "# train accuracy\n",
    "y_pred = gbm_with_bestparams.predict(X_train) # predicted class\n",
    "print('Accuracy:',accuracy_score(y_train, y_pred))\n",
    "# train confusion matrix\n",
    "print('Confusion matrix \\n',confusion_matrix(y_train, y_pred))"
   ]
  },
  {
   "cell_type": "code",
   "execution_count": 45,
   "metadata": {},
   "outputs": [
    {
     "name": "stdout",
     "output_type": "stream",
     "text": [
      "Accuracy: 0.921575713769\n",
      "Confusion matrix \n",
      " [[2548    3]\n",
      " [ 214    2]]\n"
     ]
    }
   ],
   "source": [
    "# test accuracy\n",
    "y_pred = gbm_with_bestparams.predict(X_test) # predicted class\n",
    "print('Accuracy:',accuracy_score(y_test, y_pred))\n",
    "# test confusion matrix\n",
    "print('Confusion matrix \\n',confusion_matrix(y_test, y_pred))"
   ]
  },
  {
   "cell_type": "markdown",
   "metadata": {},
   "source": [
    "# 모형별 비교\n",
    "## 1. ROC & AUC"
   ]
  },
  {
   "cell_type": "code",
   "execution_count": 46,
   "metadata": {
    "collapsed": true
   },
   "outputs": [],
   "source": [
    "def get_roc_curve(y, y_pred):\n",
    "    fpr, tpr, thresholds = roc_curve(y, y_pred)\n",
    "    roc_auc = auc(fpr, tpr)\n",
    "    print(\"Area under the ROC curve:\", roc_auc)\n",
    "\n",
    "    plt.plot(fpr, tpr, color = \"darkorange\", label = 'ROC curve (area = %0.2f)' % roc_auc)\n",
    "    plt.plot([0,1],[0,1], color = 'navy', linestyle = '--')\n",
    "    plt.xlim([0,1])\n",
    "    plt.ylim([0, 1.05])\n",
    "    plt.xlabel('False Positive Rate')\n",
    "    plt.ylabel('True Positive Rate')\n",
    "    plt.legend(loc=\"lower right\")\n",
    "    plt.show()"
   ]
  },
  {
   "cell_type": "code",
   "execution_count": 47,
   "metadata": {},
   "outputs": [
    {
     "name": "stdout",
     "output_type": "stream",
     "text": [
      "Area under the ROC curve: 0.624580774424\n"
     ]
    },
    {
     "data": {
      "image/png": "[encoded data removed]",
      "text/plain": [
       "<matplotlib.figure.Figure at 0x238af40a048>"
      ]
     },
     "metadata": {},
     "output_type": "display_data"
    }
   ],
   "source": [
    "get_roc_curve(y_test, logreg.predict_proba(X_test)[:, 1])"
   ]
  },
  {
   "cell_type": "code",
   "execution_count": 48,
   "metadata": {},
   "outputs": [
    {
     "name": "stdout",
     "output_type": "stream",
     "text": [
      "Area under the ROC curve: 0.627747651611\n"
     ]
    },
    {
     "data": {
      "image/png": "[encoded data removed]",
      "text/plain": [
       "<matplotlib.figure.Figure at 0x238af439630>"
      ]
     },
     "metadata": {},
     "output_type": "display_data"
    }
   ],
   "source": [
    "get_roc_curve(y_test, ridge_clf.predict_proba(X_test)[:, 1])"
   ]
  },
  {
   "cell_type": "code",
   "execution_count": 49,
   "metadata": {},
   "outputs": [
    {
     "name": "stdout",
     "output_type": "stream",
     "text": [
      "Area under the ROC curve: 0.631567867358\n"
     ]
    },
    {
     "data": {
      "image/png": "[encoded data removed]",
      "text/plain": [
       "<matplotlib.figure.Figure at 0x238af5a7780>"
      ]
     },
     "metadata": {},
     "output_type": "display_data"
    }
   ],
   "source": [
    "get_roc_curve(y_test, lasso_clf.predict_proba(X_test)[:, 1])"
   ]
  },
  {
   "cell_type": "code",
   "execution_count": 50,
   "metadata": {},
   "outputs": [
    {
     "name": "stdout",
     "output_type": "stream",
     "text": [
      "Area under the ROC curve: 0.616646340578\n"
     ]
    },
    {
     "data": {
      "image/png": "[encoded data removed]",
      "text/plain": [
       "<matplotlib.figure.Figure at 0x238af652eb8>"
      ]
     },
     "metadata": {},
     "output_type": "display_data"
    }
   ],
   "source": [
    "get_roc_curve(y_test, rf_with_bestparams.predict_proba(X_test)[:, 1])"
   ]
  },
  {
   "cell_type": "code",
   "execution_count": 51,
   "metadata": {},
   "outputs": [
    {
     "name": "stdout",
     "output_type": "stream",
     "text": [
      "Area under the ROC curve: 0.630404561755\n"
     ]
    },
    {
     "data": {
      "image/png": "[encoded data removed]",
      "text/plain": [
       "<matplotlib.figure.Figure at 0x238af6c9208>"
      ]
     },
     "metadata": {},
     "output_type": "display_data"
    }
   ],
   "source": [
    "get_roc_curve(y_test, gbm_with_bestparams.predict_proba(X_test)[:, 1])"
   ]
  },
  {
   "cell_type": "markdown",
   "metadata": {},
   "source": [
    "## 2. Precision-Recall curve"
   ]
  },
  {
   "cell_type": "code",
   "execution_count": 52,
   "metadata": {},
   "outputs": [
    {
     "name": "stdout",
     "output_type": "stream",
     "text": [
      "Average precision-recall score: 0.12\n"
     ]
    },
    {
     "data": {
      "image/png": "[encoded data removed]",
      "text/plain": [
       "<matplotlib.figure.Figure at 0x238af6d7630>"
      ]
     },
     "metadata": {},
     "output_type": "display_data"
    }
   ],
   "source": [
    "from sklearn.metrics import average_precision_score, precision_recall_curve\n",
    "y_pred = logreg.predict_proba(X_test)[:, 1]\n",
    "average_precision = average_precision_score(y_test, y_pred)\n",
    "print('Average precision-recall score: {0:0.2f}'.format(average_precision))\n",
    "\n",
    "precision, recall, _ = precision_recall_curve(y_test, y_pred)\n",
    "\n",
    "plt.step(recall, precision, color='b', alpha=0.2,\n",
    "         where='post')\n",
    "plt.fill_between(recall, precision, step='post', alpha=0.2,\n",
    "                 color='b')\n",
    "plt.xlabel('Recall')\n",
    "plt.ylabel('Precision')\n",
    "plt.ylim([0.0, 1.05])\n",
    "plt.xlim([0.0, 1.0])\n",
    "plt.title('Precision-Recall curve: AP={0:0.2f}'.format(\n",
    "          average_precision))\n",
    "plt.show()"
   ]
  },
  {
   "cell_type": "code",
   "execution_count": 53,
   "metadata": {
    "collapsed": true
   },
   "outputs": [],
   "source": [
    "def get_pr_curve(y, y_pred):\n",
    "    average_precision = average_precision_score(y, y_pred)\n",
    "    print('Average precision-recall score: {0:0.2f}'.format(average_precision))\n",
    "\n",
    "    precision, recall, _ = precision_recall_curve(y, y_pred)\n",
    "    plt.step(recall, precision, color='b', alpha=0.2,\n",
    "             where='post')\n",
    "    plt.fill_between(recall, precision, step='post', alpha=0.2,\n",
    "                     color='b')\n",
    "    plt.xlabel('Recall')\n",
    "    plt.ylabel('Precision')\n",
    "    plt.ylim([0.0, 1.05])\n",
    "    plt.xlim([0.0, 1.0])\n",
    "    plt.title('Precision-Recall curve: AP={0:0.2f}'.format(\n",
    "              average_precision))\n",
    "    plt.show()"
   ]
  },
  {
   "cell_type": "code",
   "execution_count": 54,
   "metadata": {},
   "outputs": [
    {
     "name": "stdout",
     "output_type": "stream",
     "text": [
      "Average precision-recall score: 0.12\n"
     ]
    },
    {
     "data": {
      "image/png": "[encoded data removed]",
      "text/plain": [
       "<matplotlib.figure.Figure at 0x238af941518>"
      ]
     },
     "metadata": {},
     "output_type": "display_data"
    }
   ],
   "source": [
    "get_pr_curve(y_test, logreg.predict_proba(X_test)[:, 1])"
   ]
  },
  {
   "cell_type": "code",
   "execution_count": 55,
   "metadata": {},
   "outputs": [
    {
     "name": "stdout",
     "output_type": "stream",
     "text": [
      "Average precision-recall score: 0.16\n"
     ]
    },
    {
     "data": {
      "image/png": "[encoded data removed]",
      "text/plain": [
       "<matplotlib.figure.Figure at 0x238af9785f8>"
      ]
     },
     "metadata": {},
     "output_type": "display_data"
    }
   ],
   "source": [
    "get_pr_curve(y_test, gbm_with_bestparams.predict_proba(X_test)[:, 1])"
   ]
  },
  {
   "cell_type": "code",
   "execution_count": null,
   "metadata": {
    "collapsed": true
   },
   "outputs": [],
   "source": []
  }
 ],
 "metadata": {
  "anaconda-cloud": {},
  "kernelspec": {
   "display_name": "Python 3",
   "language": "python",
   "name": "python3"
  },
  "language_info": {
   "codemirror_mode": {
    "name": "ipython",
    "version": 3
   },
   "file_extension": ".py",
   "mimetype": "text/x-python",
   "name": "python",
   "nbconvert_exporter": "python",
   "pygments_lexer": "ipython3",
   "version": "3.6.1"
  }
 },
 "nbformat": 4,
 "nbformat_minor": 1
}
