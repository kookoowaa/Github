{
 "cells": [
  {
   "cell_type": "code",
   "execution_count": 3,
   "metadata": {
    "collapsed": true
   },
   "outputs": [],
   "source": [
    "import urllib.request\n",
    "import json"
   ]
  },
  {
   "cell_type": "code",
   "execution_count": 1,
   "metadata": {
    "collapsed": true
   },
   "outputs": [],
   "source": [
    "Native_app = '4f65d84fcc45e316aa4aadf9e210d669'\n",
    "Rest_api = '6aa285871118726cb2980a0100af2282'\n",
    "JavaScript =  '9cdd5a2fc9992768a8b4dd8e078ff2a6'\n",
    "Admin_key =  '5439a1823011e8d92e1fa19e46ff610d'\n",
    "Rest_access = 'mt1s-VPCop5f-0tu1dSBccLJ7rJYrP51ZK67Dgo8BJ4AAAFefhBX5w'"
   ]
  },
  {
   "cell_type": "code",
   "execution_count": 2,
   "metadata": {},
   "outputs": [
    {
     "ename": "NameError",
     "evalue": "name 'url' is not defined",
     "output_type": "error",
     "traceback": [
      "\u001b[1;31m---------------------------------------------------------------------------\u001b[0m",
      "\u001b[1;31mNameError\u001b[0m                                 Traceback (most recent call last)",
      "\u001b[1;32m<ipython-input-2-20be803fa762>\u001b[0m in \u001b[0;36m<module>\u001b[1;34m()\u001b[0m\n\u001b[1;32m----> 1\u001b[1;33m \u001b[0murl\u001b[0m\u001b[1;33m\u001b[0m\u001b[0m\n\u001b[0m",
      "\u001b[1;31mNameError\u001b[0m: name 'url' is not defined"
     ]
    }
   ],
   "source": [
    "url"
   ]
  },
  {
   "cell_type": "code",
   "execution_count": 4,
   "metadata": {
    "collapsed": true,
    "scrolled": true
   },
   "outputs": [],
   "source": [
    "KakaoAK = \"KakaoAK 6aa285871118726cb2980a0100af2282\"\n",
    "\n",
    "encText = urllib.parse.quote(\"과자는 역시\")\n",
    "url = \"https://dapi.kakao.com/v2/search/web?query=\" +encText\n",
    "\n",
    "\n",
    "request = urllib.request.Request(url)\n",
    "\n",
    "request.add_header(\"Authorization\", KakaoAK)\n",
    "\n",
    "response = urllib.request.urlopen(request)\n",
    "#rescode = response.getcode()\n",
    "#if(rescode==200):\n",
    "#  response_body = response.read()\n",
    "#  print(response_body.decode('utf-8'))\n",
    "#else:\n",
    "#  print(\"Error Code:\" + rescode)"
   ]
  },
  {
   "cell_type": "code",
   "execution_count": 5,
   "metadata": {
    "collapsed": true
   },
   "outputs": [],
   "source": [
    "t=[]\n",
    "for i in response:\n",
    "    t.append(json.loads(i))"
   ]
  },
  {
   "cell_type": "code",
   "execution_count": 6,
   "metadata": {},
   "outputs": [
    {
     "data": {
      "text/plain": [
       "1"
      ]
     },
     "execution_count": 6,
     "metadata": {},
     "output_type": "execute_result"
    }
   ],
   "source": [
    "len(t)"
   ]
  },
  {
   "cell_type": "code",
   "execution_count": 7,
   "metadata": {},
   "outputs": [
    {
     "data": {
      "text/plain": [
       "'말라더군요. “<b>역시</b> 고향 친구가 제일이다!” 지금 살고 있는 곳으로 이사를 온 건 얼추 30년 전입니다. 그렇지만 ‘객지 친구’의 거개가 그러하듯 자신에게 이익이 있을 때는 마치 간이라도 빼줄 듯 하더군요...'"
      ]
     },
     "execution_count": 7,
     "metadata": {},
     "output_type": "execute_result"
    }
   ],
   "source": [
    "t[0]['documents'][1]['contents']\n"
   ]
  },
  {
   "cell_type": "code",
   "execution_count": 8,
   "metadata": {},
   "outputs": [],
   "source": [
    "texts = []\n"
   ]
  },
  {
   "cell_type": "code",
   "execution_count": 9,
   "metadata": {},
   "outputs": [
    {
     "name": "stdout",
     "output_type": "stream",
     "text": [
      "말라더군요. “<b>역시</b> 고향 친구가 제일이다!” 지금 살고 있는 곳으로 이사를 온 건 얼추 30년 전입니다. 그렇지만 ‘객지 친구’의 거개가 그러하듯 자신에게 이익이 있을 때는 마치 간이라도 빼줄 듯 하더군요...\n",
      "수입<b>과자는</b> <b>역시</b>.. &gt; 자유수다 | 연애가이드 오늘 레드버켓에서 산 수입<b>과자</b>들은 <b>역시</b> 싸네요!! 저기 2개가 각각 천원씩이라니!ㅎㅎ 그리고 맛도 좋고~~양도 꽤나 괜찮고요 ㅎㅎ 이걸 하루씩 각각 1개씩 가져...\n",
      "세상에 처음 나와 먹는 먹거리인만큼 엄마아빠의 마음을 담아 정성으로 만들겠습니다. 오늘도 울 아이들과 함께 건강하시고 행복 가~득한 하루 보내세요. 감사합니다♡ 똘똘이 <b>과자는</b>..<b>역시</b> 사랑입니다^^ 김지희\n",
      "먹을게 없어 아쉬웠는데 집에돌아오는 길!오늘은 호두<b>과자</b> 사먹었어요~~ㅎ우와~~~ <b>역시</b> 갓 구운 뜨끈한 게 맛나네요^^저는 휴게소 꼭 들려서 뭐 하나는 꼭 사먹네요그래서 살이 안빠지나봐요ㅜㅜ, ,호두<b>과자는</b>,<b>역시</b>\n",
      "일본 미국 말고 다른 나라 <b>과자는</b> 음 뭐라해야되나 한국 입맛하고 좀 안 맞는 느낌? 중국 <b>과자는</b> 한국 업체가 찍어낸 <b>과자는</b> 우리 입맛에 맞는데, 로컬 업체꺼는 그닥;;; 한국인 입맛에는 일제 <b>과자</b>가 해외 <b>과자</b>...\n",
      "댓글 작성 권한이 있습니다. 로투스 커피 <b>과자</b> 50개입 맛있어요 문은경 로투스 커피 <b>과자</b> 50개입 커피<b>과자는</b> <b>역시</b> 로투스인듯! 김지은 주소: 607807 부산광역시 동래구 시실로 198 (명장동) 정은아(pak5444...\n",
      "소라형 <b>과자는</b> <b>역시</b> 청우식품께 짱^^ 0 쇼핑에 도움주는 제품 가이드, 쇼핑 비법 등을 등록합니다. 옥션에서 구입한 상품에 대한 상품평을 등록합니다\n",
      "옛날 <b>과자는</b> <b>역시</b> 옛날의 맛이 있어야 되는데, 받자 마자 뜯어서 먹어 봤는데, 구매 하기를 잘 했다 싶어 집니다. ?좋은 먹거리 많이 파시고, 부자 되시길\n",
      "게시물ID : freeboard_1218284 綾瀬はるか(가입일자:2014-10-31 방문횟수:328) http://todayhumor.com/?freeboard_1218284 <b>과자는</b> <b>역시</b> 홈런볼입니다\n"
     ]
    },
    {
     "data": {
      "text/plain": [
       "10"
      ]
     },
     "execution_count": 9,
     "metadata": {},
     "output_type": "execute_result"
    }
   ],
   "source": [
    "for i in range(1,len(t[0]['documents'])):\n",
    "    print(t[0]['documents'][i]['contents'])\n",
    "len(t[0]['documents'])"
   ]
  },
  {
   "cell_type": "code",
   "execution_count": null,
   "metadata": {
    "collapsed": true
   },
   "outputs": [],
   "source": []
  }
 ],
 "metadata": {
  "kernelspec": {
   "display_name": "Python 3",
   "language": "python",
   "name": "python3"
  },
  "language_info": {
   "codemirror_mode": {
    "name": "ipython",
    "version": 3
   },
   "file_extension": ".py",
   "mimetype": "text/x-python",
   "name": "python",
   "nbconvert_exporter": "python",
   "pygments_lexer": "ipython3",
   "version": "3.6.1"
  }
 },
 "nbformat": 4,
 "nbformat_minor": 2
}
