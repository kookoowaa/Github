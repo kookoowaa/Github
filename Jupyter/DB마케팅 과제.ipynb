{
 "cells": [
  {
   "cell_type": "code",
   "execution_count": 1,
   "metadata": {},
   "outputs": [
    {
     "name": "stderr",
     "output_type": "stream",
     "text": [
      "Loading required package: rJava\n",
      "Loading required package: xlsxjars\n",
      "\n",
      "Attaching package: 'dplyr'\n",
      "\n",
      "The following objects are masked from 'package:stats':\n",
      "\n",
      "    filter, lag\n",
      "\n",
      "The following objects are masked from 'package:base':\n",
      "\n",
      "    intersect, setdiff, setequal, union\n",
      "\n"
     ]
    }
   ],
   "source": [
    "library(xlsx)\n",
    "library(rgl)\n",
    "library(dplyr)"
   ]
  },
  {
   "cell_type": "code",
   "execution_count": 5,
   "metadata": {},
   "outputs": [],
   "source": [
    "\n",
    "mailorder = read.xlsx2('d:/github/r/database_marketing/hw2/mailorder.xls', 1)\n",
    "\n",
    "\n",
    "## Factor > numericd\n",
    "mailorder$id = as.numeric(as.character(mailorder$id))\n",
    "mailorder$monetary = as.numeric(as.character(mailorder$monetary))\n",
    "mailorder$recency = as.numeric(as.character(mailorder$recency))\n",
    "mailorder$frequency = as.numeric(as.character(mailorder$frequency))\n",
    "mailorder$duration = as.numeric(as.character(mailorder$duration))\n",
    "mailorder$purchase = as.numeric(as.character(mailorder$purchase))\n"
   ]
  },
  {
   "cell_type": "code",
   "execution_count": 2,
   "metadata": {},
   "outputs": [
    {
     "name": "stdout",
     "output_type": "stream",
     "text": [
      "500명 중 구매한 인원 수"
     ]
    },
    {
     "data": {
      "text/html": [
       "36"
      ],
      "text/latex": [
       "36"
      ],
      "text/markdown": [
       "36"
      ],
      "text/plain": [
       "[1] 36"
      ]
     },
     "metadata": {},
     "output_type": "display_data"
    },
    {
     "name": "stdout",
     "output_type": "stream",
     "text": [
      "맞춘 확률"
     ]
    },
    {
     "data": {
      "text/html": [
       "0.072"
      ],
      "text/latex": [
       "0.072"
      ],
      "text/markdown": [
       "0.072"
      ],
      "text/plain": [
       "[1] 0.072"
      ]
     },
     "metadata": {},
     "output_type": "display_data"
    }
   ],
   "source": [
    "## 1번 - 500명중에 hit-rate\n",
    "idx = sample(1:2000, size = 500)\n",
    "mail_sample = mailorder[idx,]\n",
    "cat('500명 중 구매한 인원 수')\n",
    "dim(mail_sample[mail_sample$purchase==1,])[1]\n",
    "cat('맞춘 확률')\n",
    "dim(mail_sample[mail_sample$purchase==1,])[1]/500\n",
    "\n",
    "## sampling\n",
    "mail_test = mailorder[1:2000,]\n",
    "mail_validation = mailorder[2001:4000,]"
   ]
  },
  {
   "cell_type": "code",
   "execution_count": 8,
   "metadata": {},
   "outputs": [
    {
     "data": {
      "text/html": [
       "0.0818547837188897"
      ],
      "text/latex": [
       "0.0818547837188897"
      ],
      "text/markdown": [
       "0.0818547837188897"
      ],
      "text/plain": [
       "[1] 0.08185478"
      ]
     },
     "metadata": {},
     "output_type": "display_data"
    },
    {
     "data": {
      "text/html": [
       "-0.134173187972971"
      ],
      "text/latex": [
       "-0.134173187972971"
      ],
      "text/markdown": [
       "-0.134173187972971"
      ],
      "text/plain": [
       "[1] -0.1341732"
      ]
     },
     "metadata": {},
     "output_type": "display_data"
    },
    {
     "data": {
      "text/html": [
       "0.120787929418124"
      ],
      "text/latex": [
       "0.120787929418124"
      ],
      "text/markdown": [
       "0.120787929418124"
      ],
      "text/plain": [
       "[1] 0.1207879"
      ]
     },
     "metadata": {},
     "output_type": "display_data"
    }
   ],
   "source": [
    "cor(purchase,monetary)\n",
    "cor(purchase, recency)\n",
    "cor(purchase, frequency)"
   ]
  },
  {
   "cell_type": "code",
   "execution_count": 11,
   "metadata": {},
   "outputs": [
    {
     "data": {},
     "metadata": {},
     "output_type": "display_data"
    }
   ],
   "source": [
    "plot3d(monetary, recency, frequency, col = color)"
   ]
  },
  {
   "cell_type": "code",
   "execution_count": 7,
   "metadata": {
    "collapsed": true
   },
   "outputs": [],
   "source": [
    "color = rep('red',4000)"
   ]
  },
  {
   "cell_type": "code",
   "execution_count": 9,
   "metadata": {
    "collapsed": true
   },
   "outputs": [],
   "source": [
    "color[purchase ==0] = 'blue'"
   ]
  },
  {
   "cell_type": "code",
   "execution_count": 10,
   "metadata": {},
   "outputs": [
    {
     "data": {
      "text/html": [
       "<ol class=list-inline>\n",
       "\t<li>'blue'</li>\n",
       "\t<li>'blue'</li>\n",
       "\t<li>'blue'</li>\n",
       "\t<li>'blue'</li>\n",
       "\t<li>'red'</li>\n",
       "\t<li>'blue'</li>\n",
       "</ol>\n"
      ],
      "text/latex": [
       "\\begin{enumerate*}\n",
       "\\item 'blue'\n",
       "\\item 'blue'\n",
       "\\item 'blue'\n",
       "\\item 'blue'\n",
       "\\item 'red'\n",
       "\\item 'blue'\n",
       "\\end{enumerate*}\n"
      ],
      "text/markdown": [
       "1. 'blue'\n",
       "2. 'blue'\n",
       "3. 'blue'\n",
       "4. 'blue'\n",
       "5. 'red'\n",
       "6. 'blue'\n",
       "\n",
       "\n"
      ],
      "text/plain": [
       "[1] \"blue\" \"blue\" \"blue\" \"blue\" \"red\"  \"blue\""
      ]
     },
     "metadata": {},
     "output_type": "display_data"
    }
   ],
   "source": [
    "head(color)"
   ]
  },
  {
   "cell_type": "code",
   "execution_count": 6,
   "metadata": {},
   "outputs": [],
   "source": [
    " FreqM = mailorder$frequency/mailorder$duration"
   ]
  },
  {
   "cell_type": "code",
   "execution_count": 7,
   "metadata": {
    "collapsed": true
   },
   "outputs": [],
   "source": [
    "newd = cbind(mailorder,FreqM)"
   ]
  },
  {
   "cell_type": "code",
   "execution_count": 15,
   "metadata": {},
   "outputs": [],
   "source": [
    "sortednewd = newd[order(newd$FreqM),][3501:4000,]"
   ]
  },
  {
   "cell_type": "code",
   "execution_count": 16,
   "metadata": {},
   "outputs": [
    {
     "data": {
      "text/html": [
       "<ol class=list-inline>\n",
       "\t<li>86</li>\n",
       "\t<li>8</li>\n",
       "</ol>\n"
      ],
      "text/latex": [
       "\\begin{enumerate*}\n",
       "\\item 86\n",
       "\\item 8\n",
       "\\end{enumerate*}\n"
      ],
      "text/markdown": [
       "1. 86\n",
       "2. 8\n",
       "\n",
       "\n"
      ],
      "text/plain": [
       "[1] 86  8"
      ]
     },
     "metadata": {},
     "output_type": "display_data"
    }
   ],
   "source": [
    "dim(sortednewd[sortednewd$purchase==1,])"
   ]
  },
  {
   "cell_type": "code",
   "execution_count": 17,
   "metadata": {},
   "outputs": [
    {
     "data": {
      "text/html": [
       "0.172"
      ],
      "text/latex": [
       "0.172"
      ],
      "text/markdown": [
       "0.172"
      ],
      "text/plain": [
       "[1] 0.172"
      ]
     },
     "metadata": {},
     "output_type": "display_data"
    }
   ],
   "source": [
    "86/500"
   ]
  },
  {
   "cell_type": "code",
   "execution_count": 19,
   "metadata": {},
   "outputs": [
    {
     "data": {
      "text/html": [
       "5.53846153846154"
      ],
      "text/latex": [
       "5.53846153846154"
      ],
      "text/markdown": [
       "5.53846153846154"
      ],
      "text/plain": [
       "[1] 5.538462"
      ]
     },
     "metadata": {},
     "output_type": "display_data"
    }
   ],
   "source": [
    "12/26\n"
   ]
  },
  {
   "cell_type": "code",
   "execution_count": null,
   "metadata": {
    "collapsed": true
   },
   "outputs": [],
   "source": []
  }
 ],
 "metadata": {
  "kernelspec": {
   "display_name": "R",
   "language": "R",
   "name": "ir"
  },
  "language_info": {
   "codemirror_mode": "r",
   "file_extension": ".r",
   "mimetype": "text/x-r-source",
   "name": "R",
   "pygments_lexer": "r",
   "version": "3.4.1"
  }
 },
 "nbformat": 4,
 "nbformat_minor": 2
}
