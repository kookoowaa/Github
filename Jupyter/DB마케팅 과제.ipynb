{
 "cells": [
  {
   "cell_type": "code",
   "execution_count": 4,
   "metadata": {
    "collapsed": true
   },
   "outputs": [],
   "source": [
    "library(xlsx)\n",
    "mailorder = read.xlsx2('d:/github/r/database_marketing/hw2/mailorder.xls', 1)\n",
    "\n",
    "\n",
    "## Factor > numericd\n",
    "mailorder$id = as.numeric(as.character(mailorder$id))\n",
    "mailorder$monetary = as.numeric(as.character(mailorder$monetary))\n",
    "mailorder$recency = as.numeric(as.character(mailorder$recency))\n",
    "mailorder$frequency = as.numeric(as.character(mailorder$frequency))\n",
    "mailorder$duration = as.numeric(as.character(mailorder$duration))\n",
    "mailorder$purchase = as.numeric(as.character(mailorder$purchase))\n"
   ]
  },
  {
   "cell_type": "code",
   "execution_count": 18,
   "metadata": {},
   "outputs": [
    {
     "name": "stdout",
     "output_type": "stream",
     "text": [
      "500명 중 구매한 인원 수"
     ]
    },
    {
     "data": {
      "text/html": [
       "47"
      ],
      "text/latex": [
       "47"
      ],
      "text/markdown": [
       "47"
      ],
      "text/plain": [
       "[1] 47"
      ]
     },
     "metadata": {},
     "output_type": "display_data"
    },
    {
     "name": "stdout",
     "output_type": "stream",
     "text": [
      "맞춘 확률"
     ]
    },
    {
     "data": {
      "text/html": [
       "0.094"
      ],
      "text/latex": [
       "0.094"
      ],
      "text/markdown": [
       "0.094"
      ],
      "text/plain": [
       "[1] 0.094"
      ]
     },
     "metadata": {},
     "output_type": "display_data"
    }
   ],
   "source": [
    "## 1번 - 500명중에 hit-rate\n",
    "idx = sample(1:2000, size = 500)\n",
    "mail_sample = mailorder[idx,]\n",
    "cat('500명 중 구매한 인원 수')\n",
    "dim(mail_sample[mail_sample$purchase==1,])[1]\n",
    "cat('맞춘 확률')\n",
    "dim(mail_sample[mail_sample$purchase==1,])[1]/500\n",
    "\n",
    "## sampling\n",
    "mail_test = mailorder[1:2000,]\n",
    "mail_validation = mailorder[2001:4000,]"
   ]
  }
 ],
 "metadata": {
  "kernelspec": {
   "display_name": "R",
   "language": "R",
   "name": "ir"
  },
  "language_info": {
   "codemirror_mode": "r",
   "file_extension": ".r",
   "mimetype": "text/x-r-source",
   "name": "R",
   "pygments_lexer": "r",
   "version": "3.4.1"
  }
 },
 "nbformat": 4,
 "nbformat_minor": 2
}
