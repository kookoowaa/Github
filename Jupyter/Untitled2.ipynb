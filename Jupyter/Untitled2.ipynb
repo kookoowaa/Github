{
 "cells": [
  {
   "cell_type": "code",
   "execution_count": 5,
   "metadata": {},
   "outputs": [],
   "source": [
    "x = seq(from = 0.5, to = 10, by = 0.5)\n",
    "y = 0.01*x^2 + 10*x"
   ]
  },
  {
   "cell_type": "code",
   "execution_count": 29,
   "metadata": {
    "collapsed": true
   },
   "outputs": [],
   "source": [
    "b = list(center = c(0,10), radius = 3)\n",
    "class(b) = 'circle'"
   ]
  },
  {
   "cell_type": "code",
   "execution_count": 41,
   "metadata": {},
   "outputs": [],
   "source": [
    "a4 = new('jjj')"
   ]
  },
  {
   "cell_type": "code",
   "execution_count": 42,
   "metadata": {},
   "outputs": [
    {
     "data": {
      "text/plain": [
       "An object of class \"jjj\"\n",
       "Slot \"name\":\n",
       "character(0)\n",
       "\n",
       "Slot \"salary\":\n",
       "<0 x 0 matrix>\n",
       "\n",
       "Slot \"union\":\n",
       "logical(0)\n"
      ]
     },
     "metadata": {},
     "output_type": "display_data"
    }
   ],
   "source": [
    "a4"
   ]
  },
  {
   "cell_type": "code",
   "execution_count": 43,
   "metadata": {
    "collapsed": true
   },
   "outputs": [],
   "source": [
    "a4@name = c('a','b')\n",
    "a4@salary = matrix(1,1,1)\n",
    "a4@union = c(T,F)"
   ]
  },
  {
   "cell_type": "code",
   "execution_count": 44,
   "metadata": {},
   "outputs": [
    {
     "data": {
      "text/plain": [
       "An object of class \"jjj\"\n",
       "Slot \"name\":\n",
       "[1] \"a\" \"b\"\n",
       "\n",
       "Slot \"salary\":\n",
       "     [,1]\n",
       "[1,]    1\n",
       "\n",
       "Slot \"union\":\n",
       "[1]  TRUE FALSE\n"
      ]
     },
     "metadata": {},
     "output_type": "display_data"
    }
   ],
   "source": [
    "a4"
   ]
  },
  {
   "cell_type": "code",
   "execution_count": 48,
   "metadata": {},
   "outputs": [
    {
     "data": {
      "text/html": [
       "'show'"
      ],
      "text/latex": [
       "'show'"
      ],
      "text/markdown": [
       "'show'"
      ],
      "text/plain": [
       "[1] \"show\""
      ]
     },
     "metadata": {},
     "output_type": "display_data"
    }
   ],
   "source": [
    "setMethod(\"show\", \"jjj\",\n",
    "function(object){\n",
    "cat(\"jjj like \", object@name,'\\n' )\n",
    "})"
   ]
  },
  {
   "cell_type": "code",
   "execution_count": null,
   "metadata": {
    "collapsed": true
   },
   "outputs": [],
   "source": []
  },
  {
   "cell_type": "code",
   "execution_count": 52,
   "metadata": {},
   "outputs": [],
   "source": [
    "setClass(\"rectecgular\",\n",
    "representation(\n",
    "xrange = 'numeric',\n",
    "yrange = 'numeric')\n",
    ")\n"
   ]
  },
  {
   "cell_type": "code",
   "execution_count": null,
   "metadata": {
    "collapsed": true
   },
   "outputs": [],
   "source": [
    "rect = new('rectecgular')\n",
    "\n",
    "rect@xrange = c(5, 10)\n",
    "rect@yrange = c(5, 10)\n",
    "\n",
    "rect"
   ]
  },
  {
   "cell_type": "code",
   "execution_count": 64,
   "metadata": {},
   "outputs": [
    {
     "data": {
      "text/html": [
       "'plot'"
      ],
      "text/latex": [
       "'plot'"
      ],
      "text/markdown": [
       "'plot'"
      ],
      "text/plain": [
       "[1] \"plot\""
      ]
     },
     "metadata": {},
     "output_type": "display_data"
    }
   ],
   "source": [
    "setMethod('plot', 'rectecgular',\n",
    "         function(x){\n",
    "             plot(0, 0, type = 'n', xlim = c(rect@xrange[1]-5,rect@xrange[2]+5), ylim = c(rect@yrange[1]-5, rect@yrange[2]+5))\n",
    "             rect(rect@xrange[1], rect@yrange[1], rect@xrange[2], rect@yrange[2], col = 'blue')\n",
    "         })"
   ]
  },
  {
   "cell_type": "code",
   "execution_count": 65,
   "metadata": {},
   "outputs": [
    {
     "data": {
      "image/png": "[encoded data removed]",
      "text/plain": [
       "plot without title"
      ]
     },
     "metadata": {},
     "output_type": "display_data"
    }
   ],
   "source": [
    "plot(rect) "
   ]
  },
  {
   "cell_type": "code",
   "execution_count": 66,
   "metadata": {
    "collapsed": true
   },
   "outputs": [],
   "source": [
    "save.image('d:/test.RData')"
   ]
  },
  {
   "cell_type": "code",
   "execution_count": 69,
   "metadata": {
    "collapsed": true
   },
   "outputs": [],
   "source": [
    "a = matrix(1:1000, 1000, 10, byrow = T)"
   ]
  },
  {
   "cell_type": "code",
   "execution_count": 73,
   "metadata": {},
   "outputs": [],
   "source": [
    "write.table(a, 'd:/table.csv', sep = ',')\n"
   ]
  },
  {
   "cell_type": "code",
   "execution_count": 80,
   "metadata": {
    "collapsed": true
   },
   "outputs": [],
   "source": [
    "aa = file('d:/table.csv', open = 'r')\n"
   ]
  },
  {
   "cell_type": "code",
   "execution_count": 81,
   "metadata": {},
   "outputs": [],
   "source": [
    "aaa = readLines(aa)"
   ]
  },
  {
   "cell_type": "code",
   "execution_count": 83,
   "metadata": {},
   "outputs": [
    {
     "name": "stdout",
     "output_type": "stream",
     "text": [
      " chr [1:1001] \"\\\"V1\\\",\\\"V2\\\",\\\"V3\\\",\\\"V4\\\",\\\"V5\\\",\\\"V6\\\",\\\"V7\\\",\\\"V8\\\",\\\"V9\\\",\\\"V10\\\"\" ...\n"
     ]
    }
   ],
   "source": [
    "str(aaa)"
   ]
  },
  {
   "cell_type": "code",
   "execution_count": 86,
   "metadata": {},
   "outputs": [
    {
     "data": {
      "text/html": [
       "<ol class=list-inline>\n",
       "\t<li>'&lt;!DOCTYPE html&gt;'</li>\n",
       "\t<li>'&lt;html lang=\"ko\"&gt;'</li>\n",
       "\t<li>'&lt;head&gt;'</li>\n",
       "\t<li><span style=white-space:pre-wrap>'    &lt;meta charset=\"utf-8\" /&gt;'</span></li>\n",
       "\t<li><span style=white-space:pre-wrap>'    &lt;meta name=\"author\" content=\"zoot235\" /&gt;'</span></li>\n",
       "\t<li><span style=white-space:pre-wrap>'    &lt;!-- for Facebook --&gt;'</span></li>\n",
       "\t<li><span style=white-space:pre-wrap>'    &lt;meta property=\"og:title\" content=\"[펌글]정규표현식 정리\" /&gt;'</span></li>\n",
       "\t<li><span style=white-space:pre-wrap>'    &lt;meta property=\"og:type\" content=\"article\" /&gt;'</span></li>\n",
       "\t<li><span style=white-space:pre-wrap>'    &lt;meta property=\"og:image\" content=\"http://md.egloos.com/egloos_logo.jpg\" /&gt;'</span></li>\n",
       "\t<li><span style=white-space:pre-wrap>'    &lt;meta property=\"og:url\" content=\"http://egloos.zum.com/zoot235/viewer/10088226\" /&gt;'</span></li>\n",
       "</ol>\n"
      ],
      "text/latex": [
       "\\begin{enumerate*}\n",
       "\\item '<!DOCTYPE html>'\n",
       "\\item '<html lang=\"ko\">'\n",
       "\\item '<head>'\n",
       "\\item '    <meta charset=\"utf-8\" />'\n",
       "\\item '    <meta name=\"author\" content=\"zoot235\" />'\n",
       "\\item '    <!-- for Facebook -->'\n",
       "\\item '    <meta property=\"og:title\" content=\"{[}펌글{]}정규표현식 정리\" />'\n",
       "\\item '    <meta property=\"og:type\" content=\"article\" />'\n",
       "\\item '    <meta property=\"og:image\" content=\"http://md.egloos.com/egloos\\_logo.jpg\" />'\n",
       "\\item '    <meta property=\"og:url\" content=\"http://egloos.zum.com/zoot235/viewer/10088226\" />'\n",
       "\\end{enumerate*}\n"
      ],
      "text/markdown": [
       "1. '&lt;!DOCTYPE html&gt;'\n",
       "2. '&lt;html lang=\"ko\"&gt;'\n",
       "3. '&lt;head&gt;'\n",
       "4. <span style=white-space:pre-wrap>'    &lt;meta charset=\"utf-8\" /&gt;'</span>\n",
       "5. <span style=white-space:pre-wrap>'    &lt;meta name=\"author\" content=\"zoot235\" /&gt;'</span>\n",
       "6. <span style=white-space:pre-wrap>'    &lt;!-- for Facebook --&gt;'</span>\n",
       "7. <span style=white-space:pre-wrap>'    &lt;meta property=\"og:title\" content=\"[펌글]정규표현식 정리\" /&gt;'</span>\n",
       "8. <span style=white-space:pre-wrap>'    &lt;meta property=\"og:type\" content=\"article\" /&gt;'</span>\n",
       "9. <span style=white-space:pre-wrap>'    &lt;meta property=\"og:image\" content=\"http://md.egloos.com/egloos_logo.jpg\" /&gt;'</span>\n",
       "10. <span style=white-space:pre-wrap>'    &lt;meta property=\"og:url\" content=\"http://egloos.zum.com/zoot235/viewer/10088226\" /&gt;'</span>\n",
       "\n",
       "\n"
      ],
      "text/plain": [
       " [1] \"<!DOCTYPE html>\"                                                                           \n",
       " [2] \"<html lang=\\\"ko\\\">\"                                                                        \n",
       " [3] \"<head>\"                                                                                    \n",
       " [4] \"    <meta charset=\\\"utf-8\\\" />\"                                                            \n",
       " [5] \"    <meta name=\\\"author\\\" content=\\\"zoot235\\\" />\"                                          \n",
       " [6] \"    <!-- for Facebook -->\"                                                                 \n",
       " [7] \"    <meta property=\\\"og:title\\\" content=\\\"[펌글]정규표현식 정리\\\" />\"                      \n",
       " [8] \"    <meta property=\\\"og:type\\\" content=\\\"article\\\" />\"                                     \n",
       " [9] \"    <meta property=\\\"og:image\\\" content=\\\"http://md.egloos.com/egloos_logo.jpg\\\" />\"       \n",
       "[10] \"    <meta property=\\\"og:url\\\" content=\\\"http://egloos.zum.com/zoot235/viewer/10088226\\\" />\""
      ]
     },
     "metadata": {},
     "output_type": "display_data"
    }
   ],
   "source": [
    "p = url('http://egloos.zum.com/zoot235/v/10088226', open = 'r')\n",
    "ch.vec = c()\n",
    "idx = 1\n",
    "while(TRUE)\n",
    "{\n",
    "tmp = readLines(p,n=1, warn = FALSE, encoding = 'UTF-8')\n",
    "if (length(tmp) == 0 ) break\n",
    "    ch.vec[idx] = tmp\n",
    "idx = idx + 1\n",
    "}\n",
    "close(p)\n",
    "ch.vec[1:10]"
   ]
  },
  {
   "cell_type": "code",
   "execution_count": 85,
   "metadata": {},
   "outputs": [
    {
     "name": "stderr",
     "output_type": "stream",
     "text": [
      "IOPub data rate exceeded.\n",
      "The notebook server will temporarily stop sending output\n",
      "to the client in order to avoid crashing it.\n",
      "To change this limit, set the config variable\n",
      "`--NotebookApp.iopub_data_rate_limit`.\n"
     ]
    }
   ],
   "source": [
    "ch.vec\n"
   ]
  }
 ],
 "metadata": {
  "kernelspec": {
   "display_name": "R",
   "language": "R",
   "name": "ir"
  },
  "language_info": {
   "codemirror_mode": "r",
   "file_extension": ".r",
   "mimetype": "text/x-r-source",
   "name": "R",
   "pygments_lexer": "r",
   "version": "3.4.1"
  }
 },
 "nbformat": 4,
 "nbformat_minor": 2
}
