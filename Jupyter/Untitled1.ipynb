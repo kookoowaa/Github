{
 "cells": [
  {
   "cell_type": "code",
   "execution_count": 1,
   "metadata": {},
   "outputs": [
    {
     "name": "stderr",
     "output_type": "stream",
     "text": [
      "Loading required package: Matrix\n",
      "Loading required package: foreach\n",
      "Loaded glmnet 2.0-10\n",
      "\n"
     ]
    },
    {
     "data": {
      "text/html": [
       "<table>\n",
       "<thead><tr><th scope=col>Package</th><th scope=col>LibPath</th><th scope=col>Item</th><th scope=col>Title</th></tr></thead>\n",
       "<tbody>\n",
       "\t<tr><td>glmnet                                </td><td>D:/Data/Documents/R/win-library/3.4   </td><td>beta_CVX (CVXResults)                 </td><td>Simulated data for the glmnet vignette</td></tr>\n",
       "\t<tr><td>glmnet                                </td><td>D:/Data/Documents/R/win-library/3.4   </td><td>x (BinomialExample)                   </td><td>Simulated data for the glmnet vignette</td></tr>\n",
       "\t<tr><td>glmnet                                </td><td>D:/Data/Documents/R/win-library/3.4   </td><td>x (CoxExample)                        </td><td>Simulated data for the glmnet vignette</td></tr>\n",
       "\t<tr><td>glmnet                                </td><td>D:/Data/Documents/R/win-library/3.4   </td><td>x (MultiGaussianExample)              </td><td>Simulated data for the glmnet vignette</td></tr>\n",
       "\t<tr><td>glmnet                                </td><td>D:/Data/Documents/R/win-library/3.4   </td><td>x (MultinomialExample)                </td><td>Simulated data for the glmnet vignette</td></tr>\n",
       "\t<tr><td>glmnet                                </td><td>D:/Data/Documents/R/win-library/3.4   </td><td>x (PoissonExample)                    </td><td>Simulated data for the glmnet vignette</td></tr>\n",
       "\t<tr><td>glmnet                                </td><td>D:/Data/Documents/R/win-library/3.4   </td><td>x (QuickStartExample)                 </td><td>Simulated data for the glmnet vignette</td></tr>\n",
       "\t<tr><td>glmnet                                </td><td>D:/Data/Documents/R/win-library/3.4   </td><td>x (SparseExample)                     </td><td>Simulated data for the glmnet vignette</td></tr>\n",
       "\t<tr><td>glmnet                                </td><td>D:/Data/Documents/R/win-library/3.4   </td><td>y (BinomialExample)                   </td><td>Simulated data for the glmnet vignette</td></tr>\n",
       "\t<tr><td>glmnet                                </td><td>D:/Data/Documents/R/win-library/3.4   </td><td>y (CoxExample)                        </td><td>Simulated data for the glmnet vignette</td></tr>\n",
       "\t<tr><td>glmnet                                </td><td>D:/Data/Documents/R/win-library/3.4   </td><td>y (MultiGaussianExample)              </td><td>Simulated data for the glmnet vignette</td></tr>\n",
       "\t<tr><td>glmnet                                </td><td>D:/Data/Documents/R/win-library/3.4   </td><td>y (MultinomialExample)                </td><td>Simulated data for the glmnet vignette</td></tr>\n",
       "\t<tr><td>glmnet                                </td><td>D:/Data/Documents/R/win-library/3.4   </td><td>y (PoissonExample)                    </td><td>Simulated data for the glmnet vignette</td></tr>\n",
       "\t<tr><td>glmnet                                </td><td>D:/Data/Documents/R/win-library/3.4   </td><td>y (QuickStartExample)                 </td><td>Simulated data for the glmnet vignette</td></tr>\n",
       "\t<tr><td>glmnet                                </td><td>D:/Data/Documents/R/win-library/3.4   </td><td>y (SparseExample)                     </td><td>Simulated data for the glmnet vignette</td></tr>\n",
       "</tbody>\n",
       "</table>\n"
      ],
      "text/latex": [
       "\\begin{tabular}{llll}\n",
       " Package & LibPath & Item & Title\\\\\n",
       "\\hline\n",
       "\t glmnet                                 & D:/Data/Documents/R/win-library/3.4    & beta\\_CVX (CVXResults)                & Simulated data for the glmnet vignette\\\\\n",
       "\t glmnet                                 & D:/Data/Documents/R/win-library/3.4    & x (BinomialExample)                    & Simulated data for the glmnet vignette\\\\\n",
       "\t glmnet                                 & D:/Data/Documents/R/win-library/3.4    & x (CoxExample)                         & Simulated data for the glmnet vignette\\\\\n",
       "\t glmnet                                 & D:/Data/Documents/R/win-library/3.4    & x (MultiGaussianExample)               & Simulated data for the glmnet vignette\\\\\n",
       "\t glmnet                                 & D:/Data/Documents/R/win-library/3.4    & x (MultinomialExample)                 & Simulated data for the glmnet vignette\\\\\n",
       "\t glmnet                                 & D:/Data/Documents/R/win-library/3.4    & x (PoissonExample)                     & Simulated data for the glmnet vignette\\\\\n",
       "\t glmnet                                 & D:/Data/Documents/R/win-library/3.4    & x (QuickStartExample)                  & Simulated data for the glmnet vignette\\\\\n",
       "\t glmnet                                 & D:/Data/Documents/R/win-library/3.4    & x (SparseExample)                      & Simulated data for the glmnet vignette\\\\\n",
       "\t glmnet                                 & D:/Data/Documents/R/win-library/3.4    & y (BinomialExample)                    & Simulated data for the glmnet vignette\\\\\n",
       "\t glmnet                                 & D:/Data/Documents/R/win-library/3.4    & y (CoxExample)                         & Simulated data for the glmnet vignette\\\\\n",
       "\t glmnet                                 & D:/Data/Documents/R/win-library/3.4    & y (MultiGaussianExample)               & Simulated data for the glmnet vignette\\\\\n",
       "\t glmnet                                 & D:/Data/Documents/R/win-library/3.4    & y (MultinomialExample)                 & Simulated data for the glmnet vignette\\\\\n",
       "\t glmnet                                 & D:/Data/Documents/R/win-library/3.4    & y (PoissonExample)                     & Simulated data for the glmnet vignette\\\\\n",
       "\t glmnet                                 & D:/Data/Documents/R/win-library/3.4    & y (QuickStartExample)                  & Simulated data for the glmnet vignette\\\\\n",
       "\t glmnet                                 & D:/Data/Documents/R/win-library/3.4    & y (SparseExample)                      & Simulated data for the glmnet vignette\\\\\n",
       "\\end{tabular}\n"
      ],
      "text/markdown": [
       "\n",
       "Package | LibPath | Item | Title | \n",
       "|---|---|---|---|---|---|---|---|---|---|---|---|---|---|---|\n",
       "| glmnet                                 | D:/Data/Documents/R/win-library/3.4    | beta_CVX (CVXResults)                  | Simulated data for the glmnet vignette | \n",
       "| glmnet                                 | D:/Data/Documents/R/win-library/3.4    | x (BinomialExample)                    | Simulated data for the glmnet vignette | \n",
       "| glmnet                                 | D:/Data/Documents/R/win-library/3.4    | x (CoxExample)                         | Simulated data for the glmnet vignette | \n",
       "| glmnet                                 | D:/Data/Documents/R/win-library/3.4    | x (MultiGaussianExample)               | Simulated data for the glmnet vignette | \n",
       "| glmnet                                 | D:/Data/Documents/R/win-library/3.4    | x (MultinomialExample)                 | Simulated data for the glmnet vignette | \n",
       "| glmnet                                 | D:/Data/Documents/R/win-library/3.4    | x (PoissonExample)                     | Simulated data for the glmnet vignette | \n",
       "| glmnet                                 | D:/Data/Documents/R/win-library/3.4    | x (QuickStartExample)                  | Simulated data for the glmnet vignette | \n",
       "| glmnet                                 | D:/Data/Documents/R/win-library/3.4    | x (SparseExample)                      | Simulated data for the glmnet vignette | \n",
       "| glmnet                                 | D:/Data/Documents/R/win-library/3.4    | y (BinomialExample)                    | Simulated data for the glmnet vignette | \n",
       "| glmnet                                 | D:/Data/Documents/R/win-library/3.4    | y (CoxExample)                         | Simulated data for the glmnet vignette | \n",
       "| glmnet                                 | D:/Data/Documents/R/win-library/3.4    | y (MultiGaussianExample)               | Simulated data for the glmnet vignette | \n",
       "| glmnet                                 | D:/Data/Documents/R/win-library/3.4    | y (MultinomialExample)                 | Simulated data for the glmnet vignette | \n",
       "| glmnet                                 | D:/Data/Documents/R/win-library/3.4    | y (PoissonExample)                     | Simulated data for the glmnet vignette | \n",
       "| glmnet                                 | D:/Data/Documents/R/win-library/3.4    | y (QuickStartExample)                  | Simulated data for the glmnet vignette | \n",
       "| glmnet                                 | D:/Data/Documents/R/win-library/3.4    | y (SparseExample)                      | Simulated data for the glmnet vignette | \n",
       "\n",
       "\n"
      ],
      "text/plain": [
       "      Package LibPath                             Item                    \n",
       " [1,] glmnet  D:/Data/Documents/R/win-library/3.4 beta_CVX (CVXResults)   \n",
       " [2,] glmnet  D:/Data/Documents/R/win-library/3.4 x (BinomialExample)     \n",
       " [3,] glmnet  D:/Data/Documents/R/win-library/3.4 x (CoxExample)          \n",
       " [4,] glmnet  D:/Data/Documents/R/win-library/3.4 x (MultiGaussianExample)\n",
       " [5,] glmnet  D:/Data/Documents/R/win-library/3.4 x (MultinomialExample)  \n",
       " [6,] glmnet  D:/Data/Documents/R/win-library/3.4 x (PoissonExample)      \n",
       " [7,] glmnet  D:/Data/Documents/R/win-library/3.4 x (QuickStartExample)   \n",
       " [8,] glmnet  D:/Data/Documents/R/win-library/3.4 x (SparseExample)       \n",
       " [9,] glmnet  D:/Data/Documents/R/win-library/3.4 y (BinomialExample)     \n",
       "[10,] glmnet  D:/Data/Documents/R/win-library/3.4 y (CoxExample)          \n",
       "[11,] glmnet  D:/Data/Documents/R/win-library/3.4 y (MultiGaussianExample)\n",
       "[12,] glmnet  D:/Data/Documents/R/win-library/3.4 y (MultinomialExample)  \n",
       "[13,] glmnet  D:/Data/Documents/R/win-library/3.4 y (PoissonExample)      \n",
       "[14,] glmnet  D:/Data/Documents/R/win-library/3.4 y (QuickStartExample)   \n",
       "[15,] glmnet  D:/Data/Documents/R/win-library/3.4 y (SparseExample)       \n",
       "      Title                                 \n",
       " [1,] Simulated data for the glmnet vignette\n",
       " [2,] Simulated data for the glmnet vignette\n",
       " [3,] Simulated data for the glmnet vignette\n",
       " [4,] Simulated data for the glmnet vignette\n",
       " [5,] Simulated data for the glmnet vignette\n",
       " [6,] Simulated data for the glmnet vignette\n",
       " [7,] Simulated data for the glmnet vignette\n",
       " [8,] Simulated data for the glmnet vignette\n",
       " [9,] Simulated data for the glmnet vignette\n",
       "[10,] Simulated data for the glmnet vignette\n",
       "[11,] Simulated data for the glmnet vignette\n",
       "[12,] Simulated data for the glmnet vignette\n",
       "[13,] Simulated data for the glmnet vignette\n",
       "[14,] Simulated data for the glmnet vignette\n",
       "[15,] Simulated data for the glmnet vignette"
      ]
     },
     "metadata": {},
     "output_type": "display_data"
    }
   ],
   "source": [
    "library(glmnet)\n",
    "package_data_list = data(package='glmnet')\n",
    "package_data_list$results"
   ]
  },
  {
   "cell_type": "code",
   "execution_count": 3,
   "metadata": {
    "collapsed": true
   },
   "outputs": [],
   "source": [
    "data(BinomialExample)"
   ]
  },
  {
   "cell_type": "code",
   "execution_count": 5,
   "metadata": {},
   "outputs": [
    {
     "data": {
      "text/html": [
       "<table>\n",
       "<thead><tr><th scope=col>1</th><th scope=col>2</th></tr></thead>\n",
       "<tbody>\n",
       "\t<tr><td>0</td><td>0</td></tr>\n",
       "\t<tr><td>1</td><td>1</td></tr>\n",
       "\t<tr><td>1</td><td>1</td></tr>\n",
       "\t<tr><td>0</td><td>0</td></tr>\n",
       "\t<tr><td>1</td><td>1</td></tr>\n",
       "</tbody>\n",
       "</table>\n"
      ],
      "text/latex": [
       "\\begin{tabular}{ll}\n",
       " 1 & 2\\\\\n",
       "\\hline\n",
       "\t 0 & 0\\\\\n",
       "\t 1 & 1\\\\\n",
       "\t 1 & 1\\\\\n",
       "\t 0 & 0\\\\\n",
       "\t 1 & 1\\\\\n",
       "\\end{tabular}\n"
      ],
      "text/markdown": [
       "\n",
       "1 | 2 | \n",
       "|---|---|---|---|---|\n",
       "| 0 | 0 | \n",
       "| 1 | 1 | \n",
       "| 1 | 1 | \n",
       "| 0 | 0 | \n",
       "| 1 | 1 | \n",
       "\n",
       "\n"
      ],
      "text/plain": [
       "     1 2\n",
       "[1,] 0 0\n",
       "[2,] 1 1\n",
       "[3,] 1 1\n",
       "[4,] 0 0\n",
       "[5,] 1 1"
      ]
     },
     "metadata": {},
     "output_type": "display_data"
    }
   ],
   "source": [
    "fit = glmnet(x, y, family = 'binomial')\n",
    "predict(fit, newx = x[1:5,], type = 'class', s=c(0.05,0.01))\n",
    "        "
   ]
  }
 ],
 "metadata": {
  "kernelspec": {
   "display_name": "R",
   "language": "R",
   "name": "ir"
  },
  "language_info": {
   "codemirror_mode": "r",
   "file_extension": ".r",
   "mimetype": "text/x-r-source",
   "name": "R",
   "pygments_lexer": "r",
   "version": "3.4.1"
  }
 },
 "nbformat": 4,
 "nbformat_minor": 2
}
