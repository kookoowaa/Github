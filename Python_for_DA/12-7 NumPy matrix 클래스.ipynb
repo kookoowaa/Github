{
 "cells": [
  {
   "cell_type": "markdown",
   "metadata": {},
   "source": [
    "# 12. 고급 NumPy\n",
    "> ## NumPy matrix 클래스\n"
   ]
  },
  {
   "cell_type": "code",
   "execution_count": 1,
   "metadata": {},
   "outputs": [],
   "source": [
    "import numpy as np\n",
    "import pandas as pd\n",
    "from numpy.random import randn"
   ]
  },
  {
   "cell_type": "code",
   "execution_count": 2,
   "metadata": {},
   "outputs": [],
   "source": [
    "X = randn(16).reshape(4,4)"
   ]
  },
  {
   "cell_type": "code",
   "execution_count": 3,
   "metadata": {},
   "outputs": [
    {
     "data": {
      "text/plain": [
       "array([[-0.28167647,  0.90860727, -0.65304876,  0.75758635],\n",
       "       [-0.9261442 ,  0.38447604, -1.17859115, -0.39803793],\n",
       "       [ 0.44084365,  0.01350015,  0.92011589,  0.89576789],\n",
       "       [-0.76822277, -0.6609727 ,  0.05777928, -0.60167201]])"
      ]
     },
     "execution_count": 3,
     "metadata": {},
     "output_type": "execute_result"
    }
   ],
   "source": [
    "X"
   ]
  },
  {
   "cell_type": "code",
   "execution_count": 6,
   "metadata": {},
   "outputs": [
    {
     "data": {
      "text/plain": [
       "array([-0.28167647, -0.9261442 ,  0.44084365, -0.76822277])"
      ]
     },
     "execution_count": 6,
     "metadata": {},
     "output_type": "execute_result"
    }
   ],
   "source": [
    "X[:,0]"
   ]
  },
  {
   "cell_type": "markdown",
   "metadata": {},
   "source": [
    "- 2차원 배열에서 하나의 행이나 칼럼을 선택하면 1차원 배열을 반환"
   ]
  },
  {
   "cell_type": "code",
   "execution_count": 7,
   "metadata": {},
   "outputs": [
    {
     "data": {
      "text/plain": [
       "array([[-0.28167647],\n",
       "       [-0.9261442 ],\n",
       "       [ 0.44084365],\n",
       "       [-0.76822277]])"
      ]
     },
     "execution_count": 7,
     "metadata": {},
     "output_type": "execute_result"
    }
   ],
   "source": [
    "y = X[:, :1]\n",
    "y"
   ]
  },
  {
   "cell_type": "code",
   "execution_count": 8,
   "metadata": {},
   "outputs": [
    {
     "data": {
      "text/plain": [
       "array([[-0.45007665]])"
      ]
     },
     "execution_count": 8,
     "metadata": {},
     "output_type": "execute_result"
    }
   ],
   "source": [
    "np.dot(y.T, np.dot(X,y))"
   ]
  },
  {
   "cell_type": "code",
   "execution_count": 10,
   "metadata": {},
   "outputs": [
    {
     "data": {
      "text/plain": [
       "matrix([[-0.28167647,  0.90860727, -0.65304876,  0.75758635],\n",
       "        [-0.9261442 ,  0.38447604, -1.17859115, -0.39803793],\n",
       "        [ 0.44084365,  0.01350015,  0.92011589,  0.89576789],\n",
       "        [-0.76822277, -0.6609727 ,  0.05777928, -0.60167201]])"
      ]
     },
     "execution_count": 10,
     "metadata": {},
     "output_type": "execute_result"
    }
   ],
   "source": [
    "Xm = np.matrix(X)\n",
    "ym = Xm[:,0]\n",
    "Xm"
   ]
  },
  {
   "cell_type": "code",
   "execution_count": 12,
   "metadata": {},
   "outputs": [
    {
     "data": {
      "text/plain": [
       "matrix([[-0.28167647],\n",
       "        [-0.9261442 ],\n",
       "        [ 0.44084365],\n",
       "        [-0.76822277]])"
      ]
     },
     "execution_count": 12,
     "metadata": {},
     "output_type": "execute_result"
    }
   ],
   "source": [
    "ym"
   ]
  },
  {
   "cell_type": "code",
   "execution_count": 13,
   "metadata": {},
   "outputs": [
    {
     "data": {
      "text/plain": [
       "matrix([[ 1.00000000e+00, -5.32907052e-15,  0.00000000e+00,\n",
       "         -7.10542736e-15],\n",
       "        [-7.10542736e-15,  1.00000000e+00, -1.42108547e-14,\n",
       "          5.32907052e-15],\n",
       "        [-1.06581410e-14,  1.06581410e-14,  1.00000000e+00,\n",
       "          5.32907052e-15],\n",
       "        [ 7.10542736e-15, -7.10542736e-15,  1.42108547e-14,\n",
       "          1.00000000e+00]])"
      ]
     },
     "execution_count": 13,
     "metadata": {},
     "output_type": "execute_result"
    }
   ],
   "source": [
    "Xm.I*Xm"
   ]
  }
 ],
 "metadata": {
  "kernelspec": {
   "display_name": "Python 3",
   "language": "python",
   "name": "python3"
  },
  "language_info": {
   "codemirror_mode": {
    "name": "ipython",
    "version": 3
   },
   "file_extension": ".py",
   "mimetype": "text/x-python",
   "name": "python",
   "nbconvert_exporter": "python",
   "pygments_lexer": "ipython3",
   "version": "3.6.4"
  }
 },
 "nbformat": 4,
 "nbformat_minor": 2
}
