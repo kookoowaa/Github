{
 "cells": [
  {
   "cell_type": "markdown",
   "metadata": {},
   "source": [
    "# 4장 NumPy 기본\n",
    "# 4-6 난수 생성"
   ]
  },
  {
   "cell_type": "code",
   "execution_count": 1,
   "metadata": {
    "collapsed": true
   },
   "outputs": [],
   "source": [
    "import numpy as np"
   ]
  },
  {
   "cell_type": "code",
   "execution_count": 2,
   "metadata": {},
   "outputs": [
    {
     "data": {
      "text/plain": [
       "array([[-0.61369698,  0.77600756, -0.45091268, -0.81302797],\n",
       "       [ 1.52672892, -1.40136161,  0.93052793, -0.16159402],\n",
       "       [ 0.57915932,  0.86181919,  1.38428342, -1.05458921],\n",
       "       [ 0.29570222, -0.08990252,  0.49468815, -0.82720882]])"
      ]
     },
     "execution_count": 2,
     "metadata": {},
     "output_type": "execute_result"
    }
   ],
   "source": [
    "samples = np.random.normal(size=(4,4))\n",
    "samples"
   ]
  },
  {
   "cell_type": "markdown",
   "metadata": {},
   "source": [
    "이하 numpy.random 함수"
   ]
  },
  {
   "cell_type": "markdown",
   "metadata": {},
   "source": [
    "함수 | 설명\n",
    "---|---\n",
    "seed| 난수 발생기의 시드 지정\n",
    "permutation| 순서를 임의로 바꾸거나 임의의 순영을 반환\n",
    "shuffle| 리스트나 배열의 순서를 뒤섞음\n",
    "rand|균등분포에서 표본을 추출\n",
    "randint| 주어진 최소/최대 번위 안에서 임의의 난수를 추출\n",
    "randn| n(0,1)에서 표본을 추출\n",
    "binomial| 이항분포에서 표본 추출\n",
    "normal| 정규분포에서 표본 추출\n",
    "beta| 베타분포에서 표본 추출\n",
    "chisquare| 카이제곱분포에서 표본 추출\n",
    "gamma| 감마분포에서 표본 추출\n",
    "uniform| 균등(0,1)분포에서 표본 추출"
   ]
  }
 ],
 "metadata": {
  "kernelspec": {
   "display_name": "Python 3",
   "language": "python",
   "name": "python3"
  },
  "language_info": {
   "codemirror_mode": {
    "name": "ipython",
    "version": 3
   },
   "file_extension": ".py",
   "mimetype": "text/x-python",
   "name": "python",
   "nbconvert_exporter": "python",
   "pygments_lexer": "ipython3",
   "version": "3.6.1"
  }
 },
 "nbformat": 4,
 "nbformat_minor": 2
}
