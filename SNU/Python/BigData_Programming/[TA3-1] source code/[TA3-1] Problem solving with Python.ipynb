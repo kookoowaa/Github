{
 "cells": [
  {
   "cell_type": "markdown",
   "metadata": {},
   "source": [
    "## 실습 3-1-1. 약수와 배수\n",
    "- 주어진 정수들 중 입력받은 수의 약수와 배수의 합을 출력한다.\n",
    "<p>\n",
    "    <br>**<입력 형식>**\n",
    "    <br>- 첫 줄에 정수의 개수 n (1<= n <=40)을 입력받는다.\n",
    "    <br>- 둘째 줄에는 n개의 정수를 한 줄에 입력 받는다.\n",
    "    <br>- 셋째 줄에는 약수와 배수를 구할 정수 m(1<=m<=100)을 입력 받는다.\n",
    "<br>**<출력 형식>**\n",
    "    <br>- 첫 줄에는 정수 m의 약수의 합을 둘째 줄에는 정수 m의 배수의 합을 출력한다.</p>\n",
    "<br>\n",
    "- link: http://www.jungol.co.kr/bbs/board.php?bo_table=pbank&wr_id=351&sca=2020\n",
    "</p>"
   ]
  },
  {
   "cell_type": "code",
   "execution_count": null,
   "metadata": {
    "collapsed": false
   },
   "outputs": [],
   "source": [
    "n = int(input())\n",
    "integers = [int(i) for i in input().split()]\n",
    "m = int(input())"
   ]
  },
  {
   "cell_type": "code",
   "execution_count": null,
   "metadata": {
    "collapsed": false
   },
   "outputs": [],
   "source": [
    "divisor_sum = 0\n",
    "multiple_sum = 0\n",
    "for i in integers:\n",
    "    if m%i == 0:\n",
    "        divisor_sum += i\n",
    "    # 약수이면서 배수인 경우(i=m)도 있으므로 if문 두개를 활용한다\n",
    "    if i%m == 0:        \n",
    "        multiple_sum += i"
   ]
  },
  {
   "cell_type": "code",
   "execution_count": 36,
   "metadata": {
    "collapsed": false
   },
   "outputs": [
    {
     "ename": "NameError",
     "evalue": "name 'divisor_sum' is not defined",
     "output_type": "error",
     "traceback": [
      "\u001b[0;31m---------------------------------------------------------------------------\u001b[0m",
      "\u001b[0;31mNameError\u001b[0m                                 Traceback (most recent call last)",
      "\u001b[0;32m<ipython-input-36-5beb29a89cde>\u001b[0m in \u001b[0;36m<module>\u001b[0;34m()\u001b[0m\n\u001b[0;32m----> 1\u001b[0;31m \u001b[0mprint\u001b[0m\u001b[1;33m(\u001b[0m\u001b[0mdivisor_sum\u001b[0m\u001b[1;33m)\u001b[0m\u001b[1;33m\u001b[0m\u001b[0m\n\u001b[0m\u001b[1;32m      2\u001b[0m \u001b[0mprint\u001b[0m\u001b[1;33m(\u001b[0m\u001b[0mmultiple_sum\u001b[0m\u001b[1;33m)\u001b[0m\u001b[1;33m\u001b[0m\u001b[0m\n",
      "\u001b[0;31mNameError\u001b[0m: name 'divisor_sum' is not defined"
     ]
    }
   ],
   "source": [
    "print(divisor_sum)\n",
    "print(multiple_sum)"
   ]
  },
  {
   "cell_type": "markdown",
   "metadata": {},
   "source": [
    "## 실습 3-1-2. 10진수를 이진수로\n",
    "- 10진수를 입력받아 2진수로 변환하는 프로그램을 작성하시오.\n",
    "<p>\n",
    "    <br>**<입력 형식>**\n",
    "    <br>- 정수 N을 입력받는다. (1 <= N <= 231-1)\n",
    "<br>**<출력 형식>**\n",
    "    <br>- 입력된 10진수를 2진수로 변환하여 출력한다.\n",
    "</p>\n",
    "<br>\n",
    "- link: http://www.jungol.co.kr/bbs/board.php?bo_table=pbank&wr_id=2081&sca=2020\n",
    "</p>"
   ]
  },
  {
   "cell_type": "code",
   "execution_count": 19,
   "metadata": {
    "collapsed": true
   },
   "outputs": [],
   "source": [
    "def divide_by_two(integer):\n",
    "    remainder = integer % 2\n",
    "    quotient = int(integer/2)\n",
    "    return (quotient, remainder)"
   ]
  },
  {
   "cell_type": "code",
   "execution_count": 16,
   "metadata": {
    "collapsed": true
   },
   "outputs": [],
   "source": [
    "def converter(integer):\n",
    "    result = ''\n",
    "    while integer != 0:\n",
    "        (q, r) = divide_by_two(integer)\n",
    "        result = str(r) + result\n",
    "        integer = q\n",
    "    return int(result)"
   ]
  },
  {
   "cell_type": "code",
   "execution_count": 18,
   "metadata": {
    "collapsed": false
   },
   "outputs": [
    {
     "data": {
      "text/plain": [
       "11000"
      ]
     },
     "execution_count": 18,
     "metadata": {},
     "output_type": "execute_result"
    }
   ],
   "source": [
    "converter(24)"
   ]
  },
  {
   "cell_type": "markdown",
   "metadata": {},
   "source": [
    "## 실습 3-1-3. 문자열 찾기\n",
    "- 주어진 문자열에서 연속 3개의 문자가 IOI 이거나 KOI인 문자열이 각각 몇 개 있는지 찾는 프로그램을 작성하라.\n",
    "- 문자열은 알파벳의 대문자로만 이루어진다.\n",
    "- 예를 들어 \"KOIOIOI\"라는 문자열은 KOI 1개 , IOI 2개가 포함되어있다.\n",
    "<p>\n",
    "    <br>**<입력 형식>**\n",
    "    <br>- 입력은 한 줄이며 10,000자 이하의 알파벳 대문자로 구성된다.\n",
    "<br>**<출력 형식>**\n",
    "    <br>- 출력은 2줄이며, 첫 번째 줄에는 KOI의 개수, 두 번째 줄에는 IOI의 개수를 각각 출력하라.\n",
    "</p>\n",
    "<br>\n",
    "- link: http://www.jungol.co.kr/bbs/board.php?bo_table=pbank&wr_id=1775&sca=2030\n",
    "</p>"
   ]
  },
  {
   "cell_type": "code",
   "execution_count": 23,
   "metadata": {
    "collapsed": false
   },
   "outputs": [
    {
     "name": "stdout",
     "output_type": "stream",
     "text": [
      "KOIOIOI\n"
     ]
    }
   ],
   "source": [
    "s = input()\n",
    "koi = 0\n",
    "ioi = 0\n",
    "for i in range(len(s) - 2):\n",
    "    if s[i:i+3] == 'KOI':\n",
    "       koi += 1\n",
    "    if s[i:i+3] == 'IOI':\n",
    "        ioi += 1"
   ]
  },
  {
   "cell_type": "code",
   "execution_count": 25,
   "metadata": {
    "collapsed": false
   },
   "outputs": [
    {
     "name": "stdout",
     "output_type": "stream",
     "text": [
      "1\n",
      "2\n"
     ]
    }
   ],
   "source": [
    "print(koi)\n",
    "print(ioi)"
   ]
  },
  {
   "cell_type": "markdown",
   "metadata": {},
   "source": [
    "## 실습 3-1-4. 단어집합\n",
    "- 스트링을 입력 한 후, 스트링을 구성하는 단어들 중, 현재 단어목록에 포함이 되어있지 않은 단어를 단어목록의 가장 뒤에 추가하는 프로그램을 작성하시오.\n",
    "<br>\n",
    "    - 처음에는 단어의 목록이 하나도 없다.\n",
    "    - 단어의 구분은 공백으로 한다.\n",
    "    - 스트링은 계속 입력받으며, 프로그램이 종료되지 않는 이상 기존의 단어들의 목록은 계속 유지된다. \n",
    "    - 목록에 단어가 없을 경우 단어를 목록의 가장 뒤에 추가하고, 있을경우 추가하지 않는다.\n",
    "    - 단어목록에는 입력되는 순서대로 저장된다.\n",
    "    - 알파벳 대.소문자는 구분된다(다르다).\n",
    "\n",
    "<p>\n",
    "    <br>**<입력 형식>**\n",
    "    <br>- 입력되는 스트링의 최대 길이는 50이하이며, 스트링은 최대 10개 이하이다.\n",
    "    <br>- 하나의 결과가 나온 후에도 계속 새로운 입력을 받다가, 스트링 값이 \"END\"이면 프로그램을 종료한다.\n",
    "<br>**<출력 형식>**\n",
    "    <br>- 현재의 단어목록을 공백으로 구분하여 한줄에 한번씩 출력한다.\n",
    "</p>\n",
    "<br>\n",
    "- link: http://www.jungol.co.kr/bbs/board.php?bo_table=pbank&wr_id=807&sca=2030\n",
    "</p>"
   ]
  },
  {
   "cell_type": "code",
   "execution_count": 1,
   "metadata": {
    "collapsed": false
   },
   "outputs": [],
   "source": [
    "def word_printer():\n",
    "    status = True\n",
    "    word_set = ''\n",
    "    while status:\n",
    "        words = input()\n",
    "        if words == 'END':\n",
    "            status = False\n",
    "        else:\n",
    "            for word in words.split():\n",
    "                if word not in word_set:\n",
    "                    word_set = word_set + ' ' + word\n",
    "            print(word_set)        "
   ]
  },
  {
   "cell_type": "code",
   "execution_count": 2,
   "metadata": {
    "collapsed": false
   },
   "outputs": [
    {
     "name": "stdout",
     "output_type": "stream",
     "text": [
      "my name\n",
      " my name\n",
      "my\n",
      " my name\n",
      "his\n",
      " my name his\n",
      "one \n",
      " my name his one\n",
      "my name\n",
      " my name his one\n",
      "END\n"
     ]
    }
   ],
   "source": [
    "word_printer()"
   ]
  },
  {
   "cell_type": "markdown",
   "metadata": {
    "collapsed": true
   },
   "source": [
    "## 실습 3-1-5. 점수 바꾸기\n",
    "- 세준이의 성적을 아래 방법대로 새로 계산했을 때, 새로운 평균을 구하는 프로그램을 작성하시오.\n",
    "    - 세준이는 기말고사를 망쳤다. 세준이는 점수를 조작해서 집에 가져가기로 했다. \n",
    "    - 일단 세준이는 자기 점수 중에 최대값을 골랐다. 이 값을 M이라고 한다. 그리고 나서 모든 점수를 (점수/M)\\*100으로 고쳤다.\n",
    "    - 예를 들어, 세준이의 최고점이 70이고, 수학점수가 50이었으면 수학점수는 50/70\\*100이 되어 71.43점이 된다.\n",
    "\n",
    "<p>\n",
    "    <br>**<입력 형식>**\n",
    "    <br>- 첫째 줄에 시험 본 과목의 개수 N이 주어진다. 이 값은 1000보다 작거나 같다. \n",
    "    <br>- 둘째 줄에 세준이의 현재 성적이 주어진다. 이 값은 100보다 작거나 같은 음이 아닌 정수이고, 적어도 하나의 값은 0보다 크다.\n",
    "<br>**<출력 형식>**\n",
    "    <br>- 첫째 줄에 새로운 평균을 소수점 셋째 자리에서 반올림해 둘째자리까지 출력한다.\n",
    "</p>\n",
    "<br>\n",
    "- link: https://www.acmicpc.net/problem/1546\n",
    "</p>"
   ]
  },
  {
   "cell_type": "code",
   "execution_count": 6,
   "metadata": {
    "collapsed": false
   },
   "outputs": [
    {
     "name": "stdout",
     "output_type": "stream",
     "text": [
      "3\n",
      "40 60 80\n",
      "75.0\n"
     ]
    }
   ],
   "source": [
    "n = int(input())\n",
    "scores = [int(i) for i in input().split()]\n",
    "max_score = max(scores)\n",
    "sum = 0\n",
    "for score in scores:\n",
    "    sum += (score/max_score)*100\n",
    "avg = sum/len(scores)\n",
    "print(avg)"
   ]
  },
  {
   "cell_type": "markdown",
   "metadata": {},
   "source": [
    "## 실습 3-1-6. OX 퀴즈\n",
    "- OX퀴즈의 결과가 주어졌을 때, 점수를 구하는 프로그램을 작성하시오.\n",
    "    - \"OOXXOXXOOO\"와 같은 OX퀴즈의 결과가 있다. O는 문제를 맞은 것이고, X는 문제를 틀린 것이다. \n",
    "    - 문제를 맞은 경우 그 문제의 점수는 그 문제까지 연속된 O의 개수가 된다. 예를 들어, 10번 문제의 점수는 3이 된다.\n",
    "    - \"OOXXOXXOOO\"의 점수는 1+2+0+0+1+0+0+1+2+3 = 10점이다.\n",
    "\n",
    "<p>\n",
    "    <br>**<입력 형식>**\n",
    "    <br>- 첫째 줄에 테스트 케이스의 개수가 주어진다. \n",
    "    <br>- 각 테스트 케이스는 한 줄로 이루어져 있고, 길이가 0보다 크고 80보다 작은 문자열이 주어진다. 문자열은 O와 X만으로 이루어져 있다.\n",
    "<br>**<출력 형식>**\n",
    "    <br>- 각 테스트 케이스마다 점수를 출력한다.\n",
    "</p>\n",
    "<br>\n",
    "- link: https://www.acmicpc.net/problem/8958\n",
    "</p>"
   ]
  },
  {
   "cell_type": "code",
   "execution_count": 7,
   "metadata": {
    "collapsed": true
   },
   "outputs": [],
   "source": [
    "def score_calculator(result):\n",
    "    sequence = 1\n",
    "    score = 0\n",
    "    for r in result:\n",
    "        if r == 'O':\n",
    "            score += sequence\n",
    "            sequence += 1\n",
    "        else:\n",
    "            sequence = 1\n",
    "    return score"
   ]
  },
  {
   "cell_type": "code",
   "execution_count": 9,
   "metadata": {
    "collapsed": false
   },
   "outputs": [
    {
     "name": "stdout",
     "output_type": "stream",
     "text": [
      "5\n",
      "OOXXOXXOOO\n",
      "10\n",
      "OOXXOOXXOO\n",
      "9\n",
      "OXOXOXOXOXOXOX\n",
      "7\n",
      "OOOOOOOOOO\n",
      "55\n",
      "OOOOXOOOOXOOOOX\n",
      "30\n"
     ]
    }
   ],
   "source": [
    "n = int(input())\n",
    "for i in range(n):\n",
    "    print(score_calculator(input()))"
   ]
  },
  {
   "cell_type": "markdown",
   "metadata": {},
   "source": [
    "## 실습 3-1-7. 그룹 단어 체커\n",
    "- 단어 N개를 입력으로 받아 그룹 단어의 개수를 출력하는 프로그램을 작성하시오.\n",
    "    - 그룹 단어란 단어에 존재하는 모든 문자에 대해서, 각 문자가 연속해서 나타나는 경우만을 말한다. \n",
    "    - 예를 들면, ccazzzzbb는 c, a, z, b가 모두 연속해서 나타나고, kin도 k, i, n이 연속해서 나타나기 때문에 그룹 단어이지만, aabbbccb는 b가 떨어져서 나타나기 때문에 그룹 단어가 아니다.\n",
    "\n",
    "<p>\n",
    "    <br>**<입력 형식>**\n",
    "    <br>- 첫째 줄에 단어의 개수 N이 들어온다. N은 100보다 작거나 같은 자연수이다. \n",
    "    <br>- 둘째줄부터 N개의 줄에 단어가 들어온다. 단어는 알파벳 소문자로만 되어있고 중복되지 않으며, 길이는 최대 100이다.\n",
    "<br>**<출력 형식>**\n",
    "    <br>- 첫째 줄에 그룹 단어의 개수를 출력한다.\n",
    "</p>\n",
    "<br>\n",
    "- link: https://www.acmicpc.net/problem/1316\n",
    "</p>"
   ]
  },
  {
   "cell_type": "code",
   "execution_count": 20,
   "metadata": {
    "collapsed": true
   },
   "outputs": [],
   "source": [
    "def checker(word):\n",
    "    shown = []\n",
    "    for i in range(len(word)-1):\n",
    "        if word[i] in shown:\n",
    "            return False\n",
    "        if word[i] == word[i+1]:\n",
    "            pass\n",
    "        else:\n",
    "            shown.append(word[i])\n",
    "    if word[-1] in shown:\n",
    "        return False\n",
    "    return True"
   ]
  },
  {
   "cell_type": "code",
   "execution_count": 21,
   "metadata": {
    "collapsed": false
   },
   "outputs": [
    {
     "name": "stdout",
     "output_type": "stream",
     "text": [
      "3\n",
      "aabbbccb\n",
      "aabbbccb\n",
      "aabbbccb\n",
      "0\n"
     ]
    }
   ],
   "source": [
    "n = int(input())\n",
    "words = []\n",
    "num_group_words = 0\n",
    "for i in range(n):\n",
    "    words.append(input())\n",
    "for word in words:\n",
    "    if checker(word):\n",
    "        num_group_words += 1\n",
    "print(num_group_words)"
   ]
  },
  {
   "cell_type": "markdown",
   "metadata": {},
   "source": [
    "## 실습 3-1-8. 일곱 난쟁이\n",
    "- 아홉 난쟁이의 키가 주어졌을 때, 백설공주를 도와 일곱 난쟁이를 찾는 프로그램을 작성하시오.\n",
    "    - 왕비를 피해 일곱 난쟁이들과 함께 평화롭게 생활하고 있던 백설공주에게 위기가 찾아왔다. 일과를 마치고 돌아온 난쟁이가 일곱 명이 아닌 아홉 명이었던 것이다.\n",
    "    - 아홉 명의 난쟁이는 모두 자신이 \"백설 공주와 일곱 난쟁이\"의 주인공이라고 주장했다. \n",
    "    - 뛰어난 수학적 직관력을 가지고 있던 백설공주는, 다행스럽게도 일곱 난쟁이의 키의 합이 100이 됨을 기억해 냈다.\n",
    "\n",
    "<p>\n",
    "    <br>**<입력 형식>**\n",
    "    <br>- 아홉 개의 줄에 걸쳐 일곱 난쟁이의 키가 주어진다.\n",
    "    <br>- 주어지는 키는 100을 넘지 않는 자연수이며, 아홉 난쟁이의 키는 모두 다르며, 가능한 정답이 여러가지인 경우에는 아무거나 출력한다.\n",
    "<br>**<출력 형식>**\n",
    "    <br>- 일곱 난쟁이의 키를 오름차순으로 출력한다.\n",
    "</p>\n",
    "<br>\n",
    "- link: https://www.acmicpc.net/problem/2309\n",
    "</p>"
   ]
  },
  {
   "cell_type": "code",
   "execution_count": 28,
   "metadata": {
    "collapsed": false
   },
   "outputs": [
    {
     "name": "stdout",
     "output_type": "stream",
     "text": [
      "20\n",
      "7\n",
      "23\n",
      "19\n",
      "10\n",
      "15\n",
      "25\n",
      "8\n",
      "13\n"
     ]
    }
   ],
   "source": [
    "heights = []\n",
    "total_heights = 0\n",
    "for i in range(9):\n",
    "    height = int(input())\n",
    "    heights.append(height)\n",
    "    total_heights += height"
   ]
  },
  {
   "cell_type": "code",
   "execution_count": 32,
   "metadata": {
    "collapsed": false
   },
   "outputs": [
    {
     "name": "stdout",
     "output_type": "stream",
     "text": [
      "7\n",
      "8\n",
      "10\n",
      "13\n",
      "19\n",
      "20\n",
      "23\n"
     ]
    }
   ],
   "source": [
    "import itertools\n",
    "combinations = itertools.combinations(heights, 2)\n",
    "for combination in combinations:\n",
    "    height_sum = total_heights\n",
    "    for i in combination:\n",
    "        height_sum -= i\n",
    "    if height_sum == 100:\n",
    "        for i in combination:\n",
    "            heights.remove(i)\n",
    "        break\n",
    "\n",
    "heights.sort()\n",
    "for height in heights:\n",
    "    print(height)"
   ]
  }
 ],
 "metadata": {
  "kernelspec": {
   "display_name": "Python 3",
   "language": "python",
   "name": "python3"
  },
  "language_info": {
   "codemirror_mode": {
    "name": "ipython",
    "version": 3
   },
   "file_extension": ".py",
   "mimetype": "text/x-python",
   "name": "python",
   "nbconvert_exporter": "python",
   "pygments_lexer": "ipython3",
   "version": "3.6.0"
  }
 },
 "nbformat": 4,
 "nbformat_minor": 0
}
