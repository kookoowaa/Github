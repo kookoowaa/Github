{
 "cells": [
  {
   "cell_type": "code",
   "execution_count": 19,
   "metadata": {},
   "outputs": [],
   "source": [
    "import imageio"
   ]
  },
  {
   "cell_type": "code",
   "execution_count": 24,
   "metadata": {},
   "outputs": [],
   "source": [
    "im = imageio.imread('d:/sd.png')"
   ]
  },
  {
   "cell_type": "code",
   "execution_count": 82,
   "metadata": {},
   "outputs": [
    {
     "data": {
      "text/plain": [
       "(740, 694)"
      ]
     },
     "execution_count": 82,
     "metadata": {},
     "output_type": "execute_result"
    }
   ],
   "source": [
    "Image.open('d:/sd.png').size"
   ]
  },
  {
   "cell_type": "code",
   "execution_count": 29,
   "metadata": {},
   "outputs": [
    {
     "data": {
      "text/plain": [
       "(694, 740, 3)"
      ]
     },
     "execution_count": 29,
     "metadata": {},
     "output_type": "execute_result"
    }
   ],
   "source": []
  },
  {
   "cell_type": "code",
   "execution_count": 31,
   "metadata": {},
   "outputs": [
    {
     "data": {
      "text/plain": [
       "Image([[  2,   4,  11],\n",
       "       [  3,   3,  16],\n",
       "       [  3,   4,  18],\n",
       "       ..., \n",
       "       [131, 130, 160],\n",
       "       [130, 126, 159],\n",
       "       [120, 122, 146]], dtype=uint8)"
      ]
     },
     "execution_count": 31,
     "metadata": {},
     "output_type": "execute_result"
    }
   ],
   "source": [
    "im[693]"
   ]
  },
  {
   "cell_type": "code",
   "execution_count": 90,
   "metadata": {},
   "outputs": [],
   "source": [
    "from PIL import Image\n",
    "import numpy as np\n",
    "\n",
    "# 70 levels of gray\n",
    "gscale1 = \"$@B%8&WM#*oahkbdpqwmZO0QLCJUYXzcvunxrjft/\\|()1{}[]?-_+~<>i!lI;:,\\\"^`'. \"\n",
    "# 10 levels of gray\n",
    "gscale2 = '@%#*+=-:. '\n",
    "\n",
    "\n",
    "def getAverageImgL(image):\n",
    "    img = np.array(image)\n",
    "    w, h = img.shape\n",
    "    return np.average(img.reshape(w*h))\n",
    "\n",
    "def getImageToAscii(img_file,cols,scale,levels):\n",
    "    global gscale1, gscale2\n",
    "    image = Image.open(img_file).convert(\"L\") # grayscale\n",
    "\n",
    "    #W, H = image.size[0], image.size[1]\n",
    "\n",
    "    W = image.size[0]\n",
    "    H = image.size[1]\n",
    "\n",
    "    w = W/cols\n",
    "    h = w/scale\n",
    "    # w : h = 50 : 100 ->   100w = 50h ->   h = w / scale\n",
    "    rows = int(H/h)\n",
    "\n",
    "    data_array = []\n",
    "    for j in range(rows):\n",
    "        y1 = int(j*h)\n",
    "        y2 = int((j+1)*h)\n",
    "        if j == rows-1:\n",
    "            y2 = H #남는 부분이 있을 수 있어서\n",
    "\n",
    "        data_array.append(\"\")\n",
    "        for i in range(cols):\n",
    "            x1 = int(i*w)\n",
    "            x2 = int((i+1)*w)\n",
    "            if i == cols-1:\n",
    "                x2 = W\n",
    "            temp_img = image.crop((x1,y1,x2,y2))\n",
    "            avg = int(getAverageImgL(temp_img))\n",
    "\n",
    "            if levels:\n",
    "                character = gscale1[int(avg*69/255)]\n",
    "            else:\n",
    "                character = gscale2[int(avg*9/255)]\n",
    "\n",
    "            data_array[j] += character\n",
    "            # $, % -> $%, * -> $%*\n",
    "    return data_array\n",
    "\n",
    "\n",
    "\n",
    "image_file_location = \"d:/3.png\"\n",
    "cols = 120\n",
    "scale = 0.5\n",
    "# 이미지를 입력받아서 ascii 문자로 대체\n",
    "result_data = getImageToAscii(image_file_location,cols,scale,True)\n",
    "\n",
    "\n",
    "## 파일을 열고 쓰고 닫는 부분\n",
    "#outfile = open('out.txt','w') #w 쓰기, r 읽기모드 +더하기추가하기\n",
    "#for data in result_data:\n",
    "#    outfile.write(data+\"\\n\")\n",
    "#outfile.close() #파일을 썼으면 무조건 close필수"
   ]
  },
  {
   "cell_type": "code",
   "execution_count": 91,
   "metadata": {},
   "outputs": [],
   "source": [
    "a = []\n",
    "b = []\n",
    "\n",
    "for i in range(len(result_data)):\n",
    "    a.append(result_data[i][:int((len(result_data[0])/2)-1)])\n",
    "    b.append(result_data[i][int(len(result_data[0])/2):])"
   ]
  },
  {
   "cell_type": "code",
   "execution_count": 92,
   "metadata": {},
   "outputs": [],
   "source": [
    "c = []\n",
    "for i in range(len(a)):\n",
    "    for m in range(len(b)):\n",
    "        if a[i][m] != b[i][m]:\n",
    "            c.append((i,m))\n"
   ]
  },
  {
   "cell_type": "code",
   "execution_count": 93,
   "metadata": {
    "scrolled": false
   },
   "outputs": [
    {
     "data": {
      "text/plain": [
       "[(4, 0),\n",
       " (5, 0),\n",
       " (11, 23),\n",
       " (11, 24),\n",
       " (13, 33),\n",
       " (13, 34),\n",
       " (14, 34),\n",
       " (17, 0),\n",
       " (23, 0),\n",
       " (24, 30),\n",
       " (24, 31),\n",
       " (25, 30),\n",
       " (25, 31),\n",
       " (25, 32),\n",
       " (25, 33),\n",
       " (26, 31),\n",
       " (26, 32),\n",
       " (26, 33),\n",
       " (27, 33),\n",
       " (30, 0),\n",
       " (33, 0),\n",
       " (35, 0),\n",
       " (39, 0),\n",
       " (43, 0),\n",
       " (45, 12),\n",
       " (45, 13),\n",
       " (46, 11),\n",
       " (46, 12),\n",
       " (46, 13),\n",
       " (47, 12),\n",
       " (51, 3),\n",
       " (52, 1),\n",
       " (52, 2),\n",
       " (52, 3),\n",
       " (52, 4),\n",
       " (53, 0),\n",
       " (53, 1),\n",
       " (53, 2),\n",
       " (53, 3),\n",
       " (55, 0)]"
      ]
     },
     "execution_count": 93,
     "metadata": {},
     "output_type": "execute_result"
    }
   ],
   "source": [
    "c"
   ]
  },
  {
   "cell_type": "code",
   "execution_count": 94,
   "metadata": {},
   "outputs": [
    {
     "name": "stdout",
     "output_type": "stream",
     "text": [
      "0.07 0.0\n",
      "0.09 0.0\n",
      "0.2 0.39\n",
      "0.2 0.41\n",
      "0.23 0.56\n",
      "0.23 0.58\n",
      "0.25 0.58\n",
      "0.3 0.0\n",
      "0.41 0.0\n",
      "0.43 0.51\n",
      "0.43 0.53\n",
      "0.45 0.51\n",
      "0.45 0.53\n",
      "0.45 0.54\n",
      "0.45 0.56\n",
      "0.46 0.53\n",
      "0.46 0.54\n",
      "0.46 0.56\n",
      "0.48 0.56\n",
      "0.54 0.0\n",
      "0.59 0.0\n",
      "0.62 0.0\n",
      "0.7 0.0\n",
      "0.77 0.0\n",
      "0.8 0.2\n",
      "0.8 0.22\n",
      "0.82 0.19\n",
      "0.82 0.2\n",
      "0.82 0.22\n",
      "0.84 0.2\n",
      "0.91 0.05\n",
      "0.93 0.02\n",
      "0.93 0.03\n",
      "0.93 0.05\n",
      "0.93 0.07\n",
      "0.95 0.0\n",
      "0.95 0.02\n",
      "0.95 0.03\n",
      "0.95 0.05\n",
      "0.98 0.0\n"
     ]
    }
   ],
   "source": [
    "for i in range(len(c)):\n",
    "    print(round(c[i][0]/ len(a),2), round(c[i][1]/len(a[0]),2))"
   ]
  },
  {
   "cell_type": "code",
   "execution_count": 79,
   "metadata": {},
   "outputs": [
    {
     "data": {
      "text/plain": [
       "['8&Wokbdo8%B&%B888a8#UX0Yu/(rX\\\\)[}|t-~nvj}Un|~Yko}{jUzhbbMWdm8&Wokbdo8%B&%B888a8#UX0Yu/(rX\\\\)[}|t-~nvj}Un|~Yko}{jUzhbbMWdm',\n",
       " '@@B&#okpqhM%%%hkZaocrucuxrjYnjXOZZZz>xXn\\\\)}--]xX\\\\_(xnCdMMW#n@@B&#okpqhM%%%hkZaocrucuxrjYnjXOZZZz>xXn\\\\)}--]xX\\\\_(xnCdMMW#u',\n",
       " '%BBBB8W#hppqddQXJQz(nQwpqbZ*odqpbhmwu{nzvjj->_][]__\\\\uU###phQ%BBBB8W#hppqddQXJQz(nQwpqbZ*odqpbhmwu{nzvjj->_][]__\\\\uU###phQ',\n",
       " '*o&BoBBWk*kpZmqohOU0WWWWMowahoMahdQmqq00QUOq0J{[{~-OxrOCYwdt#o&BoBBWk*kpZmqohOU0WWWWMowahoMahdQmqq00QUOq0J{[{~-OxrOCYwdt',\n",
       " 'W%M**@@8mmoahw0O*Wdbqbo#oahhhbwZ0QZmqqkobap#oapY?!fz1i/Q0c|jW%M**@@8mmoahw0O*Wdbqbo#oahhhbwZ0QZmqqkobap#oapY?!fz1i/Q0c|j',\n",
       " '%%%&8@$ML0boB8Mkqwabkhh0pkkbwLC0Q00OOmwqdddmOQLJ~U|?i}Y/[/jjB%%&8@$ML0boB8Mkqwabkhh0pkkbwLC0Q00OOmwqdddmOQLJ~U|?i}Y/[/jj',\n",
       " '&B%B8$Wwbadda888M*&LCdaaUXcnYuuJZOLJYYUCLQQQCC0L)}X1l?i~?fxJ8B%B8$Wwbadda888M*&LCdaaUXcnYuuJZOLJYYUCLQQQCC0L)}X1l?i~?fxJ',\n",
       " 'MWM%@%o#M#opr|J#o#W#aaZUQQCv|/)(CCYzzzXXXUUL0UcUJj)[-(>}i10pWWM%@%o#M#opr|J#o#W#aaZUQQCv|/)(CCYzzzXXXUUL0UcUJj)[-(>}i10p',\n",
       " '#M8&oaoobhh*8wZbhbk0OJLJYUXcjjrcjxUzuuY0OmOwzjxrxxYQZYcr}m#O#M8&oaoobhh*8wZbhbk0OJLJYUXcjjrcjxUzuuY0OmOwzjxrxxYQZYcr}m#O',\n",
       " '#WMbwdQQpdd#o#UQYYmZmOZc[)\\\\//|1(unjtnurfnUC0cxntzwQufrYv1YZ/MWMbwdQQpdd#o#UQYYmZmOZc[)\\\\//|1(unjtnurfnUC0cxntzwQufrYv1YZ/',\n",
       " 'qko*ohhwUWdCZQ0vYCQUXx/\\\\uj{?{)|({]?){[}/t/ttjzJJzj/t/jnL{Uftqko*ohhwUWdCZQ0vYCQUXx/\\\\uj{?{)|({]?){[}/t/ttjzJJzj/t/jnL{Uft',\n",
       " 'ho*hMbbYO&wdqddQJzcx|({1)|/u|+~?}{]i;i<~?[}{}}{)\\\\ft\\\\/xzQw[_~ho*hMbbYO&wdqddQJzcx|({1)|/u|+~?}{]i;i<~?[}{}}{)\\\\ft\\\\/xzQw[_~',\n",
       " \"%8&#pQCO%qh*phkZ0Oxfr\\\\){}}[-+}{_IIllI,`'`!]{}][[}{(jXwaoq/<rB8&#pQCO%qh*phkZ0Oxfr\\\\){}}[-+}{_IIllI,`'`!]{}][[}{(jXwaoq/<r\",\n",
       " 'WobLpvc*#M&&&hCJC00vf\\\\{}??]?+i<[j{i``^\"``^\"!_}1txuuvczJYzZX1WobLpvc*#M&&&hCJC00vf\\\\{}??]?+i<[j{i``^\"``^\"!_}1txuuvczJYzZX1',\n",
       " 'bQZZQcC#%o&BWZnfuOdXcYc/1[>+i<Il>[nf-\"...\\'^,,:!+?[|rzCCLdmc|bQZZQcC#%o&BWZnfuOdXcYc/1[>+i<Il>[nf-\"...\\'^,,:!+?[|rzCCLdmc\\\\',\n",
       " 'MaapOd#Maq8BbLvCa#wCJXXZUx1I?;i,I~)xun\\\\+\"\",,::\"\",!-])jxn}??IMaapOd#Maq8BbLvCa#wCJXXZUx1I?;i,I~)xun\\\\+\"\",,::\"\",!-])jxn}??I',\n",
       " '&WMWMW8owaBMpX0o*dQYut)[YQf>!I;!\"\":I<{tvv(i:III:\"`\\'\\';i>+{xx;8WMWMW8owaBMpX0o*dQYut)[YQf>!I;!\"\":I<{tvv(i:III:\"`\\'\\';i>+{xx;',\n",
       " '*MW&88W&%8opLmhWkwLXnj/(uwz+<i!,I~ii<~_}/rnu(>,,,,^^\"\"\":ljCx*MW&88W&%8opLmhWkwLXnj/(uwz+<i!,I~ii<~_}/rnu(>,,,,^^\"\"\":ljCx',\n",
       " 'd&B%8MokdOhd0aa8#qZJccxuU#L1?+~<?+?}(tuuxj|{[}_i!I!<+~i!II!Xd&B%8MokdOhd0aa8#qZJccxuU#L1?+~<?+?}(tuuxj|{[}_i!I!<+~i!II!X',\n",
       " 'W&WW#oo*a#hkbp*@&bk#dqw0Okct[+t-!;;i>>i_]_<_[]]+?{]_+-][)/rz&&WW#oo*a#hkbp*@&bk#dqw0Okct[+t-!;;i>>i_]_<_[]]+?{]_+-][)/rz',\n",
       " '888%8BB8o**h*M@@@#kdzuX0ko|u\\\\1UYx(]<l!li+?)fuzCCYf|uzYJYj/)1888%8BB8o**h*M@@@#kdzuX0ko|u\\\\1UYx(]<l!li+?)fuzCCYf|uzYJYj/))',\n",
       " 'B$8&8@&#WMM#d@@B@&hobmY0*&oYUnCLUOJj/|txuzJUJJYvncLLCLCzzYJn@$8&8@&#WMM#d@@B@&hobmY0*&oYUnCLUOJj/|txuzJUJJYvncLLCLCzzYJn',\n",
       " '@$@B%&&MMMW%o%WB@B8#MhbWB%*aowOm00pdZOCznxUQJUUUUC0CC0OCzx]]@$@B%&&MMMW%o%WB@B8#MhbWB%*aowOm00pdZOCznxUQJUUUUC0CC0OCzx]]',\n",
       " '8M#MWM*MW&@W8M8@@BB@8d&@B8*Qw#oOvjchoqZwO0CvUZwZZZLLQCOadc{1%M#MWM*MW&@W8M8@@BB@8d&@B8*Qw#oOvjchoqZwO0CvUZwZZZLLQCOadc{1',\n",
       " 'mM%B8o*M88BBM*W&&#BBBBW&&#COXJa##u{[{\\\\|xnYQpZXcQbaoqO0CQwCY0mM%B8o*M88BBM*W&&#BBBBW&&#COXJa##u{[{\\\\|xnYQpZXcQbaoqO0CQwCY0',\n",
       " 'qM*d*M%B8&%WohdWZ&&M%MoMaqmwXYQWhqu|?i[~I_|zJdWWWoohkwZZqwhMwM*d*M%B8&%WohdWZ&&M%#aMaqmwXYQWhqu|?i[~I_|zJdWWWoohkwZZqwhM',\n",
       " '%8B*M#WW&B8*BhM88M8M&bLoMqM0LOqMdUXC{l-I+-]XUL*&WWkbkqhpbhaM%8B*M#WW&B8*BhM88M8M&j+ZMqM0LOqMdUXC{l-I+-]XUL*&WWkbkqhpbhaM',\n",
       " '@%#M%BBB&8&W#ah&B@#hkWWW8kXY0Ck%pJQYx}[??{jQbkM8hMMho****#W&@%#M%BBB&8&W#ah&B@#hkMoM8kXY0Ck%pJQYx}[??{jQbkM8hMMho****#W&',\n",
       " '8a*B$B&Bo&WM@@%B@@Wo&@okpYLwbb@&kbqYt(\\\\\\\\tzqoWB@8&BB8*hM##W&&8a*B$B&Bo&WM@@%B@@Wo&@okpYLwbb@&kbqYt(\\\\\\\\tzqoWB@8&BB8*hM##W&&',\n",
       " 'Mo&$$@Wk8&&8%W$@BohoowzM#kXB@$&OQqd0njzLZJZd%@B@%@%hbZdphM&&Mo&$$@Wk8&&8%W$@BohoowzM#kXB@$&OQqd0njzLZJZd%@B@%@%hbZdphM&&',\n",
       " 'aBB$$@B%%BBB%&8hCm%8&&M&BddWBBaZXCkUUJvxvUJhB%@$@MkdCbwJZw&8aBB$$@B%%BBB%&8hCm%8&&M&BddWBBaZXCkUUJvxvUJhB%@$@MkdCbwJZw&8',\n",
       " 'bhbbdddbkhaW@bvXkB$$$$$%@kdaW8hm0JZcUxrccvq#@#hhwwdCb*ouadk%bhbbdddbkhaW@bvXkB$$$$$%@kdaW8hm0JZcUxrccvq#@#hhwwdCb*ouadk8',\n",
       " 'wkkbbbddbbkMW%*B@@$$$$@@@%M&oWWdkbCYUnuLwoWBMdLq***#W&hzW#q&mkkbbbddbbkMW%*B@@$$$$@@@%M&oWWdkbCYUnuLwoWBMdLq***#W&hzW#q&',\n",
       " 'QqddkakbddhMMWW&8%@$$$$$$W$8Wo%MhUvczQmpUb@&&*B8MW#bwpaQWoh8QqddkakbddhMMWW&8%@$$$$$$W$8Wo%MhUvczQmpUb@&&*B8MW#bwpaQWoh&',\n",
       " 'fmddk*#MMMMM8B@%%%B@$$$$$B$$$p&&CCzXmYvrQ%$@B8%%hko&pMp*Uk*8fmddk*#MMMMM8B@%%%B@$$$$$B$$$p&&CCzXmYvrQ%$@B8%%hko&pMp*Uk*8',\n",
       " ']rdoOkM&%%%%%%%@B@$$$$$$$$$$Wm%WQt{\\\\QXcwW$B%88*mLhho%hdZ&WW&]rdoOkM&%%%%%%%@B@$$$$$$$$$$Wm%WQt{\\\\QXcwW$B%88*mLhho%hdZ&WW&',\n",
       " 'hLYZXno@@%8B%%%B@@$$B88@$$@d0MoUuuxuQUC#&$$BB%#dma#*a8&o*#B%hLYZXno@@%8B%%%B@@$$B88@$$@d0MoUuuxuQUC#&$$BB%#dma#*a8&o*#B%',\n",
       " '%%Wb*@h#@B@BBBB@B@%$$$$8%8QzoqOQCZrUOcdMB%@B@@@a*8%8WoM#WMBa%%Wb*@h#@B@BBBB@B@%$$$$8%8QzoqOQCZrUOcdMB%@B@@@a*8%8WoM#WMBa',\n",
       " '%@@%%@@&*BB#BBB%*oM*MdZOYCWQw#ohkbhmqd#WM*8B*Zf>Z@BW##&8BMbh%@@%%@@&*BB#BBB%*oM*MdZOYCWQw#ohkbhmqd#WM*8B*Zf>Z@BWM*&8BMbh',\n",
       " '%%@$$$@@Wph8$$@8&WMoZXvxtd@dhM#hba*oOunrdW8av[-}d8@@&W8&abL\\\\B%@$$$@@Wph8$$@8&WMoZXvxtd@dhM#hba*oOunrdW8av[-}d8@@&W8&abL\\\\',\n",
       " '@%8@$$$$Mhb@BBBMMMo**wwvb&WbWMoMW8&&W#h&&8oL(}?Yddmh@B#aQuUh@%8@$$$$Mhb@BBBMMMo**wwvb&WbWMoMW8&&W#h&&8oL(}?Yddmh@B#aQuUh',\n",
       " '@@BB@$B&888@$88&&h*obwpOoboMW888%B8*w#B@BWmCf\\\\)pUzQa8BaXL#B&@@BB@$B&888@$88&&h*obwpOoboMW888%B8*w#B@BWmCf\\\\)pUzQa8BaXL#B&',\n",
       " '&8B@BW%B#m#@@BM*#*okW&*8#M88W8&8MLtiz%%$B##wLxnCvUZdka*#&%MM&8B@BW%B#m#@@BM*#*okW&*8#M88W8&8MLtiz%%$B##wLxnCvUZdka*#&%MM',\n",
       " '@%W#@BBB%a0WBB%#oahZ$$8%8W88%&#z-I,|Lao$$8WM#bQYJUCCZwa@@%&B@%W#@BBB%a0WBB%#oahZ$$8%8W88%&#z-I,|Lao$$8WM#bQYJUCCZwa@@%&B',\n",
       " '$$#k88%%BooWW##adoM*$B%W%%8*Zdpbwr[0U/u8$$%88WpOJcXQCOw#$@#h$$#k88%%BooWW##adoM*$B%W%%8*Zdpbwr[0U/u8$$%88WpOJcXQCOw#$@#h',\n",
       " '%&WMBBBB##WB@B&b*w8#@$BBBB&UbhOf\\\\UpbqOCkMB@$@opqUzUUY0Oh%az[%&WMBBBB##WB@B&b*w8#@$BBBB&UbhOf\\\\UpbqOCkMB@$@opqUzUUY0Oh%az}',\n",
       " 'ah&@BB@ahB@%@Bhba#aMbW@@MmYmQ}`+qqmqmbkkpb$@BahZUUYCUQOYnzQcah&@BB@ahB@%@Bhba#aMbW@@MmYmQ}`+qqmqmbkkpb$@BahZUUYCUQOYnzQc',\n",
       " \"MBBB@%8#8@B8BBBB8M8M#8%#M#OL>.';CwqJ)~UQCm%@&aowQzcYJr|uw8MZMBBB@%8#8@B8BBBB8M8M#8%#M#OL>.';CwqJ)~UQCm%@&aowQzcYJr|uw8MZ\",\n",
       " \"8%&&&M#8%W&8@%B@@WMB*MMh8dbam,'^~1CwqbhhhhM88Mk0CCCj)cQqOW8*8BBB@@#8%W&8@%B@@WMB*MMh8dbam,'^~1CwqbhhhhM88Mk0CCCj)cQqOW8*\",\n",
       " \"bM%B8*B@$$$$B%@@@Mo*Ma%MokZci'i\\\\n/Jpkhahhhp@BbWZmbQYOwqko&@WbM%B8*B@$$$$B%@@@Mo*Ma%MokZci'i\\\\n/Jpkhahhhp@BbWZmbQYOwqko&@M\",\n",
       " '%8B%B@@B%&&@@@@B@@@Mo&#&&*opn:Jbkbkhhaaaaa#$@MpooW8Wo*&8&%#0B8B%B@@B%&&@@@@B@@@Mo&#&&*opn:Jbkbkhhaaaaa#$@MpooW8Wo*&8&%#O',\n",
       " '$$$$@BB@B@@@$$@$$$$@BB%&&&&Mh\\\\!jOkkhkkkhahM$@888#8okW%8Wowz($$$$@BB@B@@@$$@$$$$@BB%&&&&Mh\\\\!jOkkhkkkhahM$@888#8okW%8Wowz(',\n",
       " '$$$$$$$$$$$$@@@$$B$$@@@8**ooqj:l[LZ0Q0Zwdkaopp@BW*&8&#bZz\\\\]?$$$$$$$$$$$$@@@$$B$$@@@8**ooqj:l[LZ0Q0Zwdkaopp@BW*&8&#bZz\\\\]]',\n",
       " '$$$$$$$$$$$@W#MoMWWB@@W*kmv\\\\[)zvrt\\\\\\\\)}1fYZpbd*&8Map0JznuXOko$$$$$$$$$$$@W#MoMWWB@@W*kmv\\\\[)zvrt\\\\\\\\)}1fYZpbd*&8Map0JznuXOko',\n",
       " '$$$$$$$@B88#**oM8W&8#ah0-fzccJZqdbpqLz)}/nvcUULLCUcvXm*&%&k*$$$$$$$@B88#**oM8W&8#ah0-fzccJZqdbpqLz)}/nvcUULLCUcvXm*&%&k*',\n",
       " '$$$B8&###M#W&8@@@%WkQn)?\\\\UOpbkkhhkbb0f?)uQwhoab8B%BB@@@8*k0U$$$B8&###M#W&8@@@%WkQn)?\\\\UOpbkkhhkbb0f?)uQwhoab8B%BB@@@8*k0U']"
      ]
     },
     "execution_count": 79,
     "metadata": {},
     "output_type": "execute_result"
    }
   ],
   "source": [
    "result_data"
   ]
  },
  {
   "cell_type": "code",
   "execution_count": 80,
   "metadata": {},
   "outputs": [
    {
     "data": {
      "text/plain": [
       "['8&Wokbdo8%B&%B888a8#UX0Yu/(rX\\\\)[}|t-~nvj}Un|~Yko}{jUzhbbMWd',\n",
       " '@@B&#okpqhM%%%hkZaocrucuxrjYnjXOZZZz>xXn\\\\)}--]xX\\\\_(xnCdMMW#',\n",
       " '%BBBB8W#hppqddQXJQz(nQwpqbZ*odqpbhmwu{nzvjj->_][]__\\\\uU###ph',\n",
       " '*o&BoBBWk*kpZmqohOU0WWWWMowahoMahdQmqq00QUOq0J{[{~-OxrOCYwd',\n",
       " 'W%M**@@8mmoahw0O*Wdbqbo#oahhhbwZ0QZmqqkobap#oapY?!fz1i/Q0c|',\n",
       " '%%%&8@$ML0boB8Mkqwabkhh0pkkbwLC0Q00OOmwqdddmOQLJ~U|?i}Y/[/j',\n",
       " '&B%B8$Wwbadda888M*&LCdaaUXcnYuuJZOLJYYUCLQQQCC0L)}X1l?i~?fx',\n",
       " 'MWM%@%o#M#opr|J#o#W#aaZUQQCv|/)(CCYzzzXXXUUL0UcUJj)[-(>}i10',\n",
       " '#M8&oaoobhh*8wZbhbk0OJLJYUXcjjrcjxUzuuY0OmOwzjxrxxYQZYcr}m#',\n",
       " '#WMbwdQQpdd#o#UQYYmZmOZc[)\\\\//|1(unjtnurfnUC0cxntzwQufrYv1YZ',\n",
       " 'qko*ohhwUWdCZQ0vYCQUXx/\\\\uj{?{)|({]?){[}/t/ttjzJJzj/t/jnL{Uf',\n",
       " 'ho*hMbbYO&wdqddQJzcx|({1)|/u|+~?}{]i;i<~?[}{}}{)\\\\ft\\\\/xzQw[_',\n",
       " \"%8&#pQCO%qh*phkZ0Oxfr\\\\){}}[-+}{_IIllI,`'`!]{}][[}{(jXwaoq/<\",\n",
       " 'WobLpvc*#M&&&hCJC00vf\\\\{}??]?+i<[j{i``^\"``^\"!_}1txuuvczJYzZX',\n",
       " 'bQZZQcC#%o&BWZnfuOdXcYc/1[>+i<Il>[nf-\"...\\'^,,:!+?[|rzCCLdmc',\n",
       " 'MaapOd#Maq8BbLvCa#wCJXXZUx1I?;i,I~)xun\\\\+\"\",,::\"\",!-])jxn}??',\n",
       " '&WMWMW8owaBMpX0o*dQYut)[YQf>!I;!\"\":I<{tvv(i:III:\"`\\'\\';i>+{xx',\n",
       " '*MW&88W&%8opLmhWkwLXnj/(uwz+<i!,I~ii<~_}/rnu(>,,,,^^\"\"\":ljC',\n",
       " 'd&B%8MokdOhd0aa8#qZJccxuU#L1?+~<?+?}(tuuxj|{[}_i!I!<+~i!II!',\n",
       " 'W&WW#oo*a#hkbp*@&bk#dqw0Okct[+t-!;;i>>i_]_<_[]]+?{]_+-][)/r',\n",
       " '888%8BB8o**h*M@@@#kdzuX0ko|u\\\\1UYx(]<l!li+?)fuzCCYf|uzYJYj/)',\n",
       " 'B$8&8@&#WMM#d@@B@&hobmY0*&oYUnCLUOJj/|txuzJUJJYvncLLCLCzzYJ',\n",
       " '@$@B%&&MMMW%o%WB@B8#MhbWB%*aowOm00pdZOCznxUQJUUUUC0CC0OCzx]',\n",
       " '8M#MWM*MW&@W8M8@@BB@8d&@B8*Qw#oOvjchoqZwO0CvUZwZZZLLQCOadc{',\n",
       " 'mM%B8o*M88BBM*W&&#BBBBW&&#COXJa##u{[{\\\\|xnYQpZXcQbaoqO0CQwCY',\n",
       " 'qM*d*M%B8&%WohdWZ&&M%MoMaqmwXYQWhqu|?i[~I_|zJdWWWoohkwZZqwh',\n",
       " '%8B*M#WW&B8*BhM88M8M&bLoMqM0LOqMdUXC{l-I+-]XUL*&WWkbkqhpbha',\n",
       " '@%#M%BBB&8&W#ah&B@#hkWWW8kXY0Ck%pJQYx}[??{jQbkM8hMMho****#W',\n",
       " '8a*B$B&Bo&WM@@%B@@Wo&@okpYLwbb@&kbqYt(\\\\\\\\tzqoWB@8&BB8*hM##W&',\n",
       " 'Mo&$$@Wk8&&8%W$@BohoowzM#kXB@$&OQqd0njzLZJZd%@B@%@%hbZdphM&',\n",
       " 'aBB$$@B%%BBB%&8hCm%8&&M&BddWBBaZXCkUUJvxvUJhB%@$@MkdCbwJZw&',\n",
       " 'bhbbdddbkhaW@bvXkB$$$$$%@kdaW8hm0JZcUxrccvq#@#hhwwdCb*ouadk',\n",
       " 'wkkbbbddbbkMW%*B@@$$$$@@@%M&oWWdkbCYUnuLwoWBMdLq***#W&hzW#q',\n",
       " 'QqddkakbddhMMWW&8%@$$$$$$W$8Wo%MhUvczQmpUb@&&*B8MW#bwpaQWoh',\n",
       " 'fmddk*#MMMMM8B@%%%B@$$$$$B$$$p&&CCzXmYvrQ%$@B8%%hko&pMp*Uk*',\n",
       " ']rdoOkM&%%%%%%%@B@$$$$$$$$$$Wm%WQt{\\\\QXcwW$B%88*mLhho%hdZ&WW',\n",
       " 'hLYZXno@@%8B%%%B@@$$B88@$$@d0MoUuuxuQUC#&$$BB%#dma#*a8&o*#B',\n",
       " '%%Wb*@h#@B@BBBB@B@%$$$$8%8QzoqOQCZrUOcdMB%@B@@@a*8%8WoM#WMB',\n",
       " '%@@%%@@&*BB#BBB%*oM*MdZOYCWQw#ohkbhmqd#WM*8B*Zf>Z@BW##&8BMb',\n",
       " '%%@$$$@@Wph8$$@8&WMoZXvxtd@dhM#hba*oOunrdW8av[-}d8@@&W8&abL',\n",
       " '@%8@$$$$Mhb@BBBMMMo**wwvb&WbWMoMW8&&W#h&&8oL(}?Yddmh@B#aQuU',\n",
       " '@@BB@$B&888@$88&&h*obwpOoboMW888%B8*w#B@BWmCf\\\\)pUzQa8BaXL#B',\n",
       " '&8B@BW%B#m#@@BM*#*okW&*8#M88W8&8MLtiz%%$B##wLxnCvUZdka*#&%M',\n",
       " '@%W#@BBB%a0WBB%#oahZ$$8%8W88%&#z-I,|Lao$$8WM#bQYJUCCZwa@@%&',\n",
       " '$$#k88%%BooWW##adoM*$B%W%%8*Zdpbwr[0U/u8$$%88WpOJcXQCOw#$@#',\n",
       " '%&WMBBBB##WB@B&b*w8#@$BBBB&UbhOf\\\\UpbqOCkMB@$@opqUzUUY0Oh%az',\n",
       " 'ah&@BB@ahB@%@Bhba#aMbW@@MmYmQ}`+qqmqmbkkpb$@BahZUUYCUQOYnzQ',\n",
       " \"MBBB@%8#8@B8BBBB8M8M#8%#M#OL>.';CwqJ)~UQCm%@&aowQzcYJr|uw8M\",\n",
       " \"8%&&&M#8%W&8@%B@@WMB*MMh8dbam,'^~1CwqbhhhhM88Mk0CCCj)cQqOW8\",\n",
       " \"bM%B8*B@$$$$B%@@@Mo*Ma%MokZci'i\\\\n/Jpkhahhhp@BbWZmbQYOwqko&@\",\n",
       " '%8B%B@@B%&&@@@@B@@@Mo&#&&*opn:Jbkbkhhaaaaa#$@MpooW8Wo*&8&%#',\n",
       " '$$$$@BB@B@@@$$@$$$$@BB%&&&&Mh\\\\!jOkkhkkkhahM$@888#8okW%8Wowz',\n",
       " '$$$$$$$$$$$$@@@$$B$$@@@8**ooqj:l[LZ0Q0Zwdkaopp@BW*&8&#bZz\\\\]',\n",
       " '$$$$$$$$$$$@W#MoMWWB@@W*kmv\\\\[)zvrt\\\\\\\\)}1fYZpbd*&8Map0JznuXOk',\n",
       " '$$$$$$$@B88#**oM8W&8#ah0-fzccJZqdbpqLz)}/nvcUULLCUcvXm*&%&k',\n",
       " '$$$B8&###M#W&8@@@%WkQn)?\\\\UOpbkkhhkbb0f?)uQwhoab8B%BB@@@8*k0']"
      ]
     },
     "execution_count": 80,
     "metadata": {},
     "output_type": "execute_result"
    }
   ],
   "source": [
    "a"
   ]
  },
  {
   "cell_type": "code",
   "execution_count": 81,
   "metadata": {},
   "outputs": [
    {
     "data": {
      "text/plain": [
       "['8&Wokbdo8%B&%B888a8#UX0Yu/(rX\\\\)[}|t-~nvj}Un|~Yko}{jUzhbbMWdm',\n",
       " '@@B&#okpqhM%%%hkZaocrucuxrjYnjXOZZZz>xXn\\\\)}--]xX\\\\_(xnCdMMW#u',\n",
       " '%BBBB8W#hppqddQXJQz(nQwpqbZ*odqpbhmwu{nzvjj->_][]__\\\\uU###phQ',\n",
       " '#o&BoBBWk*kpZmqohOU0WWWWMowahoMahdQmqq00QUOq0J{[{~-OxrOCYwdt',\n",
       " 'W%M**@@8mmoahw0O*Wdbqbo#oahhhbwZ0QZmqqkobap#oapY?!fz1i/Q0c|j',\n",
       " 'B%%&8@$ML0boB8Mkqwabkhh0pkkbwLC0Q00OOmwqdddmOQLJ~U|?i}Y/[/jj',\n",
       " '8B%B8$Wwbadda888M*&LCdaaUXcnYuuJZOLJYYUCLQQQCC0L)}X1l?i~?fxJ',\n",
       " 'WWM%@%o#M#opr|J#o#W#aaZUQQCv|/)(CCYzzzXXXUUL0UcUJj)[-(>}i10p',\n",
       " '#M8&oaoobhh*8wZbhbk0OJLJYUXcjjrcjxUzuuY0OmOwzjxrxxYQZYcr}m#O',\n",
       " 'MWMbwdQQpdd#o#UQYYmZmOZc[)\\\\//|1(unjtnurfnUC0cxntzwQufrYv1YZ/',\n",
       " 'qko*ohhwUWdCZQ0vYCQUXx/\\\\uj{?{)|({]?){[}/t/ttjzJJzj/t/jnL{Uft',\n",
       " 'ho*hMbbYO&wdqddQJzcx|({1)|/u|+~?}{]i;i<~?[}{}}{)\\\\ft\\\\/xzQw[_~',\n",
       " \"B8&#pQCO%qh*phkZ0Oxfr\\\\){}}[-+}{_IIllI,`'`!]{}][[}{(jXwaoq/<r\",\n",
       " 'WobLpvc*#M&&&hCJC00vf\\\\{}??]?+i<[j{i``^\"``^\"!_}1txuuvczJYzZX1',\n",
       " 'bQZZQcC#%o&BWZnfuOdXcYc/1[>+i<Il>[nf-\"...\\'^,,:!+?[|rzCCLdmc\\\\',\n",
       " 'MaapOd#Maq8BbLvCa#wCJXXZUx1I?;i,I~)xun\\\\+\"\",,::\"\",!-])jxn}??I',\n",
       " '8WMWMW8owaBMpX0o*dQYut)[YQf>!I;!\"\":I<{tvv(i:III:\"`\\'\\';i>+{xx;',\n",
       " '*MW&88W&%8opLmhWkwLXnj/(uwz+<i!,I~ii<~_}/rnu(>,,,,^^\"\"\":ljCx',\n",
       " 'd&B%8MokdOhd0aa8#qZJccxuU#L1?+~<?+?}(tuuxj|{[}_i!I!<+~i!II!X',\n",
       " '&&WW#oo*a#hkbp*@&bk#dqw0Okct[+t-!;;i>>i_]_<_[]]+?{]_+-][)/rz',\n",
       " '888%8BB8o**h*M@@@#kdzuX0ko|u\\\\1UYx(]<l!li+?)fuzCCYf|uzYJYj/))',\n",
       " '@$8&8@&#WMM#d@@B@&hobmY0*&oYUnCLUOJj/|txuzJUJJYvncLLCLCzzYJn',\n",
       " '@$@B%&&MMMW%o%WB@B8#MhbWB%*aowOm00pdZOCznxUQJUUUUC0CC0OCzx]]',\n",
       " '%M#MWM*MW&@W8M8@@BB@8d&@B8*Qw#oOvjchoqZwO0CvUZwZZZLLQCOadc{1',\n",
       " 'mM%B8o*M88BBM*W&&#BBBBW&&#COXJa##u{[{\\\\|xnYQpZXcQbaoqO0CQwCY0',\n",
       " 'wM*d*M%B8&%WohdWZ&&M%#aMaqmwXYQWhqu|?i[~I_|zJdWWWoohkwZZqwhM',\n",
       " '%8B*M#WW&B8*BhM88M8M&j+ZMqM0LOqMdUXC{l-I+-]XUL*&WWkbkqhpbhaM',\n",
       " '@%#M%BBB&8&W#ah&B@#hkMoM8kXY0Ck%pJQYx}[??{jQbkM8hMMho****#W&',\n",
       " '8a*B$B&Bo&WM@@%B@@Wo&@okpYLwbb@&kbqYt(\\\\\\\\tzqoWB@8&BB8*hM##W&&',\n",
       " 'Mo&$$@Wk8&&8%W$@BohoowzM#kXB@$&OQqd0njzLZJZd%@B@%@%hbZdphM&&',\n",
       " 'aBB$$@B%%BBB%&8hCm%8&&M&BddWBBaZXCkUUJvxvUJhB%@$@MkdCbwJZw&8',\n",
       " 'bhbbdddbkhaW@bvXkB$$$$$%@kdaW8hm0JZcUxrccvq#@#hhwwdCb*ouadk8',\n",
       " 'mkkbbbddbbkMW%*B@@$$$$@@@%M&oWWdkbCYUnuLwoWBMdLq***#W&hzW#q&',\n",
       " 'QqddkakbddhMMWW&8%@$$$$$$W$8Wo%MhUvczQmpUb@&&*B8MW#bwpaQWoh&',\n",
       " 'fmddk*#MMMMM8B@%%%B@$$$$$B$$$p&&CCzXmYvrQ%$@B8%%hko&pMp*Uk*8',\n",
       " ']rdoOkM&%%%%%%%@B@$$$$$$$$$$Wm%WQt{\\\\QXcwW$B%88*mLhho%hdZ&WW&',\n",
       " 'hLYZXno@@%8B%%%B@@$$B88@$$@d0MoUuuxuQUC#&$$BB%#dma#*a8&o*#B%',\n",
       " '%%Wb*@h#@B@BBBB@B@%$$$$8%8QzoqOQCZrUOcdMB%@B@@@a*8%8WoM#WMBa',\n",
       " '%@@%%@@&*BB#BBB%*oM*MdZOYCWQw#ohkbhmqd#WM*8B*Zf>Z@BWM*&8BMbh',\n",
       " 'B%@$$$@@Wph8$$@8&WMoZXvxtd@dhM#hba*oOunrdW8av[-}d8@@&W8&abL\\\\',\n",
       " '@%8@$$$$Mhb@BBBMMMo**wwvb&WbWMoMW8&&W#h&&8oL(}?Yddmh@B#aQuUh',\n",
       " '@@BB@$B&888@$88&&h*obwpOoboMW888%B8*w#B@BWmCf\\\\)pUzQa8BaXL#B&',\n",
       " '&8B@BW%B#m#@@BM*#*okW&*8#M88W8&8MLtiz%%$B##wLxnCvUZdka*#&%MM',\n",
       " '@%W#@BBB%a0WBB%#oahZ$$8%8W88%&#z-I,|Lao$$8WM#bQYJUCCZwa@@%&B',\n",
       " '$$#k88%%BooWW##adoM*$B%W%%8*Zdpbwr[0U/u8$$%88WpOJcXQCOw#$@#h',\n",
       " '%&WMBBBB##WB@B&b*w8#@$BBBB&UbhOf\\\\UpbqOCkMB@$@opqUzUUY0Oh%az}',\n",
       " 'ah&@BB@ahB@%@Bhba#aMbW@@MmYmQ}`+qqmqmbkkpb$@BahZUUYCUQOYnzQc',\n",
       " \"MBBB@%8#8@B8BBBB8M8M#8%#M#OL>.';CwqJ)~UQCm%@&aowQzcYJr|uw8MZ\",\n",
       " \"8BBB@@#8%W&8@%B@@WMB*MMh8dbam,'^~1CwqbhhhhM88Mk0CCCj)cQqOW8*\",\n",
       " \"bM%B8*B@$$$$B%@@@Mo*Ma%MokZci'i\\\\n/Jpkhahhhp@BbWZmbQYOwqko&@M\",\n",
       " 'B8B%B@@B%&&@@@@B@@@Mo&#&&*opn:Jbkbkhhaaaaa#$@MpooW8Wo*&8&%#O',\n",
       " '$$$$@BB@B@@@$$@$$$$@BB%&&&&Mh\\\\!jOkkhkkkhahM$@888#8okW%8Wowz(',\n",
       " '$$$$$$$$$$$$@@@$$B$$@@@8**ooqj:l[LZ0Q0Zwdkaopp@BW*&8&#bZz\\\\]]',\n",
       " '$$$$$$$$$$$@W#MoMWWB@@W*kmv\\\\[)zvrt\\\\\\\\)}1fYZpbd*&8Map0JznuXOko',\n",
       " '$$$$$$$@B88#**oM8W&8#ah0-fzccJZqdbpqLz)}/nvcUULLCUcvXm*&%&k*',\n",
       " '$$$B8&###M#W&8@@@%WkQn)?\\\\UOpbkkhhkbb0f?)uQwhoab8B%BB@@@8*k0U']"
      ]
     },
     "execution_count": 81,
     "metadata": {},
     "output_type": "execute_result"
    }
   ],
   "source": [
    "b"
   ]
  },
  {
   "cell_type": "code",
   "execution_count": null,
   "metadata": {
    "collapsed": true
   },
   "outputs": [],
   "source": []
  }
 ],
 "metadata": {
  "kernelspec": {
   "display_name": "Python 3",
   "language": "python",
   "name": "python3"
  },
  "language_info": {
   "codemirror_mode": {
    "name": "ipython",
    "version": 3
   },
   "file_extension": ".py",
   "mimetype": "text/x-python",
   "name": "python",
   "nbconvert_exporter": "python",
   "pygments_lexer": "ipython3",
   "version": "3.6.1"
  }
 },
 "nbformat": 4,
 "nbformat_minor": 2
}
