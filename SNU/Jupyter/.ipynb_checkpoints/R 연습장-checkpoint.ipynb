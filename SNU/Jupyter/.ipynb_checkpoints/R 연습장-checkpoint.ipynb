{
 "cells": [
  {
   "cell_type": "code",
   "execution_count": 1,
   "metadata": {
    "collapsed": true
   },
   "outputs": [],
   "source": [
    "a = c('Equator', 'North Pole','South pole', 'poles')"
   ]
  },
  {
   "cell_type": "code",
   "execution_count": 3,
   "metadata": {},
   "outputs": [
    {
     "data": {
      "text/html": [
       "<ol class=list-inline>\n",
       "\t<li>'South pole'</li>\n",
       "\t<li>'poles'</li>\n",
       "</ol>\n"
      ],
      "text/latex": [
       "\\begin{enumerate*}\n",
       "\\item 'South pole'\n",
       "\\item 'poles'\n",
       "\\end{enumerate*}\n"
      ],
      "text/markdown": [
       "1. 'South pole'\n",
       "2. 'poles'\n",
       "\n",
       "\n"
      ],
      "text/plain": [
       "[1] \"South pole\" \"poles\"     "
      ]
     },
     "metadata": {},
     "output_type": "display_data"
    }
   ],
   "source": [
    "a[grep('pole', a)]\n"
   ]
  },
  {
   "cell_type": "code",
   "execution_count": 4,
   "metadata": {},
   "outputs": [
    {
     "data": {
      "text/html": [
       "<ol class=list-inline>\n",
       "\t<li>7</li>\n",
       "\t<li>10</li>\n",
       "\t<li>10</li>\n",
       "\t<li>5</li>\n",
       "</ol>\n"
      ],
      "text/latex": [
       "\\begin{enumerate*}\n",
       "\\item 7\n",
       "\\item 10\n",
       "\\item 10\n",
       "\\item 5\n",
       "\\end{enumerate*}\n"
      ],
      "text/markdown": [
       "1. 7\n",
       "2. 10\n",
       "3. 10\n",
       "4. 5\n",
       "\n",
       "\n"
      ],
      "text/plain": [
       "[1]  7 10 10  5"
      ]
     },
     "metadata": {},
     "output_type": "display_data"
    }
   ],
   "source": [
    "nchar(a)"
   ]
  },
  {
   "cell_type": "code",
   "execution_count": 6,
   "metadata": {},
   "outputs": [],
   "source": [
    "a = list.files()\n"
   ]
  },
  {
   "cell_type": "code",
   "execution_count": 7,
   "metadata": {},
   "outputs": [
    {
     "data": {
      "text/html": [
       "<ol class=list-inline>\n",
       "\t<li>'DB마케팅 과제.ipynb'</li>\n",
       "\t<li>'Lambda_1.Rdata'</li>\n",
       "\t<li>'Python 연습장.ipynb'</li>\n",
       "\t<li>'R 연습장.ipynb'</li>\n",
       "\t<li>'Untitled2.ipynb'</li>\n",
       "\t<li>'Untitled3.ipynb'</li>\n",
       "\t<li>'Untitled4.ipynb'</li>\n",
       "\t<li>'Untitled5.ipynb'</li>\n",
       "</ol>\n"
      ],
      "text/latex": [
       "\\begin{enumerate*}\n",
       "\\item 'DB마케팅 과제.ipynb'\n",
       "\\item 'Lambda\\_1.Rdata'\n",
       "\\item 'Python 연습장.ipynb'\n",
       "\\item 'R 연습장.ipynb'\n",
       "\\item 'Untitled2.ipynb'\n",
       "\\item 'Untitled3.ipynb'\n",
       "\\item 'Untitled4.ipynb'\n",
       "\\item 'Untitled5.ipynb'\n",
       "\\end{enumerate*}\n"
      ],
      "text/markdown": [
       "1. 'DB마케팅 과제.ipynb'\n",
       "2. 'Lambda_1.Rdata'\n",
       "3. 'Python 연습장.ipynb'\n",
       "4. 'R 연습장.ipynb'\n",
       "5. 'Untitled2.ipynb'\n",
       "6. 'Untitled3.ipynb'\n",
       "7. 'Untitled4.ipynb'\n",
       "8. 'Untitled5.ipynb'\n",
       "\n",
       "\n"
      ],
      "text/plain": [
       "[1] \"DB마케팅 과제.ipynb\" \"Lambda_1.Rdata\"      \"Python 연습장.ipynb\"\n",
       "[4] \"R 연습장.ipynb\"      \"Untitled2.ipynb\"     \"Untitled3.ipynb\"    \n",
       "[7] \"Untitled4.ipynb\"     \"Untitled5.ipynb\"    "
      ]
     },
     "metadata": {},
     "output_type": "display_data"
    }
   ],
   "source": [
    "a\n"
   ]
  },
  {
   "cell_type": "code",
   "execution_count": 12,
   "metadata": {},
   "outputs": [
    {
     "name": "stdout",
     "output_type": "stream",
     "text": [
      "1 -2 -3 -4 -5 -6 -7 -8 -9 -10 -"
     ]
    }
   ],
   "source": [
    "for (i in 1:10) cat(paste(i,'-'))"
   ]
  },
  {
   "cell_type": "code",
   "execution_count": null,
   "metadata": {
    "collapsed": true
   },
   "outputs": [],
   "source": []
  }
 ],
 "metadata": {
  "kernelspec": {
   "display_name": "R",
   "language": "R",
   "name": "ir"
  },
  "language_info": {
   "codemirror_mode": "r",
   "file_extension": ".r",
   "mimetype": "text/x-r-source",
   "name": "R",
   "pygments_lexer": "r",
   "version": "3.4.1"
  }
 },
 "nbformat": 4,
 "nbformat_minor": 2
}
